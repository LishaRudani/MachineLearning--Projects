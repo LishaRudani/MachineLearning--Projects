{
  "nbformat": 4,
  "nbformat_minor": 0,
  "metadata": {
    "colab": {
      "provenance": []
    },
    "kernelspec": {
      "name": "python3",
      "display_name": "Python 3"
    },
    "language_info": {
      "name": "python"
    }
  },
  "cells": [
    {
      "cell_type": "code",
      "execution_count": null,
      "metadata": {
        "id": "vT-Jxfajg27J"
      },
      "outputs": [],
      "source": [
        "import numpy as np\n",
        "import pandas as pd"
      ]
    },
    {
      "cell_type": "code",
      "source": [
        "from google.colab import drive\n",
        "drive.mount('/content/drive')"
      ],
      "metadata": {
        "colab": {
          "base_uri": "https://localhost:8080/"
        },
        "id": "S9TEOaSQg3w7",
        "outputId": "e6852b0a-355d-4f87-b1d8-9e4789950738"
      },
      "execution_count": null,
      "outputs": [
        {
          "output_type": "stream",
          "name": "stdout",
          "text": [
            "Mounted at /content/drive\n"
          ]
        }
      ]
    },
    {
      "cell_type": "code",
      "source": [
        "!unzip /content/drive/MyDrive/Teach_Foundation_of_ML/project/Regression/archive.zip"
      ],
      "metadata": {
        "colab": {
          "base_uri": "https://localhost:8080/"
        },
        "id": "ly14h_u9g30M",
        "outputId": "615148ab-cdc0-4d79-b269-a7f6105ba9ae"
      },
      "execution_count": null,
      "outputs": [
        {
          "output_type": "stream",
          "name": "stdout",
          "text": [
            "unzip:  cannot find or open /content/drive/MyDrive/Teach_Foundation_of_ML/project/Regression/archive.zip, /content/drive/MyDrive/Teach_Foundation_of_ML/project/Regression/archive.zip.zip or /content/drive/MyDrive/Teach_Foundation_of_ML/project/Regression/archive.zip.ZIP.\n"
          ]
        }
      ]
    },
    {
      "cell_type": "code",
      "source": [
        "data= pd.read_csv('/content/drive/MyDrive/ACD_2021_Dataset/afghanistan_conflict_displacements_2021.csv')"
      ],
      "metadata": {
        "id": "BfZ_jEaZg33T"
      },
      "execution_count": null,
      "outputs": []
    },
    {
      "cell_type": "code",
      "source": [
        "data.head()\n"
      ],
      "metadata": {
        "colab": {
          "base_uri": "https://localhost:8080/",
          "height": 270
        },
        "id": "ry6X_VUGhuya",
        "outputId": "3706d8f2-0297-4f62-d2af-9f8c77e473bf"
      },
      "execution_count": null,
      "outputs": [
        {
          "output_type": "execute_result",
          "data": {
            "text/plain": [
              "        DISP_DATE         ORIG_PROV_CODE         ORIG_PROV_NAME  \\\n",
              "0  #date+occurred  #admin1+code+x_origin  #admin1+name+x_origin   \n",
              "1        01-01-21                      6              Nangarhar   \n",
              "2        01-01-21                     28                 Faryab   \n",
              "3        01-01-21                     28                 Faryab   \n",
              "4        01-01-21                     28                 Faryab   \n",
              "\n",
              "          ORIG_DIST_CODE         ORIG_DIST_NAME              DISP_PROV_CODE  \\\n",
              "0  #admin2+code+x_origin  #admin2+name+x_origin  #admin1+code+x_destination   \n",
              "1                    604               Khogyani                           6   \n",
              "2                   2806                 Qaysar                          28   \n",
              "3                   2802         Khwajasabzposh                          28   \n",
              "4                   2805                  Almar                          28   \n",
              "\n",
              "               DISP_PROV_NAME              DISP_DIST_CODE  \\\n",
              "0  #admin1+name+x_destination  #admin2+code+x_destination   \n",
              "1                   Nangarhar                         601   \n",
              "2                      Faryab                        2801   \n",
              "3                      Faryab                        2801   \n",
              "4                      Faryab                        2801   \n",
              "\n",
              "               DISP_DIST_NAME             DISP_IND  \\\n",
              "0  #admin2+name+x_destination  #affected+displaced   \n",
              "1                   Jalalabad                  217   \n",
              "2                     Maymana                  931   \n",
              "3                     Maymana                  861   \n",
              "4                     Maymana                    7   \n",
              "\n",
              "                       DISP_FAM               DISP_ADULT_MALE  \\\n",
              "0  #affected+dispalced+families  #affected+displaced+m+adults   \n",
              "1                            31                            42   \n",
              "2                           133                           NaN   \n",
              "3                           123                           NaN   \n",
              "4                             1                           NaN   \n",
              "\n",
              "              DISP_ADULT_FEMALE             DISP_CHILDREN_U18  \n",
              "0  #affected+displaced+f+adults  #affected+dispalced+children  \n",
              "1                            45                           130  \n",
              "2                           NaN                           NaN  \n",
              "3                           NaN                           NaN  \n",
              "4                           NaN                           NaN  "
            ],
            "text/html": [
              "\n",
              "  <div id=\"df-b95d0980-8151-42f2-9cd1-f043868456c8\">\n",
              "    <div class=\"colab-df-container\">\n",
              "      <div>\n",
              "<style scoped>\n",
              "    .dataframe tbody tr th:only-of-type {\n",
              "        vertical-align: middle;\n",
              "    }\n",
              "\n",
              "    .dataframe tbody tr th {\n",
              "        vertical-align: top;\n",
              "    }\n",
              "\n",
              "    .dataframe thead th {\n",
              "        text-align: right;\n",
              "    }\n",
              "</style>\n",
              "<table border=\"1\" class=\"dataframe\">\n",
              "  <thead>\n",
              "    <tr style=\"text-align: right;\">\n",
              "      <th></th>\n",
              "      <th>DISP_DATE</th>\n",
              "      <th>ORIG_PROV_CODE</th>\n",
              "      <th>ORIG_PROV_NAME</th>\n",
              "      <th>ORIG_DIST_CODE</th>\n",
              "      <th>ORIG_DIST_NAME</th>\n",
              "      <th>DISP_PROV_CODE</th>\n",
              "      <th>DISP_PROV_NAME</th>\n",
              "      <th>DISP_DIST_CODE</th>\n",
              "      <th>DISP_DIST_NAME</th>\n",
              "      <th>DISP_IND</th>\n",
              "      <th>DISP_FAM</th>\n",
              "      <th>DISP_ADULT_MALE</th>\n",
              "      <th>DISP_ADULT_FEMALE</th>\n",
              "      <th>DISP_CHILDREN_U18</th>\n",
              "    </tr>\n",
              "  </thead>\n",
              "  <tbody>\n",
              "    <tr>\n",
              "      <th>0</th>\n",
              "      <td>#date+occurred</td>\n",
              "      <td>#admin1+code+x_origin</td>\n",
              "      <td>#admin1+name+x_origin</td>\n",
              "      <td>#admin2+code+x_origin</td>\n",
              "      <td>#admin2+name+x_origin</td>\n",
              "      <td>#admin1+code+x_destination</td>\n",
              "      <td>#admin1+name+x_destination</td>\n",
              "      <td>#admin2+code+x_destination</td>\n",
              "      <td>#admin2+name+x_destination</td>\n",
              "      <td>#affected+displaced</td>\n",
              "      <td>#affected+dispalced+families</td>\n",
              "      <td>#affected+displaced+m+adults</td>\n",
              "      <td>#affected+displaced+f+adults</td>\n",
              "      <td>#affected+dispalced+children</td>\n",
              "    </tr>\n",
              "    <tr>\n",
              "      <th>1</th>\n",
              "      <td>01-01-21</td>\n",
              "      <td>6</td>\n",
              "      <td>Nangarhar</td>\n",
              "      <td>604</td>\n",
              "      <td>Khogyani</td>\n",
              "      <td>6</td>\n",
              "      <td>Nangarhar</td>\n",
              "      <td>601</td>\n",
              "      <td>Jalalabad</td>\n",
              "      <td>217</td>\n",
              "      <td>31</td>\n",
              "      <td>42</td>\n",
              "      <td>45</td>\n",
              "      <td>130</td>\n",
              "    </tr>\n",
              "    <tr>\n",
              "      <th>2</th>\n",
              "      <td>01-01-21</td>\n",
              "      <td>28</td>\n",
              "      <td>Faryab</td>\n",
              "      <td>2806</td>\n",
              "      <td>Qaysar</td>\n",
              "      <td>28</td>\n",
              "      <td>Faryab</td>\n",
              "      <td>2801</td>\n",
              "      <td>Maymana</td>\n",
              "      <td>931</td>\n",
              "      <td>133</td>\n",
              "      <td>NaN</td>\n",
              "      <td>NaN</td>\n",
              "      <td>NaN</td>\n",
              "    </tr>\n",
              "    <tr>\n",
              "      <th>3</th>\n",
              "      <td>01-01-21</td>\n",
              "      <td>28</td>\n",
              "      <td>Faryab</td>\n",
              "      <td>2802</td>\n",
              "      <td>Khwajasabzposh</td>\n",
              "      <td>28</td>\n",
              "      <td>Faryab</td>\n",
              "      <td>2801</td>\n",
              "      <td>Maymana</td>\n",
              "      <td>861</td>\n",
              "      <td>123</td>\n",
              "      <td>NaN</td>\n",
              "      <td>NaN</td>\n",
              "      <td>NaN</td>\n",
              "    </tr>\n",
              "    <tr>\n",
              "      <th>4</th>\n",
              "      <td>01-01-21</td>\n",
              "      <td>28</td>\n",
              "      <td>Faryab</td>\n",
              "      <td>2805</td>\n",
              "      <td>Almar</td>\n",
              "      <td>28</td>\n",
              "      <td>Faryab</td>\n",
              "      <td>2801</td>\n",
              "      <td>Maymana</td>\n",
              "      <td>7</td>\n",
              "      <td>1</td>\n",
              "      <td>NaN</td>\n",
              "      <td>NaN</td>\n",
              "      <td>NaN</td>\n",
              "    </tr>\n",
              "  </tbody>\n",
              "</table>\n",
              "</div>\n",
              "      <button class=\"colab-df-convert\" onclick=\"convertToInteractive('df-b95d0980-8151-42f2-9cd1-f043868456c8')\"\n",
              "              title=\"Convert this dataframe to an interactive table.\"\n",
              "              style=\"display:none;\">\n",
              "        \n",
              "  <svg xmlns=\"http://www.w3.org/2000/svg\" height=\"24px\"viewBox=\"0 0 24 24\"\n",
              "       width=\"24px\">\n",
              "    <path d=\"M0 0h24v24H0V0z\" fill=\"none\"/>\n",
              "    <path d=\"M18.56 5.44l.94 2.06.94-2.06 2.06-.94-2.06-.94-.94-2.06-.94 2.06-2.06.94zm-11 1L8.5 8.5l.94-2.06 2.06-.94-2.06-.94L8.5 2.5l-.94 2.06-2.06.94zm10 10l.94 2.06.94-2.06 2.06-.94-2.06-.94-.94-2.06-.94 2.06-2.06.94z\"/><path d=\"M17.41 7.96l-1.37-1.37c-.4-.4-.92-.59-1.43-.59-.52 0-1.04.2-1.43.59L10.3 9.45l-7.72 7.72c-.78.78-.78 2.05 0 2.83L4 21.41c.39.39.9.59 1.41.59.51 0 1.02-.2 1.41-.59l7.78-7.78 2.81-2.81c.8-.78.8-2.07 0-2.86zM5.41 20L4 18.59l7.72-7.72 1.47 1.35L5.41 20z\"/>\n",
              "  </svg>\n",
              "      </button>\n",
              "      \n",
              "  <style>\n",
              "    .colab-df-container {\n",
              "      display:flex;\n",
              "      flex-wrap:wrap;\n",
              "      gap: 12px;\n",
              "    }\n",
              "\n",
              "    .colab-df-convert {\n",
              "      background-color: #E8F0FE;\n",
              "      border: none;\n",
              "      border-radius: 50%;\n",
              "      cursor: pointer;\n",
              "      display: none;\n",
              "      fill: #1967D2;\n",
              "      height: 32px;\n",
              "      padding: 0 0 0 0;\n",
              "      width: 32px;\n",
              "    }\n",
              "\n",
              "    .colab-df-convert:hover {\n",
              "      background-color: #E2EBFA;\n",
              "      box-shadow: 0px 1px 2px rgba(60, 64, 67, 0.3), 0px 1px 3px 1px rgba(60, 64, 67, 0.15);\n",
              "      fill: #174EA6;\n",
              "    }\n",
              "\n",
              "    [theme=dark] .colab-df-convert {\n",
              "      background-color: #3B4455;\n",
              "      fill: #D2E3FC;\n",
              "    }\n",
              "\n",
              "    [theme=dark] .colab-df-convert:hover {\n",
              "      background-color: #434B5C;\n",
              "      box-shadow: 0px 1px 3px 1px rgba(0, 0, 0, 0.15);\n",
              "      filter: drop-shadow(0px 1px 2px rgba(0, 0, 0, 0.3));\n",
              "      fill: #FFFFFF;\n",
              "    }\n",
              "  </style>\n",
              "\n",
              "      <script>\n",
              "        const buttonEl =\n",
              "          document.querySelector('#df-b95d0980-8151-42f2-9cd1-f043868456c8 button.colab-df-convert');\n",
              "        buttonEl.style.display =\n",
              "          google.colab.kernel.accessAllowed ? 'block' : 'none';\n",
              "\n",
              "        async function convertToInteractive(key) {\n",
              "          const element = document.querySelector('#df-b95d0980-8151-42f2-9cd1-f043868456c8');\n",
              "          const dataTable =\n",
              "            await google.colab.kernel.invokeFunction('convertToInteractive',\n",
              "                                                     [key], {});\n",
              "          if (!dataTable) return;\n",
              "\n",
              "          const docLinkHtml = 'Like what you see? Visit the ' +\n",
              "            '<a target=\"_blank\" href=https://colab.research.google.com/notebooks/data_table.ipynb>data table notebook</a>'\n",
              "            + ' to learn more about interactive tables.';\n",
              "          element.innerHTML = '';\n",
              "          dataTable['output_type'] = 'display_data';\n",
              "          await google.colab.output.renderOutput(dataTable, element);\n",
              "          const docLink = document.createElement('div');\n",
              "          docLink.innerHTML = docLinkHtml;\n",
              "          element.appendChild(docLink);\n",
              "        }\n",
              "      </script>\n",
              "    </div>\n",
              "  </div>\n",
              "  "
            ]
          },
          "metadata": {},
          "execution_count": 5
        }
      ]
    },
    {
      "cell_type": "code",
      "source": [
        "data.tail()"
      ],
      "metadata": {
        "colab": {
          "base_uri": "https://localhost:8080/",
          "height": 305
        },
        "id": "WNca-A-Uiezo",
        "outputId": "84a9015c-ad54-43c3-d6d7-d6be534c009b"
      },
      "execution_count": null,
      "outputs": [
        {
          "output_type": "execute_result",
          "data": {
            "text/plain": [
              "     DISP_DATE ORIG_PROV_CODE ORIG_PROV_NAME ORIG_DIST_CODE  \\\n",
              "1300  16-11-21              4         Wardak            407   \n",
              "1301  22-11-21              2         Kapisa            205   \n",
              "1302  23-11-21              2         Kapisa            204   \n",
              "1303  25-11-21              2         Kapisa            204   \n",
              "1304  30-11-21              3         Parwan            301   \n",
              "\n",
              "               ORIG_DIST_NAME DISP_PROV_CODE DISP_PROV_NAME DISP_DIST_CODE  \\\n",
              "1300                 Saydabad              1          Kabul            101   \n",
              "1301                    Tagab              2         Kapisa            201   \n",
              "1302  Hisa-e-Duwum-e-Kohestan              1          Kabul            101   \n",
              "1303  Hisa-e-Duwum-e-Kohestan              1          Kabul            101   \n",
              "1304                 Charikar              1          Kabul            101   \n",
              "\n",
              "     DISP_DIST_NAME DISP_IND DISP_FAM DISP_ADULT_MALE DISP_ADULT_FEMALE  \\\n",
              "1300          Kabul      490       70             NaN               NaN   \n",
              "1301  Mahmud-e-Raqi       63        9             NaN               NaN   \n",
              "1302          Kabul      483       69             NaN               NaN   \n",
              "1303          Kabul      490       70             NaN               NaN   \n",
              "1304          Kabul      315       45             NaN               NaN   \n",
              "\n",
              "     DISP_CHILDREN_U18  \n",
              "1300               NaN  \n",
              "1301               NaN  \n",
              "1302               NaN  \n",
              "1303               NaN  \n",
              "1304               NaN  "
            ],
            "text/html": [
              "\n",
              "  <div id=\"df-a20c031f-9d72-4c24-bba0-534df809b605\">\n",
              "    <div class=\"colab-df-container\">\n",
              "      <div>\n",
              "<style scoped>\n",
              "    .dataframe tbody tr th:only-of-type {\n",
              "        vertical-align: middle;\n",
              "    }\n",
              "\n",
              "    .dataframe tbody tr th {\n",
              "        vertical-align: top;\n",
              "    }\n",
              "\n",
              "    .dataframe thead th {\n",
              "        text-align: right;\n",
              "    }\n",
              "</style>\n",
              "<table border=\"1\" class=\"dataframe\">\n",
              "  <thead>\n",
              "    <tr style=\"text-align: right;\">\n",
              "      <th></th>\n",
              "      <th>DISP_DATE</th>\n",
              "      <th>ORIG_PROV_CODE</th>\n",
              "      <th>ORIG_PROV_NAME</th>\n",
              "      <th>ORIG_DIST_CODE</th>\n",
              "      <th>ORIG_DIST_NAME</th>\n",
              "      <th>DISP_PROV_CODE</th>\n",
              "      <th>DISP_PROV_NAME</th>\n",
              "      <th>DISP_DIST_CODE</th>\n",
              "      <th>DISP_DIST_NAME</th>\n",
              "      <th>DISP_IND</th>\n",
              "      <th>DISP_FAM</th>\n",
              "      <th>DISP_ADULT_MALE</th>\n",
              "      <th>DISP_ADULT_FEMALE</th>\n",
              "      <th>DISP_CHILDREN_U18</th>\n",
              "    </tr>\n",
              "  </thead>\n",
              "  <tbody>\n",
              "    <tr>\n",
              "      <th>1300</th>\n",
              "      <td>16-11-21</td>\n",
              "      <td>4</td>\n",
              "      <td>Wardak</td>\n",
              "      <td>407</td>\n",
              "      <td>Saydabad</td>\n",
              "      <td>1</td>\n",
              "      <td>Kabul</td>\n",
              "      <td>101</td>\n",
              "      <td>Kabul</td>\n",
              "      <td>490</td>\n",
              "      <td>70</td>\n",
              "      <td>NaN</td>\n",
              "      <td>NaN</td>\n",
              "      <td>NaN</td>\n",
              "    </tr>\n",
              "    <tr>\n",
              "      <th>1301</th>\n",
              "      <td>22-11-21</td>\n",
              "      <td>2</td>\n",
              "      <td>Kapisa</td>\n",
              "      <td>205</td>\n",
              "      <td>Tagab</td>\n",
              "      <td>2</td>\n",
              "      <td>Kapisa</td>\n",
              "      <td>201</td>\n",
              "      <td>Mahmud-e-Raqi</td>\n",
              "      <td>63</td>\n",
              "      <td>9</td>\n",
              "      <td>NaN</td>\n",
              "      <td>NaN</td>\n",
              "      <td>NaN</td>\n",
              "    </tr>\n",
              "    <tr>\n",
              "      <th>1302</th>\n",
              "      <td>23-11-21</td>\n",
              "      <td>2</td>\n",
              "      <td>Kapisa</td>\n",
              "      <td>204</td>\n",
              "      <td>Hisa-e-Duwum-e-Kohestan</td>\n",
              "      <td>1</td>\n",
              "      <td>Kabul</td>\n",
              "      <td>101</td>\n",
              "      <td>Kabul</td>\n",
              "      <td>483</td>\n",
              "      <td>69</td>\n",
              "      <td>NaN</td>\n",
              "      <td>NaN</td>\n",
              "      <td>NaN</td>\n",
              "    </tr>\n",
              "    <tr>\n",
              "      <th>1303</th>\n",
              "      <td>25-11-21</td>\n",
              "      <td>2</td>\n",
              "      <td>Kapisa</td>\n",
              "      <td>204</td>\n",
              "      <td>Hisa-e-Duwum-e-Kohestan</td>\n",
              "      <td>1</td>\n",
              "      <td>Kabul</td>\n",
              "      <td>101</td>\n",
              "      <td>Kabul</td>\n",
              "      <td>490</td>\n",
              "      <td>70</td>\n",
              "      <td>NaN</td>\n",
              "      <td>NaN</td>\n",
              "      <td>NaN</td>\n",
              "    </tr>\n",
              "    <tr>\n",
              "      <th>1304</th>\n",
              "      <td>30-11-21</td>\n",
              "      <td>3</td>\n",
              "      <td>Parwan</td>\n",
              "      <td>301</td>\n",
              "      <td>Charikar</td>\n",
              "      <td>1</td>\n",
              "      <td>Kabul</td>\n",
              "      <td>101</td>\n",
              "      <td>Kabul</td>\n",
              "      <td>315</td>\n",
              "      <td>45</td>\n",
              "      <td>NaN</td>\n",
              "      <td>NaN</td>\n",
              "      <td>NaN</td>\n",
              "    </tr>\n",
              "  </tbody>\n",
              "</table>\n",
              "</div>\n",
              "      <button class=\"colab-df-convert\" onclick=\"convertToInteractive('df-a20c031f-9d72-4c24-bba0-534df809b605')\"\n",
              "              title=\"Convert this dataframe to an interactive table.\"\n",
              "              style=\"display:none;\">\n",
              "        \n",
              "  <svg xmlns=\"http://www.w3.org/2000/svg\" height=\"24px\"viewBox=\"0 0 24 24\"\n",
              "       width=\"24px\">\n",
              "    <path d=\"M0 0h24v24H0V0z\" fill=\"none\"/>\n",
              "    <path d=\"M18.56 5.44l.94 2.06.94-2.06 2.06-.94-2.06-.94-.94-2.06-.94 2.06-2.06.94zm-11 1L8.5 8.5l.94-2.06 2.06-.94-2.06-.94L8.5 2.5l-.94 2.06-2.06.94zm10 10l.94 2.06.94-2.06 2.06-.94-2.06-.94-.94-2.06-.94 2.06-2.06.94z\"/><path d=\"M17.41 7.96l-1.37-1.37c-.4-.4-.92-.59-1.43-.59-.52 0-1.04.2-1.43.59L10.3 9.45l-7.72 7.72c-.78.78-.78 2.05 0 2.83L4 21.41c.39.39.9.59 1.41.59.51 0 1.02-.2 1.41-.59l7.78-7.78 2.81-2.81c.8-.78.8-2.07 0-2.86zM5.41 20L4 18.59l7.72-7.72 1.47 1.35L5.41 20z\"/>\n",
              "  </svg>\n",
              "      </button>\n",
              "      \n",
              "  <style>\n",
              "    .colab-df-container {\n",
              "      display:flex;\n",
              "      flex-wrap:wrap;\n",
              "      gap: 12px;\n",
              "    }\n",
              "\n",
              "    .colab-df-convert {\n",
              "      background-color: #E8F0FE;\n",
              "      border: none;\n",
              "      border-radius: 50%;\n",
              "      cursor: pointer;\n",
              "      display: none;\n",
              "      fill: #1967D2;\n",
              "      height: 32px;\n",
              "      padding: 0 0 0 0;\n",
              "      width: 32px;\n",
              "    }\n",
              "\n",
              "    .colab-df-convert:hover {\n",
              "      background-color: #E2EBFA;\n",
              "      box-shadow: 0px 1px 2px rgba(60, 64, 67, 0.3), 0px 1px 3px 1px rgba(60, 64, 67, 0.15);\n",
              "      fill: #174EA6;\n",
              "    }\n",
              "\n",
              "    [theme=dark] .colab-df-convert {\n",
              "      background-color: #3B4455;\n",
              "      fill: #D2E3FC;\n",
              "    }\n",
              "\n",
              "    [theme=dark] .colab-df-convert:hover {\n",
              "      background-color: #434B5C;\n",
              "      box-shadow: 0px 1px 3px 1px rgba(0, 0, 0, 0.15);\n",
              "      filter: drop-shadow(0px 1px 2px rgba(0, 0, 0, 0.3));\n",
              "      fill: #FFFFFF;\n",
              "    }\n",
              "  </style>\n",
              "\n",
              "      <script>\n",
              "        const buttonEl =\n",
              "          document.querySelector('#df-a20c031f-9d72-4c24-bba0-534df809b605 button.colab-df-convert');\n",
              "        buttonEl.style.display =\n",
              "          google.colab.kernel.accessAllowed ? 'block' : 'none';\n",
              "\n",
              "        async function convertToInteractive(key) {\n",
              "          const element = document.querySelector('#df-a20c031f-9d72-4c24-bba0-534df809b605');\n",
              "          const dataTable =\n",
              "            await google.colab.kernel.invokeFunction('convertToInteractive',\n",
              "                                                     [key], {});\n",
              "          if (!dataTable) return;\n",
              "\n",
              "          const docLinkHtml = 'Like what you see? Visit the ' +\n",
              "            '<a target=\"_blank\" href=https://colab.research.google.com/notebooks/data_table.ipynb>data table notebook</a>'\n",
              "            + ' to learn more about interactive tables.';\n",
              "          element.innerHTML = '';\n",
              "          dataTable['output_type'] = 'display_data';\n",
              "          await google.colab.output.renderOutput(dataTable, element);\n",
              "          const docLink = document.createElement('div');\n",
              "          docLink.innerHTML = docLinkHtml;\n",
              "          element.appendChild(docLink);\n",
              "        }\n",
              "      </script>\n",
              "    </div>\n",
              "  </div>\n",
              "  "
            ]
          },
          "metadata": {},
          "execution_count": 6
        }
      ]
    },
    {
      "cell_type": "code",
      "source": [
        "df=data.drop(labels=None, axis=0, index=0, columns=None, level=None, inplace=False)"
      ],
      "metadata": {
        "id": "xqDcDBZsy7GS"
      },
      "execution_count": null,
      "outputs": []
    },
    {
      "cell_type": "code",
      "source": [
        "df.describe()"
      ],
      "metadata": {
        "colab": {
          "base_uri": "https://localhost:8080/",
          "height": 239
        },
        "id": "C6dGOyeVie9n",
        "outputId": "035eef2d-64a3-455d-fc8b-a25576e5c059"
      },
      "execution_count": null,
      "outputs": [
        {
          "output_type": "execute_result",
          "data": {
            "text/plain": [
              "       DISP_DATE ORIG_PROV_CODE ORIG_PROV_NAME ORIG_DIST_CODE ORIG_DIST_NAME  \\\n",
              "count       1304           1304           1304           1303           1304   \n",
              "unique       280             34             35            241            235   \n",
              "top     23-05-21             21           Ghor           2903       Abkamari   \n",
              "freq          30            160            159             34             34   \n",
              "\n",
              "       DISP_PROV_CODE DISP_PROV_NAME DISP_DIST_CODE DISP_DIST_NAME DISP_IND  \\\n",
              "count            1304           1304           1303           1304     1304   \n",
              "unique             34             34             99             98      403   \n",
              "top                30          Hirat           3001          Hirat       70   \n",
              "freq              316            316            211            211       56   \n",
              "\n",
              "       DISP_FAM DISP_ADULT_MALE DISP_ADULT_FEMALE DISP_CHILDREN_U18  \n",
              "count      1304              62                62                62  \n",
              "unique      260              46                47                49  \n",
              "top           2               2                 2                 2  \n",
              "freq         72               8                 8                 6  "
            ],
            "text/html": [
              "\n",
              "  <div id=\"df-c5533ab1-e1c5-454f-b1ef-1da7955aa4c5\">\n",
              "    <div class=\"colab-df-container\">\n",
              "      <div>\n",
              "<style scoped>\n",
              "    .dataframe tbody tr th:only-of-type {\n",
              "        vertical-align: middle;\n",
              "    }\n",
              "\n",
              "    .dataframe tbody tr th {\n",
              "        vertical-align: top;\n",
              "    }\n",
              "\n",
              "    .dataframe thead th {\n",
              "        text-align: right;\n",
              "    }\n",
              "</style>\n",
              "<table border=\"1\" class=\"dataframe\">\n",
              "  <thead>\n",
              "    <tr style=\"text-align: right;\">\n",
              "      <th></th>\n",
              "      <th>DISP_DATE</th>\n",
              "      <th>ORIG_PROV_CODE</th>\n",
              "      <th>ORIG_PROV_NAME</th>\n",
              "      <th>ORIG_DIST_CODE</th>\n",
              "      <th>ORIG_DIST_NAME</th>\n",
              "      <th>DISP_PROV_CODE</th>\n",
              "      <th>DISP_PROV_NAME</th>\n",
              "      <th>DISP_DIST_CODE</th>\n",
              "      <th>DISP_DIST_NAME</th>\n",
              "      <th>DISP_IND</th>\n",
              "      <th>DISP_FAM</th>\n",
              "      <th>DISP_ADULT_MALE</th>\n",
              "      <th>DISP_ADULT_FEMALE</th>\n",
              "      <th>DISP_CHILDREN_U18</th>\n",
              "    </tr>\n",
              "  </thead>\n",
              "  <tbody>\n",
              "    <tr>\n",
              "      <th>count</th>\n",
              "      <td>1304</td>\n",
              "      <td>1304</td>\n",
              "      <td>1304</td>\n",
              "      <td>1303</td>\n",
              "      <td>1304</td>\n",
              "      <td>1304</td>\n",
              "      <td>1304</td>\n",
              "      <td>1303</td>\n",
              "      <td>1304</td>\n",
              "      <td>1304</td>\n",
              "      <td>1304</td>\n",
              "      <td>62</td>\n",
              "      <td>62</td>\n",
              "      <td>62</td>\n",
              "    </tr>\n",
              "    <tr>\n",
              "      <th>unique</th>\n",
              "      <td>280</td>\n",
              "      <td>34</td>\n",
              "      <td>35</td>\n",
              "      <td>241</td>\n",
              "      <td>235</td>\n",
              "      <td>34</td>\n",
              "      <td>34</td>\n",
              "      <td>99</td>\n",
              "      <td>98</td>\n",
              "      <td>403</td>\n",
              "      <td>260</td>\n",
              "      <td>46</td>\n",
              "      <td>47</td>\n",
              "      <td>49</td>\n",
              "    </tr>\n",
              "    <tr>\n",
              "      <th>top</th>\n",
              "      <td>23-05-21</td>\n",
              "      <td>21</td>\n",
              "      <td>Ghor</td>\n",
              "      <td>2903</td>\n",
              "      <td>Abkamari</td>\n",
              "      <td>30</td>\n",
              "      <td>Hirat</td>\n",
              "      <td>3001</td>\n",
              "      <td>Hirat</td>\n",
              "      <td>70</td>\n",
              "      <td>2</td>\n",
              "      <td>2</td>\n",
              "      <td>2</td>\n",
              "      <td>2</td>\n",
              "    </tr>\n",
              "    <tr>\n",
              "      <th>freq</th>\n",
              "      <td>30</td>\n",
              "      <td>160</td>\n",
              "      <td>159</td>\n",
              "      <td>34</td>\n",
              "      <td>34</td>\n",
              "      <td>316</td>\n",
              "      <td>316</td>\n",
              "      <td>211</td>\n",
              "      <td>211</td>\n",
              "      <td>56</td>\n",
              "      <td>72</td>\n",
              "      <td>8</td>\n",
              "      <td>8</td>\n",
              "      <td>6</td>\n",
              "    </tr>\n",
              "  </tbody>\n",
              "</table>\n",
              "</div>\n",
              "      <button class=\"colab-df-convert\" onclick=\"convertToInteractive('df-c5533ab1-e1c5-454f-b1ef-1da7955aa4c5')\"\n",
              "              title=\"Convert this dataframe to an interactive table.\"\n",
              "              style=\"display:none;\">\n",
              "        \n",
              "  <svg xmlns=\"http://www.w3.org/2000/svg\" height=\"24px\"viewBox=\"0 0 24 24\"\n",
              "       width=\"24px\">\n",
              "    <path d=\"M0 0h24v24H0V0z\" fill=\"none\"/>\n",
              "    <path d=\"M18.56 5.44l.94 2.06.94-2.06 2.06-.94-2.06-.94-.94-2.06-.94 2.06-2.06.94zm-11 1L8.5 8.5l.94-2.06 2.06-.94-2.06-.94L8.5 2.5l-.94 2.06-2.06.94zm10 10l.94 2.06.94-2.06 2.06-.94-2.06-.94-.94-2.06-.94 2.06-2.06.94z\"/><path d=\"M17.41 7.96l-1.37-1.37c-.4-.4-.92-.59-1.43-.59-.52 0-1.04.2-1.43.59L10.3 9.45l-7.72 7.72c-.78.78-.78 2.05 0 2.83L4 21.41c.39.39.9.59 1.41.59.51 0 1.02-.2 1.41-.59l7.78-7.78 2.81-2.81c.8-.78.8-2.07 0-2.86zM5.41 20L4 18.59l7.72-7.72 1.47 1.35L5.41 20z\"/>\n",
              "  </svg>\n",
              "      </button>\n",
              "      \n",
              "  <style>\n",
              "    .colab-df-container {\n",
              "      display:flex;\n",
              "      flex-wrap:wrap;\n",
              "      gap: 12px;\n",
              "    }\n",
              "\n",
              "    .colab-df-convert {\n",
              "      background-color: #E8F0FE;\n",
              "      border: none;\n",
              "      border-radius: 50%;\n",
              "      cursor: pointer;\n",
              "      display: none;\n",
              "      fill: #1967D2;\n",
              "      height: 32px;\n",
              "      padding: 0 0 0 0;\n",
              "      width: 32px;\n",
              "    }\n",
              "\n",
              "    .colab-df-convert:hover {\n",
              "      background-color: #E2EBFA;\n",
              "      box-shadow: 0px 1px 2px rgba(60, 64, 67, 0.3), 0px 1px 3px 1px rgba(60, 64, 67, 0.15);\n",
              "      fill: #174EA6;\n",
              "    }\n",
              "\n",
              "    [theme=dark] .colab-df-convert {\n",
              "      background-color: #3B4455;\n",
              "      fill: #D2E3FC;\n",
              "    }\n",
              "\n",
              "    [theme=dark] .colab-df-convert:hover {\n",
              "      background-color: #434B5C;\n",
              "      box-shadow: 0px 1px 3px 1px rgba(0, 0, 0, 0.15);\n",
              "      filter: drop-shadow(0px 1px 2px rgba(0, 0, 0, 0.3));\n",
              "      fill: #FFFFFF;\n",
              "    }\n",
              "  </style>\n",
              "\n",
              "      <script>\n",
              "        const buttonEl =\n",
              "          document.querySelector('#df-c5533ab1-e1c5-454f-b1ef-1da7955aa4c5 button.colab-df-convert');\n",
              "        buttonEl.style.display =\n",
              "          google.colab.kernel.accessAllowed ? 'block' : 'none';\n",
              "\n",
              "        async function convertToInteractive(key) {\n",
              "          const element = document.querySelector('#df-c5533ab1-e1c5-454f-b1ef-1da7955aa4c5');\n",
              "          const dataTable =\n",
              "            await google.colab.kernel.invokeFunction('convertToInteractive',\n",
              "                                                     [key], {});\n",
              "          if (!dataTable) return;\n",
              "\n",
              "          const docLinkHtml = 'Like what you see? Visit the ' +\n",
              "            '<a target=\"_blank\" href=https://colab.research.google.com/notebooks/data_table.ipynb>data table notebook</a>'\n",
              "            + ' to learn more about interactive tables.';\n",
              "          element.innerHTML = '';\n",
              "          dataTable['output_type'] = 'display_data';\n",
              "          await google.colab.output.renderOutput(dataTable, element);\n",
              "          const docLink = document.createElement('div');\n",
              "          docLink.innerHTML = docLinkHtml;\n",
              "          element.appendChild(docLink);\n",
              "        }\n",
              "      </script>\n",
              "    </div>\n",
              "  </div>\n",
              "  "
            ]
          },
          "metadata": {},
          "execution_count": 8
        }
      ]
    },
    {
      "cell_type": "code",
      "source": [
        "df.info()"
      ],
      "metadata": {
        "colab": {
          "base_uri": "https://localhost:8080/"
        },
        "id": "N_VP14SEifBK",
        "outputId": "e6d34318-050f-42f7-d952-95ca2ea13d17"
      },
      "execution_count": null,
      "outputs": [
        {
          "output_type": "stream",
          "name": "stdout",
          "text": [
            "<class 'pandas.core.frame.DataFrame'>\n",
            "Int64Index: 1304 entries, 1 to 1304\n",
            "Data columns (total 14 columns):\n",
            " #   Column             Non-Null Count  Dtype \n",
            "---  ------             --------------  ----- \n",
            " 0   DISP_DATE          1304 non-null   object\n",
            " 1   ORIG_PROV_CODE     1304 non-null   object\n",
            " 2   ORIG_PROV_NAME     1304 non-null   object\n",
            " 3   ORIG_DIST_CODE     1303 non-null   object\n",
            " 4   ORIG_DIST_NAME     1304 non-null   object\n",
            " 5   DISP_PROV_CODE     1304 non-null   object\n",
            " 6   DISP_PROV_NAME     1304 non-null   object\n",
            " 7   DISP_DIST_CODE     1303 non-null   object\n",
            " 8   DISP_DIST_NAME     1304 non-null   object\n",
            " 9   DISP_IND           1304 non-null   object\n",
            " 10  DISP_FAM           1304 non-null   object\n",
            " 11  DISP_ADULT_MALE    62 non-null     object\n",
            " 12  DISP_ADULT_FEMALE  62 non-null     object\n",
            " 13  DISP_CHILDREN_U18  62 non-null     object\n",
            "dtypes: object(14)\n",
            "memory usage: 152.8+ KB\n"
          ]
        }
      ]
    },
    {
      "cell_type": "code",
      "source": [
        "df.isna().sum()"
      ],
      "metadata": {
        "colab": {
          "base_uri": "https://localhost:8080/"
        },
        "id": "78pnURUmvwAW",
        "outputId": "ce7d7369-f544-4645-acfd-592da2a5bb9b"
      },
      "execution_count": null,
      "outputs": [
        {
          "output_type": "execute_result",
          "data": {
            "text/plain": [
              "DISP_DATE               0\n",
              "ORIG_PROV_CODE          0\n",
              "ORIG_PROV_NAME          0\n",
              "ORIG_DIST_CODE          1\n",
              "ORIG_DIST_NAME          0\n",
              "DISP_PROV_CODE          0\n",
              "DISP_PROV_NAME          0\n",
              "DISP_DIST_CODE          1\n",
              "DISP_DIST_NAME          0\n",
              "DISP_IND                0\n",
              "DISP_FAM                0\n",
              "DISP_ADULT_MALE      1242\n",
              "DISP_ADULT_FEMALE    1242\n",
              "DISP_CHILDREN_U18    1242\n",
              "dtype: int64"
            ]
          },
          "metadata": {},
          "execution_count": 10
        }
      ]
    },
    {
      "cell_type": "code",
      "source": [
        "df['ORIG_DIST_NAME'].replace('', np.nan, inplace=True)\n",
        "df.dropna(subset=['ORIG_DIST_NAME'], inplace=True)\n",
        "df['ORIG_DIST_CODE'].replace('', np.nan, inplace=True)\n",
        "df.dropna(subset=['ORIG_DIST_CODE'], inplace=True)\n",
        "df['DISP_ADULT_MALE'].replace('', np.nan, inplace=True)\n",
        "df.dropna(subset=['DISP_ADULT_MALE'], inplace=True)\n",
        "df['DISP_ADULT_FEMALE'].replace('', np.nan, inplace=True)\n",
        "df.dropna(subset=['DISP_ADULT_FEMALE'], inplace=True)\n",
        "df['DISP_CHILDREN_U18'].replace('', np.nan, inplace=True)\n",
        "df.dropna(subset=['DISP_CHILDREN_U18'], inplace=True)\n"
      ],
      "metadata": {
        "id": "h2YSfxvhvwCZ"
      },
      "execution_count": null,
      "outputs": []
    },
    {
      "cell_type": "code",
      "source": [
        "df.isnull().any().any()\n"
      ],
      "metadata": {
        "colab": {
          "base_uri": "https://localhost:8080/"
        },
        "id": "3xtqHcmtvwFf",
        "outputId": "19577cbb-2528-4f1e-ef61-9253aef14aa2"
      },
      "execution_count": null,
      "outputs": [
        {
          "output_type": "execute_result",
          "data": {
            "text/plain": [
              "False"
            ]
          },
          "metadata": {},
          "execution_count": 12
        }
      ]
    },
    {
      "cell_type": "code",
      "source": [
        "df['DISP_MONTH'] = pd.DatetimeIndex(df['DISP_DATE']).month"
      ],
      "metadata": {
        "id": "0_MP7yNoifEY"
      },
      "execution_count": null,
      "outputs": []
    },
    {
      "cell_type": "code",
      "source": [
        "from sklearn.preprocessing import LabelEncoder\n",
        "le = LabelEncoder()"
      ],
      "metadata": {
        "id": "OMwWsn1gwjkd"
      },
      "execution_count": null,
      "outputs": []
    },
    {
      "cell_type": "code",
      "source": [
        "df.ORIG_PROV_NAME  = le.fit_transform(df.ORIG_PROV_NAME)\n",
        "df.ORIG_DIST_NAME = le.fit_transform(df.ORIG_DIST_NAME)\n",
        "df.DISP_PROV_NAME = le.fit_transform(df.DISP_PROV_NAME)\n",
        "df.DISP_DIST_NAME = le.fit_transform(df.DISP_DIST_NAME)"
      ],
      "metadata": {
        "id": "fFtLdkTXwjtw"
      },
      "execution_count": null,
      "outputs": []
    },
    {
      "cell_type": "code",
      "source": [
        "x = df.drop(['DISP_IND', 'DISP_DATE'], axis = 1)"
      ],
      "metadata": {
        "id": "ynetS-KYwjxd"
      },
      "execution_count": null,
      "outputs": []
    },
    {
      "cell_type": "code",
      "source": [
        "y = df.DISP_IND\n"
      ],
      "metadata": {
        "id": "PhK_xsxk0yoS"
      },
      "execution_count": null,
      "outputs": []
    },
    {
      "cell_type": "code",
      "source": [
        "x.shape"
      ],
      "metadata": {
        "colab": {
          "base_uri": "https://localhost:8080/"
        },
        "id": "4lO-qGSK0yrV",
        "outputId": "b21e45f7-db38-4b17-f821-2e340a89ef44"
      },
      "execution_count": null,
      "outputs": [
        {
          "output_type": "execute_result",
          "data": {
            "text/plain": [
              "(62, 13)"
            ]
          },
          "metadata": {},
          "execution_count": 18
        }
      ]
    },
    {
      "cell_type": "code",
      "source": [
        "y.shape\n"
      ],
      "metadata": {
        "colab": {
          "base_uri": "https://localhost:8080/"
        },
        "id": "Svk9bYk90yvQ",
        "outputId": "c1b8735c-ee05-44a1-8192-295ed8a0d868"
      },
      "execution_count": null,
      "outputs": [
        {
          "output_type": "execute_result",
          "data": {
            "text/plain": [
              "(62,)"
            ]
          },
          "metadata": {},
          "execution_count": 19
        }
      ]
    },
    {
      "cell_type": "code",
      "source": [
        "from sklearn.linear_model import LogisticRegression\n",
        "from sklearn.model_selection import train_test_split\n",
        "X_train, X_test, y_train, y_test = train_test_split(x, y, test_size = 0.2)"
      ],
      "metadata": {
        "id": "6WDFsfLr0y0O"
      },
      "execution_count": null,
      "outputs": []
    },
    {
      "cell_type": "code",
      "source": [
        "model = LogisticRegression()\n",
        "model.fit(X_train, y_train)"
      ],
      "metadata": {
        "colab": {
          "base_uri": "https://localhost:8080/"
        },
        "id": "9sNEKlma1Dco",
        "outputId": "88c6a71b-83df-47bf-ae76-f3fea9b47ef0"
      },
      "execution_count": null,
      "outputs": [
        {
          "output_type": "stream",
          "name": "stderr",
          "text": [
            "/usr/local/lib/python3.8/dist-packages/sklearn/linear_model/_logistic.py:814: ConvergenceWarning: lbfgs failed to converge (status=1):\n",
            "STOP: TOTAL NO. of ITERATIONS REACHED LIMIT.\n",
            "\n",
            "Increase the number of iterations (max_iter) or scale the data as shown in:\n",
            "    https://scikit-learn.org/stable/modules/preprocessing.html\n",
            "Please also refer to the documentation for alternative solver options:\n",
            "    https://scikit-learn.org/stable/modules/linear_model.html#logistic-regression\n",
            "  n_iter_i = _check_optimize_result(\n"
          ]
        },
        {
          "output_type": "execute_result",
          "data": {
            "text/plain": [
              "LogisticRegression()"
            ]
          },
          "metadata": {},
          "execution_count": 21
        }
      ]
    },
    {
      "cell_type": "code",
      "source": [
        "y_pred = model.predict(X_test)\n"
      ],
      "metadata": {
        "id": "AX3QAVnJ1IPG"
      },
      "execution_count": null,
      "outputs": []
    },
    {
      "cell_type": "code",
      "source": [
        "print(\"Training Accuracy :\", model.score(X_train, y_train))\n",
        "print(\"Testing Accuracy :\", model.score(X_test, y_test))"
      ],
      "metadata": {
        "colab": {
          "base_uri": "https://localhost:8080/"
        },
        "id": "BNRiYJs_1IXg",
        "outputId": "3ea4be44-545c-47c6-800f-e92c98f3617e"
      },
      "execution_count": null,
      "outputs": [
        {
          "output_type": "stream",
          "name": "stdout",
          "text": [
            "Training Accuracy : 0.673469387755102\n",
            "Testing Accuracy : 0.0\n"
          ]
        }
      ]
    },
    {
      "cell_type": "code",
      "source": [
        "from sklearn.linear_model import LinearRegression\n",
        "from sklearn.model_selection import train_test_split\n",
        "X_train, X_test, y_train, y_test = train_test_split(x, y, test_size = 0.2)"
      ],
      "metadata": {
        "id": "WCvp1Fuh1Pjj"
      },
      "execution_count": null,
      "outputs": []
    },
    {
      "cell_type": "code",
      "source": [
        "model1 = LinearRegression()\n",
        "model1.fit(X_train, y_train)"
      ],
      "metadata": {
        "colab": {
          "base_uri": "https://localhost:8080/"
        },
        "id": "vRy9V2r11Prj",
        "outputId": "7b318271-d69c-4c9a-af3b-2b6feaaafafb"
      },
      "execution_count": null,
      "outputs": [
        {
          "output_type": "execute_result",
          "data": {
            "text/plain": [
              "LinearRegression()"
            ]
          },
          "metadata": {},
          "execution_count": 25
        }
      ]
    },
    {
      "cell_type": "code",
      "source": [
        "y_pred = model1.predict(X_test)"
      ],
      "metadata": {
        "id": "xkuiX3Im1Wu0"
      },
      "execution_count": null,
      "outputs": []
    },
    {
      "cell_type": "code",
      "source": [
        "print(\"Training Accuracy :\", model1.score(X_train, y_train))\n",
        "print(\"Testing Accuracy :\", model1.score(X_test, y_test))"
      ],
      "metadata": {
        "colab": {
          "base_uri": "https://localhost:8080/"
        },
        "id": "Px7Submd1bvy",
        "outputId": "328a7885-f044-42c1-d42b-74e1651b3fa5"
      },
      "execution_count": null,
      "outputs": [
        {
          "output_type": "stream",
          "name": "stdout",
          "text": [
            "Training Accuracy : 0.9999525757349383\n",
            "Testing Accuracy : 0.9999267460774978\n"
          ]
        }
      ]
    },
    {
      "cell_type": "code",
      "source": [
        "from sklearn.tree import DecisionTreeRegressor\n",
        "from sklearn.model_selection import train_test_split\n",
        "X_train, X_test, y_train, y_test = train_test_split(x, y, test_size = 0.2)"
      ],
      "metadata": {
        "id": "h1Vr4nsc1b3b"
      },
      "execution_count": null,
      "outputs": []
    },
    {
      "cell_type": "code",
      "source": [
        "model3 = DecisionTreeRegressor(max_depth=6)\n",
        "model3.fit(X_train, y_train)\n"
      ],
      "metadata": {
        "colab": {
          "base_uri": "https://localhost:8080/"
        },
        "id": "veusMbMl1b7H",
        "outputId": "59e895d7-b279-4440-bdaa-c2e46a99913e"
      },
      "execution_count": null,
      "outputs": [
        {
          "output_type": "execute_result",
          "data": {
            "text/plain": [
              "DecisionTreeRegressor(max_depth=6)"
            ]
          },
          "metadata": {},
          "execution_count": 29
        }
      ]
    },
    {
      "cell_type": "code",
      "source": [
        "y_pred = model3.predict(X_test)"
      ],
      "metadata": {
        "id": "cH5lWIjn1b-d"
      },
      "execution_count": null,
      "outputs": []
    },
    {
      "cell_type": "code",
      "source": [
        "print(\"Training Accuracy :\", model3.score(X_train, y_train))\n",
        "print(\"Testing Accuracy :\", model3.score(X_test, y_test))"
      ],
      "metadata": {
        "colab": {
          "base_uri": "https://localhost:8080/"
        },
        "id": "47q159VL1v_0",
        "outputId": "1fa466a7-07a2-4c29-e09c-a990d2d2df39"
      },
      "execution_count": null,
      "outputs": [
        {
          "output_type": "stream",
          "name": "stdout",
          "text": [
            "Training Accuracy : 0.9999891056543457\n",
            "Testing Accuracy : 0.6842266321679183\n"
          ]
        }
      ]
    },
    {
      "cell_type": "code",
      "source": [
        "from sklearn.ensemble import RandomForestRegressor\n",
        "from sklearn.model_selection import train_test_split\n",
        "X_train, X_test, y_train, y_test = train_test_split(x, y, test_size = 0.2)"
      ],
      "metadata": {
        "id": "TIPe1gMs1wDc"
      },
      "execution_count": null,
      "outputs": []
    },
    {
      "cell_type": "code",
      "source": [
        "model4 = RandomForestRegressor(n_estimators = 100, random_state = 0)\n",
        "model4.fit(X_train, y_train)"
      ],
      "metadata": {
        "colab": {
          "base_uri": "https://localhost:8080/"
        },
        "id": "BRwZctGI1wGn",
        "outputId": "dfe245ac-84f8-486c-ce50-cd16eccecc9d"
      },
      "execution_count": null,
      "outputs": [
        {
          "output_type": "execute_result",
          "data": {
            "text/plain": [
              "RandomForestRegressor(random_state=0)"
            ]
          },
          "metadata": {},
          "execution_count": 33
        }
      ]
    },
    {
      "cell_type": "code",
      "source": [
        "y_pred = model4.predict(X_test)\n"
      ],
      "metadata": {
        "id": "h4KxFo8G2Aba"
      },
      "execution_count": null,
      "outputs": []
    },
    {
      "cell_type": "code",
      "source": [
        "print(\"Training Accuracy :\", model4.score(X_train, y_train))\n",
        "print(\"Testing Accuracy :\", model4.score(X_test, y_test))"
      ],
      "metadata": {
        "colab": {
          "base_uri": "https://localhost:8080/"
        },
        "id": "VeG9uWtA2EK5",
        "outputId": "b98fb0f3-f7f4-4cbd-f370-3b82883c542f"
      },
      "execution_count": null,
      "outputs": [
        {
          "output_type": "stream",
          "name": "stdout",
          "text": [
            "Training Accuracy : 0.9805183638261115\n",
            "Testing Accuracy : 0.9473937469034281\n"
          ]
        }
      ]
    }
  ]
}