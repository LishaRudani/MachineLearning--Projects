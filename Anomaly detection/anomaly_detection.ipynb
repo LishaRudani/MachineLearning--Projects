{
  "cells": [
    {
      "cell_type": "code",
      "execution_count": null,
      "id": "0686b328",
      "metadata": {
        "id": "0686b328"
      },
      "outputs": [],
      "source": [
        "import pandas as pd\n",
        "import numpy as np\n",
        "import seaborn as sns\n",
        "import warnings\n",
        "import matplotlib.pyplot as plt\n",
        "import datetime\n",
        "from datetime import datetime, timezone\n",
        "from scipy import stats\n",
        "from scipy.stats import norm\n",
        "from sklearn.preprocessing import StandardScaler\n",
        "import plotly.express as px\n",
        "import plotly.graph_objects as go\n",
        "warnings.filterwarnings('ignore')"
      ]
    },
    {
      "cell_type": "code",
      "source": [
        "from google.colab import drive\n",
        "drive.mount('/content/drive')"
      ],
      "metadata": {
        "colab": {
          "base_uri": "https://localhost:8080/"
        },
        "id": "0GXwTPsFDYgj",
        "outputId": "fae8f2db-25f8-4763-995e-d68d55bd2069"
      },
      "id": "0GXwTPsFDYgj",
      "execution_count": null,
      "outputs": [
        {
          "output_type": "stream",
          "name": "stdout",
          "text": [
            "Mounted at /content/drive\n"
          ]
        }
      ]
    },
    {
      "cell_type": "code",
      "source": [
        "!unzip /content/drive/MyDrive/Teach_Foundation_of_ML/project/Regression/archive.zip"
      ],
      "metadata": {
        "colab": {
          "base_uri": "https://localhost:8080/"
        },
        "id": "1LkUudwIDYyK",
        "outputId": "9c29e9e5-5bab-45ee-ef7a-48af58ea5ee9"
      },
      "id": "1LkUudwIDYyK",
      "execution_count": null,
      "outputs": [
        {
          "output_type": "stream",
          "name": "stdout",
          "text": [
            "unzip:  cannot find or open /content/drive/MyDrive/Teach_Foundation_of_ML/project/Regression/archive.zip, /content/drive/MyDrive/Teach_Foundation_of_ML/project/Regression/archive.zip.zip or /content/drive/MyDrive/Teach_Foundation_of_ML/project/Regression/archive.zip.ZIP.\n"
          ]
        }
      ]
    },
    {
      "cell_type": "code",
      "execution_count": null,
      "id": "e2578916",
      "metadata": {
        "id": "e2578916"
      },
      "outputs": [],
      "source": [
        "df = pd.read_csv('/content/drive/MyDrive/AnomalyDetection_Dataset/energy_anamoly.csv')"
      ]
    },
    {
      "cell_type": "code",
      "execution_count": null,
      "id": "71027903",
      "metadata": {
        "colab": {
          "base_uri": "https://localhost:8080/",
          "height": 206
        },
        "id": "71027903",
        "outputId": "bbb75e74-c194-4efb-e3c9-5083bd374955"
      },
      "outputs": [
        {
          "output_type": "execute_result",
          "data": {
            "text/plain": [
              "   building_id         timestamp  meter_reading  anomaly\n",
              "0            1  01-01-2016 00:00            NaN        0\n",
              "1           32  01-01-2016 00:00            NaN        0\n",
              "2           41  01-01-2016 00:00            NaN        0\n",
              "3           55  01-01-2016 00:00            NaN        0\n",
              "4           69  01-01-2016 00:00            NaN        0"
            ],
            "text/html": [
              "\n",
              "  <div id=\"df-5d372071-13c0-447f-b1c7-2b2b3c38f17a\">\n",
              "    <div class=\"colab-df-container\">\n",
              "      <div>\n",
              "<style scoped>\n",
              "    .dataframe tbody tr th:only-of-type {\n",
              "        vertical-align: middle;\n",
              "    }\n",
              "\n",
              "    .dataframe tbody tr th {\n",
              "        vertical-align: top;\n",
              "    }\n",
              "\n",
              "    .dataframe thead th {\n",
              "        text-align: right;\n",
              "    }\n",
              "</style>\n",
              "<table border=\"1\" class=\"dataframe\">\n",
              "  <thead>\n",
              "    <tr style=\"text-align: right;\">\n",
              "      <th></th>\n",
              "      <th>building_id</th>\n",
              "      <th>timestamp</th>\n",
              "      <th>meter_reading</th>\n",
              "      <th>anomaly</th>\n",
              "    </tr>\n",
              "  </thead>\n",
              "  <tbody>\n",
              "    <tr>\n",
              "      <th>0</th>\n",
              "      <td>1</td>\n",
              "      <td>01-01-2016 00:00</td>\n",
              "      <td>NaN</td>\n",
              "      <td>0</td>\n",
              "    </tr>\n",
              "    <tr>\n",
              "      <th>1</th>\n",
              "      <td>32</td>\n",
              "      <td>01-01-2016 00:00</td>\n",
              "      <td>NaN</td>\n",
              "      <td>0</td>\n",
              "    </tr>\n",
              "    <tr>\n",
              "      <th>2</th>\n",
              "      <td>41</td>\n",
              "      <td>01-01-2016 00:00</td>\n",
              "      <td>NaN</td>\n",
              "      <td>0</td>\n",
              "    </tr>\n",
              "    <tr>\n",
              "      <th>3</th>\n",
              "      <td>55</td>\n",
              "      <td>01-01-2016 00:00</td>\n",
              "      <td>NaN</td>\n",
              "      <td>0</td>\n",
              "    </tr>\n",
              "    <tr>\n",
              "      <th>4</th>\n",
              "      <td>69</td>\n",
              "      <td>01-01-2016 00:00</td>\n",
              "      <td>NaN</td>\n",
              "      <td>0</td>\n",
              "    </tr>\n",
              "  </tbody>\n",
              "</table>\n",
              "</div>\n",
              "      <button class=\"colab-df-convert\" onclick=\"convertToInteractive('df-5d372071-13c0-447f-b1c7-2b2b3c38f17a')\"\n",
              "              title=\"Convert this dataframe to an interactive table.\"\n",
              "              style=\"display:none;\">\n",
              "        \n",
              "  <svg xmlns=\"http://www.w3.org/2000/svg\" height=\"24px\"viewBox=\"0 0 24 24\"\n",
              "       width=\"24px\">\n",
              "    <path d=\"M0 0h24v24H0V0z\" fill=\"none\"/>\n",
              "    <path d=\"M18.56 5.44l.94 2.06.94-2.06 2.06-.94-2.06-.94-.94-2.06-.94 2.06-2.06.94zm-11 1L8.5 8.5l.94-2.06 2.06-.94-2.06-.94L8.5 2.5l-.94 2.06-2.06.94zm10 10l.94 2.06.94-2.06 2.06-.94-2.06-.94-.94-2.06-.94 2.06-2.06.94z\"/><path d=\"M17.41 7.96l-1.37-1.37c-.4-.4-.92-.59-1.43-.59-.52 0-1.04.2-1.43.59L10.3 9.45l-7.72 7.72c-.78.78-.78 2.05 0 2.83L4 21.41c.39.39.9.59 1.41.59.51 0 1.02-.2 1.41-.59l7.78-7.78 2.81-2.81c.8-.78.8-2.07 0-2.86zM5.41 20L4 18.59l7.72-7.72 1.47 1.35L5.41 20z\"/>\n",
              "  </svg>\n",
              "      </button>\n",
              "      \n",
              "  <style>\n",
              "    .colab-df-container {\n",
              "      display:flex;\n",
              "      flex-wrap:wrap;\n",
              "      gap: 12px;\n",
              "    }\n",
              "\n",
              "    .colab-df-convert {\n",
              "      background-color: #E8F0FE;\n",
              "      border: none;\n",
              "      border-radius: 50%;\n",
              "      cursor: pointer;\n",
              "      display: none;\n",
              "      fill: #1967D2;\n",
              "      height: 32px;\n",
              "      padding: 0 0 0 0;\n",
              "      width: 32px;\n",
              "    }\n",
              "\n",
              "    .colab-df-convert:hover {\n",
              "      background-color: #E2EBFA;\n",
              "      box-shadow: 0px 1px 2px rgba(60, 64, 67, 0.3), 0px 1px 3px 1px rgba(60, 64, 67, 0.15);\n",
              "      fill: #174EA6;\n",
              "    }\n",
              "\n",
              "    [theme=dark] .colab-df-convert {\n",
              "      background-color: #3B4455;\n",
              "      fill: #D2E3FC;\n",
              "    }\n",
              "\n",
              "    [theme=dark] .colab-df-convert:hover {\n",
              "      background-color: #434B5C;\n",
              "      box-shadow: 0px 1px 3px 1px rgba(0, 0, 0, 0.15);\n",
              "      filter: drop-shadow(0px 1px 2px rgba(0, 0, 0, 0.3));\n",
              "      fill: #FFFFFF;\n",
              "    }\n",
              "  </style>\n",
              "\n",
              "      <script>\n",
              "        const buttonEl =\n",
              "          document.querySelector('#df-5d372071-13c0-447f-b1c7-2b2b3c38f17a button.colab-df-convert');\n",
              "        buttonEl.style.display =\n",
              "          google.colab.kernel.accessAllowed ? 'block' : 'none';\n",
              "\n",
              "        async function convertToInteractive(key) {\n",
              "          const element = document.querySelector('#df-5d372071-13c0-447f-b1c7-2b2b3c38f17a');\n",
              "          const dataTable =\n",
              "            await google.colab.kernel.invokeFunction('convertToInteractive',\n",
              "                                                     [key], {});\n",
              "          if (!dataTable) return;\n",
              "\n",
              "          const docLinkHtml = 'Like what you see? Visit the ' +\n",
              "            '<a target=\"_blank\" href=https://colab.research.google.com/notebooks/data_table.ipynb>data table notebook</a>'\n",
              "            + ' to learn more about interactive tables.';\n",
              "          element.innerHTML = '';\n",
              "          dataTable['output_type'] = 'display_data';\n",
              "          await google.colab.output.renderOutput(dataTable, element);\n",
              "          const docLink = document.createElement('div');\n",
              "          docLink.innerHTML = docLinkHtml;\n",
              "          element.appendChild(docLink);\n",
              "        }\n",
              "      </script>\n",
              "    </div>\n",
              "  </div>\n",
              "  "
            ]
          },
          "metadata": {},
          "execution_count": 5
        }
      ],
      "source": [
        "df.head()"
      ]
    },
    {
      "cell_type": "code",
      "execution_count": null,
      "id": "aab8f9ad",
      "metadata": {
        "colab": {
          "base_uri": "https://localhost:8080/",
          "height": 206
        },
        "id": "aab8f9ad",
        "outputId": "8cd95123-b155-431d-df1b-72defd2606b0"
      },
      "outputs": [
        {
          "output_type": "execute_result",
          "data": {
            "text/plain": [
              "         building_id         timestamp  meter_reading  anomaly\n",
              "1048570          657  07-08-2016 09:00           15.3        0\n",
              "1048571          658  07-08-2016 09:00           11.2        0\n",
              "1048572          666  07-08-2016 09:00            2.9        0\n",
              "1048573          667  07-08-2016 09:00            1.7        0\n",
              "1048574          673  07-08-2016 09:00            5.1        0"
            ],
            "text/html": [
              "\n",
              "  <div id=\"df-5cf326a9-1da8-4a2d-93a2-d464c4a99f82\">\n",
              "    <div class=\"colab-df-container\">\n",
              "      <div>\n",
              "<style scoped>\n",
              "    .dataframe tbody tr th:only-of-type {\n",
              "        vertical-align: middle;\n",
              "    }\n",
              "\n",
              "    .dataframe tbody tr th {\n",
              "        vertical-align: top;\n",
              "    }\n",
              "\n",
              "    .dataframe thead th {\n",
              "        text-align: right;\n",
              "    }\n",
              "</style>\n",
              "<table border=\"1\" class=\"dataframe\">\n",
              "  <thead>\n",
              "    <tr style=\"text-align: right;\">\n",
              "      <th></th>\n",
              "      <th>building_id</th>\n",
              "      <th>timestamp</th>\n",
              "      <th>meter_reading</th>\n",
              "      <th>anomaly</th>\n",
              "    </tr>\n",
              "  </thead>\n",
              "  <tbody>\n",
              "    <tr>\n",
              "      <th>1048570</th>\n",
              "      <td>657</td>\n",
              "      <td>07-08-2016 09:00</td>\n",
              "      <td>15.3</td>\n",
              "      <td>0</td>\n",
              "    </tr>\n",
              "    <tr>\n",
              "      <th>1048571</th>\n",
              "      <td>658</td>\n",
              "      <td>07-08-2016 09:00</td>\n",
              "      <td>11.2</td>\n",
              "      <td>0</td>\n",
              "    </tr>\n",
              "    <tr>\n",
              "      <th>1048572</th>\n",
              "      <td>666</td>\n",
              "      <td>07-08-2016 09:00</td>\n",
              "      <td>2.9</td>\n",
              "      <td>0</td>\n",
              "    </tr>\n",
              "    <tr>\n",
              "      <th>1048573</th>\n",
              "      <td>667</td>\n",
              "      <td>07-08-2016 09:00</td>\n",
              "      <td>1.7</td>\n",
              "      <td>0</td>\n",
              "    </tr>\n",
              "    <tr>\n",
              "      <th>1048574</th>\n",
              "      <td>673</td>\n",
              "      <td>07-08-2016 09:00</td>\n",
              "      <td>5.1</td>\n",
              "      <td>0</td>\n",
              "    </tr>\n",
              "  </tbody>\n",
              "</table>\n",
              "</div>\n",
              "      <button class=\"colab-df-convert\" onclick=\"convertToInteractive('df-5cf326a9-1da8-4a2d-93a2-d464c4a99f82')\"\n",
              "              title=\"Convert this dataframe to an interactive table.\"\n",
              "              style=\"display:none;\">\n",
              "        \n",
              "  <svg xmlns=\"http://www.w3.org/2000/svg\" height=\"24px\"viewBox=\"0 0 24 24\"\n",
              "       width=\"24px\">\n",
              "    <path d=\"M0 0h24v24H0V0z\" fill=\"none\"/>\n",
              "    <path d=\"M18.56 5.44l.94 2.06.94-2.06 2.06-.94-2.06-.94-.94-2.06-.94 2.06-2.06.94zm-11 1L8.5 8.5l.94-2.06 2.06-.94-2.06-.94L8.5 2.5l-.94 2.06-2.06.94zm10 10l.94 2.06.94-2.06 2.06-.94-2.06-.94-.94-2.06-.94 2.06-2.06.94z\"/><path d=\"M17.41 7.96l-1.37-1.37c-.4-.4-.92-.59-1.43-.59-.52 0-1.04.2-1.43.59L10.3 9.45l-7.72 7.72c-.78.78-.78 2.05 0 2.83L4 21.41c.39.39.9.59 1.41.59.51 0 1.02-.2 1.41-.59l7.78-7.78 2.81-2.81c.8-.78.8-2.07 0-2.86zM5.41 20L4 18.59l7.72-7.72 1.47 1.35L5.41 20z\"/>\n",
              "  </svg>\n",
              "      </button>\n",
              "      \n",
              "  <style>\n",
              "    .colab-df-container {\n",
              "      display:flex;\n",
              "      flex-wrap:wrap;\n",
              "      gap: 12px;\n",
              "    }\n",
              "\n",
              "    .colab-df-convert {\n",
              "      background-color: #E8F0FE;\n",
              "      border: none;\n",
              "      border-radius: 50%;\n",
              "      cursor: pointer;\n",
              "      display: none;\n",
              "      fill: #1967D2;\n",
              "      height: 32px;\n",
              "      padding: 0 0 0 0;\n",
              "      width: 32px;\n",
              "    }\n",
              "\n",
              "    .colab-df-convert:hover {\n",
              "      background-color: #E2EBFA;\n",
              "      box-shadow: 0px 1px 2px rgba(60, 64, 67, 0.3), 0px 1px 3px 1px rgba(60, 64, 67, 0.15);\n",
              "      fill: #174EA6;\n",
              "    }\n",
              "\n",
              "    [theme=dark] .colab-df-convert {\n",
              "      background-color: #3B4455;\n",
              "      fill: #D2E3FC;\n",
              "    }\n",
              "\n",
              "    [theme=dark] .colab-df-convert:hover {\n",
              "      background-color: #434B5C;\n",
              "      box-shadow: 0px 1px 3px 1px rgba(0, 0, 0, 0.15);\n",
              "      filter: drop-shadow(0px 1px 2px rgba(0, 0, 0, 0.3));\n",
              "      fill: #FFFFFF;\n",
              "    }\n",
              "  </style>\n",
              "\n",
              "      <script>\n",
              "        const buttonEl =\n",
              "          document.querySelector('#df-5cf326a9-1da8-4a2d-93a2-d464c4a99f82 button.colab-df-convert');\n",
              "        buttonEl.style.display =\n",
              "          google.colab.kernel.accessAllowed ? 'block' : 'none';\n",
              "\n",
              "        async function convertToInteractive(key) {\n",
              "          const element = document.querySelector('#df-5cf326a9-1da8-4a2d-93a2-d464c4a99f82');\n",
              "          const dataTable =\n",
              "            await google.colab.kernel.invokeFunction('convertToInteractive',\n",
              "                                                     [key], {});\n",
              "          if (!dataTable) return;\n",
              "\n",
              "          const docLinkHtml = 'Like what you see? Visit the ' +\n",
              "            '<a target=\"_blank\" href=https://colab.research.google.com/notebooks/data_table.ipynb>data table notebook</a>'\n",
              "            + ' to learn more about interactive tables.';\n",
              "          element.innerHTML = '';\n",
              "          dataTable['output_type'] = 'display_data';\n",
              "          await google.colab.output.renderOutput(dataTable, element);\n",
              "          const docLink = document.createElement('div');\n",
              "          docLink.innerHTML = docLinkHtml;\n",
              "          element.appendChild(docLink);\n",
              "        }\n",
              "      </script>\n",
              "    </div>\n",
              "  </div>\n",
              "  "
            ]
          },
          "metadata": {},
          "execution_count": 6
        }
      ],
      "source": [
        "df.tail()"
      ]
    },
    {
      "cell_type": "code",
      "execution_count": null,
      "id": "056e75c6",
      "metadata": {
        "colab": {
          "base_uri": "https://localhost:8080/"
        },
        "id": "056e75c6",
        "outputId": "f5cb54fb-bae0-4a23-bedb-09277b5e135e"
      },
      "outputs": [
        {
          "output_type": "execute_result",
          "data": {
            "text/plain": [
              "(1048575, 4)"
            ]
          },
          "metadata": {},
          "execution_count": 7
        }
      ],
      "source": [
        "df.shape"
      ]
    },
    {
      "cell_type": "code",
      "execution_count": null,
      "id": "f14579ba",
      "metadata": {
        "colab": {
          "base_uri": "https://localhost:8080/"
        },
        "id": "f14579ba",
        "outputId": "e02a95ef-e5c5-4d3b-94d1-da44b5414b11"
      },
      "outputs": [
        {
          "output_type": "execute_result",
          "data": {
            "text/plain": [
              "Index(['building_id', 'timestamp', 'meter_reading', 'anomaly'], dtype='object')"
            ]
          },
          "metadata": {},
          "execution_count": 8
        }
      ],
      "source": [
        "df.columns"
      ]
    },
    {
      "cell_type": "code",
      "execution_count": null,
      "id": "96ab849a",
      "metadata": {
        "colab": {
          "base_uri": "https://localhost:8080/"
        },
        "id": "96ab849a",
        "outputId": "dc7ba88f-62cc-4a1b-cbc3-affbc445bb40"
      },
      "outputs": [
        {
          "output_type": "execute_result",
          "data": {
            "text/plain": [
              "0"
            ]
          },
          "metadata": {},
          "execution_count": 9
        }
      ],
      "source": [
        "df.duplicated().sum()"
      ]
    },
    {
      "cell_type": "code",
      "execution_count": null,
      "id": "84b29767",
      "metadata": {
        "colab": {
          "base_uri": "https://localhost:8080/"
        },
        "id": "84b29767",
        "outputId": "744d80b7-448a-45fb-a2c8-45aea80c18bc"
      },
      "outputs": [
        {
          "output_type": "execute_result",
          "data": {
            "text/plain": [
              "building_id          0\n",
              "timestamp            0\n",
              "meter_reading    77102\n",
              "anomaly              0\n",
              "dtype: int64"
            ]
          },
          "metadata": {},
          "execution_count": 10
        }
      ],
      "source": [
        "df.isnull().sum()"
      ]
    },
    {
      "cell_type": "code",
      "execution_count": null,
      "id": "3f7fe6bf",
      "metadata": {
        "colab": {
          "base_uri": "https://localhost:8080/"
        },
        "id": "3f7fe6bf",
        "outputId": "2da50baf-fd60-40e2-8de7-8d52b22a2005"
      },
      "outputs": [
        {
          "output_type": "stream",
          "name": "stdout",
          "text": [
            "<class 'pandas.core.frame.DataFrame'>\n",
            "RangeIndex: 1048575 entries, 0 to 1048574\n",
            "Data columns (total 4 columns):\n",
            " #   Column         Non-Null Count    Dtype  \n",
            "---  ------         --------------    -----  \n",
            " 0   building_id    1048575 non-null  int64  \n",
            " 1   timestamp      1048575 non-null  object \n",
            " 2   meter_reading  971473 non-null   float64\n",
            " 3   anomaly        1048575 non-null  int64  \n",
            "dtypes: float64(1), int64(2), object(1)\n",
            "memory usage: 32.0+ MB\n"
          ]
        }
      ],
      "source": [
        "df.info()"
      ]
    },
    {
      "cell_type": "code",
      "execution_count": null,
      "id": "b7d1b9e8",
      "metadata": {
        "colab": {
          "base_uri": "https://localhost:8080/",
          "height": 300
        },
        "id": "b7d1b9e8",
        "outputId": "161b1690-22e6-4db1-98cb-625a5d229aad"
      },
      "outputs": [
        {
          "output_type": "execute_result",
          "data": {
            "text/plain": [
              "        building_id  meter_reading       anomaly\n",
              "count  1.048575e+06  971473.000000  1.048575e+06\n",
              "mean   7.908887e+02     180.777984  2.254393e-02\n",
              "std    4.118324e+02     404.195181  1.484443e-01\n",
              "min    1.000000e+00       0.000000  0.000000e+00\n",
              "25%    3.450000e+02      30.406000  0.000000e+00\n",
              "50%    8.960000e+02      85.700000  0.000000e+00\n",
              "75%    1.147000e+03     198.685000  0.000000e+00\n",
              "max    1.353000e+03    6596.890000  1.000000e+00"
            ],
            "text/html": [
              "\n",
              "  <div id=\"df-95af52ca-3f5d-4233-87ff-01c2ea896d47\">\n",
              "    <div class=\"colab-df-container\">\n",
              "      <div>\n",
              "<style scoped>\n",
              "    .dataframe tbody tr th:only-of-type {\n",
              "        vertical-align: middle;\n",
              "    }\n",
              "\n",
              "    .dataframe tbody tr th {\n",
              "        vertical-align: top;\n",
              "    }\n",
              "\n",
              "    .dataframe thead th {\n",
              "        text-align: right;\n",
              "    }\n",
              "</style>\n",
              "<table border=\"1\" class=\"dataframe\">\n",
              "  <thead>\n",
              "    <tr style=\"text-align: right;\">\n",
              "      <th></th>\n",
              "      <th>building_id</th>\n",
              "      <th>meter_reading</th>\n",
              "      <th>anomaly</th>\n",
              "    </tr>\n",
              "  </thead>\n",
              "  <tbody>\n",
              "    <tr>\n",
              "      <th>count</th>\n",
              "      <td>1.048575e+06</td>\n",
              "      <td>971473.000000</td>\n",
              "      <td>1.048575e+06</td>\n",
              "    </tr>\n",
              "    <tr>\n",
              "      <th>mean</th>\n",
              "      <td>7.908887e+02</td>\n",
              "      <td>180.777984</td>\n",
              "      <td>2.254393e-02</td>\n",
              "    </tr>\n",
              "    <tr>\n",
              "      <th>std</th>\n",
              "      <td>4.118324e+02</td>\n",
              "      <td>404.195181</td>\n",
              "      <td>1.484443e-01</td>\n",
              "    </tr>\n",
              "    <tr>\n",
              "      <th>min</th>\n",
              "      <td>1.000000e+00</td>\n",
              "      <td>0.000000</td>\n",
              "      <td>0.000000e+00</td>\n",
              "    </tr>\n",
              "    <tr>\n",
              "      <th>25%</th>\n",
              "      <td>3.450000e+02</td>\n",
              "      <td>30.406000</td>\n",
              "      <td>0.000000e+00</td>\n",
              "    </tr>\n",
              "    <tr>\n",
              "      <th>50%</th>\n",
              "      <td>8.960000e+02</td>\n",
              "      <td>85.700000</td>\n",
              "      <td>0.000000e+00</td>\n",
              "    </tr>\n",
              "    <tr>\n",
              "      <th>75%</th>\n",
              "      <td>1.147000e+03</td>\n",
              "      <td>198.685000</td>\n",
              "      <td>0.000000e+00</td>\n",
              "    </tr>\n",
              "    <tr>\n",
              "      <th>max</th>\n",
              "      <td>1.353000e+03</td>\n",
              "      <td>6596.890000</td>\n",
              "      <td>1.000000e+00</td>\n",
              "    </tr>\n",
              "  </tbody>\n",
              "</table>\n",
              "</div>\n",
              "      <button class=\"colab-df-convert\" onclick=\"convertToInteractive('df-95af52ca-3f5d-4233-87ff-01c2ea896d47')\"\n",
              "              title=\"Convert this dataframe to an interactive table.\"\n",
              "              style=\"display:none;\">\n",
              "        \n",
              "  <svg xmlns=\"http://www.w3.org/2000/svg\" height=\"24px\"viewBox=\"0 0 24 24\"\n",
              "       width=\"24px\">\n",
              "    <path d=\"M0 0h24v24H0V0z\" fill=\"none\"/>\n",
              "    <path d=\"M18.56 5.44l.94 2.06.94-2.06 2.06-.94-2.06-.94-.94-2.06-.94 2.06-2.06.94zm-11 1L8.5 8.5l.94-2.06 2.06-.94-2.06-.94L8.5 2.5l-.94 2.06-2.06.94zm10 10l.94 2.06.94-2.06 2.06-.94-2.06-.94-.94-2.06-.94 2.06-2.06.94z\"/><path d=\"M17.41 7.96l-1.37-1.37c-.4-.4-.92-.59-1.43-.59-.52 0-1.04.2-1.43.59L10.3 9.45l-7.72 7.72c-.78.78-.78 2.05 0 2.83L4 21.41c.39.39.9.59 1.41.59.51 0 1.02-.2 1.41-.59l7.78-7.78 2.81-2.81c.8-.78.8-2.07 0-2.86zM5.41 20L4 18.59l7.72-7.72 1.47 1.35L5.41 20z\"/>\n",
              "  </svg>\n",
              "      </button>\n",
              "      \n",
              "  <style>\n",
              "    .colab-df-container {\n",
              "      display:flex;\n",
              "      flex-wrap:wrap;\n",
              "      gap: 12px;\n",
              "    }\n",
              "\n",
              "    .colab-df-convert {\n",
              "      background-color: #E8F0FE;\n",
              "      border: none;\n",
              "      border-radius: 50%;\n",
              "      cursor: pointer;\n",
              "      display: none;\n",
              "      fill: #1967D2;\n",
              "      height: 32px;\n",
              "      padding: 0 0 0 0;\n",
              "      width: 32px;\n",
              "    }\n",
              "\n",
              "    .colab-df-convert:hover {\n",
              "      background-color: #E2EBFA;\n",
              "      box-shadow: 0px 1px 2px rgba(60, 64, 67, 0.3), 0px 1px 3px 1px rgba(60, 64, 67, 0.15);\n",
              "      fill: #174EA6;\n",
              "    }\n",
              "\n",
              "    [theme=dark] .colab-df-convert {\n",
              "      background-color: #3B4455;\n",
              "      fill: #D2E3FC;\n",
              "    }\n",
              "\n",
              "    [theme=dark] .colab-df-convert:hover {\n",
              "      background-color: #434B5C;\n",
              "      box-shadow: 0px 1px 3px 1px rgba(0, 0, 0, 0.15);\n",
              "      filter: drop-shadow(0px 1px 2px rgba(0, 0, 0, 0.3));\n",
              "      fill: #FFFFFF;\n",
              "    }\n",
              "  </style>\n",
              "\n",
              "      <script>\n",
              "        const buttonEl =\n",
              "          document.querySelector('#df-95af52ca-3f5d-4233-87ff-01c2ea896d47 button.colab-df-convert');\n",
              "        buttonEl.style.display =\n",
              "          google.colab.kernel.accessAllowed ? 'block' : 'none';\n",
              "\n",
              "        async function convertToInteractive(key) {\n",
              "          const element = document.querySelector('#df-95af52ca-3f5d-4233-87ff-01c2ea896d47');\n",
              "          const dataTable =\n",
              "            await google.colab.kernel.invokeFunction('convertToInteractive',\n",
              "                                                     [key], {});\n",
              "          if (!dataTable) return;\n",
              "\n",
              "          const docLinkHtml = 'Like what you see? Visit the ' +\n",
              "            '<a target=\"_blank\" href=https://colab.research.google.com/notebooks/data_table.ipynb>data table notebook</a>'\n",
              "            + ' to learn more about interactive tables.';\n",
              "          element.innerHTML = '';\n",
              "          dataTable['output_type'] = 'display_data';\n",
              "          await google.colab.output.renderOutput(dataTable, element);\n",
              "          const docLink = document.createElement('div');\n",
              "          docLink.innerHTML = docLinkHtml;\n",
              "          element.appendChild(docLink);\n",
              "        }\n",
              "      </script>\n",
              "    </div>\n",
              "  </div>\n",
              "  "
            ]
          },
          "metadata": {},
          "execution_count": 12
        }
      ],
      "source": [
        "df.describe()"
      ]
    },
    {
      "cell_type": "code",
      "execution_count": null,
      "id": "00c6d64e",
      "metadata": {
        "colab": {
          "base_uri": "https://localhost:8080/"
        },
        "id": "00c6d64e",
        "outputId": "89dbdb96-64f8-4bef-fa45-9f05189b4a18"
      },
      "outputs": [
        {
          "output_type": "execute_result",
          "data": {
            "text/plain": [
              "building_id         200\n",
              "timestamp          5266\n",
              "meter_reading    137894\n",
              "anomaly               2\n",
              "dtype: int64"
            ]
          },
          "metadata": {},
          "execution_count": 13
        }
      ],
      "source": [
        "df.nunique()"
      ]
    },
    {
      "cell_type": "code",
      "execution_count": null,
      "id": "d400e578",
      "metadata": {
        "colab": {
          "base_uri": "https://localhost:8080/"
        },
        "id": "d400e578",
        "outputId": "9466396f-85b8-4243-a23a-921202628f49"
      },
      "outputs": [
        {
          "output_type": "execute_result",
          "data": {
            "text/plain": [
              "array([0, 1])"
            ]
          },
          "metadata": {},
          "execution_count": 14
        }
      ],
      "source": [
        "df['anomaly'].unique()"
      ]
    },
    {
      "cell_type": "code",
      "execution_count": null,
      "id": "249c3bd1",
      "metadata": {
        "colab": {
          "base_uri": "https://localhost:8080/"
        },
        "id": "249c3bd1",
        "outputId": "b7f36910-30e3-46f3-b4b7-4e647f7018cf"
      },
      "outputs": [
        {
          "output_type": "execute_result",
          "data": {
            "text/plain": [
              "0    1024936\n",
              "1      23639\n",
              "Name: anomaly, dtype: int64"
            ]
          },
          "metadata": {},
          "execution_count": 15
        }
      ],
      "source": [
        "df['anomaly'].value_counts()"
      ]
    },
    {
      "cell_type": "code",
      "execution_count": null,
      "id": "c6dca5bb",
      "metadata": {
        "colab": {
          "base_uri": "https://localhost:8080/",
          "height": 458
        },
        "id": "c6dca5bb",
        "outputId": "47290d80-e595-4e71-8f3f-e72111e3243d"
      },
      "outputs": [
        {
          "output_type": "display_data",
          "data": {
            "text/plain": [
              "<Figure size 1080x504 with 1 Axes>"
            ],
            "image/png": "[encoded data removed]"
          },
          "metadata": {
            "needs_background": "light"
          }
        }
      ],
      "source": [
        "plt.figure(figsize=[15,7],)\n",
        "plt.title('Count Plot for anomaly')\n",
        "sns.countplot(x = 'anomaly', data = df, palette = 'hls')\n",
        "plt.show()"
      ]
    },
    {
      "cell_type": "code",
      "execution_count": null,
      "id": "6c86b9a4",
      "metadata": {
        "colab": {
          "base_uri": "https://localhost:8080/",
          "height": 618
        },
        "id": "6c86b9a4",
        "outputId": "c76a10be-7f8c-495e-87e4-af8e52841b29"
      },
      "outputs": [
        {
          "output_type": "display_data",
          "data": {
            "text/plain": [
              "<Figure size 1008x720 with 1 Axes>"
            ],
            "image/png": "[encoded data removed]"
          },
          "metadata": {}
        }
      ],
      "source": [
        "anomaly = df['anomaly'].value_counts()\n",
        "\n",
        "explode = (0.1, 0.1)\n",
        "plt.figure(figsize=(14, 10))\n",
        "patches, texts, pcts = plt.pie(anomaly,\n",
        "                               labels = anomaly.index,\n",
        "                               colors = ['blue', 'red'],\n",
        "                               pctdistance = 0.65,\n",
        "                               shadow = True,\n",
        "                               startangle = 90,\n",
        "                               explode = explode,\n",
        "                               autopct = '%1.1f%%',\n",
        "                               textprops={ 'fontsize': 25,\n",
        "                                           'color': 'black',\n",
        "                                           'weight': 'bold',\n",
        "                                           'family': 'serif' })\n",
        "plt.setp(pcts, color='white')\n",
        "\n",
        "hfont = {'fontname':'serif', 'weight': 'bold'}\n",
        "plt.title('Anomaly', size=45, **hfont)\n",
        "\n",
        "centre_circle = plt.Circle((0,0),0.40,fc='white')\n",
        "fig = plt.gcf()\n",
        "fig.gca().add_artist(centre_circle)\n",
        "plt.show()"
      ]
    },
    {
      "cell_type": "code",
      "execution_count": null,
      "id": "ebf26d71",
      "metadata": {
        "colab": {
          "base_uri": "https://localhost:8080/"
        },
        "id": "ebf26d71",
        "outputId": "ce4ae63c-1b69-4a63-b228-42c7d9bd4a5f"
      },
      "outputs": [
        {
          "output_type": "execute_result",
          "data": {
            "text/plain": [
              "array([   1,   32,   41,   55,   69,   79,   82,   91,  107,  108,  111,\n",
              "        112,  117,  118,  119,  121,  136,  137,  139,  141,  144,  147,\n",
              "        148,  149,  159,  171,  173,  174,  181,  183,  190,  235,  238,\n",
              "        240,  246,  247,  248,  253,  254,  263,  270,  275,  276,  278,\n",
              "        290,  293,  312,  318,  335,  345,  356,  423,  439,  492,  534,\n",
              "        560,  623,  653,  657,  658,  666,  667,  673,  675,  677,  680,\n",
              "        683,  685,  687,  693,  697,  698,  701,  708,  710,  721,  722,\n",
              "        729,  730,  732,  739,  742,  801,  827,  844,  848,  879,  880,\n",
              "        881,  882,  884,  886,  887,  889,  890,  892,  893,  894,  895,\n",
              "        896,  903,  905,  909,  914,  919,  922,  924,  925,  926,  928,\n",
              "        929,  931,  935,  936,  941,  942,  945,  948,  950,  952,  961,\n",
              "        966,  967,  968,  969,  970,  971,  973,  974,  975,  977,  978,\n",
              "        981,  988,  990,  992,  994,  996, 1001, 1007, 1068, 1073, 1074,\n",
              "       1106, 1120, 1128, 1137, 1141, 1143, 1147, 1172, 1219, 1225, 1226,\n",
              "       1230, 1232, 1234, 1238, 1239, 1241, 1242, 1245, 1246, 1247, 1249,\n",
              "       1251, 1252, 1253, 1255, 1257, 1258, 1259, 1260, 1261, 1264, 1266,\n",
              "       1267, 1272, 1275, 1278, 1279, 1283, 1284, 1285, 1296, 1297, 1300,\n",
              "       1302, 1303, 1304, 1306, 1309, 1310, 1311, 1315, 1316, 1318, 1319,\n",
              "       1323, 1353])"
            ]
          },
          "metadata": {},
          "execution_count": 18
        }
      ],
      "source": [
        "df['building_id'].unique()"
      ]
    },
    {
      "cell_type": "code",
      "execution_count": null,
      "id": "296f5ccd",
      "metadata": {
        "colab": {
          "base_uri": "https://localhost:8080/"
        },
        "id": "296f5ccd",
        "outputId": "5feab32b-39d7-47cc-c3cd-272bbbec15f8"
      },
      "outputs": [
        {
          "output_type": "execute_result",
          "data": {
            "text/plain": [
              "1       5266\n",
              "121     5266\n",
              "673     5266\n",
              "658     5266\n",
              "657     5266\n",
              "        ... \n",
              "950     5130\n",
              "909     4951\n",
              "827     4775\n",
              "844     4466\n",
              "1353    4096\n",
              "Name: building_id, Length: 200, dtype: int64"
            ]
          },
          "metadata": {},
          "execution_count": 19
        }
      ],
      "source": [
        "df['building_id'].value_counts()"
      ]
    },
    {
      "cell_type": "code",
      "execution_count": null,
      "id": "e83360c2",
      "metadata": {
        "colab": {
          "base_uri": "https://localhost:8080/",
          "height": 459
        },
        "id": "e83360c2",
        "outputId": "28b1ec0a-9050-4fcf-ddb7-24515d5db842"
      },
      "outputs": [
        {
          "output_type": "display_data",
          "data": {
            "text/plain": [
              "<Figure size 1080x504 with 1 Axes>"
            ],
            "image/png": "[encoded data removed]"
          },
          "metadata": {
            "needs_background": "light"
          }
        }
      ],
      "source": [
        "plt.figure(figsize=[15,7],)\n",
        "plt.title('Box Plot for Meter Reading')\n",
        "sns.boxplot(x = 'meter_reading', data = df, palette = 'hls')\n",
        "plt.show()"
      ]
    },
    {
      "cell_type": "code",
      "execution_count": null,
      "id": "fb3966bf",
      "metadata": {
        "colab": {
          "base_uri": "https://localhost:8080/",
          "height": 558
        },
        "id": "fb3966bf",
        "outputId": "6c4c34eb-fbe2-40b4-e5f3-cc4d469414fd"
      },
      "outputs": [
        {
          "output_type": "display_data",
          "data": {
            "text/plain": [
              "<Figure size 432x288 with 1 Axes>"
            ],
            "image/png": "[encoded data removed]"
          },
          "metadata": {
            "needs_background": "light"
          }
        },
        {
          "output_type": "display_data",
          "data": {
            "text/plain": [
              "<Figure size 432x288 with 1 Axes>"
            ],
            "image/png": "[encoded data removed]"
          },
          "metadata": {
            "needs_background": "light"
          }
        }
      ],
      "source": [
        "fig = plt.figure()\n",
        "ax = fig.gca()\n",
        "sns.distplot(df['meter_reading'])\n",
        "plt.show()\n",
        "\n",
        "#Probability plot\n",
        "fig = plt.figure()\n",
        "res = stats.probplot(df['meter_reading'], plot=plt)"
      ]
    },
    {
      "cell_type": "code",
      "execution_count": null,
      "id": "cadfa25e",
      "metadata": {
        "id": "cadfa25e"
      },
      "outputs": [],
      "source": [
        "df_name = df.iloc[:,[0,2]].columns"
      ]
    },
    {
      "cell_type": "code",
      "execution_count": null,
      "id": "c08c6375",
      "metadata": {
        "colab": {
          "base_uri": "https://localhost:8080/"
        },
        "id": "c08c6375",
        "outputId": "0f5fe475-9c27-4855-e2b1-9b54f5191166"
      },
      "outputs": [
        {
          "output_type": "stream",
          "name": "stdout",
          "text": [
            "building_id      0\n",
            "meter_reading    0\n",
            "dtype: int64\n"
          ]
        }
      ],
      "source": [
        "# there is a problem with missing values so i will try to handel it.\n",
        "\n",
        "from sklearn.impute import SimpleImputer\n",
        "\n",
        "my_imputer = SimpleImputer()\n",
        "df_clean = my_imputer.fit_transform(df.iloc[:,[0,2]])\n",
        "\n",
        "df_clean = pd.DataFrame(df_clean,columns = df_name)\n",
        "\n",
        "missing_val_count_by_column = (df_clean.isnull().sum())\n",
        "print(missing_val_count_by_column)"
      ]
    },
    {
      "cell_type": "code",
      "execution_count": null,
      "id": "3d6892e6",
      "metadata": {
        "id": "3d6892e6"
      },
      "outputs": [],
      "source": [
        "df = pd.concat([df.iloc[:,[1,3]], df_clean], axis=1)"
      ]
    },
    {
      "cell_type": "code",
      "execution_count": null,
      "id": "00317ca1",
      "metadata": {
        "colab": {
          "base_uri": "https://localhost:8080/",
          "height": 424
        },
        "id": "00317ca1",
        "outputId": "03ce72b9-867c-48e4-b3d6-36fa9e377880"
      },
      "outputs": [
        {
          "output_type": "execute_result",
          "data": {
            "text/plain": [
              "                timestamp  anomaly  building_id  meter_reading\n",
              "0        01-01-2016 00:00        0          1.0     180.777984\n",
              "1        01-01-2016 00:00        0         32.0     180.777984\n",
              "2        01-01-2016 00:00        0         41.0     180.777984\n",
              "3        01-01-2016 00:00        0         55.0     180.777984\n",
              "4        01-01-2016 00:00        0         69.0     180.777984\n",
              "...                   ...      ...          ...            ...\n",
              "1048570  07-08-2016 09:00        0        657.0      15.300000\n",
              "1048571  07-08-2016 09:00        0        658.0      11.200000\n",
              "1048572  07-08-2016 09:00        0        666.0       2.900000\n",
              "1048573  07-08-2016 09:00        0        667.0       1.700000\n",
              "1048574  07-08-2016 09:00        0        673.0       5.100000\n",
              "\n",
              "[1048575 rows x 4 columns]"
            ],
            "text/html": [
              "\n",
              "  <div id=\"df-43d65f77-0373-4999-8aed-fcd0a00b0235\">\n",
              "    <div class=\"colab-df-container\">\n",
              "      <div>\n",
              "<style scoped>\n",
              "    .dataframe tbody tr th:only-of-type {\n",
              "        vertical-align: middle;\n",
              "    }\n",
              "\n",
              "    .dataframe tbody tr th {\n",
              "        vertical-align: top;\n",
              "    }\n",
              "\n",
              "    .dataframe thead th {\n",
              "        text-align: right;\n",
              "    }\n",
              "</style>\n",
              "<table border=\"1\" class=\"dataframe\">\n",
              "  <thead>\n",
              "    <tr style=\"text-align: right;\">\n",
              "      <th></th>\n",
              "      <th>timestamp</th>\n",
              "      <th>anomaly</th>\n",
              "      <th>building_id</th>\n",
              "      <th>meter_reading</th>\n",
              "    </tr>\n",
              "  </thead>\n",
              "  <tbody>\n",
              "    <tr>\n",
              "      <th>0</th>\n",
              "      <td>01-01-2016 00:00</td>\n",
              "      <td>0</td>\n",
              "      <td>1.0</td>\n",
              "      <td>180.777984</td>\n",
              "    </tr>\n",
              "    <tr>\n",
              "      <th>1</th>\n",
              "      <td>01-01-2016 00:00</td>\n",
              "      <td>0</td>\n",
              "      <td>32.0</td>\n",
              "      <td>180.777984</td>\n",
              "    </tr>\n",
              "    <tr>\n",
              "      <th>2</th>\n",
              "      <td>01-01-2016 00:00</td>\n",
              "      <td>0</td>\n",
              "      <td>41.0</td>\n",
              "      <td>180.777984</td>\n",
              "    </tr>\n",
              "    <tr>\n",
              "      <th>3</th>\n",
              "      <td>01-01-2016 00:00</td>\n",
              "      <td>0</td>\n",
              "      <td>55.0</td>\n",
              "      <td>180.777984</td>\n",
              "    </tr>\n",
              "    <tr>\n",
              "      <th>4</th>\n",
              "      <td>01-01-2016 00:00</td>\n",
              "      <td>0</td>\n",
              "      <td>69.0</td>\n",
              "      <td>180.777984</td>\n",
              "    </tr>\n",
              "    <tr>\n",
              "      <th>...</th>\n",
              "      <td>...</td>\n",
              "      <td>...</td>\n",
              "      <td>...</td>\n",
              "      <td>...</td>\n",
              "    </tr>\n",
              "    <tr>\n",
              "      <th>1048570</th>\n",
              "      <td>07-08-2016 09:00</td>\n",
              "      <td>0</td>\n",
              "      <td>657.0</td>\n",
              "      <td>15.300000</td>\n",
              "    </tr>\n",
              "    <tr>\n",
              "      <th>1048571</th>\n",
              "      <td>07-08-2016 09:00</td>\n",
              "      <td>0</td>\n",
              "      <td>658.0</td>\n",
              "      <td>11.200000</td>\n",
              "    </tr>\n",
              "    <tr>\n",
              "      <th>1048572</th>\n",
              "      <td>07-08-2016 09:00</td>\n",
              "      <td>0</td>\n",
              "      <td>666.0</td>\n",
              "      <td>2.900000</td>\n",
              "    </tr>\n",
              "    <tr>\n",
              "      <th>1048573</th>\n",
              "      <td>07-08-2016 09:00</td>\n",
              "      <td>0</td>\n",
              "      <td>667.0</td>\n",
              "      <td>1.700000</td>\n",
              "    </tr>\n",
              "    <tr>\n",
              "      <th>1048574</th>\n",
              "      <td>07-08-2016 09:00</td>\n",
              "      <td>0</td>\n",
              "      <td>673.0</td>\n",
              "      <td>5.100000</td>\n",
              "    </tr>\n",
              "  </tbody>\n",
              "</table>\n",
              "<p>1048575 rows × 4 columns</p>\n",
              "</div>\n",
              "      <button class=\"colab-df-convert\" onclick=\"convertToInteractive('df-43d65f77-0373-4999-8aed-fcd0a00b0235')\"\n",
              "              title=\"Convert this dataframe to an interactive table.\"\n",
              "              style=\"display:none;\">\n",
              "        \n",
              "  <svg xmlns=\"http://www.w3.org/2000/svg\" height=\"24px\"viewBox=\"0 0 24 24\"\n",
              "       width=\"24px\">\n",
              "    <path d=\"M0 0h24v24H0V0z\" fill=\"none\"/>\n",
              "    <path d=\"M18.56 5.44l.94 2.06.94-2.06 2.06-.94-2.06-.94-.94-2.06-.94 2.06-2.06.94zm-11 1L8.5 8.5l.94-2.06 2.06-.94-2.06-.94L8.5 2.5l-.94 2.06-2.06.94zm10 10l.94 2.06.94-2.06 2.06-.94-2.06-.94-.94-2.06-.94 2.06-2.06.94z\"/><path d=\"M17.41 7.96l-1.37-1.37c-.4-.4-.92-.59-1.43-.59-.52 0-1.04.2-1.43.59L10.3 9.45l-7.72 7.72c-.78.78-.78 2.05 0 2.83L4 21.41c.39.39.9.59 1.41.59.51 0 1.02-.2 1.41-.59l7.78-7.78 2.81-2.81c.8-.78.8-2.07 0-2.86zM5.41 20L4 18.59l7.72-7.72 1.47 1.35L5.41 20z\"/>\n",
              "  </svg>\n",
              "      </button>\n",
              "      \n",
              "  <style>\n",
              "    .colab-df-container {\n",
              "      display:flex;\n",
              "      flex-wrap:wrap;\n",
              "      gap: 12px;\n",
              "    }\n",
              "\n",
              "    .colab-df-convert {\n",
              "      background-color: #E8F0FE;\n",
              "      border: none;\n",
              "      border-radius: 50%;\n",
              "      cursor: pointer;\n",
              "      display: none;\n",
              "      fill: #1967D2;\n",
              "      height: 32px;\n",
              "      padding: 0 0 0 0;\n",
              "      width: 32px;\n",
              "    }\n",
              "\n",
              "    .colab-df-convert:hover {\n",
              "      background-color: #E2EBFA;\n",
              "      box-shadow: 0px 1px 2px rgba(60, 64, 67, 0.3), 0px 1px 3px 1px rgba(60, 64, 67, 0.15);\n",
              "      fill: #174EA6;\n",
              "    }\n",
              "\n",
              "    [theme=dark] .colab-df-convert {\n",
              "      background-color: #3B4455;\n",
              "      fill: #D2E3FC;\n",
              "    }\n",
              "\n",
              "    [theme=dark] .colab-df-convert:hover {\n",
              "      background-color: #434B5C;\n",
              "      box-shadow: 0px 1px 3px 1px rgba(0, 0, 0, 0.15);\n",
              "      filter: drop-shadow(0px 1px 2px rgba(0, 0, 0, 0.3));\n",
              "      fill: #FFFFFF;\n",
              "    }\n",
              "  </style>\n",
              "\n",
              "      <script>\n",
              "        const buttonEl =\n",
              "          document.querySelector('#df-43d65f77-0373-4999-8aed-fcd0a00b0235 button.colab-df-convert');\n",
              "        buttonEl.style.display =\n",
              "          google.colab.kernel.accessAllowed ? 'block' : 'none';\n",
              "\n",
              "        async function convertToInteractive(key) {\n",
              "          const element = document.querySelector('#df-43d65f77-0373-4999-8aed-fcd0a00b0235');\n",
              "          const dataTable =\n",
              "            await google.colab.kernel.invokeFunction('convertToInteractive',\n",
              "                                                     [key], {});\n",
              "          if (!dataTable) return;\n",
              "\n",
              "          const docLinkHtml = 'Like what you see? Visit the ' +\n",
              "            '<a target=\"_blank\" href=https://colab.research.google.com/notebooks/data_table.ipynb>data table notebook</a>'\n",
              "            + ' to learn more about interactive tables.';\n",
              "          element.innerHTML = '';\n",
              "          dataTable['output_type'] = 'display_data';\n",
              "          await google.colab.output.renderOutput(dataTable, element);\n",
              "          const docLink = document.createElement('div');\n",
              "          docLink.innerHTML = docLinkHtml;\n",
              "          element.appendChild(docLink);\n",
              "        }\n",
              "      </script>\n",
              "    </div>\n",
              "  </div>\n",
              "  "
            ]
          },
          "metadata": {},
          "execution_count": 25
        }
      ],
      "source": [
        "df"
      ]
    },
    {
      "cell_type": "code",
      "execution_count": null,
      "id": "56a79664",
      "metadata": {
        "id": "56a79664"
      },
      "outputs": [],
      "source": [
        "df = df[['timestamp',  'building_id', 'meter_reading','anomaly']]"
      ]
    },
    {
      "cell_type": "code",
      "execution_count": null,
      "id": "d83c4523",
      "metadata": {
        "id": "d83c4523"
      },
      "outputs": [],
      "source": [
        "df['building_id'] = df['building_id'].apply(np.int64)"
      ]
    },
    {
      "cell_type": "code",
      "execution_count": null,
      "id": "607740f7",
      "metadata": {
        "id": "607740f7"
      },
      "outputs": [],
      "source": [
        "df.set_index('timestamp',inplace=True)"
      ]
    },
    {
      "cell_type": "code",
      "execution_count": null,
      "id": "113eac60",
      "metadata": {
        "colab": {
          "base_uri": "https://localhost:8080/",
          "height": 455
        },
        "id": "113eac60",
        "outputId": "d9d7a692-5d17-4594-ec5e-272d1d20db13"
      },
      "outputs": [
        {
          "output_type": "execute_result",
          "data": {
            "text/plain": [
              "                  building_id  meter_reading  anomaly\n",
              "timestamp                                            \n",
              "01-01-2016 00:00          108     180.777984        0\n",
              "01-01-2016 01:00          108     182.531000        1\n",
              "01-01-2016 02:00          108       1.000000        1\n",
              "01-01-2016 03:00          108       1.000000        1\n",
              "01-01-2016 04:00          108       1.000000        1\n",
              "...                       ...            ...      ...\n",
              "07-08-2016 05:00          108     180.777984        0\n",
              "07-08-2016 06:00          108     180.777984        0\n",
              "07-08-2016 07:00          108     180.777984        0\n",
              "07-08-2016 08:00          108     180.777984        0\n",
              "07-08-2016 09:00          108     180.777984        0\n",
              "\n",
              "[5266 rows x 3 columns]"
            ],
            "text/html": [
              "\n",
              "  <div id=\"df-fbc38be3-9613-40ee-b577-67f6e3ab2777\">\n",
              "    <div class=\"colab-df-container\">\n",
              "      <div>\n",
              "<style scoped>\n",
              "    .dataframe tbody tr th:only-of-type {\n",
              "        vertical-align: middle;\n",
              "    }\n",
              "\n",
              "    .dataframe tbody tr th {\n",
              "        vertical-align: top;\n",
              "    }\n",
              "\n",
              "    .dataframe thead th {\n",
              "        text-align: right;\n",
              "    }\n",
              "</style>\n",
              "<table border=\"1\" class=\"dataframe\">\n",
              "  <thead>\n",
              "    <tr style=\"text-align: right;\">\n",
              "      <th></th>\n",
              "      <th>building_id</th>\n",
              "      <th>meter_reading</th>\n",
              "      <th>anomaly</th>\n",
              "    </tr>\n",
              "    <tr>\n",
              "      <th>timestamp</th>\n",
              "      <th></th>\n",
              "      <th></th>\n",
              "      <th></th>\n",
              "    </tr>\n",
              "  </thead>\n",
              "  <tbody>\n",
              "    <tr>\n",
              "      <th>01-01-2016 00:00</th>\n",
              "      <td>108</td>\n",
              "      <td>180.777984</td>\n",
              "      <td>0</td>\n",
              "    </tr>\n",
              "    <tr>\n",
              "      <th>01-01-2016 01:00</th>\n",
              "      <td>108</td>\n",
              "      <td>182.531000</td>\n",
              "      <td>1</td>\n",
              "    </tr>\n",
              "    <tr>\n",
              "      <th>01-01-2016 02:00</th>\n",
              "      <td>108</td>\n",
              "      <td>1.000000</td>\n",
              "      <td>1</td>\n",
              "    </tr>\n",
              "    <tr>\n",
              "      <th>01-01-2016 03:00</th>\n",
              "      <td>108</td>\n",
              "      <td>1.000000</td>\n",
              "      <td>1</td>\n",
              "    </tr>\n",
              "    <tr>\n",
              "      <th>01-01-2016 04:00</th>\n",
              "      <td>108</td>\n",
              "      <td>1.000000</td>\n",
              "      <td>1</td>\n",
              "    </tr>\n",
              "    <tr>\n",
              "      <th>...</th>\n",
              "      <td>...</td>\n",
              "      <td>...</td>\n",
              "      <td>...</td>\n",
              "    </tr>\n",
              "    <tr>\n",
              "      <th>07-08-2016 05:00</th>\n",
              "      <td>108</td>\n",
              "      <td>180.777984</td>\n",
              "      <td>0</td>\n",
              "    </tr>\n",
              "    <tr>\n",
              "      <th>07-08-2016 06:00</th>\n",
              "      <td>108</td>\n",
              "      <td>180.777984</td>\n",
              "      <td>0</td>\n",
              "    </tr>\n",
              "    <tr>\n",
              "      <th>07-08-2016 07:00</th>\n",
              "      <td>108</td>\n",
              "      <td>180.777984</td>\n",
              "      <td>0</td>\n",
              "    </tr>\n",
              "    <tr>\n",
              "      <th>07-08-2016 08:00</th>\n",
              "      <td>108</td>\n",
              "      <td>180.777984</td>\n",
              "      <td>0</td>\n",
              "    </tr>\n",
              "    <tr>\n",
              "      <th>07-08-2016 09:00</th>\n",
              "      <td>108</td>\n",
              "      <td>180.777984</td>\n",
              "      <td>0</td>\n",
              "    </tr>\n",
              "  </tbody>\n",
              "</table>\n",
              "<p>5266 rows × 3 columns</p>\n",
              "</div>\n",
              "      <button class=\"colab-df-convert\" onclick=\"convertToInteractive('df-fbc38be3-9613-40ee-b577-67f6e3ab2777')\"\n",
              "              title=\"Convert this dataframe to an interactive table.\"\n",
              "              style=\"display:none;\">\n",
              "        \n",
              "  <svg xmlns=\"http://www.w3.org/2000/svg\" height=\"24px\"viewBox=\"0 0 24 24\"\n",
              "       width=\"24px\">\n",
              "    <path d=\"M0 0h24v24H0V0z\" fill=\"none\"/>\n",
              "    <path d=\"M18.56 5.44l.94 2.06.94-2.06 2.06-.94-2.06-.94-.94-2.06-.94 2.06-2.06.94zm-11 1L8.5 8.5l.94-2.06 2.06-.94-2.06-.94L8.5 2.5l-.94 2.06-2.06.94zm10 10l.94 2.06.94-2.06 2.06-.94-2.06-.94-.94-2.06-.94 2.06-2.06.94z\"/><path d=\"M17.41 7.96l-1.37-1.37c-.4-.4-.92-.59-1.43-.59-.52 0-1.04.2-1.43.59L10.3 9.45l-7.72 7.72c-.78.78-.78 2.05 0 2.83L4 21.41c.39.39.9.59 1.41.59.51 0 1.02-.2 1.41-.59l7.78-7.78 2.81-2.81c.8-.78.8-2.07 0-2.86zM5.41 20L4 18.59l7.72-7.72 1.47 1.35L5.41 20z\"/>\n",
              "  </svg>\n",
              "      </button>\n",
              "      \n",
              "  <style>\n",
              "    .colab-df-container {\n",
              "      display:flex;\n",
              "      flex-wrap:wrap;\n",
              "      gap: 12px;\n",
              "    }\n",
              "\n",
              "    .colab-df-convert {\n",
              "      background-color: #E8F0FE;\n",
              "      border: none;\n",
              "      border-radius: 50%;\n",
              "      cursor: pointer;\n",
              "      display: none;\n",
              "      fill: #1967D2;\n",
              "      height: 32px;\n",
              "      padding: 0 0 0 0;\n",
              "      width: 32px;\n",
              "    }\n",
              "\n",
              "    .colab-df-convert:hover {\n",
              "      background-color: #E2EBFA;\n",
              "      box-shadow: 0px 1px 2px rgba(60, 64, 67, 0.3), 0px 1px 3px 1px rgba(60, 64, 67, 0.15);\n",
              "      fill: #174EA6;\n",
              "    }\n",
              "\n",
              "    [theme=dark] .colab-df-convert {\n",
              "      background-color: #3B4455;\n",
              "      fill: #D2E3FC;\n",
              "    }\n",
              "\n",
              "    [theme=dark] .colab-df-convert:hover {\n",
              "      background-color: #434B5C;\n",
              "      box-shadow: 0px 1px 3px 1px rgba(0, 0, 0, 0.15);\n",
              "      filter: drop-shadow(0px 1px 2px rgba(0, 0, 0, 0.3));\n",
              "      fill: #FFFFFF;\n",
              "    }\n",
              "  </style>\n",
              "\n",
              "      <script>\n",
              "        const buttonEl =\n",
              "          document.querySelector('#df-fbc38be3-9613-40ee-b577-67f6e3ab2777 button.colab-df-convert');\n",
              "        buttonEl.style.display =\n",
              "          google.colab.kernel.accessAllowed ? 'block' : 'none';\n",
              "\n",
              "        async function convertToInteractive(key) {\n",
              "          const element = document.querySelector('#df-fbc38be3-9613-40ee-b577-67f6e3ab2777');\n",
              "          const dataTable =\n",
              "            await google.colab.kernel.invokeFunction('convertToInteractive',\n",
              "                                                     [key], {});\n",
              "          if (!dataTable) return;\n",
              "\n",
              "          const docLinkHtml = 'Like what you see? Visit the ' +\n",
              "            '<a target=\"_blank\" href=https://colab.research.google.com/notebooks/data_table.ipynb>data table notebook</a>'\n",
              "            + ' to learn more about interactive tables.';\n",
              "          element.innerHTML = '';\n",
              "          dataTable['output_type'] = 'display_data';\n",
              "          await google.colab.output.renderOutput(dataTable, element);\n",
              "          const docLink = document.createElement('div');\n",
              "          docLink.innerHTML = docLinkHtml;\n",
              "          element.appendChild(docLink);\n",
              "        }\n",
              "      </script>\n",
              "    </div>\n",
              "  </div>\n",
              "  "
            ]
          },
          "metadata": {},
          "execution_count": 29
        }
      ],
      "source": [
        "df.groupby(\"building_id\").get_group(108)"
      ]
    },
    {
      "cell_type": "code",
      "execution_count": null,
      "id": "ed862bbb",
      "metadata": {
        "colab": {
          "base_uri": "https://localhost:8080/",
          "height": 508
        },
        "id": "ed862bbb",
        "outputId": "91b5b22f-525e-443a-caef-c9d85dea22e2"
      },
      "outputs": [
        {
          "output_type": "display_data",
          "data": {
            "text/plain": [
              "<Figure size 2160x720 with 1 Axes>"
            ],
            "image/png": "[encoded data removed]"
          },
          "metadata": {
            "needs_background": "light"
          }
        }
      ],
      "source": [
        "fig, ax = plt.subplots(figsize=(30,10))\n",
        "ax.plot(df.groupby(\"building_id\").get_group(108)['meter_reading'].index, \n",
        "        df.groupby(\"building_id\").get_group(108)['meter_reading'], color='blue', label = 'Normal')\n",
        "ax.set_title('Random building_id(108) ', fontsize=20)\n",
        "plt.legend()\n",
        "plt.show();"
      ]
    },
    {
      "cell_type": "code",
      "execution_count": null,
      "id": "9b1ab3ec",
      "metadata": {
        "id": "9b1ab3ec"
      },
      "outputs": [],
      "source": [
        "def tukeys_method(df, variable):\n",
        "    #Takes two parameters: dataframe & variable of interest as string\n",
        "    q1 = df[variable].quantile(0.25)\n",
        "    q3 = df[variable].quantile(0.75)\n",
        "    iqr = q3-q1\n",
        "    inner_fence = 1.5*iqr\n",
        "    outer_fence = 3*iqr\n",
        "    \n",
        "    #inner fence lower and upper end\n",
        "    inner_fence_le = q1-inner_fence\n",
        "    inner_fence_ue = q3+inner_fence\n",
        "    \n",
        "    #outer fence lower and upper end\n",
        "    outer_fence_le = q1-outer_fence\n",
        "    outer_fence_ue = q3+outer_fence\n",
        "    \n",
        "    outliers_prob = []\n",
        "    outliers_poss = []\n",
        "    for index, x in enumerate(df[variable]):\n",
        "        if x <= outer_fence_le or x >= outer_fence_ue:\n",
        "            outliers_prob.append(index)\n",
        "    for index, x in enumerate(df[variable]):\n",
        "        if x <= inner_fence_le or x >= inner_fence_ue:\n",
        "            outliers_poss.append(index)\n",
        "    return outliers_prob, outliers_poss"
      ]
    },
    {
      "cell_type": "code",
      "execution_count": null,
      "id": "8aa7aeed",
      "metadata": {
        "colab": {
          "base_uri": "https://localhost:8080/"
        },
        "id": "8aa7aeed",
        "outputId": "70e5e8bb-843c-4605-a5d8-4e63a016cfb4"
      },
      "outputs": [
        {
          "output_type": "stream",
          "name": "stdout",
          "text": [
            "[3880, 4504, 4791, 4792]\n",
            "*****************************************************************************************\n",
            "[2, 3, 4, 5, 6, 7, 8, 9, 10, 11, 12, 13, 14, 15, 16, 17, 18, 19, 20, 21, 22, 23, 494, 516, 588, 661, 972, 973, 975, 997, 1116, 1117, 1166, 1284, 1285, 1298, 1299, 1300, 1301, 1302, 1303, 1304, 1305, 1306, 1307, 1308, 1309, 1310, 1311, 1312, 1313, 1314, 1315, 1316, 1317, 1318, 1319, 1333, 1335, 1355, 1427, 1428, 1431, 1453, 1500, 1597, 1600, 2679, 2797, 2844, 2845, 2846, 2847, 2848, 2858, 2859, 2860, 2861, 2862, 2863, 2864, 2865, 2866, 2867, 2868, 2869, 2870, 2871, 2872, 2873, 2874, 2875, 2876, 2877, 2878, 2879, 2963, 2964, 2965, 2966, 2967, 2968, 2969, 2986, 2987, 2988, 2989, 2990, 2991, 2992, 2993, 2994, 3010, 3011, 3012, 3013, 3014, 3015, 3016, 3017, 3018, 3035, 3036, 3037, 3038, 3039, 3040, 3041, 3042, 3043, 3065, 3066, 3106, 3107, 3108, 3183, 3184, 3185, 3205, 3208, 3277, 3278, 3279, 3280, 3281, 3300, 3301, 3302, 3303, 3304, 3305, 3376, 3377, 3378, 3443, 3444, 3445, 3446, 3447, 3448, 3449, 3450, 3467, 3468, 3469, 3470, 3471, 3472, 3473, 3514, 3515, 3516, 3517, 3518, 3519, 3520, 3521, 3522, 3541, 3542, 3543, 3544, 3545, 3546, 3779, 3780, 3781, 3782, 3783, 3784, 3785, 3786, 3787, 3788, 3804, 3805, 3806, 3807, 3808, 3831, 3853, 3855, 3856, 3857, 3858, 3859, 3860, 3874, 3875, 3876, 3877, 3878, 3879, 3880, 3881, 3882, 3883, 3884, 3996, 3997, 3998, 3999, 4000, 4188, 4189, 4191, 4192, 4287, 4288, 4289, 4290, 4291, 4307, 4308, 4309, 4310, 4311, 4312, 4313, 4452, 4477, 4478, 4479, 4480, 4481, 4482, 4498, 4499, 4500, 4501, 4502, 4503, 4504, 4505, 4506, 4507, 4508, 4509, 4510, 4523, 4524, 4525, 4526, 4527, 4528, 4529, 4668, 4669, 4670, 4671, 4672, 4692, 4693, 4694, 4695, 4696, 4697, 4698, 4715, 4716, 4717, 4718, 4789, 4790, 4791, 4792, 4793, 4794, 4795, 4796, 4797, 4798, 4811, 4812, 4813, 4814, 4815, 4834, 4837, 4838, 4839, 4840, 4841, 4863, 4864, 4908]\n"
          ]
        }
      ],
      "source": [
        "random_building_id = df.groupby(\"building_id\").get_group(108)\n",
        "\n",
        "probable_outliers_tm, possible_outliers_tm = tukeys_method(random_building_id, \"meter_reading\")\n",
        "\n",
        "print(probable_outliers_tm)\n",
        "print(\"*****************************************************************************************\")\n",
        "print(possible_outliers_tm)"
      ]
    },
    {
      "cell_type": "code",
      "execution_count": null,
      "id": "216e69b9",
      "metadata": {
        "colab": {
          "base_uri": "https://localhost:8080/"
        },
        "id": "216e69b9",
        "outputId": "a806f2ba-cd3b-48a5-8e7b-c3b1fdb4aa6e"
      },
      "outputs": [
        {
          "output_type": "execute_result",
          "data": {
            "text/plain": [
              "4"
            ]
          },
          "metadata": {},
          "execution_count": 33
        }
      ],
      "source": [
        "len(probable_outliers_tm)"
      ]
    },
    {
      "cell_type": "code",
      "execution_count": null,
      "id": "598d1e4d",
      "metadata": {
        "colab": {
          "base_uri": "https://localhost:8080/"
        },
        "id": "598d1e4d",
        "outputId": "f09f8655-b426-4fb0-d212-63a1f1f153ec"
      },
      "outputs": [
        {
          "output_type": "execute_result",
          "data": {
            "text/plain": [
              "306"
            ]
          },
          "metadata": {},
          "execution_count": 34
        }
      ],
      "source": [
        "len(possible_outliers_tm)"
      ]
    },
    {
      "cell_type": "code",
      "execution_count": null,
      "id": "f7614275",
      "metadata": {
        "id": "f7614275"
      },
      "outputs": [],
      "source": [
        "anomaly = pd.DataFrame(possible_outliers_tm)\n",
        "anomaly['Anomaly'] = 1\n",
        "anomaly.set_index(0, inplace=True)"
      ]
    },
    {
      "cell_type": "code",
      "execution_count": null,
      "id": "c5b24152",
      "metadata": {
        "id": "c5b24152"
      },
      "outputs": [],
      "source": [
        "random_building_id = pd.concat([random_building_id.reset_index(), anomaly], axis=1)"
      ]
    },
    {
      "cell_type": "code",
      "execution_count": null,
      "id": "7566ce19",
      "metadata": {
        "colab": {
          "base_uri": "https://localhost:8080/",
          "height": 424
        },
        "id": "7566ce19",
        "outputId": "e0a4f699-af0a-4b76-ef46-38524d135de9"
      },
      "outputs": [
        {
          "output_type": "execute_result",
          "data": {
            "text/plain": [
              "             timestamp  building_id  meter_reading  anomaly  Anomaly\n",
              "0     01-01-2016 00:00          108     180.777984        0      NaN\n",
              "1     01-01-2016 01:00          108     182.531000        1      NaN\n",
              "2     01-01-2016 02:00          108       1.000000        1      1.0\n",
              "3     01-01-2016 03:00          108       1.000000        1      1.0\n",
              "4     01-01-2016 04:00          108       1.000000        1      1.0\n",
              "...                ...          ...            ...      ...      ...\n",
              "5261  07-08-2016 05:00          108     180.777984        0      NaN\n",
              "5262  07-08-2016 06:00          108     180.777984        0      NaN\n",
              "5263  07-08-2016 07:00          108     180.777984        0      NaN\n",
              "5264  07-08-2016 08:00          108     180.777984        0      NaN\n",
              "5265  07-08-2016 09:00          108     180.777984        0      NaN\n",
              "\n",
              "[5266 rows x 5 columns]"
            ],
            "text/html": [
              "\n",
              "  <div id=\"df-5e30d2d6-ce94-4cab-933c-4e573cba0efd\">\n",
              "    <div class=\"colab-df-container\">\n",
              "      <div>\n",
              "<style scoped>\n",
              "    .dataframe tbody tr th:only-of-type {\n",
              "        vertical-align: middle;\n",
              "    }\n",
              "\n",
              "    .dataframe tbody tr th {\n",
              "        vertical-align: top;\n",
              "    }\n",
              "\n",
              "    .dataframe thead th {\n",
              "        text-align: right;\n",
              "    }\n",
              "</style>\n",
              "<table border=\"1\" class=\"dataframe\">\n",
              "  <thead>\n",
              "    <tr style=\"text-align: right;\">\n",
              "      <th></th>\n",
              "      <th>timestamp</th>\n",
              "      <th>building_id</th>\n",
              "      <th>meter_reading</th>\n",
              "      <th>anomaly</th>\n",
              "      <th>Anomaly</th>\n",
              "    </tr>\n",
              "  </thead>\n",
              "  <tbody>\n",
              "    <tr>\n",
              "      <th>0</th>\n",
              "      <td>01-01-2016 00:00</td>\n",
              "      <td>108</td>\n",
              "      <td>180.777984</td>\n",
              "      <td>0</td>\n",
              "      <td>NaN</td>\n",
              "    </tr>\n",
              "    <tr>\n",
              "      <th>1</th>\n",
              "      <td>01-01-2016 01:00</td>\n",
              "      <td>108</td>\n",
              "      <td>182.531000</td>\n",
              "      <td>1</td>\n",
              "      <td>NaN</td>\n",
              "    </tr>\n",
              "    <tr>\n",
              "      <th>2</th>\n",
              "      <td>01-01-2016 02:00</td>\n",
              "      <td>108</td>\n",
              "      <td>1.000000</td>\n",
              "      <td>1</td>\n",
              "      <td>1.0</td>\n",
              "    </tr>\n",
              "    <tr>\n",
              "      <th>3</th>\n",
              "      <td>01-01-2016 03:00</td>\n",
              "      <td>108</td>\n",
              "      <td>1.000000</td>\n",
              "      <td>1</td>\n",
              "      <td>1.0</td>\n",
              "    </tr>\n",
              "    <tr>\n",
              "      <th>4</th>\n",
              "      <td>01-01-2016 04:00</td>\n",
              "      <td>108</td>\n",
              "      <td>1.000000</td>\n",
              "      <td>1</td>\n",
              "      <td>1.0</td>\n",
              "    </tr>\n",
              "    <tr>\n",
              "      <th>...</th>\n",
              "      <td>...</td>\n",
              "      <td>...</td>\n",
              "      <td>...</td>\n",
              "      <td>...</td>\n",
              "      <td>...</td>\n",
              "    </tr>\n",
              "    <tr>\n",
              "      <th>5261</th>\n",
              "      <td>07-08-2016 05:00</td>\n",
              "      <td>108</td>\n",
              "      <td>180.777984</td>\n",
              "      <td>0</td>\n",
              "      <td>NaN</td>\n",
              "    </tr>\n",
              "    <tr>\n",
              "      <th>5262</th>\n",
              "      <td>07-08-2016 06:00</td>\n",
              "      <td>108</td>\n",
              "      <td>180.777984</td>\n",
              "      <td>0</td>\n",
              "      <td>NaN</td>\n",
              "    </tr>\n",
              "    <tr>\n",
              "      <th>5263</th>\n",
              "      <td>07-08-2016 07:00</td>\n",
              "      <td>108</td>\n",
              "      <td>180.777984</td>\n",
              "      <td>0</td>\n",
              "      <td>NaN</td>\n",
              "    </tr>\n",
              "    <tr>\n",
              "      <th>5264</th>\n",
              "      <td>07-08-2016 08:00</td>\n",
              "      <td>108</td>\n",
              "      <td>180.777984</td>\n",
              "      <td>0</td>\n",
              "      <td>NaN</td>\n",
              "    </tr>\n",
              "    <tr>\n",
              "      <th>5265</th>\n",
              "      <td>07-08-2016 09:00</td>\n",
              "      <td>108</td>\n",
              "      <td>180.777984</td>\n",
              "      <td>0</td>\n",
              "      <td>NaN</td>\n",
              "    </tr>\n",
              "  </tbody>\n",
              "</table>\n",
              "<p>5266 rows × 5 columns</p>\n",
              "</div>\n",
              "      <button class=\"colab-df-convert\" onclick=\"convertToInteractive('df-5e30d2d6-ce94-4cab-933c-4e573cba0efd')\"\n",
              "              title=\"Convert this dataframe to an interactive table.\"\n",
              "              style=\"display:none;\">\n",
              "        \n",
              "  <svg xmlns=\"http://www.w3.org/2000/svg\" height=\"24px\"viewBox=\"0 0 24 24\"\n",
              "       width=\"24px\">\n",
              "    <path d=\"M0 0h24v24H0V0z\" fill=\"none\"/>\n",
              "    <path d=\"M18.56 5.44l.94 2.06.94-2.06 2.06-.94-2.06-.94-.94-2.06-.94 2.06-2.06.94zm-11 1L8.5 8.5l.94-2.06 2.06-.94-2.06-.94L8.5 2.5l-.94 2.06-2.06.94zm10 10l.94 2.06.94-2.06 2.06-.94-2.06-.94-.94-2.06-.94 2.06-2.06.94z\"/><path d=\"M17.41 7.96l-1.37-1.37c-.4-.4-.92-.59-1.43-.59-.52 0-1.04.2-1.43.59L10.3 9.45l-7.72 7.72c-.78.78-.78 2.05 0 2.83L4 21.41c.39.39.9.59 1.41.59.51 0 1.02-.2 1.41-.59l7.78-7.78 2.81-2.81c.8-.78.8-2.07 0-2.86zM5.41 20L4 18.59l7.72-7.72 1.47 1.35L5.41 20z\"/>\n",
              "  </svg>\n",
              "      </button>\n",
              "      \n",
              "  <style>\n",
              "    .colab-df-container {\n",
              "      display:flex;\n",
              "      flex-wrap:wrap;\n",
              "      gap: 12px;\n",
              "    }\n",
              "\n",
              "    .colab-df-convert {\n",
              "      background-color: #E8F0FE;\n",
              "      border: none;\n",
              "      border-radius: 50%;\n",
              "      cursor: pointer;\n",
              "      display: none;\n",
              "      fill: #1967D2;\n",
              "      height: 32px;\n",
              "      padding: 0 0 0 0;\n",
              "      width: 32px;\n",
              "    }\n",
              "\n",
              "    .colab-df-convert:hover {\n",
              "      background-color: #E2EBFA;\n",
              "      box-shadow: 0px 1px 2px rgba(60, 64, 67, 0.3), 0px 1px 3px 1px rgba(60, 64, 67, 0.15);\n",
              "      fill: #174EA6;\n",
              "    }\n",
              "\n",
              "    [theme=dark] .colab-df-convert {\n",
              "      background-color: #3B4455;\n",
              "      fill: #D2E3FC;\n",
              "    }\n",
              "\n",
              "    [theme=dark] .colab-df-convert:hover {\n",
              "      background-color: #434B5C;\n",
              "      box-shadow: 0px 1px 3px 1px rgba(0, 0, 0, 0.15);\n",
              "      filter: drop-shadow(0px 1px 2px rgba(0, 0, 0, 0.3));\n",
              "      fill: #FFFFFF;\n",
              "    }\n",
              "  </style>\n",
              "\n",
              "      <script>\n",
              "        const buttonEl =\n",
              "          document.querySelector('#df-5e30d2d6-ce94-4cab-933c-4e573cba0efd button.colab-df-convert');\n",
              "        buttonEl.style.display =\n",
              "          google.colab.kernel.accessAllowed ? 'block' : 'none';\n",
              "\n",
              "        async function convertToInteractive(key) {\n",
              "          const element = document.querySelector('#df-5e30d2d6-ce94-4cab-933c-4e573cba0efd');\n",
              "          const dataTable =\n",
              "            await google.colab.kernel.invokeFunction('convertToInteractive',\n",
              "                                                     [key], {});\n",
              "          if (!dataTable) return;\n",
              "\n",
              "          const docLinkHtml = 'Like what you see? Visit the ' +\n",
              "            '<a target=\"_blank\" href=https://colab.research.google.com/notebooks/data_table.ipynb>data table notebook</a>'\n",
              "            + ' to learn more about interactive tables.';\n",
              "          element.innerHTML = '';\n",
              "          dataTable['output_type'] = 'display_data';\n",
              "          await google.colab.output.renderOutput(dataTable, element);\n",
              "          const docLink = document.createElement('div');\n",
              "          docLink.innerHTML = docLinkHtml;\n",
              "          element.appendChild(docLink);\n",
              "        }\n",
              "      </script>\n",
              "    </div>\n",
              "  </div>\n",
              "  "
            ]
          },
          "metadata": {},
          "execution_count": 37
        }
      ],
      "source": [
        "random_building_id"
      ]
    },
    {
      "cell_type": "code",
      "execution_count": null,
      "id": "e812b72c",
      "metadata": {
        "id": "e812b72c"
      },
      "outputs": [],
      "source": [
        "random_building_id['Anomaly'] = random_building_id['Anomaly'].replace(np.nan, False)\n",
        "random_building_id['Anomaly'] = random_building_id['Anomaly'].replace(1.0, True)"
      ]
    },
    {
      "cell_type": "code",
      "execution_count": null,
      "id": "674e1b25",
      "metadata": {
        "colab": {
          "base_uri": "https://localhost:8080/"
        },
        "id": "674e1b25",
        "outputId": "944ffe9f-e68d-41e9-a934-9ed69b153b4c"
      },
      "outputs": [
        {
          "output_type": "execute_result",
          "data": {
            "text/plain": [
              "False    4960\n",
              "True      306\n",
              "Name: Anomaly, dtype: int64"
            ]
          },
          "metadata": {},
          "execution_count": 39
        }
      ],
      "source": [
        "random_building_id['Anomaly'].value_counts()"
      ]
    },
    {
      "cell_type": "code",
      "execution_count": null,
      "id": "be73a5c8",
      "metadata": {
        "colab": {
          "base_uri": "https://localhost:8080/",
          "height": 508
        },
        "id": "be73a5c8",
        "outputId": "5c2d3b5a-10b1-4bd1-df66-d7ca1678f992"
      },
      "outputs": [
        {
          "output_type": "display_data",
          "data": {
            "text/plain": [
              "<Figure size 2160x720 with 1 Axes>"
            ],
            "image/png": "[encoded data removed]"
          },
          "metadata": {
            "needs_background": "light"
          }
        }
      ],
      "source": [
        "fig, ax = plt.subplots(figsize=(30,10))\n",
        "\n",
        "anomaly = random_building_id.loc[random_building_id['Anomaly'] == True, ['meter_reading']] \n",
        "\n",
        "ax.plot(random_building_id.index, random_building_id['meter_reading'], color='blue', label = 'Normal')\n",
        "ax.scatter(anomaly.index,anomaly['meter_reading'], color='red', label = 'Anomaly')\n",
        "ax.set_title('Random Building Id(108) anomalies points for box blot method', fontsize=20)\n",
        "plt.legend()\n",
        "plt.show();"
      ]
    },
    {
      "cell_type": "code",
      "execution_count": null,
      "id": "cec0c281",
      "metadata": {
        "colab": {
          "base_uri": "https://localhost:8080/"
        },
        "id": "cec0c281",
        "outputId": "d8e2f663-4cff-4ec1-fbcc-8ec7bcc9f269"
      },
      "outputs": [
        {
          "output_type": "stream",
          "name": "stdout",
          "text": [
            "my first model predication for only one building has accurcy  94.51 %\n"
          ]
        }
      ],
      "source": [
        "print(\"my first model predication for only one building has accurcy \",round((random_building_id[random_building_id['anomaly'] == random_building_id['Anomaly']].shape[0]/random_building_id.shape[0])*100,2),\"%\")"
      ]
    },
    {
      "cell_type": "code",
      "execution_count": null,
      "id": "6b0e8ef8",
      "metadata": {
        "id": "6b0e8ef8"
      },
      "outputs": [],
      "source": [
        "All_buildings = df.groupby(\"building_id\")\n",
        "buildings = list(All_buildings.groups.keys())"
      ]
    },
    {
      "cell_type": "code",
      "execution_count": null,
      "id": "44342e9f",
      "metadata": {
        "id": "44342e9f"
      },
      "outputs": [],
      "source": [
        "data=[]\n",
        "for building in buildings:\n",
        "    All_buildings = df.groupby(\"building_id\").get_group(building)\n",
        "    data.append(All_buildings)"
      ]
    },
    {
      "cell_type": "code",
      "execution_count": null,
      "id": "73a22f15",
      "metadata": {
        "colab": {
          "base_uri": "https://localhost:8080/"
        },
        "id": "73a22f15",
        "outputId": "96d833b0-ed60-4078-972b-ec4c26efdd36"
      },
      "outputs": [
        {
          "output_type": "execute_result",
          "data": {
            "text/plain": [
              "200"
            ]
          },
          "metadata": {},
          "execution_count": 44
        }
      ],
      "source": [
        "x=len(buildings)\n",
        "x"
      ]
    },
    {
      "cell_type": "code",
      "execution_count": null,
      "id": "4d50799f",
      "metadata": {
        "colab": {
          "base_uri": "https://localhost:8080/"
        },
        "id": "4d50799f",
        "outputId": "4ab73e60-1630-4c91-b082-f64d9004ba38"
      },
      "outputs": [
        {
          "output_type": "execute_result",
          "data": {
            "text/plain": [
              "[1,\n",
              " 32,\n",
              " 41,\n",
              " 55,\n",
              " 69,\n",
              " 79,\n",
              " 82,\n",
              " 91,\n",
              " 107,\n",
              " 108,\n",
              " 111,\n",
              " 112,\n",
              " 117,\n",
              " 118,\n",
              " 119,\n",
              " 121,\n",
              " 136,\n",
              " 137,\n",
              " 139,\n",
              " 141,\n",
              " 144,\n",
              " 147,\n",
              " 148,\n",
              " 149,\n",
              " 159,\n",
              " 171,\n",
              " 173,\n",
              " 174,\n",
              " 181,\n",
              " 183,\n",
              " 190,\n",
              " 235,\n",
              " 238,\n",
              " 240,\n",
              " 246,\n",
              " 247,\n",
              " 248,\n",
              " 253,\n",
              " 254,\n",
              " 263,\n",
              " 270,\n",
              " 275,\n",
              " 276,\n",
              " 278,\n",
              " 290,\n",
              " 293,\n",
              " 312,\n",
              " 318,\n",
              " 335,\n",
              " 345,\n",
              " 356,\n",
              " 423,\n",
              " 439,\n",
              " 492,\n",
              " 534,\n",
              " 560,\n",
              " 623,\n",
              " 653,\n",
              " 657,\n",
              " 658,\n",
              " 666,\n",
              " 667,\n",
              " 673,\n",
              " 675,\n",
              " 677,\n",
              " 680,\n",
              " 683,\n",
              " 685,\n",
              " 687,\n",
              " 693,\n",
              " 697,\n",
              " 698,\n",
              " 701,\n",
              " 708,\n",
              " 710,\n",
              " 721,\n",
              " 722,\n",
              " 729,\n",
              " 730,\n",
              " 732,\n",
              " 739,\n",
              " 742,\n",
              " 801,\n",
              " 827,\n",
              " 844,\n",
              " 848,\n",
              " 879,\n",
              " 880,\n",
              " 881,\n",
              " 882,\n",
              " 884,\n",
              " 886,\n",
              " 887,\n",
              " 889,\n",
              " 890,\n",
              " 892,\n",
              " 893,\n",
              " 894,\n",
              " 895,\n",
              " 896,\n",
              " 903,\n",
              " 905,\n",
              " 909,\n",
              " 914,\n",
              " 919,\n",
              " 922,\n",
              " 924,\n",
              " 925,\n",
              " 926,\n",
              " 928,\n",
              " 929,\n",
              " 931,\n",
              " 935,\n",
              " 936,\n",
              " 941,\n",
              " 942,\n",
              " 945,\n",
              " 948,\n",
              " 950,\n",
              " 952,\n",
              " 961,\n",
              " 966,\n",
              " 967,\n",
              " 968,\n",
              " 969,\n",
              " 970,\n",
              " 971,\n",
              " 973,\n",
              " 974,\n",
              " 975,\n",
              " 977,\n",
              " 978,\n",
              " 981,\n",
              " 988,\n",
              " 990,\n",
              " 992,\n",
              " 994,\n",
              " 996,\n",
              " 1001,\n",
              " 1007,\n",
              " 1068,\n",
              " 1073,\n",
              " 1074,\n",
              " 1106,\n",
              " 1120,\n",
              " 1128,\n",
              " 1137,\n",
              " 1141,\n",
              " 1143,\n",
              " 1147,\n",
              " 1172,\n",
              " 1219,\n",
              " 1225,\n",
              " 1226,\n",
              " 1230,\n",
              " 1232,\n",
              " 1234,\n",
              " 1238,\n",
              " 1239,\n",
              " 1241,\n",
              " 1242,\n",
              " 1245,\n",
              " 1246,\n",
              " 1247,\n",
              " 1249,\n",
              " 1251,\n",
              " 1252,\n",
              " 1253,\n",
              " 1255,\n",
              " 1257,\n",
              " 1258,\n",
              " 1259,\n",
              " 1260,\n",
              " 1261,\n",
              " 1264,\n",
              " 1266,\n",
              " 1267,\n",
              " 1272,\n",
              " 1275,\n",
              " 1278,\n",
              " 1279,\n",
              " 1283,\n",
              " 1284,\n",
              " 1285,\n",
              " 1296,\n",
              " 1297,\n",
              " 1300,\n",
              " 1302,\n",
              " 1303,\n",
              " 1304,\n",
              " 1306,\n",
              " 1309,\n",
              " 1310,\n",
              " 1311,\n",
              " 1315,\n",
              " 1316,\n",
              " 1318,\n",
              " 1319,\n",
              " 1323,\n",
              " 1353]"
            ]
          },
          "metadata": {},
          "execution_count": 45
        }
      ],
      "source": [
        "buildings"
      ]
    },
    {
      "cell_type": "code",
      "execution_count": null,
      "id": "2e7548c1",
      "metadata": {
        "colab": {
          "base_uri": "https://localhost:8080/"
        },
        "id": "2e7548c1",
        "outputId": "b65849f6-de9e-4d20-db7d-ec096256d336"
      },
      "outputs": [
        {
          "output_type": "stream",
          "name": "stdout",
          "text": [
            "================ NO Anomaly in building number 1 ================\n",
            "=================================================================\n",
            "================ NO Anomaly in building number 2 ================\n",
            "=================================================================\n",
            "================ NO Anomaly in building number 3 ================\n",
            "=================================================================\n",
            "================ NO Anomaly in building number 4 ================\n",
            "=================================================================\n",
            "================ NO Anomaly in building number 5 ================\n",
            "=================================================================\n",
            "==================== building number 6 done ====================\n",
            "-------------- have number of anomalies points  1 --------------\n",
            "=================================================================\n",
            "================ NO Anomaly in building number 7 ================\n",
            "=================================================================\n",
            "==================== building number 8 done ====================\n",
            "-------------- have number of anomalies points  1.0 --------------\n",
            "=================================================================\n",
            "================ NO Anomaly in building number 9 ================\n",
            "=================================================================\n",
            "==================== building number 10 done ====================\n",
            "-------------- have number of anomalies points  1.0 --------------\n",
            "=================================================================\n",
            "================ NO Anomaly in building number 11 ================\n",
            "=================================================================\n",
            "================ NO Anomaly in building number 12 ================\n",
            "=================================================================\n",
            "================ NO Anomaly in building number 13 ================\n",
            "=================================================================\n",
            "================ NO Anomaly in building number 14 ================\n",
            "=================================================================\n",
            "================ NO Anomaly in building number 15 ================\n",
            "=================================================================\n",
            "==================== building number 16 done ====================\n",
            "-------------- have number of anomalies points  1.0 --------------\n",
            "=================================================================\n",
            "================ NO Anomaly in building number 17 ================\n",
            "=================================================================\n",
            "================ NO Anomaly in building number 18 ================\n",
            "=================================================================\n",
            "================ NO Anomaly in building number 19 ================\n",
            "=================================================================\n",
            "================ NO Anomaly in building number 20 ================\n",
            "=================================================================\n",
            "================ NO Anomaly in building number 21 ================\n",
            "=================================================================\n",
            "==================== building number 22 done ====================\n",
            "-------------- have number of anomalies points  1.0 --------------\n",
            "=================================================================\n",
            "================ NO Anomaly in building number 23 ================\n",
            "=================================================================\n",
            "==================== building number 24 done ====================\n",
            "-------------- have number of anomalies points  1.0 --------------\n",
            "=================================================================\n",
            "==================== building number 25 done ====================\n",
            "-------------- have number of anomalies points  1.0 --------------\n",
            "=================================================================\n",
            "================ NO Anomaly in building number 26 ================\n",
            "=================================================================\n",
            "==================== building number 27 done ====================\n",
            "-------------- have number of anomalies points  1.0 --------------\n",
            "=================================================================\n",
            "==================== building number 28 done ====================\n",
            "-------------- have number of anomalies points  1.0 --------------\n",
            "=================================================================\n",
            "==================== building number 29 done ====================\n",
            "-------------- have number of anomalies points  1.0 --------------\n",
            "=================================================================\n",
            "==================== building number 30 done ====================\n",
            "-------------- have number of anomalies points  1.0 --------------\n",
            "=================================================================\n",
            "==================== building number 31 done ====================\n",
            "-------------- have number of anomalies points  1.0 --------------\n",
            "=================================================================\n",
            "==================== building number 32 done ====================\n",
            "-------------- have number of anomalies points  1.0 --------------\n",
            "=================================================================\n",
            "==================== building number 33 done ====================\n",
            "-------------- have number of anomalies points  1.0 --------------\n",
            "=================================================================\n",
            "==================== building number 34 done ====================\n",
            "-------------- have number of anomalies points  1.0 --------------\n",
            "=================================================================\n",
            "==================== building number 35 done ====================\n",
            "-------------- have number of anomalies points  1.0 --------------\n",
            "=================================================================\n",
            "==================== building number 36 done ====================\n",
            "-------------- have number of anomalies points  1.0 --------------\n",
            "=================================================================\n",
            "================ NO Anomaly in building number 37 ================\n",
            "=================================================================\n",
            "==================== building number 38 done ====================\n",
            "-------------- have number of anomalies points  1.0 --------------\n",
            "=================================================================\n",
            "================ NO Anomaly in building number 39 ================\n",
            "=================================================================\n",
            "================ NO Anomaly in building number 40 ================\n",
            "=================================================================\n",
            "==================== building number 41 done ====================\n",
            "-------------- have number of anomalies points  1.0 --------------\n",
            "=================================================================\n",
            "==================== building number 42 done ====================\n",
            "-------------- have number of anomalies points  1.0 --------------\n",
            "=================================================================\n",
            "==================== building number 43 done ====================\n",
            "-------------- have number of anomalies points  1.0 --------------\n",
            "=================================================================\n",
            "==================== building number 44 done ====================\n",
            "-------------- have number of anomalies points  1.0 --------------\n",
            "=================================================================\n",
            "================ NO Anomaly in building number 45 ================\n",
            "=================================================================\n",
            "==================== building number 46 done ====================\n",
            "-------------- have number of anomalies points  1.0 --------------\n",
            "=================================================================\n",
            "==================== building number 47 done ====================\n",
            "-------------- have number of anomalies points  1.0 --------------\n",
            "=================================================================\n",
            "================ NO Anomaly in building number 48 ================\n",
            "=================================================================\n",
            "================ NO Anomaly in building number 49 ================\n",
            "=================================================================\n",
            "==================== building number 50 done ====================\n",
            "-------------- have number of anomalies points  1.0 --------------\n",
            "=================================================================\n",
            "==================== building number 51 done ====================\n",
            "-------------- have number of anomalies points  1.0 --------------\n",
            "=================================================================\n",
            "==================== building number 52 done ====================\n",
            "-------------- have number of anomalies points  1.0 --------------\n",
            "=================================================================\n",
            "================ NO Anomaly in building number 53 ================\n",
            "=================================================================\n",
            "================ NO Anomaly in building number 54 ================\n",
            "=================================================================\n",
            "==================== building number 55 done ====================\n",
            "-------------- have number of anomalies points  1.0 --------------\n",
            "=================================================================\n",
            "================ NO Anomaly in building number 56 ================\n",
            "=================================================================\n",
            "==================== building number 57 done ====================\n",
            "-------------- have number of anomalies points  1.0 --------------\n",
            "=================================================================\n",
            "================ NO Anomaly in building number 58 ================\n",
            "=================================================================\n",
            "==================== building number 59 done ====================\n",
            "-------------- have number of anomalies points  1.0 --------------\n",
            "=================================================================\n",
            "==================== building number 60 done ====================\n",
            "-------------- have number of anomalies points  1.0 --------------\n",
            "=================================================================\n",
            "==================== building number 61 done ====================\n",
            "-------------- have number of anomalies points  1.0 --------------\n",
            "=================================================================\n",
            "==================== building number 62 done ====================\n",
            "-------------- have number of anomalies points  1.0 --------------\n",
            "=================================================================\n",
            "==================== building number 63 done ====================\n",
            "-------------- have number of anomalies points  1.0 --------------\n",
            "=================================================================\n",
            "==================== building number 64 done ====================\n",
            "-------------- have number of anomalies points  1.0 --------------\n",
            "=================================================================\n",
            "==================== building number 65 done ====================\n",
            "-------------- have number of anomalies points  1.0 --------------\n",
            "=================================================================\n",
            "==================== building number 66 done ====================\n",
            "-------------- have number of anomalies points  1.0 --------------\n",
            "=================================================================\n",
            "==================== building number 67 done ====================\n",
            "-------------- have number of anomalies points  1.0 --------------\n",
            "=================================================================\n",
            "==================== building number 68 done ====================\n",
            "-------------- have number of anomalies points  1.0 --------------\n",
            "=================================================================\n",
            "================ NO Anomaly in building number 69 ================\n",
            "=================================================================\n",
            "================ NO Anomaly in building number 70 ================\n",
            "=================================================================\n",
            "==================== building number 71 done ====================\n",
            "-------------- have number of anomalies points  1.0 --------------\n",
            "=================================================================\n",
            "==================== building number 72 done ====================\n",
            "-------------- have number of anomalies points  1.0 --------------\n",
            "=================================================================\n",
            "==================== building number 73 done ====================\n",
            "-------------- have number of anomalies points  1.0 --------------\n",
            "=================================================================\n",
            "==================== building number 74 done ====================\n",
            "-------------- have number of anomalies points  1.0 --------------\n",
            "=================================================================\n",
            "==================== building number 75 done ====================\n",
            "-------------- have number of anomalies points  1.0 --------------\n",
            "=================================================================\n",
            "==================== building number 76 done ====================\n",
            "-------------- have number of anomalies points  1.0 --------------\n",
            "=================================================================\n",
            "==================== building number 77 done ====================\n",
            "-------------- have number of anomalies points  1.0 --------------\n",
            "=================================================================\n",
            "==================== building number 78 done ====================\n",
            "-------------- have number of anomalies points  1.0 --------------\n",
            "=================================================================\n",
            "==================== building number 79 done ====================\n",
            "-------------- have number of anomalies points  1.0 --------------\n",
            "=================================================================\n",
            "==================== building number 80 done ====================\n",
            "-------------- have number of anomalies points  1.0 --------------\n",
            "=================================================================\n",
            "==================== building number 81 done ====================\n",
            "-------------- have number of anomalies points  1.0 --------------\n",
            "=================================================================\n",
            "==================== building number 82 done ====================\n",
            "-------------- have number of anomalies points  1.0 --------------\n",
            "=================================================================\n",
            "==================== building number 83 done ====================\n",
            "-------------- have number of anomalies points  1.0 --------------\n",
            "=================================================================\n",
            "==================== building number 84 done ====================\n",
            "-------------- have number of anomalies points  1.0 --------------\n",
            "=================================================================\n",
            "==================== building number 85 done ====================\n",
            "-------------- have number of anomalies points  1.0 --------------\n",
            "=================================================================\n",
            "================ NO Anomaly in building number 86 ================\n",
            "=================================================================\n",
            "==================== building number 87 done ====================\n",
            "-------------- have number of anomalies points  1.0 --------------\n",
            "=================================================================\n",
            "==================== building number 88 done ====================\n",
            "-------------- have number of anomalies points  1.0 --------------\n",
            "=================================================================\n",
            "==================== building number 89 done ====================\n",
            "-------------- have number of anomalies points  1.0 --------------\n",
            "=================================================================\n",
            "==================== building number 90 done ====================\n",
            "-------------- have number of anomalies points  1.0 --------------\n",
            "=================================================================\n",
            "==================== building number 91 done ====================\n",
            "-------------- have number of anomalies points  1.0 --------------\n",
            "=================================================================\n",
            "==================== building number 92 done ====================\n",
            "-------------- have number of anomalies points  1.0 --------------\n",
            "=================================================================\n",
            "==================== building number 93 done ====================\n",
            "-------------- have number of anomalies points  1.0 --------------\n",
            "=================================================================\n",
            "==================== building number 94 done ====================\n",
            "-------------- have number of anomalies points  1.0 --------------\n",
            "=================================================================\n",
            "==================== building number 95 done ====================\n",
            "-------------- have number of anomalies points  1.0 --------------\n",
            "=================================================================\n",
            "==================== building number 96 done ====================\n",
            "-------------- have number of anomalies points  1.0 --------------\n",
            "=================================================================\n",
            "==================== building number 97 done ====================\n",
            "-------------- have number of anomalies points  1.0 --------------\n",
            "=================================================================\n",
            "==================== building number 98 done ====================\n",
            "-------------- have number of anomalies points  1.0 --------------\n",
            "=================================================================\n",
            "==================== building number 99 done ====================\n",
            "-------------- have number of anomalies points  1.0 --------------\n",
            "=================================================================\n",
            "==================== building number 100 done ====================\n",
            "-------------- have number of anomalies points  1.0 --------------\n",
            "=================================================================\n",
            "==================== building number 101 done ====================\n",
            "-------------- have number of anomalies points  1.0 --------------\n",
            "=================================================================\n",
            "==================== building number 102 done ====================\n",
            "-------------- have number of anomalies points  1.0 --------------\n",
            "=================================================================\n",
            "==================== building number 103 done ====================\n",
            "-------------- have number of anomalies points  1.0 --------------\n",
            "=================================================================\n",
            "==================== building number 104 done ====================\n",
            "-------------- have number of anomalies points  1.0 --------------\n",
            "=================================================================\n",
            "==================== building number 105 done ====================\n",
            "-------------- have number of anomalies points  1.0 --------------\n",
            "=================================================================\n",
            "==================== building number 106 done ====================\n",
            "-------------- have number of anomalies points  1.0 --------------\n",
            "=================================================================\n",
            "==================== building number 107 done ====================\n",
            "-------------- have number of anomalies points  1.0 --------------\n",
            "=================================================================\n",
            "==================== building number 108 done ====================\n",
            "-------------- have number of anomalies points  1.0 --------------\n",
            "=================================================================\n",
            "==================== building number 109 done ====================\n",
            "-------------- have number of anomalies points  1.0 --------------\n",
            "=================================================================\n",
            "==================== building number 110 done ====================\n",
            "-------------- have number of anomalies points  1.0 --------------\n",
            "=================================================================\n",
            "==================== building number 111 done ====================\n",
            "-------------- have number of anomalies points  1.0 --------------\n",
            "=================================================================\n",
            "==================== building number 112 done ====================\n",
            "-------------- have number of anomalies points  1.0 --------------\n",
            "=================================================================\n",
            "==================== building number 113 done ====================\n",
            "-------------- have number of anomalies points  1.0 --------------\n",
            "=================================================================\n",
            "==================== building number 114 done ====================\n",
            "-------------- have number of anomalies points  1.0 --------------\n",
            "=================================================================\n",
            "==================== building number 115 done ====================\n",
            "-------------- have number of anomalies points  1.0 --------------\n",
            "=================================================================\n",
            "==================== building number 116 done ====================\n",
            "-------------- have number of anomalies points  1.0 --------------\n",
            "=================================================================\n",
            "================ NO Anomaly in building number 117 ================\n",
            "=================================================================\n",
            "==================== building number 118 done ====================\n",
            "-------------- have number of anomalies points  1.0 --------------\n",
            "=================================================================\n",
            "==================== building number 119 done ====================\n",
            "-------------- have number of anomalies points  1.0 --------------\n",
            "=================================================================\n",
            "==================== building number 120 done ====================\n",
            "-------------- have number of anomalies points  1.0 --------------\n",
            "=================================================================\n",
            "==================== building number 121 done ====================\n",
            "-------------- have number of anomalies points  1.0 --------------\n",
            "=================================================================\n",
            "==================== building number 122 done ====================\n",
            "-------------- have number of anomalies points  1.0 --------------\n",
            "=================================================================\n",
            "================ NO Anomaly in building number 123 ================\n",
            "=================================================================\n",
            "==================== building number 124 done ====================\n",
            "-------------- have number of anomalies points  1.0 --------------\n",
            "=================================================================\n",
            "==================== building number 125 done ====================\n",
            "-------------- have number of anomalies points  1.0 --------------\n",
            "=================================================================\n",
            "==================== building number 126 done ====================\n",
            "-------------- have number of anomalies points  1.0 --------------\n",
            "=================================================================\n",
            "==================== building number 127 done ====================\n",
            "-------------- have number of anomalies points  1.0 --------------\n",
            "=================================================================\n",
            "==================== building number 128 done ====================\n",
            "-------------- have number of anomalies points  1.0 --------------\n",
            "=================================================================\n",
            "==================== building number 129 done ====================\n",
            "-------------- have number of anomalies points  1.0 --------------\n",
            "=================================================================\n",
            "==================== building number 130 done ====================\n",
            "-------------- have number of anomalies points  1.0 --------------\n",
            "=================================================================\n",
            "==================== building number 131 done ====================\n",
            "-------------- have number of anomalies points  1.0 --------------\n",
            "=================================================================\n",
            "==================== building number 132 done ====================\n",
            "-------------- have number of anomalies points  1.0 --------------\n",
            "=================================================================\n",
            "==================== building number 133 done ====================\n",
            "-------------- have number of anomalies points  1.0 --------------\n",
            "=================================================================\n",
            "==================== building number 134 done ====================\n",
            "-------------- have number of anomalies points  1.0 --------------\n",
            "=================================================================\n",
            "================ NO Anomaly in building number 135 ================\n",
            "=================================================================\n",
            "==================== building number 136 done ====================\n",
            "-------------- have number of anomalies points  1.0 --------------\n",
            "=================================================================\n",
            "==================== building number 137 done ====================\n",
            "-------------- have number of anomalies points  1.0 --------------\n",
            "=================================================================\n",
            "==================== building number 138 done ====================\n",
            "-------------- have number of anomalies points  1.0 --------------\n",
            "=================================================================\n",
            "==================== building number 139 done ====================\n",
            "-------------- have number of anomalies points  1.0 --------------\n",
            "=================================================================\n",
            "==================== building number 140 done ====================\n",
            "-------------- have number of anomalies points  1.0 --------------\n",
            "=================================================================\n",
            "================ NO Anomaly in building number 141 ================\n",
            "=================================================================\n",
            "==================== building number 142 done ====================\n",
            "-------------- have number of anomalies points  1.0 --------------\n",
            "=================================================================\n",
            "==================== building number 143 done ====================\n",
            "-------------- have number of anomalies points  1.0 --------------\n",
            "=================================================================\n",
            "==================== building number 144 done ====================\n",
            "-------------- have number of anomalies points  1.0 --------------\n",
            "=================================================================\n",
            "==================== building number 145 done ====================\n",
            "-------------- have number of anomalies points  1.0 --------------\n",
            "=================================================================\n",
            "==================== building number 146 done ====================\n",
            "-------------- have number of anomalies points  1.0 --------------\n",
            "=================================================================\n",
            "==================== building number 147 done ====================\n",
            "-------------- have number of anomalies points  1.0 --------------\n",
            "=================================================================\n",
            "==================== building number 148 done ====================\n",
            "-------------- have number of anomalies points  1.0 --------------\n",
            "=================================================================\n",
            "================ NO Anomaly in building number 149 ================\n",
            "=================================================================\n",
            "==================== building number 150 done ====================\n",
            "-------------- have number of anomalies points  1.0 --------------\n",
            "=================================================================\n",
            "================ NO Anomaly in building number 151 ================\n",
            "=================================================================\n",
            "==================== building number 152 done ====================\n",
            "-------------- have number of anomalies points  1.0 --------------\n",
            "=================================================================\n",
            "==================== building number 153 done ====================\n",
            "-------------- have number of anomalies points  1.0 --------------\n",
            "=================================================================\n",
            "==================== building number 154 done ====================\n",
            "-------------- have number of anomalies points  1.0 --------------\n",
            "=================================================================\n",
            "==================== building number 155 done ====================\n",
            "-------------- have number of anomalies points  1.0 --------------\n",
            "=================================================================\n",
            "==================== building number 156 done ====================\n",
            "-------------- have number of anomalies points  1.0 --------------\n",
            "=================================================================\n",
            "================ NO Anomaly in building number 157 ================\n",
            "=================================================================\n",
            "==================== building number 158 done ====================\n",
            "-------------- have number of anomalies points  1.0 --------------\n",
            "=================================================================\n",
            "==================== building number 159 done ====================\n",
            "-------------- have number of anomalies points  1.0 --------------\n",
            "=================================================================\n",
            "==================== building number 160 done ====================\n",
            "-------------- have number of anomalies points  1.0 --------------\n",
            "=================================================================\n",
            "==================== building number 161 done ====================\n",
            "-------------- have number of anomalies points  1.0 --------------\n",
            "=================================================================\n",
            "==================== building number 162 done ====================\n",
            "-------------- have number of anomalies points  1.0 --------------\n",
            "=================================================================\n",
            "==================== building number 163 done ====================\n",
            "-------------- have number of anomalies points  1.0 --------------\n",
            "=================================================================\n",
            "================ NO Anomaly in building number 164 ================\n",
            "=================================================================\n",
            "==================== building number 165 done ====================\n",
            "-------------- have number of anomalies points  1.0 --------------\n",
            "=================================================================\n",
            "==================== building number 166 done ====================\n",
            "-------------- have number of anomalies points  1.0 --------------\n",
            "=================================================================\n",
            "==================== building number 167 done ====================\n",
            "-------------- have number of anomalies points  1.0 --------------\n",
            "=================================================================\n",
            "==================== building number 168 done ====================\n",
            "-------------- have number of anomalies points  1.0 --------------\n",
            "=================================================================\n",
            "==================== building number 169 done ====================\n",
            "-------------- have number of anomalies points  1.0 --------------\n",
            "=================================================================\n",
            "==================== building number 170 done ====================\n",
            "-------------- have number of anomalies points  1.0 --------------\n",
            "=================================================================\n",
            "==================== building number 171 done ====================\n",
            "-------------- have number of anomalies points  1.0 --------------\n",
            "=================================================================\n",
            "==================== building number 172 done ====================\n",
            "-------------- have number of anomalies points  1.0 --------------\n",
            "=================================================================\n",
            "==================== building number 173 done ====================\n",
            "-------------- have number of anomalies points  1.0 --------------\n",
            "=================================================================\n",
            "==================== building number 174 done ====================\n",
            "-------------- have number of anomalies points  1.0 --------------\n",
            "=================================================================\n",
            "==================== building number 175 done ====================\n",
            "-------------- have number of anomalies points  1.0 --------------\n",
            "=================================================================\n",
            "==================== building number 176 done ====================\n",
            "-------------- have number of anomalies points  1.0 --------------\n",
            "=================================================================\n",
            "==================== building number 177 done ====================\n",
            "-------------- have number of anomalies points  1.0 --------------\n",
            "=================================================================\n",
            "================ NO Anomaly in building number 178 ================\n",
            "=================================================================\n",
            "==================== building number 179 done ====================\n",
            "-------------- have number of anomalies points  1.0 --------------\n",
            "=================================================================\n",
            "================ NO Anomaly in building number 180 ================\n",
            "=================================================================\n",
            "================ NO Anomaly in building number 181 ================\n",
            "=================================================================\n",
            "==================== building number 182 done ====================\n",
            "-------------- have number of anomalies points  1.0 --------------\n",
            "=================================================================\n",
            "==================== building number 183 done ====================\n",
            "-------------- have number of anomalies points  1.0 --------------\n",
            "=================================================================\n",
            "==================== building number 184 done ====================\n",
            "-------------- have number of anomalies points  1.0 --------------\n",
            "=================================================================\n",
            "==================== building number 185 done ====================\n",
            "-------------- have number of anomalies points  1.0 --------------\n",
            "=================================================================\n",
            "==================== building number 186 done ====================\n",
            "-------------- have number of anomalies points  1.0 --------------\n",
            "=================================================================\n",
            "==================== building number 187 done ====================\n",
            "-------------- have number of anomalies points  1.0 --------------\n",
            "=================================================================\n",
            "==================== building number 188 done ====================\n",
            "-------------- have number of anomalies points  1.0 --------------\n",
            "=================================================================\n",
            "================ NO Anomaly in building number 189 ================\n",
            "=================================================================\n",
            "==================== building number 190 done ====================\n",
            "-------------- have number of anomalies points  1.0 --------------\n",
            "=================================================================\n",
            "==================== building number 191 done ====================\n",
            "-------------- have number of anomalies points  1.0 --------------\n",
            "=================================================================\n",
            "==================== building number 192 done ====================\n",
            "-------------- have number of anomalies points  1.0 --------------\n",
            "=================================================================\n",
            "==================== building number 193 done ====================\n",
            "-------------- have number of anomalies points  1.0 --------------\n",
            "=================================================================\n",
            "==================== building number 194 done ====================\n",
            "-------------- have number of anomalies points  1.0 --------------\n",
            "=================================================================\n",
            "==================== building number 195 done ====================\n",
            "-------------- have number of anomalies points  1.0 --------------\n",
            "=================================================================\n",
            "==================== building number 196 done ====================\n",
            "-------------- have number of anomalies points  1.0 --------------\n",
            "=================================================================\n",
            "================ NO Anomaly in building number 197 ================\n",
            "=================================================================\n",
            "==================== building number 198 done ====================\n",
            "-------------- have number of anomalies points  1.0 --------------\n",
            "=================================================================\n",
            "==================== building number 199 done ====================\n",
            "-------------- have number of anomalies points  1.0 --------------\n",
            "=================================================================\n",
            "================ NO Anomaly in building number 200 ================\n",
            "=================================================================\n"
          ]
        }
      ],
      "source": [
        "# test Tukey’s box plot method\n",
        "\n",
        "data_2=pd.DataFrame()\n",
        "anomalies= pd.DataFrame()\n",
        "for i in range(x):\n",
        "    probable_outliers_tm, possible_outliers_tm = tukeys_method(data[i], \"meter_reading\")\n",
        "    \n",
        "    if len(possible_outliers_tm)==0:\n",
        "        print(\"================ NO Anomaly in building number {} ================\".format(i+1))\n",
        "        print(\"=================================================================\")\n",
        "        anomaly = pd.DataFrame(possible_outliers_tm)\n",
        "        data_2 = pd.concat([data[i].reset_index(drop=True), anomaly], axis=1)\n",
        "        anomalies=anomalies.append(data_2)\n",
        "        continue\n",
        "\n",
        "    \n",
        "    anomaly = pd.DataFrame(possible_outliers_tm)\n",
        "    anomaly['Anomaly'] = 1\n",
        "    anomaly.set_index(0, inplace=True)\n",
        "\n",
        "    data_2 = pd.concat([data[i].reset_index(drop=True), anomaly], axis=1)\n",
        "    \n",
        "    print(\"==================== building number {} done ====================\".format(i+1))\n",
        "\n",
        "    print(\"-\" *14,\"have number of anomalies points \",data_2['Anomaly'].value_counts().index[0],\"-\" *14)\n",
        "    print(\"=================================================================\")\n",
        "    \n",
        "    anomalies=anomalies.append(data_2)"
      ]
    },
    {
      "cell_type": "code",
      "execution_count": null,
      "id": "a646378e",
      "metadata": {
        "colab": {
          "base_uri": "https://localhost:8080/"
        },
        "id": "a646378e",
        "outputId": "2320fda7-c392-458a-f210-eb45424727a1"
      },
      "outputs": [
        {
          "output_type": "execute_result",
          "data": {
            "text/plain": [
              "(1048575, 4)"
            ]
          },
          "metadata": {},
          "execution_count": 47
        }
      ],
      "source": [
        "anomalies.shape"
      ]
    },
    {
      "cell_type": "code",
      "execution_count": null,
      "id": "f95662fe",
      "metadata": {
        "colab": {
          "base_uri": "https://localhost:8080/"
        },
        "id": "f95662fe",
        "outputId": "97045060-9701-4f0c-b5bf-1ddf395951b1"
      },
      "outputs": [
        {
          "output_type": "execute_result",
          "data": {
            "text/plain": [
              "(1048575, 3)"
            ]
          },
          "metadata": {},
          "execution_count": 48
        }
      ],
      "source": [
        "df.shape"
      ]
    },
    {
      "cell_type": "code",
      "execution_count": null,
      "id": "ce85ee57",
      "metadata": {
        "colab": {
          "base_uri": "https://localhost:8080/"
        },
        "id": "ce85ee57",
        "outputId": "14120766-58bb-497b-c1f5-2e7a61713def"
      },
      "outputs": [
        {
          "output_type": "execute_result",
          "data": {
            "text/plain": [
              "1.0    94\n",
              "Name: Anomaly, dtype: int64"
            ]
          },
          "metadata": {},
          "execution_count": 49
        }
      ],
      "source": [
        "anomalies.groupby(\"building_id\").get_group(1323)[\"Anomaly\"].value_counts()"
      ]
    },
    {
      "cell_type": "code",
      "execution_count": null,
      "id": "8180792d",
      "metadata": {
        "colab": {
          "base_uri": "https://localhost:8080/"
        },
        "id": "8180792d",
        "outputId": "1578bd60-2aa2-4569-f7ef-630b6d573e2b"
      },
      "outputs": [
        {
          "output_type": "execute_result",
          "data": {
            "text/plain": [
              "1.0    173\n",
              "Name: Anomaly, dtype: int64"
            ]
          },
          "metadata": {},
          "execution_count": 50
        }
      ],
      "source": [
        "anomalies.groupby(\"building_id\").get_group(1007)[\"Anomaly\"].value_counts()"
      ]
    },
    {
      "cell_type": "code",
      "execution_count": null,
      "id": "5eefcfeb",
      "metadata": {
        "colab": {
          "base_uri": "https://localhost:8080/"
        },
        "id": "5eefcfeb",
        "outputId": "9458ebfb-e15d-4547-b637-895beb322887"
      },
      "outputs": [
        {
          "output_type": "execute_result",
          "data": {
            "text/plain": [
              "(5143, 3)"
            ]
          },
          "metadata": {},
          "execution_count": 51
        }
      ],
      "source": [
        "df.groupby(\"building_id\").get_group(1007).shape"
      ]
    },
    {
      "cell_type": "code",
      "execution_count": null,
      "id": "85f48ada",
      "metadata": {
        "colab": {
          "base_uri": "https://localhost:8080/"
        },
        "id": "85f48ada",
        "outputId": "fa755e1c-0869-448d-e6af-15399bfb8f09"
      },
      "outputs": [
        {
          "output_type": "execute_result",
          "data": {
            "text/plain": [
              "(5143, 4)"
            ]
          },
          "metadata": {},
          "execution_count": 52
        }
      ],
      "source": [
        "anomalies.groupby(\"building_id\").get_group(1007).shape"
      ]
    },
    {
      "cell_type": "code",
      "execution_count": null,
      "id": "2bf604a5",
      "metadata": {
        "id": "2bf604a5"
      },
      "outputs": [],
      "source": [
        "anomalies.reset_index(drop=True,inplace=True)"
      ]
    },
    {
      "cell_type": "code",
      "execution_count": null,
      "id": "4f1ad996",
      "metadata": {
        "id": "4f1ad996"
      },
      "outputs": [],
      "source": [
        "anomalies['Anomaly'] = anomalies['Anomaly'].replace(np.nan, False)\n",
        "anomalies['Anomaly'] = anomalies['Anomaly'].replace(1.0, True)"
      ]
    },
    {
      "cell_type": "code",
      "execution_count": null,
      "id": "92a7efec",
      "metadata": {
        "colab": {
          "base_uri": "https://localhost:8080/"
        },
        "id": "92a7efec",
        "outputId": "4284e372-1c05-4192-d675-71a884e8bcdc"
      },
      "outputs": [
        {
          "output_type": "execute_result",
          "data": {
            "text/plain": [
              "False    1009471\n",
              "True       39104\n",
              "Name: Anomaly, dtype: int64"
            ]
          },
          "metadata": {},
          "execution_count": 55
        }
      ],
      "source": [
        "anomalies['Anomaly'].value_counts()"
      ]
    },
    {
      "cell_type": "code",
      "execution_count": null,
      "id": "40813f62",
      "metadata": {
        "colab": {
          "base_uri": "https://localhost:8080/"
        },
        "id": "40813f62",
        "outputId": "3ef6939a-ab42-4c03-e29e-682b273fcd56"
      },
      "outputs": [
        {
          "output_type": "execute_result",
          "data": {
            "text/plain": [
              "0    1024936\n",
              "1      23639\n",
              "Name: anomaly, dtype: int64"
            ]
          },
          "metadata": {},
          "execution_count": 56
        }
      ],
      "source": [
        "anomalies['anomaly'].value_counts()"
      ]
    },
    {
      "cell_type": "code",
      "execution_count": null,
      "id": "f7444928",
      "metadata": {
        "id": "f7444928"
      },
      "outputs": [],
      "source": [
        "anomalies['anomaly'] = anomalies['anomaly'].replace(0, False)\n",
        "anomalies['anomaly'] = anomalies['anomaly'].replace(1, True)"
      ]
    },
    {
      "cell_type": "code",
      "execution_count": null,
      "id": "a8126da0",
      "metadata": {
        "colab": {
          "base_uri": "https://localhost:8080/"
        },
        "id": "a8126da0",
        "outputId": "b8a047c5-baf9-4041-bf1b-e2cdb825f023"
      },
      "outputs": [
        {
          "output_type": "execute_result",
          "data": {
            "text/plain": [
              "False    1024936\n",
              "True       23639\n",
              "Name: anomaly, dtype: int64"
            ]
          },
          "metadata": {},
          "execution_count": 58
        }
      ],
      "source": [
        "anomalies['anomaly'].value_counts()"
      ]
    },
    {
      "cell_type": "code",
      "execution_count": null,
      "id": "b44b91a9",
      "metadata": {
        "colab": {
          "base_uri": "https://localhost:8080/",
          "height": 518
        },
        "id": "b44b91a9",
        "outputId": "4827dbcd-5b29-4e1f-d83a-7ac4ffae5643"
      },
      "outputs": [
        {
          "output_type": "display_data",
          "data": {
            "text/plain": [
              "<Figure size 2160x720 with 1 Axes>"
            ],
            "image/png": "[encoded data removed]"
          },
          "metadata": {
            "needs_background": "light"
          }
        }
      ],
      "source": [
        "fig, ax = plt.subplots(figsize=(30,10))\n",
        "\n",
        "anomaly = anomalies.loc[anomalies['Anomaly'] == True, ['meter_reading']] \n",
        "\n",
        "ax.plot(anomalies.index, anomalies['meter_reading'], color='blue', label = 'Normal')\n",
        "ax.scatter(anomaly.index,anomaly['meter_reading'], color='red', label = 'Anomaly')\n",
        "ax.set_title('Total buldings anomalies points for box blot method', fontsize=20)\n",
        "plt.legend()\n",
        "plt.show();"
      ]
    },
    {
      "cell_type": "code",
      "execution_count": null,
      "id": "b5910f07",
      "metadata": {
        "colab": {
          "base_uri": "https://localhost:8080/"
        },
        "id": "b5910f07",
        "outputId": "9a88df97-6c0d-4ee7-a40a-f68b0b3dfcf9"
      },
      "outputs": [
        {
          "output_type": "stream",
          "name": "stdout",
          "text": [
            "my first model predication has accurcy  95.33 %\n"
          ]
        }
      ],
      "source": [
        "print(\"my first model predication has accurcy \",round((anomalies[anomalies['anomaly'] == anomalies['Anomaly']].shape[0]/anomalies.shape[0])*100,2),\"%\")"
      ]
    },
    {
      "cell_type": "code",
      "execution_count": null,
      "id": "d07ccd77",
      "metadata": {
        "id": "d07ccd77"
      },
      "outputs": [],
      "source": [
        "from sklearn.decomposition import PCA\n",
        "from sklearn.covariance import EllipticEnvelope\n",
        "from sklearn.ensemble import IsolationForest"
      ]
    },
    {
      "cell_type": "code",
      "execution_count": null,
      "id": "b832c275",
      "metadata": {
        "colab": {
          "base_uri": "https://localhost:8080/"
        },
        "id": "b832c275",
        "outputId": "357acbd4-8634-49a3-d0f8-b8c354819a07"
      },
      "outputs": [
        {
          "output_type": "stream",
          "name": "stdout",
          "text": [
            "<class 'pandas.core.frame.DataFrame'>\n",
            "Index: 5266 entries, 01-01-2016 00:00 to 07-08-2016 09:00\n",
            "Data columns (total 3 columns):\n",
            " #   Column         Non-Null Count  Dtype  \n",
            "---  ------         --------------  -----  \n",
            " 0   building_id    5266 non-null   int64  \n",
            " 1   meter_reading  5266 non-null   float64\n",
            " 2   anomaly        5266 non-null   int64  \n",
            "dtypes: float64(1), int64(2)\n",
            "memory usage: 164.6+ KB\n"
          ]
        }
      ],
      "source": [
        "random_building_id = df.groupby(\"building_id\").get_group(108)\n",
        "random_building_id.info()"
      ]
    },
    {
      "cell_type": "code",
      "execution_count": null,
      "id": "f459b082",
      "metadata": {
        "colab": {
          "base_uri": "https://localhost:8080/"
        },
        "id": "f459b082",
        "outputId": "e528568f-4806-471e-f7a9-da13dbc30636"
      },
      "outputs": [
        {
          "output_type": "execute_result",
          "data": {
            "text/plain": [
              "IsolationForest(contamination=0.01)"
            ]
          },
          "metadata": {},
          "execution_count": 63
        }
      ],
      "source": [
        "# train isolation forest\n",
        "outliers_fraction = float(.01)\n",
        "scaler = StandardScaler()\n",
        "np_scaled = scaler.fit_transform(random_building_id[\"meter_reading\"].values.reshape(-1, 1))\n",
        "df_data = pd.DataFrame(np_scaled)\n",
        "\n",
        "model =  IsolationForest(contamination=outliers_fraction)\n",
        "model.fit(df_data)"
      ]
    },
    {
      "cell_type": "code",
      "execution_count": null,
      "id": "f50da0bd",
      "metadata": {
        "id": "f50da0bd"
      },
      "outputs": [],
      "source": [
        "# predict isolation forest\n",
        "Anomaly = model.predict(df_data)"
      ]
    },
    {
      "cell_type": "code",
      "execution_count": null,
      "id": "0bbcb4ab",
      "metadata": {
        "colab": {
          "base_uri": "https://localhost:8080/",
          "height": 424
        },
        "id": "0bbcb4ab",
        "outputId": "dcf17c48-3c10-40b5-e9f3-2dc8e3beb7c3"
      },
      "outputs": [
        {
          "output_type": "execute_result",
          "data": {
            "text/plain": [
              "      Anomaly\n",
              "0           1\n",
              "1           1\n",
              "2           1\n",
              "3           1\n",
              "4           1\n",
              "...       ...\n",
              "5261        1\n",
              "5262        1\n",
              "5263        1\n",
              "5264        1\n",
              "5265        1\n",
              "\n",
              "[5266 rows x 1 columns]"
            ],
            "text/html": [
              "\n",
              "  <div id=\"df-df477419-f085-4720-9823-41314445fc12\">\n",
              "    <div class=\"colab-df-container\">\n",
              "      <div>\n",
              "<style scoped>\n",
              "    .dataframe tbody tr th:only-of-type {\n",
              "        vertical-align: middle;\n",
              "    }\n",
              "\n",
              "    .dataframe tbody tr th {\n",
              "        vertical-align: top;\n",
              "    }\n",
              "\n",
              "    .dataframe thead th {\n",
              "        text-align: right;\n",
              "    }\n",
              "</style>\n",
              "<table border=\"1\" class=\"dataframe\">\n",
              "  <thead>\n",
              "    <tr style=\"text-align: right;\">\n",
              "      <th></th>\n",
              "      <th>Anomaly</th>\n",
              "    </tr>\n",
              "  </thead>\n",
              "  <tbody>\n",
              "    <tr>\n",
              "      <th>0</th>\n",
              "      <td>1</td>\n",
              "    </tr>\n",
              "    <tr>\n",
              "      <th>1</th>\n",
              "      <td>1</td>\n",
              "    </tr>\n",
              "    <tr>\n",
              "      <th>2</th>\n",
              "      <td>1</td>\n",
              "    </tr>\n",
              "    <tr>\n",
              "      <th>3</th>\n",
              "      <td>1</td>\n",
              "    </tr>\n",
              "    <tr>\n",
              "      <th>4</th>\n",
              "      <td>1</td>\n",
              "    </tr>\n",
              "    <tr>\n",
              "      <th>...</th>\n",
              "      <td>...</td>\n",
              "    </tr>\n",
              "    <tr>\n",
              "      <th>5261</th>\n",
              "      <td>1</td>\n",
              "    </tr>\n",
              "    <tr>\n",
              "      <th>5262</th>\n",
              "      <td>1</td>\n",
              "    </tr>\n",
              "    <tr>\n",
              "      <th>5263</th>\n",
              "      <td>1</td>\n",
              "    </tr>\n",
              "    <tr>\n",
              "      <th>5264</th>\n",
              "      <td>1</td>\n",
              "    </tr>\n",
              "    <tr>\n",
              "      <th>5265</th>\n",
              "      <td>1</td>\n",
              "    </tr>\n",
              "  </tbody>\n",
              "</table>\n",
              "<p>5266 rows × 1 columns</p>\n",
              "</div>\n",
              "      <button class=\"colab-df-convert\" onclick=\"convertToInteractive('df-df477419-f085-4720-9823-41314445fc12')\"\n",
              "              title=\"Convert this dataframe to an interactive table.\"\n",
              "              style=\"display:none;\">\n",
              "        \n",
              "  <svg xmlns=\"http://www.w3.org/2000/svg\" height=\"24px\"viewBox=\"0 0 24 24\"\n",
              "       width=\"24px\">\n",
              "    <path d=\"M0 0h24v24H0V0z\" fill=\"none\"/>\n",
              "    <path d=\"M18.56 5.44l.94 2.06.94-2.06 2.06-.94-2.06-.94-.94-2.06-.94 2.06-2.06.94zm-11 1L8.5 8.5l.94-2.06 2.06-.94-2.06-.94L8.5 2.5l-.94 2.06-2.06.94zm10 10l.94 2.06.94-2.06 2.06-.94-2.06-.94-.94-2.06-.94 2.06-2.06.94z\"/><path d=\"M17.41 7.96l-1.37-1.37c-.4-.4-.92-.59-1.43-.59-.52 0-1.04.2-1.43.59L10.3 9.45l-7.72 7.72c-.78.78-.78 2.05 0 2.83L4 21.41c.39.39.9.59 1.41.59.51 0 1.02-.2 1.41-.59l7.78-7.78 2.81-2.81c.8-.78.8-2.07 0-2.86zM5.41 20L4 18.59l7.72-7.72 1.47 1.35L5.41 20z\"/>\n",
              "  </svg>\n",
              "      </button>\n",
              "      \n",
              "  <style>\n",
              "    .colab-df-container {\n",
              "      display:flex;\n",
              "      flex-wrap:wrap;\n",
              "      gap: 12px;\n",
              "    }\n",
              "\n",
              "    .colab-df-convert {\n",
              "      background-color: #E8F0FE;\n",
              "      border: none;\n",
              "      border-radius: 50%;\n",
              "      cursor: pointer;\n",
              "      display: none;\n",
              "      fill: #1967D2;\n",
              "      height: 32px;\n",
              "      padding: 0 0 0 0;\n",
              "      width: 32px;\n",
              "    }\n",
              "\n",
              "    .colab-df-convert:hover {\n",
              "      background-color: #E2EBFA;\n",
              "      box-shadow: 0px 1px 2px rgba(60, 64, 67, 0.3), 0px 1px 3px 1px rgba(60, 64, 67, 0.15);\n",
              "      fill: #174EA6;\n",
              "    }\n",
              "\n",
              "    [theme=dark] .colab-df-convert {\n",
              "      background-color: #3B4455;\n",
              "      fill: #D2E3FC;\n",
              "    }\n",
              "\n",
              "    [theme=dark] .colab-df-convert:hover {\n",
              "      background-color: #434B5C;\n",
              "      box-shadow: 0px 1px 3px 1px rgba(0, 0, 0, 0.15);\n",
              "      filter: drop-shadow(0px 1px 2px rgba(0, 0, 0, 0.3));\n",
              "      fill: #FFFFFF;\n",
              "    }\n",
              "  </style>\n",
              "\n",
              "      <script>\n",
              "        const buttonEl =\n",
              "          document.querySelector('#df-df477419-f085-4720-9823-41314445fc12 button.colab-df-convert');\n",
              "        buttonEl.style.display =\n",
              "          google.colab.kernel.accessAllowed ? 'block' : 'none';\n",
              "\n",
              "        async function convertToInteractive(key) {\n",
              "          const element = document.querySelector('#df-df477419-f085-4720-9823-41314445fc12');\n",
              "          const dataTable =\n",
              "            await google.colab.kernel.invokeFunction('convertToInteractive',\n",
              "                                                     [key], {});\n",
              "          if (!dataTable) return;\n",
              "\n",
              "          const docLinkHtml = 'Like what you see? Visit the ' +\n",
              "            '<a target=\"_blank\" href=https://colab.research.google.com/notebooks/data_table.ipynb>data table notebook</a>'\n",
              "            + ' to learn more about interactive tables.';\n",
              "          element.innerHTML = '';\n",
              "          dataTable['output_type'] = 'display_data';\n",
              "          await google.colab.output.renderOutput(dataTable, element);\n",
              "          const docLink = document.createElement('div');\n",
              "          docLink.innerHTML = docLinkHtml;\n",
              "          element.appendChild(docLink);\n",
              "        }\n",
              "      </script>\n",
              "    </div>\n",
              "  </div>\n",
              "  "
            ]
          },
          "metadata": {},
          "execution_count": 65
        }
      ],
      "source": [
        "Anomaly = pd.DataFrame(Anomaly,columns=['Anomaly'])\n",
        "Anomaly"
      ]
    },
    {
      "cell_type": "code",
      "execution_count": null,
      "id": "3b89806d",
      "metadata": {
        "colab": {
          "base_uri": "https://localhost:8080/",
          "height": 424
        },
        "id": "3b89806d",
        "outputId": "ebf31446-4172-4244-de93-1e7abceec39e"
      },
      "outputs": [
        {
          "output_type": "execute_result",
          "data": {
            "text/plain": [
              "             timestamp  building_id  meter_reading  anomaly  Anomaly\n",
              "0     01-01-2016 00:00          108     180.777984        0        1\n",
              "1     01-01-2016 01:00          108     182.531000        1        1\n",
              "2     01-01-2016 02:00          108       1.000000        1        1\n",
              "3     01-01-2016 03:00          108       1.000000        1        1\n",
              "4     01-01-2016 04:00          108       1.000000        1        1\n",
              "...                ...          ...            ...      ...      ...\n",
              "5261  07-08-2016 05:00          108     180.777984        0        1\n",
              "5262  07-08-2016 06:00          108     180.777984        0        1\n",
              "5263  07-08-2016 07:00          108     180.777984        0        1\n",
              "5264  07-08-2016 08:00          108     180.777984        0        1\n",
              "5265  07-08-2016 09:00          108     180.777984        0        1\n",
              "\n",
              "[5266 rows x 5 columns]"
            ],
            "text/html": [
              "\n",
              "  <div id=\"df-ee3111f2-9310-49df-a764-f56feec5fb22\">\n",
              "    <div class=\"colab-df-container\">\n",
              "      <div>\n",
              "<style scoped>\n",
              "    .dataframe tbody tr th:only-of-type {\n",
              "        vertical-align: middle;\n",
              "    }\n",
              "\n",
              "    .dataframe tbody tr th {\n",
              "        vertical-align: top;\n",
              "    }\n",
              "\n",
              "    .dataframe thead th {\n",
              "        text-align: right;\n",
              "    }\n",
              "</style>\n",
              "<table border=\"1\" class=\"dataframe\">\n",
              "  <thead>\n",
              "    <tr style=\"text-align: right;\">\n",
              "      <th></th>\n",
              "      <th>timestamp</th>\n",
              "      <th>building_id</th>\n",
              "      <th>meter_reading</th>\n",
              "      <th>anomaly</th>\n",
              "      <th>Anomaly</th>\n",
              "    </tr>\n",
              "  </thead>\n",
              "  <tbody>\n",
              "    <tr>\n",
              "      <th>0</th>\n",
              "      <td>01-01-2016 00:00</td>\n",
              "      <td>108</td>\n",
              "      <td>180.777984</td>\n",
              "      <td>0</td>\n",
              "      <td>1</td>\n",
              "    </tr>\n",
              "    <tr>\n",
              "      <th>1</th>\n",
              "      <td>01-01-2016 01:00</td>\n",
              "      <td>108</td>\n",
              "      <td>182.531000</td>\n",
              "      <td>1</td>\n",
              "      <td>1</td>\n",
              "    </tr>\n",
              "    <tr>\n",
              "      <th>2</th>\n",
              "      <td>01-01-2016 02:00</td>\n",
              "      <td>108</td>\n",
              "      <td>1.000000</td>\n",
              "      <td>1</td>\n",
              "      <td>1</td>\n",
              "    </tr>\n",
              "    <tr>\n",
              "      <th>3</th>\n",
              "      <td>01-01-2016 03:00</td>\n",
              "      <td>108</td>\n",
              "      <td>1.000000</td>\n",
              "      <td>1</td>\n",
              "      <td>1</td>\n",
              "    </tr>\n",
              "    <tr>\n",
              "      <th>4</th>\n",
              "      <td>01-01-2016 04:00</td>\n",
              "      <td>108</td>\n",
              "      <td>1.000000</td>\n",
              "      <td>1</td>\n",
              "      <td>1</td>\n",
              "    </tr>\n",
              "    <tr>\n",
              "      <th>...</th>\n",
              "      <td>...</td>\n",
              "      <td>...</td>\n",
              "      <td>...</td>\n",
              "      <td>...</td>\n",
              "      <td>...</td>\n",
              "    </tr>\n",
              "    <tr>\n",
              "      <th>5261</th>\n",
              "      <td>07-08-2016 05:00</td>\n",
              "      <td>108</td>\n",
              "      <td>180.777984</td>\n",
              "      <td>0</td>\n",
              "      <td>1</td>\n",
              "    </tr>\n",
              "    <tr>\n",
              "      <th>5262</th>\n",
              "      <td>07-08-2016 06:00</td>\n",
              "      <td>108</td>\n",
              "      <td>180.777984</td>\n",
              "      <td>0</td>\n",
              "      <td>1</td>\n",
              "    </tr>\n",
              "    <tr>\n",
              "      <th>5263</th>\n",
              "      <td>07-08-2016 07:00</td>\n",
              "      <td>108</td>\n",
              "      <td>180.777984</td>\n",
              "      <td>0</td>\n",
              "      <td>1</td>\n",
              "    </tr>\n",
              "    <tr>\n",
              "      <th>5264</th>\n",
              "      <td>07-08-2016 08:00</td>\n",
              "      <td>108</td>\n",
              "      <td>180.777984</td>\n",
              "      <td>0</td>\n",
              "      <td>1</td>\n",
              "    </tr>\n",
              "    <tr>\n",
              "      <th>5265</th>\n",
              "      <td>07-08-2016 09:00</td>\n",
              "      <td>108</td>\n",
              "      <td>180.777984</td>\n",
              "      <td>0</td>\n",
              "      <td>1</td>\n",
              "    </tr>\n",
              "  </tbody>\n",
              "</table>\n",
              "<p>5266 rows × 5 columns</p>\n",
              "</div>\n",
              "      <button class=\"colab-df-convert\" onclick=\"convertToInteractive('df-ee3111f2-9310-49df-a764-f56feec5fb22')\"\n",
              "              title=\"Convert this dataframe to an interactive table.\"\n",
              "              style=\"display:none;\">\n",
              "        \n",
              "  <svg xmlns=\"http://www.w3.org/2000/svg\" height=\"24px\"viewBox=\"0 0 24 24\"\n",
              "       width=\"24px\">\n",
              "    <path d=\"M0 0h24v24H0V0z\" fill=\"none\"/>\n",
              "    <path d=\"M18.56 5.44l.94 2.06.94-2.06 2.06-.94-2.06-.94-.94-2.06-.94 2.06-2.06.94zm-11 1L8.5 8.5l.94-2.06 2.06-.94-2.06-.94L8.5 2.5l-.94 2.06-2.06.94zm10 10l.94 2.06.94-2.06 2.06-.94-2.06-.94-.94-2.06-.94 2.06-2.06.94z\"/><path d=\"M17.41 7.96l-1.37-1.37c-.4-.4-.92-.59-1.43-.59-.52 0-1.04.2-1.43.59L10.3 9.45l-7.72 7.72c-.78.78-.78 2.05 0 2.83L4 21.41c.39.39.9.59 1.41.59.51 0 1.02-.2 1.41-.59l7.78-7.78 2.81-2.81c.8-.78.8-2.07 0-2.86zM5.41 20L4 18.59l7.72-7.72 1.47 1.35L5.41 20z\"/>\n",
              "  </svg>\n",
              "      </button>\n",
              "      \n",
              "  <style>\n",
              "    .colab-df-container {\n",
              "      display:flex;\n",
              "      flex-wrap:wrap;\n",
              "      gap: 12px;\n",
              "    }\n",
              "\n",
              "    .colab-df-convert {\n",
              "      background-color: #E8F0FE;\n",
              "      border: none;\n",
              "      border-radius: 50%;\n",
              "      cursor: pointer;\n",
              "      display: none;\n",
              "      fill: #1967D2;\n",
              "      height: 32px;\n",
              "      padding: 0 0 0 0;\n",
              "      width: 32px;\n",
              "    }\n",
              "\n",
              "    .colab-df-convert:hover {\n",
              "      background-color: #E2EBFA;\n",
              "      box-shadow: 0px 1px 2px rgba(60, 64, 67, 0.3), 0px 1px 3px 1px rgba(60, 64, 67, 0.15);\n",
              "      fill: #174EA6;\n",
              "    }\n",
              "\n",
              "    [theme=dark] .colab-df-convert {\n",
              "      background-color: #3B4455;\n",
              "      fill: #D2E3FC;\n",
              "    }\n",
              "\n",
              "    [theme=dark] .colab-df-convert:hover {\n",
              "      background-color: #434B5C;\n",
              "      box-shadow: 0px 1px 3px 1px rgba(0, 0, 0, 0.15);\n",
              "      filter: drop-shadow(0px 1px 2px rgba(0, 0, 0, 0.3));\n",
              "      fill: #FFFFFF;\n",
              "    }\n",
              "  </style>\n",
              "\n",
              "      <script>\n",
              "        const buttonEl =\n",
              "          document.querySelector('#df-ee3111f2-9310-49df-a764-f56feec5fb22 button.colab-df-convert');\n",
              "        buttonEl.style.display =\n",
              "          google.colab.kernel.accessAllowed ? 'block' : 'none';\n",
              "\n",
              "        async function convertToInteractive(key) {\n",
              "          const element = document.querySelector('#df-ee3111f2-9310-49df-a764-f56feec5fb22');\n",
              "          const dataTable =\n",
              "            await google.colab.kernel.invokeFunction('convertToInteractive',\n",
              "                                                     [key], {});\n",
              "          if (!dataTable) return;\n",
              "\n",
              "          const docLinkHtml = 'Like what you see? Visit the ' +\n",
              "            '<a target=\"_blank\" href=https://colab.research.google.com/notebooks/data_table.ipynb>data table notebook</a>'\n",
              "            + ' to learn more about interactive tables.';\n",
              "          element.innerHTML = '';\n",
              "          dataTable['output_type'] = 'display_data';\n",
              "          await google.colab.output.renderOutput(dataTable, element);\n",
              "          const docLink = document.createElement('div');\n",
              "          docLink.innerHTML = docLinkHtml;\n",
              "          element.appendChild(docLink);\n",
              "        }\n",
              "      </script>\n",
              "    </div>\n",
              "  </div>\n",
              "  "
            ]
          },
          "metadata": {},
          "execution_count": 66
        }
      ],
      "source": [
        "random_building_id = pd.concat([random_building_id.reset_index(), Anomaly], axis=1)\n",
        "random_building_id"
      ]
    },
    {
      "cell_type": "code",
      "execution_count": null,
      "id": "07612a4d",
      "metadata": {
        "colab": {
          "base_uri": "https://localhost:8080/"
        },
        "id": "07612a4d",
        "outputId": "f614265f-56e7-4667-deb8-dd44983efd29"
      },
      "outputs": [
        {
          "output_type": "execute_result",
          "data": {
            "text/plain": [
              "1    5266\n",
              "Name: Anomaly, dtype: int64"
            ]
          },
          "metadata": {},
          "execution_count": 67
        }
      ],
      "source": [
        "random_building_id['Anomaly'].value_counts()"
      ]
    },
    {
      "cell_type": "code",
      "execution_count": null,
      "id": "5fcab80d",
      "metadata": {
        "colab": {
          "base_uri": "https://localhost:8080/",
          "height": 508
        },
        "id": "5fcab80d",
        "outputId": "5198d923-b53d-4b84-ad6f-687ee62c768a"
      },
      "outputs": [
        {
          "output_type": "display_data",
          "data": {
            "text/plain": [
              "<Figure size 2160x720 with 1 Axes>"
            ],
            "image/png": "[encoded data removed]"
          },
          "metadata": {
            "needs_background": "light"
          }
        }
      ],
      "source": [
        "fig, ax = plt.subplots(figsize=(30,10))\n",
        "\n",
        "anomaly = random_building_id.loc[random_building_id['Anomaly'] == -1, ['meter_reading']] \n",
        "\n",
        "ax.plot(random_building_id.index, random_building_id['meter_reading'], color='blue', label = 'Normal')\n",
        "ax.scatter(anomaly.index,anomaly['meter_reading'], color='red', label = 'Anomaly')\n",
        "ax.set_title('Random Building Id(108) anomalies points', fontsize=20)\n",
        "plt.legend()\n",
        "plt.show();"
      ]
    },
    {
      "cell_type": "code",
      "execution_count": null,
      "id": "3d8bebf1",
      "metadata": {
        "colab": {
          "base_uri": "https://localhost:8080/"
        },
        "id": "3d8bebf1",
        "outputId": "388a88b2-1d59-4102-f4d7-4c35b6ec7497"
      },
      "outputs": [
        {
          "output_type": "execute_result",
          "data": {
            "text/plain": [
              "1    5266\n",
              "Name: Anomaly, dtype: int64"
            ]
          },
          "metadata": {},
          "execution_count": 69
        }
      ],
      "source": [
        "random_building_id['Anomaly'].value_counts()"
      ]
    },
    {
      "cell_type": "code",
      "execution_count": null,
      "id": "59e353ea",
      "metadata": {
        "id": "59e353ea"
      },
      "outputs": [],
      "source": [
        "random_building_id['Anomaly'] = random_building_id['Anomaly'].replace(1, 0)\n",
        "random_building_id['Anomaly'] = random_building_id['Anomaly'].replace(-1, 1)"
      ]
    },
    {
      "cell_type": "code",
      "execution_count": null,
      "id": "c4351c95",
      "metadata": {
        "colab": {
          "base_uri": "https://localhost:8080/"
        },
        "id": "c4351c95",
        "outputId": "d224bc12-2d83-4667-8def-7df1a00b5eb2"
      },
      "outputs": [
        {
          "output_type": "stream",
          "name": "stdout",
          "text": [
            "my first model predication for only one building has accurcy  97.82 %\n"
          ]
        }
      ],
      "source": [
        "print(\"my first model predication for only one building has accurcy \",round((random_building_id[random_building_id['anomaly'] == random_building_id['Anomaly']].shape[0]/random_building_id.shape[0])*100,2),\"%\")"
      ]
    },
    {
      "cell_type": "code",
      "execution_count": null,
      "id": "ed6a95ea",
      "metadata": {
        "id": "ed6a95ea"
      },
      "outputs": [],
      "source": [
        "data=[]\n",
        "for building in buildings:\n",
        "    All_buildings = df.groupby(\"building_id\").get_group(building)\n",
        "    data.append(All_buildings)"
      ]
    },
    {
      "cell_type": "code",
      "execution_count": null,
      "id": "ea9122e0",
      "metadata": {
        "id": "ea9122e0"
      },
      "outputs": [],
      "source": [
        "data[0]"
      ]
    },
    {
      "cell_type": "code",
      "execution_count": null,
      "id": "2dcd0b87",
      "metadata": {
        "id": "2dcd0b87"
      },
      "outputs": [],
      "source": [
        "# train isolation forest\n",
        "full_anomaly = pd.DataFrame()\n",
        "for i in range (x):\n",
        "    \n",
        "    All_buildings = data[i]\n",
        "    \n",
        "    outliers_fraction = float(.01)\n",
        "\n",
        "    scaler = StandardScaler()\n",
        "    np_scaled = scaler.fit_transform(All_buildings[\"meter_reading\"].values.reshape(-1, 1))\n",
        "    df_data = pd.DataFrame(np_scaled)\n",
        "\n",
        "    model =  IsolationForest(contamination=outliers_fraction)\n",
        "    model.fit(df_data) \n",
        "    Anomaly = model.predict(df_data)\n",
        "    Anomaly = pd.DataFrame(Anomaly,columns=['Anomaly'])\n",
        "    print(\"========== building number {} predicted ==========\".format(i+1))\n",
        "    full_anomaly = full_anomaly.append(Anomaly)"
      ]
    },
    {
      "cell_type": "code",
      "execution_count": null,
      "id": "eb87c1e8",
      "metadata": {
        "colab": {
          "base_uri": "https://localhost:8080/",
          "height": 424
        },
        "id": "eb87c1e8",
        "outputId": "c4beb6eb-d7db-424b-9d42-f4f473a2ffd2"
      },
      "outputs": [
        {
          "data": {
            "text/html": [
              "\n",
              "  <div id=\"df-671ac42f-a6fa-4de3-9437-b941929b5fb3\">\n",
              "    <div class=\"colab-df-container\">\n",
              "      <div>\n",
              "<style scoped>\n",
              "    .dataframe tbody tr th:only-of-type {\n",
              "        vertical-align: middle;\n",
              "    }\n",
              "\n",
              "    .dataframe tbody tr th {\n",
              "        vertical-align: top;\n",
              "    }\n",
              "\n",
              "    .dataframe thead th {\n",
              "        text-align: right;\n",
              "    }\n",
              "</style>\n",
              "<table border=\"1\" class=\"dataframe\">\n",
              "  <thead>\n",
              "    <tr style=\"text-align: right;\">\n",
              "      <th></th>\n",
              "      <th>Anomaly</th>\n",
              "    </tr>\n",
              "  </thead>\n",
              "  <tbody>\n",
              "    <tr>\n",
              "      <th>0</th>\n",
              "      <td>1</td>\n",
              "    </tr>\n",
              "    <tr>\n",
              "      <th>1</th>\n",
              "      <td>1</td>\n",
              "    </tr>\n",
              "    <tr>\n",
              "      <th>2</th>\n",
              "      <td>1</td>\n",
              "    </tr>\n",
              "    <tr>\n",
              "      <th>3</th>\n",
              "      <td>1</td>\n",
              "    </tr>\n",
              "    <tr>\n",
              "      <th>4</th>\n",
              "      <td>1</td>\n",
              "    </tr>\n",
              "    <tr>\n",
              "      <th>...</th>\n",
              "      <td>...</td>\n",
              "    </tr>\n",
              "    <tr>\n",
              "      <th>1048570</th>\n",
              "      <td>1</td>\n",
              "    </tr>\n",
              "    <tr>\n",
              "      <th>1048571</th>\n",
              "      <td>1</td>\n",
              "    </tr>\n",
              "    <tr>\n",
              "      <th>1048572</th>\n",
              "      <td>1</td>\n",
              "    </tr>\n",
              "    <tr>\n",
              "      <th>1048573</th>\n",
              "      <td>1</td>\n",
              "    </tr>\n",
              "    <tr>\n",
              "      <th>1048574</th>\n",
              "      <td>1</td>\n",
              "    </tr>\n",
              "  </tbody>\n",
              "</table>\n",
              "<p>1048575 rows × 1 columns</p>\n",
              "</div>\n",
              "      <button class=\"colab-df-convert\" onclick=\"convertToInteractive('df-671ac42f-a6fa-4de3-9437-b941929b5fb3')\"\n",
              "              title=\"Convert this dataframe to an interactive table.\"\n",
              "              style=\"display:none;\">\n",
              "        \n",
              "  <svg xmlns=\"http://www.w3.org/2000/svg\" height=\"24px\"viewBox=\"0 0 24 24\"\n",
              "       width=\"24px\">\n",
              "    <path d=\"M0 0h24v24H0V0z\" fill=\"none\"/>\n",
              "    <path d=\"M18.56 5.44l.94 2.06.94-2.06 2.06-.94-2.06-.94-.94-2.06-.94 2.06-2.06.94zm-11 1L8.5 8.5l.94-2.06 2.06-.94-2.06-.94L8.5 2.5l-.94 2.06-2.06.94zm10 10l.94 2.06.94-2.06 2.06-.94-2.06-.94-.94-2.06-.94 2.06-2.06.94z\"/><path d=\"M17.41 7.96l-1.37-1.37c-.4-.4-.92-.59-1.43-.59-.52 0-1.04.2-1.43.59L10.3 9.45l-7.72 7.72c-.78.78-.78 2.05 0 2.83L4 21.41c.39.39.9.59 1.41.59.51 0 1.02-.2 1.41-.59l7.78-7.78 2.81-2.81c.8-.78.8-2.07 0-2.86zM5.41 20L4 18.59l7.72-7.72 1.47 1.35L5.41 20z\"/>\n",
              "  </svg>\n",
              "      </button>\n",
              "      \n",
              "  <style>\n",
              "    .colab-df-container {\n",
              "      display:flex;\n",
              "      flex-wrap:wrap;\n",
              "      gap: 12px;\n",
              "    }\n",
              "\n",
              "    .colab-df-convert {\n",
              "      background-color: #E8F0FE;\n",
              "      border: none;\n",
              "      border-radius: 50%;\n",
              "      cursor: pointer;\n",
              "      display: none;\n",
              "      fill: #1967D2;\n",
              "      height: 32px;\n",
              "      padding: 0 0 0 0;\n",
              "      width: 32px;\n",
              "    }\n",
              "\n",
              "    .colab-df-convert:hover {\n",
              "      background-color: #E2EBFA;\n",
              "      box-shadow: 0px 1px 2px rgba(60, 64, 67, 0.3), 0px 1px 3px 1px rgba(60, 64, 67, 0.15);\n",
              "      fill: #174EA6;\n",
              "    }\n",
              "\n",
              "    [theme=dark] .colab-df-convert {\n",
              "      background-color: #3B4455;\n",
              "      fill: #D2E3FC;\n",
              "    }\n",
              "\n",
              "    [theme=dark] .colab-df-convert:hover {\n",
              "      background-color: #434B5C;\n",
              "      box-shadow: 0px 1px 3px 1px rgba(0, 0, 0, 0.15);\n",
              "      filter: drop-shadow(0px 1px 2px rgba(0, 0, 0, 0.3));\n",
              "      fill: #FFFFFF;\n",
              "    }\n",
              "  </style>\n",
              "\n",
              "      <script>\n",
              "        const buttonEl =\n",
              "          document.querySelector('#df-671ac42f-a6fa-4de3-9437-b941929b5fb3 button.colab-df-convert');\n",
              "        buttonEl.style.display =\n",
              "          google.colab.kernel.accessAllowed ? 'block' : 'none';\n",
              "\n",
              "        async function convertToInteractive(key) {\n",
              "          const element = document.querySelector('#df-671ac42f-a6fa-4de3-9437-b941929b5fb3');\n",
              "          const dataTable =\n",
              "            await google.colab.kernel.invokeFunction('convertToInteractive',\n",
              "                                                     [key], {});\n",
              "          if (!dataTable) return;\n",
              "\n",
              "          const docLinkHtml = 'Like what you see? Visit the ' +\n",
              "            '<a target=\"_blank\" href=https://colab.research.google.com/notebooks/data_table.ipynb>data table notebook</a>'\n",
              "            + ' to learn more about interactive tables.';\n",
              "          element.innerHTML = '';\n",
              "          dataTable['output_type'] = 'display_data';\n",
              "          await google.colab.output.renderOutput(dataTable, element);\n",
              "          const docLink = document.createElement('div');\n",
              "          docLink.innerHTML = docLinkHtml;\n",
              "          element.appendChild(docLink);\n",
              "        }\n",
              "      </script>\n",
              "    </div>\n",
              "  </div>\n",
              "  "
            ],
            "text/plain": [
              "         Anomaly\n",
              "0              1\n",
              "1              1\n",
              "2              1\n",
              "3              1\n",
              "4              1\n",
              "...          ...\n",
              "1048570        1\n",
              "1048571        1\n",
              "1048572        1\n",
              "1048573        1\n",
              "1048574        1\n",
              "\n",
              "[1048575 rows x 1 columns]"
            ]
          },
          "execution_count": 75,
          "metadata": {},
          "output_type": "execute_result"
        }
      ],
      "source": [
        "full_anomaly.reset_index(inplace= True)\n",
        "full_anomaly.drop('index', axis=1, inplace=True)\n",
        "full_anomaly"
      ]
    },
    {
      "cell_type": "code",
      "execution_count": null,
      "id": "3d298676",
      "metadata": {
        "colab": {
          "base_uri": "https://localhost:8080/",
          "height": 424
        },
        "id": "3d298676",
        "outputId": "8f035686-a565-43c7-a910-2cf6f0566901"
      },
      "outputs": [
        {
          "data": {
            "text/html": [
              "\n",
              "  <div id=\"df-ce134f9f-cc0c-467b-a7dc-64f6ceb81f03\">\n",
              "    <div class=\"colab-df-container\">\n",
              "      <div>\n",
              "<style scoped>\n",
              "    .dataframe tbody tr th:only-of-type {\n",
              "        vertical-align: middle;\n",
              "    }\n",
              "\n",
              "    .dataframe tbody tr th {\n",
              "        vertical-align: top;\n",
              "    }\n",
              "\n",
              "    .dataframe thead th {\n",
              "        text-align: right;\n",
              "    }\n",
              "</style>\n",
              "<table border=\"1\" class=\"dataframe\">\n",
              "  <thead>\n",
              "    <tr style=\"text-align: right;\">\n",
              "      <th></th>\n",
              "      <th>timestamp</th>\n",
              "      <th>building_id</th>\n",
              "      <th>meter_reading</th>\n",
              "      <th>anomaly</th>\n",
              "      <th>Anomaly</th>\n",
              "    </tr>\n",
              "  </thead>\n",
              "  <tbody>\n",
              "    <tr>\n",
              "      <th>0</th>\n",
              "      <td>01-01-2016 00:00</td>\n",
              "      <td>1</td>\n",
              "      <td>180.777984</td>\n",
              "      <td>0</td>\n",
              "      <td>1</td>\n",
              "    </tr>\n",
              "    <tr>\n",
              "      <th>1</th>\n",
              "      <td>01-01-2016 00:00</td>\n",
              "      <td>32</td>\n",
              "      <td>180.777984</td>\n",
              "      <td>0</td>\n",
              "      <td>1</td>\n",
              "    </tr>\n",
              "    <tr>\n",
              "      <th>2</th>\n",
              "      <td>01-01-2016 00:00</td>\n",
              "      <td>41</td>\n",
              "      <td>180.777984</td>\n",
              "      <td>0</td>\n",
              "      <td>1</td>\n",
              "    </tr>\n",
              "    <tr>\n",
              "      <th>3</th>\n",
              "      <td>01-01-2016 00:00</td>\n",
              "      <td>55</td>\n",
              "      <td>180.777984</td>\n",
              "      <td>0</td>\n",
              "      <td>1</td>\n",
              "    </tr>\n",
              "    <tr>\n",
              "      <th>4</th>\n",
              "      <td>01-01-2016 00:00</td>\n",
              "      <td>69</td>\n",
              "      <td>180.777984</td>\n",
              "      <td>0</td>\n",
              "      <td>1</td>\n",
              "    </tr>\n",
              "    <tr>\n",
              "      <th>...</th>\n",
              "      <td>...</td>\n",
              "      <td>...</td>\n",
              "      <td>...</td>\n",
              "      <td>...</td>\n",
              "      <td>...</td>\n",
              "    </tr>\n",
              "    <tr>\n",
              "      <th>1048570</th>\n",
              "      <td>07-08-2016 09:00</td>\n",
              "      <td>657</td>\n",
              "      <td>15.300000</td>\n",
              "      <td>0</td>\n",
              "      <td>1</td>\n",
              "    </tr>\n",
              "    <tr>\n",
              "      <th>1048571</th>\n",
              "      <td>07-08-2016 09:00</td>\n",
              "      <td>658</td>\n",
              "      <td>11.200000</td>\n",
              "      <td>0</td>\n",
              "      <td>1</td>\n",
              "    </tr>\n",
              "    <tr>\n",
              "      <th>1048572</th>\n",
              "      <td>07-08-2016 09:00</td>\n",
              "      <td>666</td>\n",
              "      <td>2.900000</td>\n",
              "      <td>0</td>\n",
              "      <td>1</td>\n",
              "    </tr>\n",
              "    <tr>\n",
              "      <th>1048573</th>\n",
              "      <td>07-08-2016 09:00</td>\n",
              "      <td>667</td>\n",
              "      <td>1.700000</td>\n",
              "      <td>0</td>\n",
              "      <td>1</td>\n",
              "    </tr>\n",
              "    <tr>\n",
              "      <th>1048574</th>\n",
              "      <td>07-08-2016 09:00</td>\n",
              "      <td>673</td>\n",
              "      <td>5.100000</td>\n",
              "      <td>0</td>\n",
              "      <td>1</td>\n",
              "    </tr>\n",
              "  </tbody>\n",
              "</table>\n",
              "<p>1048575 rows × 5 columns</p>\n",
              "</div>\n",
              "      <button class=\"colab-df-convert\" onclick=\"convertToInteractive('df-ce134f9f-cc0c-467b-a7dc-64f6ceb81f03')\"\n",
              "              title=\"Convert this dataframe to an interactive table.\"\n",
              "              style=\"display:none;\">\n",
              "        \n",
              "  <svg xmlns=\"http://www.w3.org/2000/svg\" height=\"24px\"viewBox=\"0 0 24 24\"\n",
              "       width=\"24px\">\n",
              "    <path d=\"M0 0h24v24H0V0z\" fill=\"none\"/>\n",
              "    <path d=\"M18.56 5.44l.94 2.06.94-2.06 2.06-.94-2.06-.94-.94-2.06-.94 2.06-2.06.94zm-11 1L8.5 8.5l.94-2.06 2.06-.94-2.06-.94L8.5 2.5l-.94 2.06-2.06.94zm10 10l.94 2.06.94-2.06 2.06-.94-2.06-.94-.94-2.06-.94 2.06-2.06.94z\"/><path d=\"M17.41 7.96l-1.37-1.37c-.4-.4-.92-.59-1.43-.59-.52 0-1.04.2-1.43.59L10.3 9.45l-7.72 7.72c-.78.78-.78 2.05 0 2.83L4 21.41c.39.39.9.59 1.41.59.51 0 1.02-.2 1.41-.59l7.78-7.78 2.81-2.81c.8-.78.8-2.07 0-2.86zM5.41 20L4 18.59l7.72-7.72 1.47 1.35L5.41 20z\"/>\n",
              "  </svg>\n",
              "      </button>\n",
              "      \n",
              "  <style>\n",
              "    .colab-df-container {\n",
              "      display:flex;\n",
              "      flex-wrap:wrap;\n",
              "      gap: 12px;\n",
              "    }\n",
              "\n",
              "    .colab-df-convert {\n",
              "      background-color: #E8F0FE;\n",
              "      border: none;\n",
              "      border-radius: 50%;\n",
              "      cursor: pointer;\n",
              "      display: none;\n",
              "      fill: #1967D2;\n",
              "      height: 32px;\n",
              "      padding: 0 0 0 0;\n",
              "      width: 32px;\n",
              "    }\n",
              "\n",
              "    .colab-df-convert:hover {\n",
              "      background-color: #E2EBFA;\n",
              "      box-shadow: 0px 1px 2px rgba(60, 64, 67, 0.3), 0px 1px 3px 1px rgba(60, 64, 67, 0.15);\n",
              "      fill: #174EA6;\n",
              "    }\n",
              "\n",
              "    [theme=dark] .colab-df-convert {\n",
              "      background-color: #3B4455;\n",
              "      fill: #D2E3FC;\n",
              "    }\n",
              "\n",
              "    [theme=dark] .colab-df-convert:hover {\n",
              "      background-color: #434B5C;\n",
              "      box-shadow: 0px 1px 3px 1px rgba(0, 0, 0, 0.15);\n",
              "      filter: drop-shadow(0px 1px 2px rgba(0, 0, 0, 0.3));\n",
              "      fill: #FFFFFF;\n",
              "    }\n",
              "  </style>\n",
              "\n",
              "      <script>\n",
              "        const buttonEl =\n",
              "          document.querySelector('#df-ce134f9f-cc0c-467b-a7dc-64f6ceb81f03 button.colab-df-convert');\n",
              "        buttonEl.style.display =\n",
              "          google.colab.kernel.accessAllowed ? 'block' : 'none';\n",
              "\n",
              "        async function convertToInteractive(key) {\n",
              "          const element = document.querySelector('#df-ce134f9f-cc0c-467b-a7dc-64f6ceb81f03');\n",
              "          const dataTable =\n",
              "            await google.colab.kernel.invokeFunction('convertToInteractive',\n",
              "                                                     [key], {});\n",
              "          if (!dataTable) return;\n",
              "\n",
              "          const docLinkHtml = 'Like what you see? Visit the ' +\n",
              "            '<a target=\"_blank\" href=https://colab.research.google.com/notebooks/data_table.ipynb>data table notebook</a>'\n",
              "            + ' to learn more about interactive tables.';\n",
              "          element.innerHTML = '';\n",
              "          dataTable['output_type'] = 'display_data';\n",
              "          await google.colab.output.renderOutput(dataTable, element);\n",
              "          const docLink = document.createElement('div');\n",
              "          docLink.innerHTML = docLinkHtml;\n",
              "          element.appendChild(docLink);\n",
              "        }\n",
              "      </script>\n",
              "    </div>\n",
              "  </div>\n",
              "  "
            ],
            "text/plain": [
              "                timestamp  building_id  meter_reading  anomaly  Anomaly\n",
              "0        01-01-2016 00:00            1     180.777984        0        1\n",
              "1        01-01-2016 00:00           32     180.777984        0        1\n",
              "2        01-01-2016 00:00           41     180.777984        0        1\n",
              "3        01-01-2016 00:00           55     180.777984        0        1\n",
              "4        01-01-2016 00:00           69     180.777984        0        1\n",
              "...                   ...          ...            ...      ...      ...\n",
              "1048570  07-08-2016 09:00          657      15.300000        0        1\n",
              "1048571  07-08-2016 09:00          658      11.200000        0        1\n",
              "1048572  07-08-2016 09:00          666       2.900000        0        1\n",
              "1048573  07-08-2016 09:00          667       1.700000        0        1\n",
              "1048574  07-08-2016 09:00          673       5.100000        0        1\n",
              "\n",
              "[1048575 rows x 5 columns]"
            ]
          },
          "execution_count": 76,
          "metadata": {},
          "output_type": "execute_result"
        }
      ],
      "source": [
        "df_full_anomaly = pd.concat([df.reset_index(), full_anomaly], axis=1)\n",
        "df_full_anomaly"
      ]
    },
    {
      "cell_type": "code",
      "execution_count": null,
      "id": "fb54160d",
      "metadata": {
        "id": "fb54160d"
      },
      "outputs": [],
      "source": [
        "fig, ax = plt.subplots(figsize=(30,10))\n",
        "\n",
        "anomaly = df_full_anomaly.loc[df_full_anomaly['Anomaly'] == -1, ['meter_reading']] \n",
        "\n",
        "ax.plot(df_full_anomaly.index, df_full_anomaly['meter_reading'], color='blue', label = 'Normal')\n",
        "ax.scatter(anomaly.index,anomaly['meter_reading'], color='red', label = 'Anomaly')\n",
        "ax.set_title('All buildings anomalies points', fontsize=20)\n",
        "plt.legend()\n",
        "plt.show();"
      ]
    },
    {
      "cell_type": "code",
      "execution_count": null,
      "id": "4b0888d3",
      "metadata": {
        "id": "4b0888d3"
      },
      "outputs": [],
      "source": [
        "df_full_anomaly['Anomaly'].value_counts()"
      ]
    },
    {
      "cell_type": "code",
      "execution_count": null,
      "id": "245fdc62",
      "metadata": {
        "id": "245fdc62"
      },
      "outputs": [],
      "source": [
        "df_full_anomaly['Anomaly'] = df_full_anomaly['Anomaly'].replace(1, 0)\n",
        "df_full_anomaly['Anomaly'] = df_full_anomaly['Anomaly'].replace(-1, 1)"
      ]
    },
    {
      "cell_type": "code",
      "execution_count": null,
      "id": "8a9f44fd",
      "metadata": {
        "id": "8a9f44fd"
      },
      "outputs": [],
      "source": [
        "print(\"my first model predication for only one building has accurcy \",round((df_full_anomaly[df_full_anomaly['anomaly'] == df_full_anomaly['Anomaly']].shape[0]/df.shape[0])*100,2),\"%\")"
      ]
    },
    {
      "cell_type": "code",
      "execution_count": null,
      "id": "fade6425",
      "metadata": {
        "id": "fade6425"
      },
      "outputs": [],
      "source": [
        "# Load libraries\n",
        "\n",
        "from sklearn.model_selection import train_test_split\n",
        "\n",
        "from sklearn.metrics import classification_report\n",
        "from sklearn.metrics import confusion_matrix\n",
        "from sklearn.metrics import accuracy_score\n",
        "\n",
        "from sklearn.linear_model import LogisticRegression\n",
        "from sklearn.tree import DecisionTreeClassifier"
      ]
    },
    {
      "cell_type": "code",
      "execution_count": null,
      "id": "91fc1a6c",
      "metadata": {
        "id": "91fc1a6c"
      },
      "outputs": [],
      "source": [
        "train = pd.read_csv('/content/drive/MyDrive/AnomalyDetection_Dataset/train_features.csv')\n",
        "test = pd.read_csv('/content/drive/MyDrive/AnomalyDetection_Dataset/test_features.csv')"
      ]
    },
    {
      "cell_type": "code",
      "execution_count": null,
      "id": "ca47edba",
      "metadata": {
        "id": "ca47edba",
        "colab": {
          "base_uri": "https://localhost:8080/",
          "height": 473
        },
        "outputId": "21907908-9c0a-44ed-d533-3c379e3ef149"
      },
      "outputs": [
        {
          "output_type": "execute_result",
          "data": {
            "text/plain": [
              "   building_id         timestamp  meter_reading  anomaly  site_id primary_use  \\\n",
              "0            1  01-01-2016 00:00            NaN        0        0   Education   \n",
              "1           32  01-01-2016 00:00            NaN        0        0      Office   \n",
              "2           41  01-01-2016 00:00            NaN        0        0      Office   \n",
              "3           55  01-01-2016 00:00            NaN        0        0      Office   \n",
              "4           69  01-01-2016 00:00            NaN        0        0     Parking   \n",
              "\n",
              "   square_feet  year_built  floor_count  air_temperature  ...  gte_meter  \\\n",
              "0         2720         104            0             19.4  ...      4.116   \n",
              "1        48392         105            0             19.4  ...      4.116   \n",
              "2        93860          68            0             19.4  ...      4.116   \n",
              "3        16726         111            0             19.4  ...      4.116   \n",
              "4       387638         100            0             19.4  ...      4.116   \n",
              "\n",
              "   gte_meter_hour  gte_meter_weekday  gte_meter_month  gte_meter_building_id  \\\n",
              "0           3.981              4.146             4.12                  3.569   \n",
              "1           3.981              4.146             4.12                  4.513   \n",
              "2           3.981              4.146             4.12                  4.108   \n",
              "3           3.981              4.146             4.12                  3.506   \n",
              "4           3.981              4.146             4.12                  3.035   \n",
              "\n",
              "   gte_meter_primary_use  gte_meter_site_id  gte_meter_building_id_hour  \\\n",
              "0                  4.489              4.079                       3.554   \n",
              "1                  4.211              4.079                       4.128   \n",
              "2                  4.211              4.079                       4.103   \n",
              "3                  4.211              4.079                       3.308   \n",
              "4                  3.623              4.079                       3.892   \n",
              "\n",
              "   gte_meter_building_id_weekday  gte_meter_building_id_month  \n",
              "0                          3.538                        3.845  \n",
              "1                          4.579                        4.317  \n",
              "2                          4.140                        4.114  \n",
              "3                          3.565                        3.813  \n",
              "4                          3.090                        3.577  \n",
              "\n",
              "[5 rows x 57 columns]"
            ],
            "text/html": [
              "\n",
              "  <div id=\"df-ebc4192a-7e4c-4478-a1ed-7e4ddc186664\">\n",
              "    <div class=\"colab-df-container\">\n",
              "      <div>\n",
              "<style scoped>\n",
              "    .dataframe tbody tr th:only-of-type {\n",
              "        vertical-align: middle;\n",
              "    }\n",
              "\n",
              "    .dataframe tbody tr th {\n",
              "        vertical-align: top;\n",
              "    }\n",
              "\n",
              "    .dataframe thead th {\n",
              "        text-align: right;\n",
              "    }\n",
              "</style>\n",
              "<table border=\"1\" class=\"dataframe\">\n",
              "  <thead>\n",
              "    <tr style=\"text-align: right;\">\n",
              "      <th></th>\n",
              "      <th>building_id</th>\n",
              "      <th>timestamp</th>\n",
              "      <th>meter_reading</th>\n",
              "      <th>anomaly</th>\n",
              "      <th>site_id</th>\n",
              "      <th>primary_use</th>\n",
              "      <th>square_feet</th>\n",
              "      <th>year_built</th>\n",
              "      <th>floor_count</th>\n",
              "      <th>air_temperature</th>\n",
              "      <th>...</th>\n",
              "      <th>gte_meter</th>\n",
              "      <th>gte_meter_hour</th>\n",
              "      <th>gte_meter_weekday</th>\n",
              "      <th>gte_meter_month</th>\n",
              "      <th>gte_meter_building_id</th>\n",
              "      <th>gte_meter_primary_use</th>\n",
              "      <th>gte_meter_site_id</th>\n",
              "      <th>gte_meter_building_id_hour</th>\n",
              "      <th>gte_meter_building_id_weekday</th>\n",
              "      <th>gte_meter_building_id_month</th>\n",
              "    </tr>\n",
              "  </thead>\n",
              "  <tbody>\n",
              "    <tr>\n",
              "      <th>0</th>\n",
              "      <td>1</td>\n",
              "      <td>01-01-2016 00:00</td>\n",
              "      <td>NaN</td>\n",
              "      <td>0</td>\n",
              "      <td>0</td>\n",
              "      <td>Education</td>\n",
              "      <td>2720</td>\n",
              "      <td>104</td>\n",
              "      <td>0</td>\n",
              "      <td>19.4</td>\n",
              "      <td>...</td>\n",
              "      <td>4.116</td>\n",
              "      <td>3.981</td>\n",
              "      <td>4.146</td>\n",
              "      <td>4.12</td>\n",
              "      <td>3.569</td>\n",
              "      <td>4.489</td>\n",
              "      <td>4.079</td>\n",
              "      <td>3.554</td>\n",
              "      <td>3.538</td>\n",
              "      <td>3.845</td>\n",
              "    </tr>\n",
              "    <tr>\n",
              "      <th>1</th>\n",
              "      <td>32</td>\n",
              "      <td>01-01-2016 00:00</td>\n",
              "      <td>NaN</td>\n",
              "      <td>0</td>\n",
              "      <td>0</td>\n",
              "      <td>Office</td>\n",
              "      <td>48392</td>\n",
              "      <td>105</td>\n",
              "      <td>0</td>\n",
              "      <td>19.4</td>\n",
              "      <td>...</td>\n",
              "      <td>4.116</td>\n",
              "      <td>3.981</td>\n",
              "      <td>4.146</td>\n",
              "      <td>4.12</td>\n",
              "      <td>4.513</td>\n",
              "      <td>4.211</td>\n",
              "      <td>4.079</td>\n",
              "      <td>4.128</td>\n",
              "      <td>4.579</td>\n",
              "      <td>4.317</td>\n",
              "    </tr>\n",
              "    <tr>\n",
              "      <th>2</th>\n",
              "      <td>41</td>\n",
              "      <td>01-01-2016 00:00</td>\n",
              "      <td>NaN</td>\n",
              "      <td>0</td>\n",
              "      <td>0</td>\n",
              "      <td>Office</td>\n",
              "      <td>93860</td>\n",
              "      <td>68</td>\n",
              "      <td>0</td>\n",
              "      <td>19.4</td>\n",
              "      <td>...</td>\n",
              "      <td>4.116</td>\n",
              "      <td>3.981</td>\n",
              "      <td>4.146</td>\n",
              "      <td>4.12</td>\n",
              "      <td>4.108</td>\n",
              "      <td>4.211</td>\n",
              "      <td>4.079</td>\n",
              "      <td>4.103</td>\n",
              "      <td>4.140</td>\n",
              "      <td>4.114</td>\n",
              "    </tr>\n",
              "    <tr>\n",
              "      <th>3</th>\n",
              "      <td>55</td>\n",
              "      <td>01-01-2016 00:00</td>\n",
              "      <td>NaN</td>\n",
              "      <td>0</td>\n",
              "      <td>0</td>\n",
              "      <td>Office</td>\n",
              "      <td>16726</td>\n",
              "      <td>111</td>\n",
              "      <td>0</td>\n",
              "      <td>19.4</td>\n",
              "      <td>...</td>\n",
              "      <td>4.116</td>\n",
              "      <td>3.981</td>\n",
              "      <td>4.146</td>\n",
              "      <td>4.12</td>\n",
              "      <td>3.506</td>\n",
              "      <td>4.211</td>\n",
              "      <td>4.079</td>\n",
              "      <td>3.308</td>\n",
              "      <td>3.565</td>\n",
              "      <td>3.813</td>\n",
              "    </tr>\n",
              "    <tr>\n",
              "      <th>4</th>\n",
              "      <td>69</td>\n",
              "      <td>01-01-2016 00:00</td>\n",
              "      <td>NaN</td>\n",
              "      <td>0</td>\n",
              "      <td>0</td>\n",
              "      <td>Parking</td>\n",
              "      <td>387638</td>\n",
              "      <td>100</td>\n",
              "      <td>0</td>\n",
              "      <td>19.4</td>\n",
              "      <td>...</td>\n",
              "      <td>4.116</td>\n",
              "      <td>3.981</td>\n",
              "      <td>4.146</td>\n",
              "      <td>4.12</td>\n",
              "      <td>3.035</td>\n",
              "      <td>3.623</td>\n",
              "      <td>4.079</td>\n",
              "      <td>3.892</td>\n",
              "      <td>3.090</td>\n",
              "      <td>3.577</td>\n",
              "    </tr>\n",
              "  </tbody>\n",
              "</table>\n",
              "<p>5 rows × 57 columns</p>\n",
              "</div>\n",
              "      <button class=\"colab-df-convert\" onclick=\"convertToInteractive('df-ebc4192a-7e4c-4478-a1ed-7e4ddc186664')\"\n",
              "              title=\"Convert this dataframe to an interactive table.\"\n",
              "              style=\"display:none;\">\n",
              "        \n",
              "  <svg xmlns=\"http://www.w3.org/2000/svg\" height=\"24px\"viewBox=\"0 0 24 24\"\n",
              "       width=\"24px\">\n",
              "    <path d=\"M0 0h24v24H0V0z\" fill=\"none\"/>\n",
              "    <path d=\"M18.56 5.44l.94 2.06.94-2.06 2.06-.94-2.06-.94-.94-2.06-.94 2.06-2.06.94zm-11 1L8.5 8.5l.94-2.06 2.06-.94-2.06-.94L8.5 2.5l-.94 2.06-2.06.94zm10 10l.94 2.06.94-2.06 2.06-.94-2.06-.94-.94-2.06-.94 2.06-2.06.94z\"/><path d=\"M17.41 7.96l-1.37-1.37c-.4-.4-.92-.59-1.43-.59-.52 0-1.04.2-1.43.59L10.3 9.45l-7.72 7.72c-.78.78-.78 2.05 0 2.83L4 21.41c.39.39.9.59 1.41.59.51 0 1.02-.2 1.41-.59l7.78-7.78 2.81-2.81c.8-.78.8-2.07 0-2.86zM5.41 20L4 18.59l7.72-7.72 1.47 1.35L5.41 20z\"/>\n",
              "  </svg>\n",
              "      </button>\n",
              "      \n",
              "  <style>\n",
              "    .colab-df-container {\n",
              "      display:flex;\n",
              "      flex-wrap:wrap;\n",
              "      gap: 12px;\n",
              "    }\n",
              "\n",
              "    .colab-df-convert {\n",
              "      background-color: #E8F0FE;\n",
              "      border: none;\n",
              "      border-radius: 50%;\n",
              "      cursor: pointer;\n",
              "      display: none;\n",
              "      fill: #1967D2;\n",
              "      height: 32px;\n",
              "      padding: 0 0 0 0;\n",
              "      width: 32px;\n",
              "    }\n",
              "\n",
              "    .colab-df-convert:hover {\n",
              "      background-color: #E2EBFA;\n",
              "      box-shadow: 0px 1px 2px rgba(60, 64, 67, 0.3), 0px 1px 3px 1px rgba(60, 64, 67, 0.15);\n",
              "      fill: #174EA6;\n",
              "    }\n",
              "\n",
              "    [theme=dark] .colab-df-convert {\n",
              "      background-color: #3B4455;\n",
              "      fill: #D2E3FC;\n",
              "    }\n",
              "\n",
              "    [theme=dark] .colab-df-convert:hover {\n",
              "      background-color: #434B5C;\n",
              "      box-shadow: 0px 1px 3px 1px rgba(0, 0, 0, 0.15);\n",
              "      filter: drop-shadow(0px 1px 2px rgba(0, 0, 0, 0.3));\n",
              "      fill: #FFFFFF;\n",
              "    }\n",
              "  </style>\n",
              "\n",
              "      <script>\n",
              "        const buttonEl =\n",
              "          document.querySelector('#df-ebc4192a-7e4c-4478-a1ed-7e4ddc186664 button.colab-df-convert');\n",
              "        buttonEl.style.display =\n",
              "          google.colab.kernel.accessAllowed ? 'block' : 'none';\n",
              "\n",
              "        async function convertToInteractive(key) {\n",
              "          const element = document.querySelector('#df-ebc4192a-7e4c-4478-a1ed-7e4ddc186664');\n",
              "          const dataTable =\n",
              "            await google.colab.kernel.invokeFunction('convertToInteractive',\n",
              "                                                     [key], {});\n",
              "          if (!dataTable) return;\n",
              "\n",
              "          const docLinkHtml = 'Like what you see? Visit the ' +\n",
              "            '<a target=\"_blank\" href=https://colab.research.google.com/notebooks/data_table.ipynb>data table notebook</a>'\n",
              "            + ' to learn more about interactive tables.';\n",
              "          element.innerHTML = '';\n",
              "          dataTable['output_type'] = 'display_data';\n",
              "          await google.colab.output.renderOutput(dataTable, element);\n",
              "          const docLink = document.createElement('div');\n",
              "          docLink.innerHTML = docLinkHtml;\n",
              "          element.appendChild(docLink);\n",
              "        }\n",
              "      </script>\n",
              "    </div>\n",
              "  </div>\n",
              "  "
            ]
          },
          "metadata": {},
          "execution_count": 79
        }
      ],
      "source": [
        "train.head()"
      ]
    },
    {
      "cell_type": "code",
      "execution_count": null,
      "id": "9f4598a3",
      "metadata": {
        "id": "9f4598a3",
        "colab": {
          "base_uri": "https://localhost:8080/",
          "height": 473
        },
        "outputId": "5bf5592c-ec00-45b9-bc81-dc755358f4ef"
      },
      "outputs": [
        {
          "output_type": "execute_result",
          "data": {
            "text/plain": [
              "         building_id         timestamp  meter_reading  anomaly  site_id  \\\n",
              "1048570          657  07-08-2016 09:00           15.3        0        5   \n",
              "1048571          658  07-08-2016 09:00           11.2        0        5   \n",
              "1048572          666  07-08-2016 09:00            2.9        0        5   \n",
              "1048573          667  07-08-2016 09:00            1.7        0        5   \n",
              "1048574          673  07-08-2016 09:00            5.1        0        5   \n",
              "\n",
              "                           primary_use  square_feet  year_built  floor_count  \\\n",
              "1048570                      Education       109071          66            3   \n",
              "1048571  Entertainment/public assembly        31075          76            2   \n",
              "1048572  Entertainment/public assembly        12045          76            1   \n",
              "1048573  Entertainment/public assembly        15715          66            2   \n",
              "1048574  Entertainment/public assembly        36307          76            2   \n",
              "\n",
              "         air_temperature  ...  gte_meter  gte_meter_hour  gte_meter_weekday  \\\n",
              "1048570             18.0  ...      4.116           4.187              3.989   \n",
              "1048571             18.0  ...      4.116           4.187              3.989   \n",
              "1048572             18.0  ...      4.116           4.187              3.989   \n",
              "1048573             18.0  ...      4.116           4.187              3.989   \n",
              "1048574             18.0  ...      4.116           4.187              3.989   \n",
              "\n",
              "         gte_meter_month  gte_meter_building_id  gte_meter_primary_use  \\\n",
              "1048570            4.186                  3.806                  4.489   \n",
              "1048571            4.186                  2.432                  3.532   \n",
              "1048572            4.186                  1.651                  3.532   \n",
              "1048573            4.186                  1.410                  3.532   \n",
              "1048574            4.186                  2.407                  3.532   \n",
              "\n",
              "         gte_meter_site_id  gte_meter_building_id_hour  \\\n",
              "1048570               2.67                       4.226   \n",
              "1048571               2.67                       2.712   \n",
              "1048572               2.67                       1.991   \n",
              "1048573               2.67                       1.576   \n",
              "1048574               2.67                       1.692   \n",
              "\n",
              "         gte_meter_building_id_weekday  gte_meter_building_id_month  \n",
              "1048570                          3.462                        3.120  \n",
              "1048571                          2.216                        2.379  \n",
              "1048572                          1.244                        1.487  \n",
              "1048573                          1.043                        1.041  \n",
              "1048574                          2.309                        2.788  \n",
              "\n",
              "[5 rows x 57 columns]"
            ],
            "text/html": [
              "\n",
              "  <div id=\"df-d2918a92-257d-4592-ad7f-a3dce3aabfd5\">\n",
              "    <div class=\"colab-df-container\">\n",
              "      <div>\n",
              "<style scoped>\n",
              "    .dataframe tbody tr th:only-of-type {\n",
              "        vertical-align: middle;\n",
              "    }\n",
              "\n",
              "    .dataframe tbody tr th {\n",
              "        vertical-align: top;\n",
              "    }\n",
              "\n",
              "    .dataframe thead th {\n",
              "        text-align: right;\n",
              "    }\n",
              "</style>\n",
              "<table border=\"1\" class=\"dataframe\">\n",
              "  <thead>\n",
              "    <tr style=\"text-align: right;\">\n",
              "      <th></th>\n",
              "      <th>building_id</th>\n",
              "      <th>timestamp</th>\n",
              "      <th>meter_reading</th>\n",
              "      <th>anomaly</th>\n",
              "      <th>site_id</th>\n",
              "      <th>primary_use</th>\n",
              "      <th>square_feet</th>\n",
              "      <th>year_built</th>\n",
              "      <th>floor_count</th>\n",
              "      <th>air_temperature</th>\n",
              "      <th>...</th>\n",
              "      <th>gte_meter</th>\n",
              "      <th>gte_meter_hour</th>\n",
              "      <th>gte_meter_weekday</th>\n",
              "      <th>gte_meter_month</th>\n",
              "      <th>gte_meter_building_id</th>\n",
              "      <th>gte_meter_primary_use</th>\n",
              "      <th>gte_meter_site_id</th>\n",
              "      <th>gte_meter_building_id_hour</th>\n",
              "      <th>gte_meter_building_id_weekday</th>\n",
              "      <th>gte_meter_building_id_month</th>\n",
              "    </tr>\n",
              "  </thead>\n",
              "  <tbody>\n",
              "    <tr>\n",
              "      <th>1048570</th>\n",
              "      <td>657</td>\n",
              "      <td>07-08-2016 09:00</td>\n",
              "      <td>15.3</td>\n",
              "      <td>0</td>\n",
              "      <td>5</td>\n",
              "      <td>Education</td>\n",
              "      <td>109071</td>\n",
              "      <td>66</td>\n",
              "      <td>3</td>\n",
              "      <td>18.0</td>\n",
              "      <td>...</td>\n",
              "      <td>4.116</td>\n",
              "      <td>4.187</td>\n",
              "      <td>3.989</td>\n",
              "      <td>4.186</td>\n",
              "      <td>3.806</td>\n",
              "      <td>4.489</td>\n",
              "      <td>2.67</td>\n",
              "      <td>4.226</td>\n",
              "      <td>3.462</td>\n",
              "      <td>3.120</td>\n",
              "    </tr>\n",
              "    <tr>\n",
              "      <th>1048571</th>\n",
              "      <td>658</td>\n",
              "      <td>07-08-2016 09:00</td>\n",
              "      <td>11.2</td>\n",
              "      <td>0</td>\n",
              "      <td>5</td>\n",
              "      <td>Entertainment/public assembly</td>\n",
              "      <td>31075</td>\n",
              "      <td>76</td>\n",
              "      <td>2</td>\n",
              "      <td>18.0</td>\n",
              "      <td>...</td>\n",
              "      <td>4.116</td>\n",
              "      <td>4.187</td>\n",
              "      <td>3.989</td>\n",
              "      <td>4.186</td>\n",
              "      <td>2.432</td>\n",
              "      <td>3.532</td>\n",
              "      <td>2.67</td>\n",
              "      <td>2.712</td>\n",
              "      <td>2.216</td>\n",
              "      <td>2.379</td>\n",
              "    </tr>\n",
              "    <tr>\n",
              "      <th>1048572</th>\n",
              "      <td>666</td>\n",
              "      <td>07-08-2016 09:00</td>\n",
              "      <td>2.9</td>\n",
              "      <td>0</td>\n",
              "      <td>5</td>\n",
              "      <td>Entertainment/public assembly</td>\n",
              "      <td>12045</td>\n",
              "      <td>76</td>\n",
              "      <td>1</td>\n",
              "      <td>18.0</td>\n",
              "      <td>...</td>\n",
              "      <td>4.116</td>\n",
              "      <td>4.187</td>\n",
              "      <td>3.989</td>\n",
              "      <td>4.186</td>\n",
              "      <td>1.651</td>\n",
              "      <td>3.532</td>\n",
              "      <td>2.67</td>\n",
              "      <td>1.991</td>\n",
              "      <td>1.244</td>\n",
              "      <td>1.487</td>\n",
              "    </tr>\n",
              "    <tr>\n",
              "      <th>1048573</th>\n",
              "      <td>667</td>\n",
              "      <td>07-08-2016 09:00</td>\n",
              "      <td>1.7</td>\n",
              "      <td>0</td>\n",
              "      <td>5</td>\n",
              "      <td>Entertainment/public assembly</td>\n",
              "      <td>15715</td>\n",
              "      <td>66</td>\n",
              "      <td>2</td>\n",
              "      <td>18.0</td>\n",
              "      <td>...</td>\n",
              "      <td>4.116</td>\n",
              "      <td>4.187</td>\n",
              "      <td>3.989</td>\n",
              "      <td>4.186</td>\n",
              "      <td>1.410</td>\n",
              "      <td>3.532</td>\n",
              "      <td>2.67</td>\n",
              "      <td>1.576</td>\n",
              "      <td>1.043</td>\n",
              "      <td>1.041</td>\n",
              "    </tr>\n",
              "    <tr>\n",
              "      <th>1048574</th>\n",
              "      <td>673</td>\n",
              "      <td>07-08-2016 09:00</td>\n",
              "      <td>5.1</td>\n",
              "      <td>0</td>\n",
              "      <td>5</td>\n",
              "      <td>Entertainment/public assembly</td>\n",
              "      <td>36307</td>\n",
              "      <td>76</td>\n",
              "      <td>2</td>\n",
              "      <td>18.0</td>\n",
              "      <td>...</td>\n",
              "      <td>4.116</td>\n",
              "      <td>4.187</td>\n",
              "      <td>3.989</td>\n",
              "      <td>4.186</td>\n",
              "      <td>2.407</td>\n",
              "      <td>3.532</td>\n",
              "      <td>2.67</td>\n",
              "      <td>1.692</td>\n",
              "      <td>2.309</td>\n",
              "      <td>2.788</td>\n",
              "    </tr>\n",
              "  </tbody>\n",
              "</table>\n",
              "<p>5 rows × 57 columns</p>\n",
              "</div>\n",
              "      <button class=\"colab-df-convert\" onclick=\"convertToInteractive('df-d2918a92-257d-4592-ad7f-a3dce3aabfd5')\"\n",
              "              title=\"Convert this dataframe to an interactive table.\"\n",
              "              style=\"display:none;\">\n",
              "        \n",
              "  <svg xmlns=\"http://www.w3.org/2000/svg\" height=\"24px\"viewBox=\"0 0 24 24\"\n",
              "       width=\"24px\">\n",
              "    <path d=\"M0 0h24v24H0V0z\" fill=\"none\"/>\n",
              "    <path d=\"M18.56 5.44l.94 2.06.94-2.06 2.06-.94-2.06-.94-.94-2.06-.94 2.06-2.06.94zm-11 1L8.5 8.5l.94-2.06 2.06-.94-2.06-.94L8.5 2.5l-.94 2.06-2.06.94zm10 10l.94 2.06.94-2.06 2.06-.94-2.06-.94-.94-2.06-.94 2.06-2.06.94z\"/><path d=\"M17.41 7.96l-1.37-1.37c-.4-.4-.92-.59-1.43-.59-.52 0-1.04.2-1.43.59L10.3 9.45l-7.72 7.72c-.78.78-.78 2.05 0 2.83L4 21.41c.39.39.9.59 1.41.59.51 0 1.02-.2 1.41-.59l7.78-7.78 2.81-2.81c.8-.78.8-2.07 0-2.86zM5.41 20L4 18.59l7.72-7.72 1.47 1.35L5.41 20z\"/>\n",
              "  </svg>\n",
              "      </button>\n",
              "      \n",
              "  <style>\n",
              "    .colab-df-container {\n",
              "      display:flex;\n",
              "      flex-wrap:wrap;\n",
              "      gap: 12px;\n",
              "    }\n",
              "\n",
              "    .colab-df-convert {\n",
              "      background-color: #E8F0FE;\n",
              "      border: none;\n",
              "      border-radius: 50%;\n",
              "      cursor: pointer;\n",
              "      display: none;\n",
              "      fill: #1967D2;\n",
              "      height: 32px;\n",
              "      padding: 0 0 0 0;\n",
              "      width: 32px;\n",
              "    }\n",
              "\n",
              "    .colab-df-convert:hover {\n",
              "      background-color: #E2EBFA;\n",
              "      box-shadow: 0px 1px 2px rgba(60, 64, 67, 0.3), 0px 1px 3px 1px rgba(60, 64, 67, 0.15);\n",
              "      fill: #174EA6;\n",
              "    }\n",
              "\n",
              "    [theme=dark] .colab-df-convert {\n",
              "      background-color: #3B4455;\n",
              "      fill: #D2E3FC;\n",
              "    }\n",
              "\n",
              "    [theme=dark] .colab-df-convert:hover {\n",
              "      background-color: #434B5C;\n",
              "      box-shadow: 0px 1px 3px 1px rgba(0, 0, 0, 0.15);\n",
              "      filter: drop-shadow(0px 1px 2px rgba(0, 0, 0, 0.3));\n",
              "      fill: #FFFFFF;\n",
              "    }\n",
              "  </style>\n",
              "\n",
              "      <script>\n",
              "        const buttonEl =\n",
              "          document.querySelector('#df-d2918a92-257d-4592-ad7f-a3dce3aabfd5 button.colab-df-convert');\n",
              "        buttonEl.style.display =\n",
              "          google.colab.kernel.accessAllowed ? 'block' : 'none';\n",
              "\n",
              "        async function convertToInteractive(key) {\n",
              "          const element = document.querySelector('#df-d2918a92-257d-4592-ad7f-a3dce3aabfd5');\n",
              "          const dataTable =\n",
              "            await google.colab.kernel.invokeFunction('convertToInteractive',\n",
              "                                                     [key], {});\n",
              "          if (!dataTable) return;\n",
              "\n",
              "          const docLinkHtml = 'Like what you see? Visit the ' +\n",
              "            '<a target=\"_blank\" href=https://colab.research.google.com/notebooks/data_table.ipynb>data table notebook</a>'\n",
              "            + ' to learn more about interactive tables.';\n",
              "          element.innerHTML = '';\n",
              "          dataTable['output_type'] = 'display_data';\n",
              "          await google.colab.output.renderOutput(dataTable, element);\n",
              "          const docLink = document.createElement('div');\n",
              "          docLink.innerHTML = docLinkHtml;\n",
              "          element.appendChild(docLink);\n",
              "        }\n",
              "      </script>\n",
              "    </div>\n",
              "  </div>\n",
              "  "
            ]
          },
          "metadata": {},
          "execution_count": 80
        }
      ],
      "source": [
        "train.tail()"
      ]
    },
    {
      "cell_type": "code",
      "execution_count": null,
      "id": "2d006192",
      "metadata": {
        "id": "2d006192",
        "colab": {
          "base_uri": "https://localhost:8080/"
        },
        "outputId": "298dc9a4-1f2a-4e8b-a2e8-4df20dccd84a"
      },
      "outputs": [
        {
          "output_type": "execute_result",
          "data": {
            "text/plain": [
              "(1048575, 57)"
            ]
          },
          "metadata": {},
          "execution_count": 81
        }
      ],
      "source": [
        "train.shape"
      ]
    },
    {
      "cell_type": "code",
      "execution_count": null,
      "id": "b9b03c3f",
      "metadata": {
        "id": "b9b03c3f",
        "colab": {
          "base_uri": "https://localhost:8080/"
        },
        "outputId": "1d304adb-48a2-451a-fa9f-8535c84d8247"
      },
      "outputs": [
        {
          "output_type": "execute_result",
          "data": {
            "text/plain": [
              "Index(['building_id', 'timestamp', 'meter_reading', 'anomaly', 'site_id',\n",
              "       'primary_use', 'square_feet', 'year_built', 'floor_count',\n",
              "       'air_temperature', 'cloud_coverage', 'dew_temperature',\n",
              "       'precip_depth_1_hr', 'sea_level_pressure', 'wind_direction',\n",
              "       'wind_speed', 'air_temperature_mean_lag7', 'air_temperature_max_lag7',\n",
              "       'air_temperature_min_lag7', 'air_temperature_std_lag7',\n",
              "       'air_temperature_mean_lag73', 'air_temperature_max_lag73',\n",
              "       'air_temperature_min_lag73', 'air_temperature_std_lag73', 'hour',\n",
              "       'weekday', 'month', 'year', 'weekday_hour', 'hour_x', 'hour_y',\n",
              "       'month_x', 'month_y', 'weekday_x', 'weekday_y', 'building_weekday_hour',\n",
              "       'building_weekday', 'building_month', 'building_hour', 'building_meter',\n",
              "       'is_holiday', 'gte_hour', 'gte_weekday', 'gte_month', 'gte_building_id',\n",
              "       'gte_primary_use', 'gte_site_id', 'gte_meter', 'gte_meter_hour',\n",
              "       'gte_meter_weekday', 'gte_meter_month', 'gte_meter_building_id',\n",
              "       'gte_meter_primary_use', 'gte_meter_site_id',\n",
              "       'gte_meter_building_id_hour', 'gte_meter_building_id_weekday',\n",
              "       'gte_meter_building_id_month'],\n",
              "      dtype='object')"
            ]
          },
          "metadata": {},
          "execution_count": 82
        }
      ],
      "source": [
        "train.columns"
      ]
    },
    {
      "cell_type": "code",
      "execution_count": null,
      "id": "eecfdc7b",
      "metadata": {
        "id": "eecfdc7b",
        "colab": {
          "base_uri": "https://localhost:8080/"
        },
        "outputId": "1df4d2f2-b1cf-4654-97db-b4240f703e64"
      },
      "outputs": [
        {
          "output_type": "execute_result",
          "data": {
            "text/plain": [
              "0"
            ]
          },
          "metadata": {},
          "execution_count": 83
        }
      ],
      "source": [
        "train.duplicated().sum()"
      ]
    },
    {
      "cell_type": "code",
      "execution_count": null,
      "id": "bcdd9798",
      "metadata": {
        "id": "bcdd9798",
        "colab": {
          "base_uri": "https://localhost:8080/"
        },
        "outputId": "8b45299c-1877-4e5b-8658-5a2f9672951c"
      },
      "outputs": [
        {
          "output_type": "execute_result",
          "data": {
            "text/plain": [
              "building_id                          0\n",
              "timestamp                            0\n",
              "meter_reading                    77102\n",
              "anomaly                              0\n",
              "site_id                              0\n",
              "primary_use                          0\n",
              "square_feet                          0\n",
              "year_built                           0\n",
              "floor_count                          0\n",
              "air_temperature                      0\n",
              "cloud_coverage                       0\n",
              "dew_temperature                      0\n",
              "precip_depth_1_hr                    0\n",
              "sea_level_pressure                   0\n",
              "wind_direction                       0\n",
              "wind_speed                           0\n",
              "air_temperature_mean_lag7            0\n",
              "air_temperature_max_lag7             0\n",
              "air_temperature_min_lag7             0\n",
              "air_temperature_std_lag7             0\n",
              "air_temperature_mean_lag73           0\n",
              "air_temperature_max_lag73            0\n",
              "air_temperature_min_lag73            0\n",
              "air_temperature_std_lag73            0\n",
              "hour                                 0\n",
              "weekday                              0\n",
              "month                                0\n",
              "year                                 0\n",
              "weekday_hour                         0\n",
              "hour_x                               0\n",
              "hour_y                               0\n",
              "month_x                              0\n",
              "month_y                              0\n",
              "weekday_x                            0\n",
              "weekday_y                            0\n",
              "building_weekday_hour                0\n",
              "building_weekday                     0\n",
              "building_month                       0\n",
              "building_hour                        0\n",
              "building_meter                       0\n",
              "is_holiday                           0\n",
              "gte_hour                             0\n",
              "gte_weekday                          0\n",
              "gte_month                            0\n",
              "gte_building_id                      0\n",
              "gte_primary_use                      0\n",
              "gte_site_id                          0\n",
              "gte_meter                            0\n",
              "gte_meter_hour                       0\n",
              "gte_meter_weekday                    0\n",
              "gte_meter_month                      0\n",
              "gte_meter_building_id                0\n",
              "gte_meter_primary_use                0\n",
              "gte_meter_site_id                    0\n",
              "gte_meter_building_id_hour           0\n",
              "gte_meter_building_id_weekday        0\n",
              "gte_meter_building_id_month          0\n",
              "dtype: int64"
            ]
          },
          "metadata": {},
          "execution_count": 84
        }
      ],
      "source": [
        "train.isnull().sum()"
      ]
    },
    {
      "cell_type": "code",
      "execution_count": null,
      "id": "8ff3810d",
      "metadata": {
        "id": "8ff3810d"
      },
      "outputs": [],
      "source": [
        "train = train[['building_id', 'meter_reading', 'square_feet',\n",
        "       'year_built', 'floor_count','air_temperature', 'dew_temperature',\n",
        "       'precip_depth_1_hr', 'sea_level_pressure','is_holiday','anomaly']]\n",
        "\n",
        "test = test[['building_id',  'meter_reading','square_feet',\n",
        "       'year_built', 'floor_count','air_temperature', 'dew_temperature',\n",
        "       'precip_depth_1_hr', 'sea_level_pressure','is_holiday']]"
      ]
    },
    {
      "cell_type": "code",
      "execution_count": null,
      "id": "6e38cc55",
      "metadata": {
        "id": "6e38cc55",
        "colab": {
          "base_uri": "https://localhost:8080/",
          "height": 617
        },
        "outputId": "7d5ef4b7-8def-4fa6-dd1e-95698a44c090"
      },
      "outputs": [
        {
          "output_type": "display_data",
          "data": {
            "text/plain": [
              "<Figure size 720x720 with 2 Axes>"
            ],
            "image/png": "[encoded data removed]"
          },
          "metadata": {
            "needs_background": "light"
          }
        }
      ],
      "source": [
        "def HeatMap(df,x=True):\n",
        "        correlations = df.corr()\n",
        "        ## Create color map ranging between two colors\n",
        "        cmap = sns.diverging_palette(220, 10, as_cmap=True)\n",
        "        fig, ax = plt.subplots(figsize=(10, 10))\n",
        "        fig = sns.heatmap(correlations, cmap=cmap, vmax=1.0, center=0, fmt='.2f',square=True, linewidths=.5, annot=x, cbar_kws={\"shrink\": .75})\n",
        "        fig.set_xticklabels(fig.get_xticklabels(), rotation = 90, fontsize = 10)\n",
        "        fig.set_yticklabels(fig.get_yticklabels(), rotation = 0, fontsize = 10)\n",
        "        plt.tight_layout()\n",
        "        plt.show()\n",
        "\n",
        "HeatMap(train,x=True)"
      ]
    },
    {
      "cell_type": "code",
      "execution_count": null,
      "id": "8905b3fe",
      "metadata": {
        "id": "8905b3fe",
        "colab": {
          "base_uri": "https://localhost:8080/"
        },
        "outputId": "d3f47dbb-efa4-4de4-aa99-894e504df118"
      },
      "outputs": [
        {
          "output_type": "stream",
          "name": "stdout",
          "text": [
            "meter_reading    77102\n",
            "dtype: int64\n"
          ]
        }
      ],
      "source": [
        "missing_val_count_by_column = (train.isnull().sum())\n",
        "print(missing_val_count_by_column[missing_val_count_by_column > 0])"
      ]
    },
    {
      "cell_type": "code",
      "execution_count": null,
      "id": "f4494e40",
      "metadata": {
        "id": "f4494e40",
        "colab": {
          "base_uri": "https://localhost:8080/"
        },
        "outputId": "fe8617b7-bba4-46d6-b7bb-3afeca80279c"
      },
      "outputs": [
        {
          "output_type": "stream",
          "name": "stdout",
          "text": [
            "meter_reading    0\n",
            "dtype: int64\n"
          ]
        }
      ],
      "source": [
        "from sklearn.impute import SimpleImputer\n",
        "\n",
        "my_imputer = SimpleImputer()\n",
        "df_clean = my_imputer.fit_transform(train.iloc[:,1:2])\n",
        "df_name =train.iloc[:,1:2].columns\n",
        "df_clean = pd.DataFrame(df_clean,columns = df_name)\n",
        "\n",
        "missing_val_count_by_column = (df_clean.isnull().sum())\n",
        "print(missing_val_count_by_column)"
      ]
    },
    {
      "cell_type": "code",
      "execution_count": null,
      "id": "3549853e",
      "metadata": {
        "id": "3549853e"
      },
      "outputs": [],
      "source": [
        "train[\"meter_reading\"] = df_clean[\"meter_reading\"]"
      ]
    },
    {
      "cell_type": "code",
      "execution_count": null,
      "id": "d2db2a92",
      "metadata": {
        "id": "d2db2a92",
        "colab": {
          "base_uri": "https://localhost:8080/"
        },
        "outputId": "dafcf581-1df2-4684-c66a-607b1378de3f"
      },
      "outputs": [
        {
          "output_type": "stream",
          "name": "stdout",
          "text": [
            "meter_reading    74815\n",
            "dtype: int64\n"
          ]
        }
      ],
      "source": [
        "missing_val_count_by_column = (test.isnull().sum())\n",
        "print(missing_val_count_by_column[missing_val_count_by_column > 0])"
      ]
    },
    {
      "cell_type": "code",
      "execution_count": null,
      "id": "a67f6306",
      "metadata": {
        "id": "a67f6306",
        "colab": {
          "base_uri": "https://localhost:8080/"
        },
        "outputId": "86a10e17-e8e6-4eb4-f0a1-af90ba28ae27"
      },
      "outputs": [
        {
          "output_type": "stream",
          "name": "stdout",
          "text": [
            "meter_reading    0\n",
            "dtype: int64\n"
          ]
        }
      ],
      "source": [
        "from sklearn.impute import SimpleImputer\n",
        "\n",
        "my_imputer = SimpleImputer()\n",
        "df_clean = my_imputer.fit_transform(test.iloc[:,1:2])\n",
        "df_name =test.iloc[:,1:2].columns\n",
        "df_clean = pd.DataFrame(df_clean,columns = df_name)\n",
        "\n",
        "missing_val_count_by_column = (df_clean.isnull().sum())\n",
        "print(missing_val_count_by_column)"
      ]
    },
    {
      "cell_type": "code",
      "execution_count": null,
      "id": "b9c8e957",
      "metadata": {
        "id": "b9c8e957"
      },
      "outputs": [],
      "source": [
        "test[\"meter_reading\"] = df_clean[\"meter_reading\"]"
      ]
    },
    {
      "cell_type": "code",
      "execution_count": null,
      "id": "078bb999",
      "metadata": {
        "id": "078bb999"
      },
      "outputs": [],
      "source": [
        "y = train[['anomaly']]\n",
        "X = train.drop(['anomaly'], axis = 1)\n",
        "\n",
        "X_train, X_test, y_train, y_test =train_test_split(X,y,\n",
        "                                                   test_size=0.25,\n",
        "                                                   random_state=0,\n",
        "                                                   stratify=y)"
      ]
    },
    {
      "cell_type": "code",
      "execution_count": null,
      "id": "8735c0fb",
      "metadata": {
        "id": "8735c0fb",
        "colab": {
          "base_uri": "https://localhost:8080/"
        },
        "outputId": "14af171b-a5c9-4bac-d5df-a37cd4685846"
      },
      "outputs": [
        {
          "output_type": "execute_result",
          "data": {
            "text/plain": [
              "(786431, 10)"
            ]
          },
          "metadata": {},
          "execution_count": 94
        }
      ],
      "source": [
        "X_train.shape"
      ]
    },
    {
      "cell_type": "code",
      "execution_count": null,
      "id": "8c037691",
      "metadata": {
        "id": "8c037691",
        "colab": {
          "base_uri": "https://localhost:8080/"
        },
        "outputId": "417eedb2-628e-4c44-b8b1-b64cdc783f87"
      },
      "outputs": [
        {
          "output_type": "execute_result",
          "data": {
            "text/plain": [
              "Index(['building_id', 'meter_reading', 'square_feet', 'year_built',\n",
              "       'floor_count', 'air_temperature', 'dew_temperature',\n",
              "       'precip_depth_1_hr', 'sea_level_pressure', 'is_holiday'],\n",
              "      dtype='object')"
            ]
          },
          "metadata": {},
          "execution_count": 95
        }
      ],
      "source": [
        "X_train.columns"
      ]
    },
    {
      "cell_type": "code",
      "execution_count": null,
      "id": "b2729437",
      "metadata": {
        "id": "b2729437",
        "colab": {
          "base_uri": "https://localhost:8080/"
        },
        "outputId": "9c1ae3db-7a60-4e2b-c769-ee1935b013a3"
      },
      "outputs": [
        {
          "output_type": "execute_result",
          "data": {
            "text/plain": [
              "(786431, 1)"
            ]
          },
          "metadata": {},
          "execution_count": 96
        }
      ],
      "source": [
        "y_train.shape"
      ]
    },
    {
      "cell_type": "code",
      "execution_count": null,
      "id": "b5fd174d",
      "metadata": {
        "id": "b5fd174d",
        "colab": {
          "base_uri": "https://localhost:8080/"
        },
        "outputId": "33884aad-05e8-4f4c-84bf-a5a00c7189d0"
      },
      "outputs": [
        {
          "output_type": "execute_result",
          "data": {
            "text/plain": [
              "Index(['anomaly'], dtype='object')"
            ]
          },
          "metadata": {},
          "execution_count": 97
        }
      ],
      "source": [
        "y_train.columns"
      ]
    },
    {
      "cell_type": "code",
      "execution_count": null,
      "id": "d8f3bccc",
      "metadata": {
        "id": "d8f3bccc"
      },
      "outputs": [],
      "source": [
        "scaler = StandardScaler()\n",
        "X_train = scaler.fit_transform(X_train)\n",
        "X_test = scaler.transform(X_test)"
      ]
    },
    {
      "cell_type": "code",
      "execution_count": null,
      "id": "c08d5798",
      "metadata": {
        "id": "c08d5798",
        "outputId": "8dc5772e-738f-4339-ce8d-0bf2e2adcba4",
        "colab": {
          "base_uri": "https://localhost:8080/"
        }
      },
      "outputs": [
        {
          "output_type": "execute_result",
          "data": {
            "text/plain": [
              "LogisticRegression(random_state=42)"
            ]
          },
          "metadata": {},
          "execution_count": 99
        }
      ],
      "source": [
        "LR= LogisticRegression(random_state=42)  \n",
        "LR.fit(X_train, y_train)  "
      ]
    },
    {
      "cell_type": "code",
      "execution_count": null,
      "id": "19739795",
      "metadata": {
        "id": "19739795"
      },
      "outputs": [],
      "source": [
        "y_pred = LR.predict(X_test)"
      ]
    },
    {
      "cell_type": "code",
      "execution_count": null,
      "id": "0958201b",
      "metadata": {
        "id": "0958201b"
      },
      "outputs": [],
      "source": [
        "from sklearn.metrics import accuracy_score"
      ]
    },
    {
      "cell_type": "code",
      "execution_count": null,
      "id": "49db376d",
      "metadata": {
        "id": "49db376d",
        "outputId": "b1b0a529-8c43-4e9c-d001-bfcfcc0b0c96",
        "colab": {
          "base_uri": "https://localhost:8080/"
        }
      },
      "outputs": [
        {
          "output_type": "execute_result",
          "data": {
            "text/plain": [
              "0.9774551391601562"
            ]
          },
          "metadata": {},
          "execution_count": 102
        }
      ],
      "source": [
        "accuracy_score(y_test, y_pred)"
      ]
    },
    {
      "cell_type": "code",
      "execution_count": null,
      "id": "bddb3bb7",
      "metadata": {
        "id": "bddb3bb7"
      },
      "outputs": [],
      "source": [
        "from sklearn.metrics import confusion_matrix  \n",
        "cm = confusion_matrix(y_test, y_pred)"
      ]
    },
    {
      "cell_type": "code",
      "execution_count": null,
      "id": "d45a5509",
      "metadata": {
        "id": "d45a5509",
        "outputId": "441a1728-25ff-4729-ffd9-37c161ef7b0f",
        "colab": {
          "base_uri": "https://localhost:8080/"
        }
      },
      "outputs": [
        {
          "output_type": "execute_result",
          "data": {
            "text/plain": [
              "array([[256234,      0],\n",
              "       [  5910,      0]])"
            ]
          },
          "metadata": {},
          "execution_count": 104
        }
      ],
      "source": [
        "cm"
      ]
    },
    {
      "cell_type": "code",
      "execution_count": null,
      "id": "fb0909e3",
      "metadata": {
        "id": "fb0909e3",
        "outputId": "4021ebde-49c5-400e-d1d4-113cb284f2b1",
        "colab": {
          "base_uri": "https://localhost:8080/",
          "height": 265
        }
      },
      "outputs": [
        {
          "output_type": "display_data",
          "data": {
            "text/plain": [
              "<Figure size 432x288 with 2 Axes>"
            ],
            "image/png": "[encoded data removed]"
          },
          "metadata": {
            "needs_background": "light"
          }
        }
      ],
      "source": [
        "sns.heatmap(cm)\n",
        "plt.show()"
      ]
    },
    {
      "cell_type": "code",
      "execution_count": null,
      "id": "53dc389e",
      "metadata": {
        "id": "53dc389e",
        "outputId": "1816d94a-e3a5-4e6a-fa5a-3ae4f6a42f95",
        "colab": {
          "base_uri": "https://localhost:8080/"
        }
      },
      "outputs": [
        {
          "output_type": "stream",
          "name": "stdout",
          "text": [
            "              precision    recall  f1-score   support\n",
            "\n",
            "           0       0.98      1.00      0.99    256234\n",
            "           1       0.00      0.00      0.00      5910\n",
            "\n",
            "    accuracy                           0.98    262144\n",
            "   macro avg       0.49      0.50      0.49    262144\n",
            "weighted avg       0.96      0.98      0.97    262144\n",
            "\n"
          ]
        }
      ],
      "source": [
        "from sklearn.metrics import classification_report\n",
        "print(classification_report(y_test, y_pred))"
      ]
    },
    {
      "cell_type": "code",
      "execution_count": null,
      "id": "40c1f0ee",
      "metadata": {
        "id": "40c1f0ee"
      },
      "outputs": [],
      "source": [
        "DT = DecisionTreeClassifier(criterion='entropy', random_state=42)  "
      ]
    },
    {
      "cell_type": "code",
      "execution_count": null,
      "id": "e9966d72",
      "metadata": {
        "id": "e9966d72",
        "outputId": "004c1634-1db8-4089-8051-c5ea1afa808d",
        "colab": {
          "base_uri": "https://localhost:8080/"
        }
      },
      "outputs": [
        {
          "output_type": "execute_result",
          "data": {
            "text/plain": [
              "DecisionTreeClassifier(criterion='entropy', random_state=42)"
            ]
          },
          "metadata": {},
          "execution_count": 108
        }
      ],
      "source": [
        "DT.fit(X_train,y_train)"
      ]
    },
    {
      "cell_type": "code",
      "execution_count": null,
      "id": "5ee8c9dd",
      "metadata": {
        "id": "5ee8c9dd"
      },
      "outputs": [],
      "source": [
        "y_pred_dt = DT.predict(X_test)"
      ]
    },
    {
      "cell_type": "code",
      "execution_count": null,
      "id": "560a70da",
      "metadata": {
        "id": "560a70da",
        "outputId": "1cabd39d-e71f-4d75-b8f1-32e3c34586e5",
        "colab": {
          "base_uri": "https://localhost:8080/"
        }
      },
      "outputs": [
        {
          "output_type": "execute_result",
          "data": {
            "text/plain": [
              "0.9930458068847656"
            ]
          },
          "metadata": {},
          "execution_count": 110
        }
      ],
      "source": [
        "accuracy_score(y_test, y_pred_dt)"
      ]
    },
    {
      "cell_type": "code",
      "execution_count": null,
      "id": "1b27e6b5",
      "metadata": {
        "id": "1b27e6b5"
      },
      "outputs": [],
      "source": [
        "cm_dt = confusion_matrix(y_test, y_pred_dt)"
      ]
    },
    {
      "cell_type": "code",
      "execution_count": null,
      "id": "140a7ae4",
      "metadata": {
        "id": "140a7ae4",
        "outputId": "d2f266d1-c33f-48a0-dad5-7300c57c0ea3",
        "colab": {
          "base_uri": "https://localhost:8080/"
        }
      },
      "outputs": [
        {
          "output_type": "execute_result",
          "data": {
            "text/plain": [
              "array([[255290,    944],\n",
              "       [   879,   5031]])"
            ]
          },
          "metadata": {},
          "execution_count": 112
        }
      ],
      "source": [
        "cm_dt"
      ]
    },
    {
      "cell_type": "code",
      "execution_count": null,
      "id": "c44eae23",
      "metadata": {
        "id": "c44eae23",
        "outputId": "5983a520-f873-432c-c857-f6aff7f6c746",
        "colab": {
          "base_uri": "https://localhost:8080/",
          "height": 265
        }
      },
      "outputs": [
        {
          "output_type": "display_data",
          "data": {
            "text/plain": [
              "<Figure size 432x288 with 2 Axes>"
            ],
            "image/png": "[encoded data removed]"
          },
          "metadata": {
            "needs_background": "light"
          }
        }
      ],
      "source": [
        "sns.heatmap(cm_dt)\n",
        "plt.show()"
      ]
    },
    {
      "cell_type": "code",
      "execution_count": null,
      "id": "d0f0d048",
      "metadata": {
        "id": "d0f0d048",
        "outputId": "d1cc5ce1-dca8-4715-9a3b-65a4523df5cb",
        "colab": {
          "base_uri": "https://localhost:8080/"
        }
      },
      "outputs": [
        {
          "output_type": "stream",
          "name": "stdout",
          "text": [
            "              precision    recall  f1-score   support\n",
            "\n",
            "           0       1.00      1.00      1.00    256234\n",
            "           1       0.84      0.85      0.85      5910\n",
            "\n",
            "    accuracy                           0.99    262144\n",
            "   macro avg       0.92      0.92      0.92    262144\n",
            "weighted avg       0.99      0.99      0.99    262144\n",
            "\n"
          ]
        }
      ],
      "source": [
        "print(classification_report(y_test, y_pred_dt))"
      ]
    },
    {
      "cell_type": "code",
      "execution_count": null,
      "id": "3ef556ca",
      "metadata": {
        "id": "3ef556ca"
      },
      "outputs": [],
      "source": [
        "import tensorflow as tf\n",
        "from tensorflow import keras"
      ]
    },
    {
      "cell_type": "code",
      "execution_count": null,
      "id": "c897b990",
      "metadata": {
        "id": "c897b990",
        "outputId": "bc086bd0-388f-4dae-95fa-58342270f211",
        "colab": {
          "base_uri": "https://localhost:8080/"
        }
      },
      "outputs": [
        {
          "output_type": "stream",
          "name": "stdout",
          "text": [
            "Model: \"sequential\"\n",
            "_________________________________________________________________\n",
            " Layer (type)                Output Shape              Param #   \n",
            "=================================================================\n",
            " dense (Dense)               (None, 256)               2816      \n",
            "                                                                 \n",
            " batch_normalization (BatchN  (None, 256)              1024      \n",
            " ormalization)                                                   \n",
            "                                                                 \n",
            " dense_1 (Dense)             (None, 256)               65792     \n",
            "                                                                 \n",
            " batch_normalization_1 (Batc  (None, 256)              1024      \n",
            " hNormalization)                                                 \n",
            "                                                                 \n",
            " dense_2 (Dense)             (None, 64)                16448     \n",
            "                                                                 \n",
            " batch_normalization_2 (Batc  (None, 64)               256       \n",
            " hNormalization)                                                 \n",
            "                                                                 \n",
            " dense_3 (Dense)             (None, 1)                 65        \n",
            "                                                                 \n",
            "=================================================================\n",
            "Total params: 87,425\n",
            "Trainable params: 86,273\n",
            "Non-trainable params: 1,152\n",
            "_________________________________________________________________\n"
          ]
        }
      ],
      "source": [
        "model = keras.Sequential([keras.layers.Input(shape=(10,)),\n",
        "                          keras.layers.Dense(256, activation='relu'),\n",
        "                          keras.layers.BatchNormalization(),\n",
        "                          keras.layers.Dense(256, activation='relu'),\n",
        "                          keras.layers.BatchNormalization(),\n",
        "                          keras.layers.Dense(64, activation='relu'),\n",
        "                          keras.layers.BatchNormalization(),\n",
        "                          keras.layers.Dense(1, activation='sigmoid')])\n",
        "\n",
        "model.compile(\n",
        "    optimizer = 'adam',\n",
        "    loss='binary_crossentropy',\n",
        "    metrics = ['AUC']\n",
        ")\n",
        "\n",
        "model.summary()"
      ]
    },
    {
      "cell_type": "code",
      "execution_count": null,
      "id": "67b16788",
      "metadata": {
        "id": "67b16788",
        "outputId": "052e190b-247f-4de8-d369-ae2082fe1d9f",
        "colab": {
          "base_uri": "https://localhost:8080/"
        }
      },
      "outputs": [
        {
          "output_type": "stream",
          "name": "stdout",
          "text": [
            "Epoch 1/10\n",
            "6144/6144 [==============================] - 45s 7ms/step - loss: 0.0800 - auc: 0.8345 - val_loss: 0.0871 - val_auc: 0.8499\n",
            "Epoch 2/10\n",
            "6144/6144 [==============================] - 41s 7ms/step - loss: 0.0615 - auc: 0.8812 - val_loss: 0.0585 - val_auc: 0.8975\n",
            "Epoch 3/10\n",
            "6144/6144 [==============================] - 40s 7ms/step - loss: 0.0581 - auc: 0.8968 - val_loss: 0.0596 - val_auc: 0.8966\n",
            "Epoch 4/10\n",
            "6144/6144 [==============================] - 41s 7ms/step - loss: 0.0557 - auc: 0.9064 - val_loss: 0.0531 - val_auc: 0.9161\n",
            "Epoch 5/10\n",
            "6144/6144 [==============================] - 40s 6ms/step - loss: 0.0546 - auc: 0.9113 - val_loss: 0.0503 - val_auc: 0.9257\n",
            "Epoch 6/10\n",
            "6144/6144 [==============================] - 41s 7ms/step - loss: 0.0530 - auc: 0.9185 - val_loss: 0.0501 - val_auc: 0.9254\n",
            "Epoch 7/10\n",
            "6144/6144 [==============================] - 42s 7ms/step - loss: 0.0514 - auc: 0.9231 - val_loss: 0.0486 - val_auc: 0.9331\n",
            "Epoch 8/10\n",
            "6144/6144 [==============================] - 39s 6ms/step - loss: 0.0504 - auc: 0.9269 - val_loss: 0.0491 - val_auc: 0.9338\n",
            "Epoch 9/10\n",
            "6144/6144 [==============================] - 40s 7ms/step - loss: 0.0494 - auc: 0.9306 - val_loss: 0.0474 - val_auc: 0.9337\n",
            "Epoch 10/10\n",
            "6144/6144 [==============================] - 42s 7ms/step - loss: 0.0486 - auc: 0.9336 - val_loss: 0.0494 - val_auc: 0.9366\n"
          ]
        }
      ],
      "source": [
        "history = model.fit(X_train, y_train,\n",
        "                    verbose = 1,\n",
        "                    batch_size = 128,\n",
        "                    epochs = 10,\n",
        "                    validation_data = (X_test, y_test))"
      ]
    },
    {
      "cell_type": "code",
      "execution_count": null,
      "id": "5deb95cb",
      "metadata": {
        "id": "5deb95cb",
        "outputId": "73402df8-5b8a-4d80-8269-6bda34d70647",
        "colab": {
          "base_uri": "https://localhost:8080/"
        }
      },
      "outputs": [
        {
          "output_type": "stream",
          "name": "stdout",
          "text": [
            "8192/8192 [==============================] - 14s 2ms/step\n"
          ]
        }
      ],
      "source": [
        "predictions = model.predict(X_test)"
      ]
    },
    {
      "cell_type": "code",
      "execution_count": null,
      "id": "ee656a87",
      "metadata": {
        "id": "ee656a87",
        "outputId": "53210e68-587e-49a6-fb2a-4fe78e38d4bd",
        "colab": {
          "base_uri": "https://localhost:8080/",
          "height": 295
        }
      },
      "outputs": [
        {
          "output_type": "display_data",
          "data": {
            "text/plain": [
              "<Figure size 432x288 with 1 Axes>"
            ],
            "image/png": "[encoded data removed]"
          },
          "metadata": {
            "needs_background": "light"
          }
        }
      ],
      "source": [
        "# summarize history for loss\n",
        "plt.figure()\n",
        "plt.plot(history.history['loss'])\n",
        "plt.plot(history.history['val_loss'])\n",
        "plt.title('model loss')\n",
        "plt.ylabel('loss')\n",
        "plt.xlabel('epoch')\n",
        "plt.legend(['train', 'test'], loc='upper right')\n",
        "plt.show()"
      ]
    },
    {
      "cell_type": "code",
      "execution_count": null,
      "id": "0ffd172a",
      "metadata": {
        "id": "0ffd172a"
      },
      "outputs": [],
      "source": [
        "from sklearn.metrics import confusion_matrix,accuracy_score, roc_curve, auc"
      ]
    },
    {
      "cell_type": "code",
      "execution_count": null,
      "id": "b7279294",
      "metadata": {
        "id": "b7279294",
        "outputId": "f7a0935d-ed94-4b43-d3fa-cfe91dd770a0",
        "colab": {
          "base_uri": "https://localhost:8080/",
          "height": 295
        }
      },
      "outputs": [
        {
          "output_type": "display_data",
          "data": {
            "text/plain": [
              "<Figure size 432x288 with 1 Axes>"
            ],
            "image/png": "[encoded data removed]"
          },
          "metadata": {
            "needs_background": "light"
          }
        }
      ],
      "source": [
        "false_positive_rate, recall, thresholds = roc_curve(y_test, predictions)\n",
        "roc_auc = auc(false_positive_rate, recall)\n",
        "plt.figure()\n",
        "plt.title('Receiver Operating Characteristic (ROC)')\n",
        "plt.plot(false_positive_rate, recall, 'b', label = 'AUC = %0.3f' %roc_auc)\n",
        "plt.legend(loc='lower right')\n",
        "plt.plot([0,1], [0,1], 'r--')\n",
        "plt.xlim([0.0,1.0])\n",
        "plt.ylim([0.0,1.0])\n",
        "plt.ylabel('Recall')\n",
        "plt.xlabel('Fall-out (1-Specificity)')\n",
        "plt.show()"
      ]
    },
    {
      "cell_type": "code",
      "execution_count": null,
      "id": "12dbc631",
      "metadata": {
        "id": "12dbc631"
      },
      "outputs": [],
      "source": [
        "from imblearn.over_sampling import SMOTE"
      ]
    },
    {
      "cell_type": "code",
      "execution_count": null,
      "id": "2822696b",
      "metadata": {
        "id": "2822696b"
      },
      "outputs": [],
      "source": [
        "oversample = SMOTE()\n",
        "X, y = oversample.fit_resample(X, y)"
      ]
    },
    {
      "cell_type": "code",
      "execution_count": null,
      "id": "5de2acea",
      "metadata": {
        "id": "5de2acea"
      },
      "outputs": [],
      "source": [
        "X_train, X_test, y_train, y_test =train_test_split(X,y,\n",
        "                                                   test_size=0.25,\n",
        "                                                   random_state=0,\n",
        "                                                   stratify=y)"
      ]
    },
    {
      "cell_type": "code",
      "execution_count": null,
      "id": "a6341fd9",
      "metadata": {
        "id": "a6341fd9"
      },
      "outputs": [],
      "source": [
        "scaler = StandardScaler()\n",
        "X_train = scaler.fit_transform(X_train)\n",
        "X_test = scaler.transform(X_test)"
      ]
    },
    {
      "cell_type": "code",
      "execution_count": null,
      "id": "5f50089e",
      "metadata": {
        "id": "5f50089e",
        "outputId": "cd83b58b-e58b-4100-8b57-335c5c75c5f1",
        "colab": {
          "base_uri": "https://localhost:8080/"
        }
      },
      "outputs": [
        {
          "output_type": "execute_result",
          "data": {
            "text/plain": [
              "LogisticRegression(random_state=42)"
            ]
          },
          "metadata": {},
          "execution_count": 126
        }
      ],
      "source": [
        "LR_new= LogisticRegression(random_state=42)  \n",
        "LR_new.fit(X_train, y_train) "
      ]
    },
    {
      "cell_type": "code",
      "execution_count": null,
      "id": "4d10ea69",
      "metadata": {
        "id": "4d10ea69"
      },
      "outputs": [],
      "source": [
        "y_pred_lr = LR_new.predict(X_test)"
      ]
    },
    {
      "cell_type": "code",
      "execution_count": null,
      "id": "41c1e2d5",
      "metadata": {
        "id": "41c1e2d5",
        "outputId": "937b87ae-7c9a-430b-af0e-14a7b4e574a7",
        "colab": {
          "base_uri": "https://localhost:8080/"
        }
      },
      "outputs": [
        {
          "output_type": "execute_result",
          "data": {
            "text/plain": [
              "0.5591139349188632"
            ]
          },
          "metadata": {},
          "execution_count": 128
        }
      ],
      "source": [
        "accuracy_score(y_test, y_pred_lr)"
      ]
    }
  ],
  "metadata": {
    "kernelspec": {
      "display_name": "Python 3 (ipykernel)",
      "language": "python",
      "name": "python3"
    },
    "language_info": {
      "codemirror_mode": {
        "name": "ipython",
        "version": 3
      },
      "file_extension": ".py",
      "mimetype": "text/x-python",
      "name": "python",
      "nbconvert_exporter": "python",
      "pygments_lexer": "ipython3",
      "version": "3.8.4"
    },
    "colab": {
      "provenance": []
    }
  },
  "nbformat": 4,
  "nbformat_minor": 5
}