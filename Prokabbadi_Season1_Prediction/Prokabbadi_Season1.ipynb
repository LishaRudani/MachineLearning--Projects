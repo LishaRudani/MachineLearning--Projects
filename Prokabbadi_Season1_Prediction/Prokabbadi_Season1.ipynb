{
  "nbformat": 4,
  "nbformat_minor": 0,
  "metadata": {
    "colab": {
      "provenance": []
    },
    "kernelspec": {
      "name": "python3",
      "display_name": "Python 3"
    },
    "language_info": {
      "name": "python"
    }
  },
  "cells": [
    {
      "cell_type": "code",
      "execution_count": null,
      "metadata": {
        "id": "KG-IeFUDxR4Y"
      },
      "outputs": [],
      "source": [
        "import numpy as np\n",
        "import pandas as pd\n",
        "import matplotlib.pyplot as plt\n",
        "import seaborn as sns\n",
        "import warnings\n",
        "warnings.filterwarnings('ignore')"
      ]
    },
    {
      "cell_type": "code",
      "source": [
        "from google.colab import drive\n",
        "drive.mount('/content/drive')"
      ],
      "metadata": {
        "colab": {
          "base_uri": "https://localhost:8080/"
        },
        "id": "A252rseGxV1B",
        "outputId": "3a6f6a62-c545-464c-f911-f216f745288a"
      },
      "execution_count": null,
      "outputs": [
        {
          "output_type": "stream",
          "name": "stdout",
          "text": [
            "Mounted at /content/drive\n"
          ]
        }
      ]
    },
    {
      "cell_type": "code",
      "source": [
        "!unzip /content/drive/MyDrive/Teach_Foundation_of_ML/project/Regression/archive.zip"
      ],
      "metadata": {
        "colab": {
          "base_uri": "https://localhost:8080/"
        },
        "id": "_sPqQ6MMxV4G",
        "outputId": "1bc3c986-6349-4fd8-cf52-0e8ce1f0a300"
      },
      "execution_count": null,
      "outputs": [
        {
          "output_type": "stream",
          "name": "stdout",
          "text": [
            "unzip:  cannot find or open /content/drive/MyDrive/Teach_Foundation_of_ML/project/Regression/archive.zip, /content/drive/MyDrive/Teach_Foundation_of_ML/project/Regression/archive.zip.zip or /content/drive/MyDrive/Teach_Foundation_of_ML/project/Regression/archive.zip.ZIP.\n"
          ]
        }
      ]
    },
    {
      "cell_type": "code",
      "source": [
        "kabaddi_data= pd.read_csv('/content/drive/MyDrive/Prokabaddi_Dataset/prokabaddi.csv')"
      ],
      "metadata": {
        "id": "FTdeVk8jxV7K"
      },
      "execution_count": null,
      "outputs": []
    },
    {
      "cell_type": "code",
      "source": [
        "kabaddi_data.head()"
      ],
      "metadata": {
        "colab": {
          "base_uri": "https://localhost:8080/",
          "height": 206
        },
        "id": "vCLvOMMkxV-P",
        "outputId": "20516129-cdb7-4dca-d204-bf995ff2f7b4"
      },
      "execution_count": null,
      "outputs": [
        {
          "output_type": "execute_result",
          "data": {
            "text/plain": [
              "   match_no   stage            team1                 team2  team1_score  \\\n",
              "0         1  League          U Mumba  Jaipur Pink Panthers           45   \n",
              "1         2  League  Dabang Delhi KC       Bengaluru Bulls           28   \n",
              "2         3  League  Bengaluru Bulls         Puneri Paltan           40   \n",
              "3         4  League          U Mumba       Bengal Warriors           36   \n",
              "4         5  League    Puneri Paltan       Dabang Delhi KC           31   \n",
              "\n",
              "   team2_score        date                               location  season  \n",
              "0           31  26-07-2014  Dome@NSCI Svp Stadium, Mumbai, Mumbai       1  \n",
              "1           47  27-07-2014  Dome@NSCI Svp Stadium, Mumbai, Mumbai       1  \n",
              "2           37  28-07-2014  Dome@NSCI Svp Stadium, Mumbai, Mumbai       1  \n",
              "3           25  29-07-2014  Dome@NSCI Svp Stadium, Mumbai, Mumbai       1  \n",
              "4           35  30-07-2014  Dome@NSCI Svp Stadium, Mumbai, Mumbai       1  "
            ],
            "text/html": [
              "\n",
              "  <div id=\"df-cd260ee2-f604-47db-9a1e-3bf69f7b338f\">\n",
              "    <div class=\"colab-df-container\">\n",
              "      <div>\n",
              "<style scoped>\n",
              "    .dataframe tbody tr th:only-of-type {\n",
              "        vertical-align: middle;\n",
              "    }\n",
              "\n",
              "    .dataframe tbody tr th {\n",
              "        vertical-align: top;\n",
              "    }\n",
              "\n",
              "    .dataframe thead th {\n",
              "        text-align: right;\n",
              "    }\n",
              "</style>\n",
              "<table border=\"1\" class=\"dataframe\">\n",
              "  <thead>\n",
              "    <tr style=\"text-align: right;\">\n",
              "      <th></th>\n",
              "      <th>match_no</th>\n",
              "      <th>stage</th>\n",
              "      <th>team1</th>\n",
              "      <th>team2</th>\n",
              "      <th>team1_score</th>\n",
              "      <th>team2_score</th>\n",
              "      <th>date</th>\n",
              "      <th>location</th>\n",
              "      <th>season</th>\n",
              "    </tr>\n",
              "  </thead>\n",
              "  <tbody>\n",
              "    <tr>\n",
              "      <th>0</th>\n",
              "      <td>1</td>\n",
              "      <td>League</td>\n",
              "      <td>U Mumba</td>\n",
              "      <td>Jaipur Pink Panthers</td>\n",
              "      <td>45</td>\n",
              "      <td>31</td>\n",
              "      <td>26-07-2014</td>\n",
              "      <td>Dome@NSCI Svp Stadium, Mumbai, Mumbai</td>\n",
              "      <td>1</td>\n",
              "    </tr>\n",
              "    <tr>\n",
              "      <th>1</th>\n",
              "      <td>2</td>\n",
              "      <td>League</td>\n",
              "      <td>Dabang Delhi KC</td>\n",
              "      <td>Bengaluru Bulls</td>\n",
              "      <td>28</td>\n",
              "      <td>47</td>\n",
              "      <td>27-07-2014</td>\n",
              "      <td>Dome@NSCI Svp Stadium, Mumbai, Mumbai</td>\n",
              "      <td>1</td>\n",
              "    </tr>\n",
              "    <tr>\n",
              "      <th>2</th>\n",
              "      <td>3</td>\n",
              "      <td>League</td>\n",
              "      <td>Bengaluru Bulls</td>\n",
              "      <td>Puneri Paltan</td>\n",
              "      <td>40</td>\n",
              "      <td>37</td>\n",
              "      <td>28-07-2014</td>\n",
              "      <td>Dome@NSCI Svp Stadium, Mumbai, Mumbai</td>\n",
              "      <td>1</td>\n",
              "    </tr>\n",
              "    <tr>\n",
              "      <th>3</th>\n",
              "      <td>4</td>\n",
              "      <td>League</td>\n",
              "      <td>U Mumba</td>\n",
              "      <td>Bengal Warriors</td>\n",
              "      <td>36</td>\n",
              "      <td>25</td>\n",
              "      <td>29-07-2014</td>\n",
              "      <td>Dome@NSCI Svp Stadium, Mumbai, Mumbai</td>\n",
              "      <td>1</td>\n",
              "    </tr>\n",
              "    <tr>\n",
              "      <th>4</th>\n",
              "      <td>5</td>\n",
              "      <td>League</td>\n",
              "      <td>Puneri Paltan</td>\n",
              "      <td>Dabang Delhi KC</td>\n",
              "      <td>31</td>\n",
              "      <td>35</td>\n",
              "      <td>30-07-2014</td>\n",
              "      <td>Dome@NSCI Svp Stadium, Mumbai, Mumbai</td>\n",
              "      <td>1</td>\n",
              "    </tr>\n",
              "  </tbody>\n",
              "</table>\n",
              "</div>\n",
              "      <button class=\"colab-df-convert\" onclick=\"convertToInteractive('df-cd260ee2-f604-47db-9a1e-3bf69f7b338f')\"\n",
              "              title=\"Convert this dataframe to an interactive table.\"\n",
              "              style=\"display:none;\">\n",
              "        \n",
              "  <svg xmlns=\"http://www.w3.org/2000/svg\" height=\"24px\"viewBox=\"0 0 24 24\"\n",
              "       width=\"24px\">\n",
              "    <path d=\"M0 0h24v24H0V0z\" fill=\"none\"/>\n",
              "    <path d=\"M18.56 5.44l.94 2.06.94-2.06 2.06-.94-2.06-.94-.94-2.06-.94 2.06-2.06.94zm-11 1L8.5 8.5l.94-2.06 2.06-.94-2.06-.94L8.5 2.5l-.94 2.06-2.06.94zm10 10l.94 2.06.94-2.06 2.06-.94-2.06-.94-.94-2.06-.94 2.06-2.06.94z\"/><path d=\"M17.41 7.96l-1.37-1.37c-.4-.4-.92-.59-1.43-.59-.52 0-1.04.2-1.43.59L10.3 9.45l-7.72 7.72c-.78.78-.78 2.05 0 2.83L4 21.41c.39.39.9.59 1.41.59.51 0 1.02-.2 1.41-.59l7.78-7.78 2.81-2.81c.8-.78.8-2.07 0-2.86zM5.41 20L4 18.59l7.72-7.72 1.47 1.35L5.41 20z\"/>\n",
              "  </svg>\n",
              "      </button>\n",
              "      \n",
              "  <style>\n",
              "    .colab-df-container {\n",
              "      display:flex;\n",
              "      flex-wrap:wrap;\n",
              "      gap: 12px;\n",
              "    }\n",
              "\n",
              "    .colab-df-convert {\n",
              "      background-color: #E8F0FE;\n",
              "      border: none;\n",
              "      border-radius: 50%;\n",
              "      cursor: pointer;\n",
              "      display: none;\n",
              "      fill: #1967D2;\n",
              "      height: 32px;\n",
              "      padding: 0 0 0 0;\n",
              "      width: 32px;\n",
              "    }\n",
              "\n",
              "    .colab-df-convert:hover {\n",
              "      background-color: #E2EBFA;\n",
              "      box-shadow: 0px 1px 2px rgba(60, 64, 67, 0.3), 0px 1px 3px 1px rgba(60, 64, 67, 0.15);\n",
              "      fill: #174EA6;\n",
              "    }\n",
              "\n",
              "    [theme=dark] .colab-df-convert {\n",
              "      background-color: #3B4455;\n",
              "      fill: #D2E3FC;\n",
              "    }\n",
              "\n",
              "    [theme=dark] .colab-df-convert:hover {\n",
              "      background-color: #434B5C;\n",
              "      box-shadow: 0px 1px 3px 1px rgba(0, 0, 0, 0.15);\n",
              "      filter: drop-shadow(0px 1px 2px rgba(0, 0, 0, 0.3));\n",
              "      fill: #FFFFFF;\n",
              "    }\n",
              "  </style>\n",
              "\n",
              "      <script>\n",
              "        const buttonEl =\n",
              "          document.querySelector('#df-cd260ee2-f604-47db-9a1e-3bf69f7b338f button.colab-df-convert');\n",
              "        buttonEl.style.display =\n",
              "          google.colab.kernel.accessAllowed ? 'block' : 'none';\n",
              "\n",
              "        async function convertToInteractive(key) {\n",
              "          const element = document.querySelector('#df-cd260ee2-f604-47db-9a1e-3bf69f7b338f');\n",
              "          const dataTable =\n",
              "            await google.colab.kernel.invokeFunction('convertToInteractive',\n",
              "                                                     [key], {});\n",
              "          if (!dataTable) return;\n",
              "\n",
              "          const docLinkHtml = 'Like what you see? Visit the ' +\n",
              "            '<a target=\"_blank\" href=https://colab.research.google.com/notebooks/data_table.ipynb>data table notebook</a>'\n",
              "            + ' to learn more about interactive tables.';\n",
              "          element.innerHTML = '';\n",
              "          dataTable['output_type'] = 'display_data';\n",
              "          await google.colab.output.renderOutput(dataTable, element);\n",
              "          const docLink = document.createElement('div');\n",
              "          docLink.innerHTML = docLinkHtml;\n",
              "          element.appendChild(docLink);\n",
              "        }\n",
              "      </script>\n",
              "    </div>\n",
              "  </div>\n",
              "  "
            ]
          },
          "metadata": {},
          "execution_count": 5
        }
      ]
    },
    {
      "cell_type": "code",
      "source": [
        "kabaddi_data.shape"
      ],
      "metadata": {
        "colab": {
          "base_uri": "https://localhost:8080/"
        },
        "id": "0h-wrdKUyE-d",
        "outputId": "13032822-f1b8-4291-cc51-8c3e61786152"
      },
      "execution_count": null,
      "outputs": [
        {
          "output_type": "execute_result",
          "data": {
            "text/plain": [
              "(790, 9)"
            ]
          },
          "metadata": {},
          "execution_count": 6
        }
      ]
    },
    {
      "cell_type": "code",
      "source": [
        "kabaddi_data.columns"
      ],
      "metadata": {
        "colab": {
          "base_uri": "https://localhost:8080/"
        },
        "id": "NS1fXsQHyFBl",
        "outputId": "03c62eee-257c-40a5-aa23-14a483def50c"
      },
      "execution_count": null,
      "outputs": [
        {
          "output_type": "execute_result",
          "data": {
            "text/plain": [
              "Index(['match_no', 'stage', 'team1', 'team2', 'team1_score', 'team2_score',\n",
              "       'date', 'location', 'season'],\n",
              "      dtype='object')"
            ]
          },
          "metadata": {},
          "execution_count": 7
        }
      ]
    },
    {
      "cell_type": "code",
      "source": [
        "kabaddi_data.info()"
      ],
      "metadata": {
        "colab": {
          "base_uri": "https://localhost:8080/"
        },
        "id": "17NJOxgdyFE0",
        "outputId": "14ec2eca-5449-4114-d2f9-c08ff794d0e2"
      },
      "execution_count": null,
      "outputs": [
        {
          "output_type": "stream",
          "name": "stdout",
          "text": [
            "<class 'pandas.core.frame.DataFrame'>\n",
            "RangeIndex: 790 entries, 0 to 789\n",
            "Data columns (total 9 columns):\n",
            " #   Column       Non-Null Count  Dtype \n",
            "---  ------       --------------  ----- \n",
            " 0   match_no     790 non-null    int64 \n",
            " 1   stage        790 non-null    object\n",
            " 2   team1        790 non-null    object\n",
            " 3   team2        790 non-null    object\n",
            " 4   team1_score  790 non-null    int64 \n",
            " 5   team2_score  790 non-null    int64 \n",
            " 6   date         790 non-null    object\n",
            " 7   location     790 non-null    object\n",
            " 8   season       790 non-null    int64 \n",
            "dtypes: int64(4), object(5)\n",
            "memory usage: 55.7+ KB\n"
          ]
        }
      ]
    },
    {
      "cell_type": "code",
      "source": [
        "kabaddi_data.describe()"
      ],
      "metadata": {
        "colab": {
          "base_uri": "https://localhost:8080/",
          "height": 300
        },
        "id": "HwWQhaajyFHe",
        "outputId": "1e1becd7-dddd-4800-86ee-1d7f8295d796"
      },
      "execution_count": null,
      "outputs": [
        {
          "output_type": "execute_result",
          "data": {
            "text/plain": [
              "         match_no  team1_score  team2_score      season\n",
              "count  790.000000   790.000000   790.000000  790.000000\n",
              "mean    37.984810    32.525316    32.713924    5.282278\n",
              "std     26.209157     7.153309     7.810602    2.152622\n",
              "min      0.000000    15.000000    15.000000    1.000000\n",
              "25%     17.000000    27.250000    27.000000    4.000000\n",
              "50%     33.000000    32.000000    32.000000    6.000000\n",
              "75%     55.000000    37.000000    37.000000    7.000000\n",
              "max     99.000000    69.000000    69.000000    8.000000"
            ],
            "text/html": [
              "\n",
              "  <div id=\"df-0f8395ed-cf5b-415c-a36a-b8a54210556b\">\n",
              "    <div class=\"colab-df-container\">\n",
              "      <div>\n",
              "<style scoped>\n",
              "    .dataframe tbody tr th:only-of-type {\n",
              "        vertical-align: middle;\n",
              "    }\n",
              "\n",
              "    .dataframe tbody tr th {\n",
              "        vertical-align: top;\n",
              "    }\n",
              "\n",
              "    .dataframe thead th {\n",
              "        text-align: right;\n",
              "    }\n",
              "</style>\n",
              "<table border=\"1\" class=\"dataframe\">\n",
              "  <thead>\n",
              "    <tr style=\"text-align: right;\">\n",
              "      <th></th>\n",
              "      <th>match_no</th>\n",
              "      <th>team1_score</th>\n",
              "      <th>team2_score</th>\n",
              "      <th>season</th>\n",
              "    </tr>\n",
              "  </thead>\n",
              "  <tbody>\n",
              "    <tr>\n",
              "      <th>count</th>\n",
              "      <td>790.000000</td>\n",
              "      <td>790.000000</td>\n",
              "      <td>790.000000</td>\n",
              "      <td>790.000000</td>\n",
              "    </tr>\n",
              "    <tr>\n",
              "      <th>mean</th>\n",
              "      <td>37.984810</td>\n",
              "      <td>32.525316</td>\n",
              "      <td>32.713924</td>\n",
              "      <td>5.282278</td>\n",
              "    </tr>\n",
              "    <tr>\n",
              "      <th>std</th>\n",
              "      <td>26.209157</td>\n",
              "      <td>7.153309</td>\n",
              "      <td>7.810602</td>\n",
              "      <td>2.152622</td>\n",
              "    </tr>\n",
              "    <tr>\n",
              "      <th>min</th>\n",
              "      <td>0.000000</td>\n",
              "      <td>15.000000</td>\n",
              "      <td>15.000000</td>\n",
              "      <td>1.000000</td>\n",
              "    </tr>\n",
              "    <tr>\n",
              "      <th>25%</th>\n",
              "      <td>17.000000</td>\n",
              "      <td>27.250000</td>\n",
              "      <td>27.000000</td>\n",
              "      <td>4.000000</td>\n",
              "    </tr>\n",
              "    <tr>\n",
              "      <th>50%</th>\n",
              "      <td>33.000000</td>\n",
              "      <td>32.000000</td>\n",
              "      <td>32.000000</td>\n",
              "      <td>6.000000</td>\n",
              "    </tr>\n",
              "    <tr>\n",
              "      <th>75%</th>\n",
              "      <td>55.000000</td>\n",
              "      <td>37.000000</td>\n",
              "      <td>37.000000</td>\n",
              "      <td>7.000000</td>\n",
              "    </tr>\n",
              "    <tr>\n",
              "      <th>max</th>\n",
              "      <td>99.000000</td>\n",
              "      <td>69.000000</td>\n",
              "      <td>69.000000</td>\n",
              "      <td>8.000000</td>\n",
              "    </tr>\n",
              "  </tbody>\n",
              "</table>\n",
              "</div>\n",
              "      <button class=\"colab-df-convert\" onclick=\"convertToInteractive('df-0f8395ed-cf5b-415c-a36a-b8a54210556b')\"\n",
              "              title=\"Convert this dataframe to an interactive table.\"\n",
              "              style=\"display:none;\">\n",
              "        \n",
              "  <svg xmlns=\"http://www.w3.org/2000/svg\" height=\"24px\"viewBox=\"0 0 24 24\"\n",
              "       width=\"24px\">\n",
              "    <path d=\"M0 0h24v24H0V0z\" fill=\"none\"/>\n",
              "    <path d=\"M18.56 5.44l.94 2.06.94-2.06 2.06-.94-2.06-.94-.94-2.06-.94 2.06-2.06.94zm-11 1L8.5 8.5l.94-2.06 2.06-.94-2.06-.94L8.5 2.5l-.94 2.06-2.06.94zm10 10l.94 2.06.94-2.06 2.06-.94-2.06-.94-.94-2.06-.94 2.06-2.06.94z\"/><path d=\"M17.41 7.96l-1.37-1.37c-.4-.4-.92-.59-1.43-.59-.52 0-1.04.2-1.43.59L10.3 9.45l-7.72 7.72c-.78.78-.78 2.05 0 2.83L4 21.41c.39.39.9.59 1.41.59.51 0 1.02-.2 1.41-.59l7.78-7.78 2.81-2.81c.8-.78.8-2.07 0-2.86zM5.41 20L4 18.59l7.72-7.72 1.47 1.35L5.41 20z\"/>\n",
              "  </svg>\n",
              "      </button>\n",
              "      \n",
              "  <style>\n",
              "    .colab-df-container {\n",
              "      display:flex;\n",
              "      flex-wrap:wrap;\n",
              "      gap: 12px;\n",
              "    }\n",
              "\n",
              "    .colab-df-convert {\n",
              "      background-color: #E8F0FE;\n",
              "      border: none;\n",
              "      border-radius: 50%;\n",
              "      cursor: pointer;\n",
              "      display: none;\n",
              "      fill: #1967D2;\n",
              "      height: 32px;\n",
              "      padding: 0 0 0 0;\n",
              "      width: 32px;\n",
              "    }\n",
              "\n",
              "    .colab-df-convert:hover {\n",
              "      background-color: #E2EBFA;\n",
              "      box-shadow: 0px 1px 2px rgba(60, 64, 67, 0.3), 0px 1px 3px 1px rgba(60, 64, 67, 0.15);\n",
              "      fill: #174EA6;\n",
              "    }\n",
              "\n",
              "    [theme=dark] .colab-df-convert {\n",
              "      background-color: #3B4455;\n",
              "      fill: #D2E3FC;\n",
              "    }\n",
              "\n",
              "    [theme=dark] .colab-df-convert:hover {\n",
              "      background-color: #434B5C;\n",
              "      box-shadow: 0px 1px 3px 1px rgba(0, 0, 0, 0.15);\n",
              "      filter: drop-shadow(0px 1px 2px rgba(0, 0, 0, 0.3));\n",
              "      fill: #FFFFFF;\n",
              "    }\n",
              "  </style>\n",
              "\n",
              "      <script>\n",
              "        const buttonEl =\n",
              "          document.querySelector('#df-0f8395ed-cf5b-415c-a36a-b8a54210556b button.colab-df-convert');\n",
              "        buttonEl.style.display =\n",
              "          google.colab.kernel.accessAllowed ? 'block' : 'none';\n",
              "\n",
              "        async function convertToInteractive(key) {\n",
              "          const element = document.querySelector('#df-0f8395ed-cf5b-415c-a36a-b8a54210556b');\n",
              "          const dataTable =\n",
              "            await google.colab.kernel.invokeFunction('convertToInteractive',\n",
              "                                                     [key], {});\n",
              "          if (!dataTable) return;\n",
              "\n",
              "          const docLinkHtml = 'Like what you see? Visit the ' +\n",
              "            '<a target=\"_blank\" href=https://colab.research.google.com/notebooks/data_table.ipynb>data table notebook</a>'\n",
              "            + ' to learn more about interactive tables.';\n",
              "          element.innerHTML = '';\n",
              "          dataTable['output_type'] = 'display_data';\n",
              "          await google.colab.output.renderOutput(dataTable, element);\n",
              "          const docLink = document.createElement('div');\n",
              "          docLink.innerHTML = docLinkHtml;\n",
              "          element.appendChild(docLink);\n",
              "        }\n",
              "      </script>\n",
              "    </div>\n",
              "  </div>\n",
              "  "
            ]
          },
          "metadata": {},
          "execution_count": 9
        }
      ]
    },
    {
      "cell_type": "code",
      "source": [
        "kabaddi_data.isnull().sum()"
      ],
      "metadata": {
        "colab": {
          "base_uri": "https://localhost:8080/"
        },
        "id": "zaNedj8ByFKv",
        "outputId": "a071d122-c005-4d2c-fbab-c9e678bdd92e"
      },
      "execution_count": null,
      "outputs": [
        {
          "output_type": "execute_result",
          "data": {
            "text/plain": [
              "match_no       0\n",
              "stage          0\n",
              "team1          0\n",
              "team2          0\n",
              "team1_score    0\n",
              "team2_score    0\n",
              "date           0\n",
              "location       0\n",
              "season         0\n",
              "dtype: int64"
            ]
          },
          "metadata": {},
          "execution_count": 10
        }
      ]
    },
    {
      "cell_type": "code",
      "source": [
        "kabaddi_data.nunique()\n"
      ],
      "metadata": {
        "colab": {
          "base_uri": "https://localhost:8080/"
        },
        "id": "2TCJ0_QayFNf",
        "outputId": "db69c33d-8687-4836-85f2-044a06e59f7b"
      },
      "execution_count": null,
      "outputs": [
        {
          "output_type": "execute_result",
          "data": {
            "text/plain": [
              "match_no       100\n",
              "stage           17\n",
              "team1           13\n",
              "team2           13\n",
              "team1_score     41\n",
              "team2_score     46\n",
              "date           467\n",
              "location        30\n",
              "season           8\n",
              "dtype: int64"
            ]
          },
          "metadata": {},
          "execution_count": 11
        }
      ]
    },
    {
      "cell_type": "code",
      "source": [
        "kabaddi_data['team1'].unique()"
      ],
      "metadata": {
        "colab": {
          "base_uri": "https://localhost:8080/"
        },
        "id": "PapeaE_MyaZX",
        "outputId": "f1ed5976-96b7-4acb-9092-f03b81d4efdf"
      },
      "execution_count": null,
      "outputs": [
        {
          "output_type": "execute_result",
          "data": {
            "text/plain": [
              "array(['U Mumba', 'Dabang Delhi KC', 'Bengaluru Bulls', 'Puneri Paltan',\n",
              "       'Bengal Warriors', 'Jaipur Pink Panthers', 'Telugu Titans',\n",
              "       'Patna Pirates', 'Gujarat Fortunegiants', 'Haryana Steelers',\n",
              "       'UP Yoddha', 'Tamil Thalaivas', 'Gujarat Giants'], dtype=object)"
            ]
          },
          "metadata": {},
          "execution_count": 12
        }
      ]
    },
    {
      "cell_type": "code",
      "source": [
        "U_Mumba_Matches_Team1 = kabaddi_data[kabaddi_data['team1'] == 'U Mumba']"
      ],
      "metadata": {
        "id": "0zydcQFJyacm"
      },
      "execution_count": null,
      "outputs": []
    },
    {
      "cell_type": "code",
      "source": [
        "\n",
        "U_Mumba_Matches_Team1.head()\n"
      ],
      "metadata": {
        "colab": {
          "base_uri": "https://localhost:8080/",
          "height": 206
        },
        "id": "iYhS8Saiyagf",
        "outputId": "ec0eac5c-3f21-48db-844b-7bee56035047"
      },
      "execution_count": null,
      "outputs": [
        {
          "output_type": "execute_result",
          "data": {
            "text/plain": [
              "    match_no   stage    team1                 team2  team1_score  team2_score  \\\n",
              "0          1  League  U Mumba  Jaipur Pink Panthers           45           31   \n",
              "3          4  League  U Mumba       Bengal Warriors           36           25   \n",
              "5          6  League  U Mumba         Telugu Titans           35           35   \n",
              "6          7  League  U Mumba         Patna Pirates           36           33   \n",
              "16        17  League  U Mumba         Puneri Paltan           44           28   \n",
              "\n",
              "          date                                location  season  \n",
              "0   26-07-2014   Dome@NSCI Svp Stadium, Mumbai, Mumbai       1  \n",
              "3   29-07-2014   Dome@NSCI Svp Stadium, Mumbai, Mumbai       1  \n",
              "5   31-07-2014   Dome@NSCI Svp Stadium, Mumbai, Mumbai       1  \n",
              "6   01-08-2014   Dome@NSCI Svp Stadium, Mumbai, Mumbai       1  \n",
              "16  11-08-2014  Thyagaraj Sports Complex, Delhi, Delhi       1  "
            ],
            "text/html": [
              "\n",
              "  <div id=\"df-6f8a5125-f1d4-4bd9-9d34-ad888dd80e10\">\n",
              "    <div class=\"colab-df-container\">\n",
              "      <div>\n",
              "<style scoped>\n",
              "    .dataframe tbody tr th:only-of-type {\n",
              "        vertical-align: middle;\n",
              "    }\n",
              "\n",
              "    .dataframe tbody tr th {\n",
              "        vertical-align: top;\n",
              "    }\n",
              "\n",
              "    .dataframe thead th {\n",
              "        text-align: right;\n",
              "    }\n",
              "</style>\n",
              "<table border=\"1\" class=\"dataframe\">\n",
              "  <thead>\n",
              "    <tr style=\"text-align: right;\">\n",
              "      <th></th>\n",
              "      <th>match_no</th>\n",
              "      <th>stage</th>\n",
              "      <th>team1</th>\n",
              "      <th>team2</th>\n",
              "      <th>team1_score</th>\n",
              "      <th>team2_score</th>\n",
              "      <th>date</th>\n",
              "      <th>location</th>\n",
              "      <th>season</th>\n",
              "    </tr>\n",
              "  </thead>\n",
              "  <tbody>\n",
              "    <tr>\n",
              "      <th>0</th>\n",
              "      <td>1</td>\n",
              "      <td>League</td>\n",
              "      <td>U Mumba</td>\n",
              "      <td>Jaipur Pink Panthers</td>\n",
              "      <td>45</td>\n",
              "      <td>31</td>\n",
              "      <td>26-07-2014</td>\n",
              "      <td>Dome@NSCI Svp Stadium, Mumbai, Mumbai</td>\n",
              "      <td>1</td>\n",
              "    </tr>\n",
              "    <tr>\n",
              "      <th>3</th>\n",
              "      <td>4</td>\n",
              "      <td>League</td>\n",
              "      <td>U Mumba</td>\n",
              "      <td>Bengal Warriors</td>\n",
              "      <td>36</td>\n",
              "      <td>25</td>\n",
              "      <td>29-07-2014</td>\n",
              "      <td>Dome@NSCI Svp Stadium, Mumbai, Mumbai</td>\n",
              "      <td>1</td>\n",
              "    </tr>\n",
              "    <tr>\n",
              "      <th>5</th>\n",
              "      <td>6</td>\n",
              "      <td>League</td>\n",
              "      <td>U Mumba</td>\n",
              "      <td>Telugu Titans</td>\n",
              "      <td>35</td>\n",
              "      <td>35</td>\n",
              "      <td>31-07-2014</td>\n",
              "      <td>Dome@NSCI Svp Stadium, Mumbai, Mumbai</td>\n",
              "      <td>1</td>\n",
              "    </tr>\n",
              "    <tr>\n",
              "      <th>6</th>\n",
              "      <td>7</td>\n",
              "      <td>League</td>\n",
              "      <td>U Mumba</td>\n",
              "      <td>Patna Pirates</td>\n",
              "      <td>36</td>\n",
              "      <td>33</td>\n",
              "      <td>01-08-2014</td>\n",
              "      <td>Dome@NSCI Svp Stadium, Mumbai, Mumbai</td>\n",
              "      <td>1</td>\n",
              "    </tr>\n",
              "    <tr>\n",
              "      <th>16</th>\n",
              "      <td>17</td>\n",
              "      <td>League</td>\n",
              "      <td>U Mumba</td>\n",
              "      <td>Puneri Paltan</td>\n",
              "      <td>44</td>\n",
              "      <td>28</td>\n",
              "      <td>11-08-2014</td>\n",
              "      <td>Thyagaraj Sports Complex, Delhi, Delhi</td>\n",
              "      <td>1</td>\n",
              "    </tr>\n",
              "  </tbody>\n",
              "</table>\n",
              "</div>\n",
              "      <button class=\"colab-df-convert\" onclick=\"convertToInteractive('df-6f8a5125-f1d4-4bd9-9d34-ad888dd80e10')\"\n",
              "              title=\"Convert this dataframe to an interactive table.\"\n",
              "              style=\"display:none;\">\n",
              "        \n",
              "  <svg xmlns=\"http://www.w3.org/2000/svg\" height=\"24px\"viewBox=\"0 0 24 24\"\n",
              "       width=\"24px\">\n",
              "    <path d=\"M0 0h24v24H0V0z\" fill=\"none\"/>\n",
              "    <path d=\"M18.56 5.44l.94 2.06.94-2.06 2.06-.94-2.06-.94-.94-2.06-.94 2.06-2.06.94zm-11 1L8.5 8.5l.94-2.06 2.06-.94-2.06-.94L8.5 2.5l-.94 2.06-2.06.94zm10 10l.94 2.06.94-2.06 2.06-.94-2.06-.94-.94-2.06-.94 2.06-2.06.94z\"/><path d=\"M17.41 7.96l-1.37-1.37c-.4-.4-.92-.59-1.43-.59-.52 0-1.04.2-1.43.59L10.3 9.45l-7.72 7.72c-.78.78-.78 2.05 0 2.83L4 21.41c.39.39.9.59 1.41.59.51 0 1.02-.2 1.41-.59l7.78-7.78 2.81-2.81c.8-.78.8-2.07 0-2.86zM5.41 20L4 18.59l7.72-7.72 1.47 1.35L5.41 20z\"/>\n",
              "  </svg>\n",
              "      </button>\n",
              "      \n",
              "  <style>\n",
              "    .colab-df-container {\n",
              "      display:flex;\n",
              "      flex-wrap:wrap;\n",
              "      gap: 12px;\n",
              "    }\n",
              "\n",
              "    .colab-df-convert {\n",
              "      background-color: #E8F0FE;\n",
              "      border: none;\n",
              "      border-radius: 50%;\n",
              "      cursor: pointer;\n",
              "      display: none;\n",
              "      fill: #1967D2;\n",
              "      height: 32px;\n",
              "      padding: 0 0 0 0;\n",
              "      width: 32px;\n",
              "    }\n",
              "\n",
              "    .colab-df-convert:hover {\n",
              "      background-color: #E2EBFA;\n",
              "      box-shadow: 0px 1px 2px rgba(60, 64, 67, 0.3), 0px 1px 3px 1px rgba(60, 64, 67, 0.15);\n",
              "      fill: #174EA6;\n",
              "    }\n",
              "\n",
              "    [theme=dark] .colab-df-convert {\n",
              "      background-color: #3B4455;\n",
              "      fill: #D2E3FC;\n",
              "    }\n",
              "\n",
              "    [theme=dark] .colab-df-convert:hover {\n",
              "      background-color: #434B5C;\n",
              "      box-shadow: 0px 1px 3px 1px rgba(0, 0, 0, 0.15);\n",
              "      filter: drop-shadow(0px 1px 2px rgba(0, 0, 0, 0.3));\n",
              "      fill: #FFFFFF;\n",
              "    }\n",
              "  </style>\n",
              "\n",
              "      <script>\n",
              "        const buttonEl =\n",
              "          document.querySelector('#df-6f8a5125-f1d4-4bd9-9d34-ad888dd80e10 button.colab-df-convert');\n",
              "        buttonEl.style.display =\n",
              "          google.colab.kernel.accessAllowed ? 'block' : 'none';\n",
              "\n",
              "        async function convertToInteractive(key) {\n",
              "          const element = document.querySelector('#df-6f8a5125-f1d4-4bd9-9d34-ad888dd80e10');\n",
              "          const dataTable =\n",
              "            await google.colab.kernel.invokeFunction('convertToInteractive',\n",
              "                                                     [key], {});\n",
              "          if (!dataTable) return;\n",
              "\n",
              "          const docLinkHtml = 'Like what you see? Visit the ' +\n",
              "            '<a target=\"_blank\" href=https://colab.research.google.com/notebooks/data_table.ipynb>data table notebook</a>'\n",
              "            + ' to learn more about interactive tables.';\n",
              "          element.innerHTML = '';\n",
              "          dataTable['output_type'] = 'display_data';\n",
              "          await google.colab.output.renderOutput(dataTable, element);\n",
              "          const docLink = document.createElement('div');\n",
              "          docLink.innerHTML = docLinkHtml;\n",
              "          element.appendChild(docLink);\n",
              "        }\n",
              "      </script>\n",
              "    </div>\n",
              "  </div>\n",
              "  "
            ]
          },
          "metadata": {},
          "execution_count": 14
        }
      ]
    },
    {
      "cell_type": "code",
      "source": [
        "plt.figure(figsize=(15,6))\n",
        "sns.countplot('team2',hue='team1', data = U_Mumba_Matches_Team1)\n",
        "plt.xticks(rotation = 90)\n",
        "plt.show()\n"
      ],
      "metadata": {
        "colab": {
          "base_uri": "https://localhost:8080/",
          "height": 488
        },
        "id": "HSOBStBSyakT",
        "outputId": "9d802b84-28b2-4bc6-efeb-30dd8252c286"
      },
      "execution_count": null,
      "outputs": [
        {
          "output_type": "display_data",
          "data": {
            "text/plain": [
              "<Figure size 1080x432 with 1 Axes>"
            ],
            "image/png": "[encoded data removed]"
          },
          "metadata": {
            "needs_background": "light"
          }
        }
      ]
    },
    {
      "cell_type": "code",
      "source": [
        "plt.figure(figsize=(15,6))\n",
        "sns.barplot(x = 'team2', y ='team2_score',hue='team1', data = U_Mumba_Matches_Team1)\n",
        "plt.xticks(rotation = 90)\n",
        "plt.show()"
      ],
      "metadata": {
        "colab": {
          "base_uri": "https://localhost:8080/",
          "height": 488
        },
        "id": "5-NLJnU4yudU",
        "outputId": "c4485ea1-f371-4911-cb18-5152011b6159"
      },
      "execution_count": null,
      "outputs": [
        {
          "output_type": "display_data",
          "data": {
            "text/plain": [
              "<Figure size 1080x432 with 1 Axes>"
            ],
            "image/png": "[encoded data removed]"
          },
          "metadata": {
            "needs_background": "light"
          }
        }
      ]
    },
    {
      "cell_type": "code",
      "source": [
        "plt.figure(figsize=(15,6))\n",
        "sns.countplot('team1_score',hue='team1', data = U_Mumba_Matches_Team1)\n",
        "plt.xticks(rotation = 90)\n",
        "plt.show()"
      ],
      "metadata": {
        "colab": {
          "base_uri": "https://localhost:8080/",
          "height": 392
        },
        "id": "7Vlej2Dxyy0e",
        "outputId": "0794df40-7e54-45e0-f1e3-963b844365ef"
      },
      "execution_count": null,
      "outputs": [
        {
          "output_type": "display_data",
          "data": {
            "text/plain": [
              "<Figure size 1080x432 with 1 Axes>"
            ],
            "image/png": "[encoded data removed]"
          },
          "metadata": {
            "needs_background": "light"
          }
        }
      ]
    },
    {
      "cell_type": "code",
      "source": [
        "conditions = [U_Mumba_Matches_Team1['team1_score'] > U_Mumba_Matches_Team1['team2_score'],\n",
        "              U_Mumba_Matches_Team1['team1_score'] < U_Mumba_Matches_Team1['team2_score']]"
      ],
      "metadata": {
        "id": "ww5u61Ljy9eI"
      },
      "execution_count": null,
      "outputs": []
    },
    {
      "cell_type": "code",
      "source": [
        "choices = ['Winner', 'Loose']\n"
      ],
      "metadata": {
        "id": "TrxiolQWy9hA"
      },
      "execution_count": null,
      "outputs": []
    },
    {
      "cell_type": "code",
      "source": [
        "U_Mumba_Matches_Team1['result'] = np.select(conditions, choices, default='Tie')"
      ],
      "metadata": {
        "id": "gjT0WEMxy9ju"
      },
      "execution_count": null,
      "outputs": []
    },
    {
      "cell_type": "code",
      "source": [
        "U_Mumba_Matches_Team1.head()"
      ],
      "metadata": {
        "colab": {
          "base_uri": "https://localhost:8080/",
          "height": 206
        },
        "id": "NoHW-HEqy9mm",
        "outputId": "56506094-833b-4a0e-ae25-b442f3393216"
      },
      "execution_count": null,
      "outputs": [
        {
          "output_type": "execute_result",
          "data": {
            "text/plain": [
              "    match_no   stage    team1                 team2  team1_score  team2_score  \\\n",
              "0          1  League  U Mumba  Jaipur Pink Panthers           45           31   \n",
              "3          4  League  U Mumba       Bengal Warriors           36           25   \n",
              "5          6  League  U Mumba         Telugu Titans           35           35   \n",
              "6          7  League  U Mumba         Patna Pirates           36           33   \n",
              "16        17  League  U Mumba         Puneri Paltan           44           28   \n",
              "\n",
              "          date                                location  season  result  \n",
              "0   26-07-2014   Dome@NSCI Svp Stadium, Mumbai, Mumbai       1  Winner  \n",
              "3   29-07-2014   Dome@NSCI Svp Stadium, Mumbai, Mumbai       1  Winner  \n",
              "5   31-07-2014   Dome@NSCI Svp Stadium, Mumbai, Mumbai       1     Tie  \n",
              "6   01-08-2014   Dome@NSCI Svp Stadium, Mumbai, Mumbai       1  Winner  \n",
              "16  11-08-2014  Thyagaraj Sports Complex, Delhi, Delhi       1  Winner  "
            ],
            "text/html": [
              "\n",
              "  <div id=\"df-56e61168-0383-44c4-9da9-768cc7e13792\">\n",
              "    <div class=\"colab-df-container\">\n",
              "      <div>\n",
              "<style scoped>\n",
              "    .dataframe tbody tr th:only-of-type {\n",
              "        vertical-align: middle;\n",
              "    }\n",
              "\n",
              "    .dataframe tbody tr th {\n",
              "        vertical-align: top;\n",
              "    }\n",
              "\n",
              "    .dataframe thead th {\n",
              "        text-align: right;\n",
              "    }\n",
              "</style>\n",
              "<table border=\"1\" class=\"dataframe\">\n",
              "  <thead>\n",
              "    <tr style=\"text-align: right;\">\n",
              "      <th></th>\n",
              "      <th>match_no</th>\n",
              "      <th>stage</th>\n",
              "      <th>team1</th>\n",
              "      <th>team2</th>\n",
              "      <th>team1_score</th>\n",
              "      <th>team2_score</th>\n",
              "      <th>date</th>\n",
              "      <th>location</th>\n",
              "      <th>season</th>\n",
              "      <th>result</th>\n",
              "    </tr>\n",
              "  </thead>\n",
              "  <tbody>\n",
              "    <tr>\n",
              "      <th>0</th>\n",
              "      <td>1</td>\n",
              "      <td>League</td>\n",
              "      <td>U Mumba</td>\n",
              "      <td>Jaipur Pink Panthers</td>\n",
              "      <td>45</td>\n",
              "      <td>31</td>\n",
              "      <td>26-07-2014</td>\n",
              "      <td>Dome@NSCI Svp Stadium, Mumbai, Mumbai</td>\n",
              "      <td>1</td>\n",
              "      <td>Winner</td>\n",
              "    </tr>\n",
              "    <tr>\n",
              "      <th>3</th>\n",
              "      <td>4</td>\n",
              "      <td>League</td>\n",
              "      <td>U Mumba</td>\n",
              "      <td>Bengal Warriors</td>\n",
              "      <td>36</td>\n",
              "      <td>25</td>\n",
              "      <td>29-07-2014</td>\n",
              "      <td>Dome@NSCI Svp Stadium, Mumbai, Mumbai</td>\n",
              "      <td>1</td>\n",
              "      <td>Winner</td>\n",
              "    </tr>\n",
              "    <tr>\n",
              "      <th>5</th>\n",
              "      <td>6</td>\n",
              "      <td>League</td>\n",
              "      <td>U Mumba</td>\n",
              "      <td>Telugu Titans</td>\n",
              "      <td>35</td>\n",
              "      <td>35</td>\n",
              "      <td>31-07-2014</td>\n",
              "      <td>Dome@NSCI Svp Stadium, Mumbai, Mumbai</td>\n",
              "      <td>1</td>\n",
              "      <td>Tie</td>\n",
              "    </tr>\n",
              "    <tr>\n",
              "      <th>6</th>\n",
              "      <td>7</td>\n",
              "      <td>League</td>\n",
              "      <td>U Mumba</td>\n",
              "      <td>Patna Pirates</td>\n",
              "      <td>36</td>\n",
              "      <td>33</td>\n",
              "      <td>01-08-2014</td>\n",
              "      <td>Dome@NSCI Svp Stadium, Mumbai, Mumbai</td>\n",
              "      <td>1</td>\n",
              "      <td>Winner</td>\n",
              "    </tr>\n",
              "    <tr>\n",
              "      <th>16</th>\n",
              "      <td>17</td>\n",
              "      <td>League</td>\n",
              "      <td>U Mumba</td>\n",
              "      <td>Puneri Paltan</td>\n",
              "      <td>44</td>\n",
              "      <td>28</td>\n",
              "      <td>11-08-2014</td>\n",
              "      <td>Thyagaraj Sports Complex, Delhi, Delhi</td>\n",
              "      <td>1</td>\n",
              "      <td>Winner</td>\n",
              "    </tr>\n",
              "  </tbody>\n",
              "</table>\n",
              "</div>\n",
              "      <button class=\"colab-df-convert\" onclick=\"convertToInteractive('df-56e61168-0383-44c4-9da9-768cc7e13792')\"\n",
              "              title=\"Convert this dataframe to an interactive table.\"\n",
              "              style=\"display:none;\">\n",
              "        \n",
              "  <svg xmlns=\"http://www.w3.org/2000/svg\" height=\"24px\"viewBox=\"0 0 24 24\"\n",
              "       width=\"24px\">\n",
              "    <path d=\"M0 0h24v24H0V0z\" fill=\"none\"/>\n",
              "    <path d=\"M18.56 5.44l.94 2.06.94-2.06 2.06-.94-2.06-.94-.94-2.06-.94 2.06-2.06.94zm-11 1L8.5 8.5l.94-2.06 2.06-.94-2.06-.94L8.5 2.5l-.94 2.06-2.06.94zm10 10l.94 2.06.94-2.06 2.06-.94-2.06-.94-.94-2.06-.94 2.06-2.06.94z\"/><path d=\"M17.41 7.96l-1.37-1.37c-.4-.4-.92-.59-1.43-.59-.52 0-1.04.2-1.43.59L10.3 9.45l-7.72 7.72c-.78.78-.78 2.05 0 2.83L4 21.41c.39.39.9.59 1.41.59.51 0 1.02-.2 1.41-.59l7.78-7.78 2.81-2.81c.8-.78.8-2.07 0-2.86zM5.41 20L4 18.59l7.72-7.72 1.47 1.35L5.41 20z\"/>\n",
              "  </svg>\n",
              "      </button>\n",
              "      \n",
              "  <style>\n",
              "    .colab-df-container {\n",
              "      display:flex;\n",
              "      flex-wrap:wrap;\n",
              "      gap: 12px;\n",
              "    }\n",
              "\n",
              "    .colab-df-convert {\n",
              "      background-color: #E8F0FE;\n",
              "      border: none;\n",
              "      border-radius: 50%;\n",
              "      cursor: pointer;\n",
              "      display: none;\n",
              "      fill: #1967D2;\n",
              "      height: 32px;\n",
              "      padding: 0 0 0 0;\n",
              "      width: 32px;\n",
              "    }\n",
              "\n",
              "    .colab-df-convert:hover {\n",
              "      background-color: #E2EBFA;\n",
              "      box-shadow: 0px 1px 2px rgba(60, 64, 67, 0.3), 0px 1px 3px 1px rgba(60, 64, 67, 0.15);\n",
              "      fill: #174EA6;\n",
              "    }\n",
              "\n",
              "    [theme=dark] .colab-df-convert {\n",
              "      background-color: #3B4455;\n",
              "      fill: #D2E3FC;\n",
              "    }\n",
              "\n",
              "    [theme=dark] .colab-df-convert:hover {\n",
              "      background-color: #434B5C;\n",
              "      box-shadow: 0px 1px 3px 1px rgba(0, 0, 0, 0.15);\n",
              "      filter: drop-shadow(0px 1px 2px rgba(0, 0, 0, 0.3));\n",
              "      fill: #FFFFFF;\n",
              "    }\n",
              "  </style>\n",
              "\n",
              "      <script>\n",
              "        const buttonEl =\n",
              "          document.querySelector('#df-56e61168-0383-44c4-9da9-768cc7e13792 button.colab-df-convert');\n",
              "        buttonEl.style.display =\n",
              "          google.colab.kernel.accessAllowed ? 'block' : 'none';\n",
              "\n",
              "        async function convertToInteractive(key) {\n",
              "          const element = document.querySelector('#df-56e61168-0383-44c4-9da9-768cc7e13792');\n",
              "          const dataTable =\n",
              "            await google.colab.kernel.invokeFunction('convertToInteractive',\n",
              "                                                     [key], {});\n",
              "          if (!dataTable) return;\n",
              "\n",
              "          const docLinkHtml = 'Like what you see? Visit the ' +\n",
              "            '<a target=\"_blank\" href=https://colab.research.google.com/notebooks/data_table.ipynb>data table notebook</a>'\n",
              "            + ' to learn more about interactive tables.';\n",
              "          element.innerHTML = '';\n",
              "          dataTable['output_type'] = 'display_data';\n",
              "          await google.colab.output.renderOutput(dataTable, element);\n",
              "          const docLink = document.createElement('div');\n",
              "          docLink.innerHTML = docLinkHtml;\n",
              "          element.appendChild(docLink);\n",
              "        }\n",
              "      </script>\n",
              "    </div>\n",
              "  </div>\n",
              "  "
            ]
          },
          "metadata": {},
          "execution_count": 24
        }
      ]
    },
    {
      "cell_type": "code",
      "source": [
        "plt.figure(figsize=(15,6))\n",
        "sns.countplot(x = 'result',hue='team1', data = U_Mumba_Matches_Team1)\n",
        "plt.xticks(rotation = 90)\n",
        "plt.show()"
      ],
      "metadata": {
        "colab": {
          "base_uri": "https://localhost:8080/",
          "height": 414
        },
        "id": "2-yEKUy2zJqR",
        "outputId": "83e526f8-cf0f-4b8f-a80f-51488e6531fa"
      },
      "execution_count": null,
      "outputs": [
        {
          "output_type": "display_data",
          "data": {
            "text/plain": [
              "<Figure size 1080x432 with 1 Axes>"
            ],
            "image/png": "[encoded data removed]"
          },
          "metadata": {
            "needs_background": "light"
          }
        }
      ]
    },
    {
      "cell_type": "code",
      "source": [
        "from sklearn import preprocessing\n",
        "label_encoder = preprocessing.LabelEncoder()"
      ],
      "metadata": {
        "id": "xfE0EgdyzJtS"
      },
      "execution_count": null,
      "outputs": []
    },
    {
      "cell_type": "code",
      "source": [
        "U_Mumba_Matches_Team1['result']= label_encoder.fit_transform(U_Mumba_Matches_Team1['result'])"
      ],
      "metadata": {
        "id": "Hdvt7l4-zJxq"
      },
      "execution_count": null,
      "outputs": []
    },
    {
      "cell_type": "code",
      "source": [
        "U_Mumba_Matches_Team1['team1']= label_encoder.fit_transform(U_Mumba_Matches_Team1['team2'])"
      ],
      "metadata": {
        "id": "UQdlSY_izJ1j"
      },
      "execution_count": null,
      "outputs": []
    },
    {
      "cell_type": "code",
      "source": [
        "U_Mumba_Matches_Team1['team2']= label_encoder.fit_transform(U_Mumba_Matches_Team1['team2'])"
      ],
      "metadata": {
        "id": "YPXVjtZOzJ4M"
      },
      "execution_count": null,
      "outputs": []
    },
    {
      "cell_type": "code",
      "source": [
        "x= U_Mumba_Matches_Team1.drop(['match_no', 'stage', 'team1_score', 'team2_score',\n",
        "'date', 'location', 'season', 'result'], axis =1)"
      ],
      "metadata": {
        "id": "kSFwu2J1zdbE"
      },
      "execution_count": null,
      "outputs": []
    },
    {
      "cell_type": "code",
      "source": [
        "y = U_Mumba_Matches_Team1.result"
      ],
      "metadata": {
        "id": "l-U5IKRXzdi5"
      },
      "execution_count": null,
      "outputs": []
    },
    {
      "cell_type": "code",
      "source": [
        "from sklearn.linear_model import LogisticRegression\n",
        "from sklearn.model_selection import train_test_split"
      ],
      "metadata": {
        "id": "QC8HNMWVzdlx"
      },
      "execution_count": null,
      "outputs": []
    },
    {
      "cell_type": "code",
      "source": [
        "X_train, X_test, y_train, y_test = train_test_split(x, y, test_size = 0.2)"
      ],
      "metadata": {
        "id": "Ctg6VrE4zdow"
      },
      "execution_count": null,
      "outputs": []
    },
    {
      "cell_type": "code",
      "source": [
        "model = LogisticRegression()\n",
        "model.fit(X_train, y_train)"
      ],
      "metadata": {
        "colab": {
          "base_uri": "https://localhost:8080/"
        },
        "id": "tZTT9stqzoXZ",
        "outputId": "0f29dadc-fd7b-4b76-c201-1e6654acbf1d"
      },
      "execution_count": null,
      "outputs": [
        {
          "output_type": "execute_result",
          "data": {
            "text/plain": [
              "LogisticRegression()"
            ]
          },
          "metadata": {},
          "execution_count": 49
        }
      ]
    },
    {
      "cell_type": "code",
      "source": [
        "y_pred = model.predict(X_test)"
      ],
      "metadata": {
        "id": "fAylEyPczoai"
      },
      "execution_count": null,
      "outputs": []
    },
    {
      "cell_type": "code",
      "source": [
        "print(\"Training Accuracy :\", model.score(X_train, y_train))\n",
        "print(\"Testing Accuracy :\", model.score(X_test, y_test))"
      ],
      "metadata": {
        "colab": {
          "base_uri": "https://localhost:8080/"
        },
        "id": "ogoyoXX3zodx",
        "outputId": "1a448aa0-fb5a-4e66-dac1-37bf2fbd6a73"
      },
      "execution_count": null,
      "outputs": [
        {
          "output_type": "stream",
          "name": "stdout",
          "text": [
            "Training Accuracy : 0.5373134328358209\n",
            "Testing Accuracy : 0.9411764705882353\n"
          ]
        }
      ]
    }
  ]
}