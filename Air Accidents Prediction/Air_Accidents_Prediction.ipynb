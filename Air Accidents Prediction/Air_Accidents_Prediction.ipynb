{
  "cells": [
    {
      "cell_type": "code",
      "execution_count": null,
      "metadata": {
        "id": "lxXfupz0ag_E"
      },
      "outputs": [],
      "source": [
        "import numpy as np\n",
        "import pandas as pd\n",
        "import matplotlib.pyplot as plt\n",
        "import seaborn as sns\n",
        "import warnings\n",
        "warnings.filterwarnings('ignore')"
      ]
    },
    {
      "cell_type": "code",
      "execution_count": null,
      "metadata": {
        "colab": {
          "base_uri": "https://localhost:8080/"
        },
        "id": "idyeemSJahQm",
        "outputId": "2cbd4de6-fcd2-4439-dbf4-2e68b706420c"
      },
      "outputs": [
        {
          "output_type": "stream",
          "name": "stdout",
          "text": [
            "Mounted at /content/drive\n"
          ]
        }
      ],
      "source": [
        "from google.colab import drive\n",
        "drive.mount('/content/drive')"
      ]
    },
    {
      "cell_type": "code",
      "execution_count": null,
      "metadata": {
        "colab": {
          "base_uri": "https://localhost:8080/"
        },
        "id": "7MxYvf7SahUA",
        "outputId": "f64899c3-ef20-4f46-8d70-25f9094ff115"
      },
      "outputs": [
        {
          "output_type": "stream",
          "name": "stdout",
          "text": [
            "unzip:  cannot find or open /content/drive/MyDrive/Teach_Foundation_of_ML/project/Regression/archive.zip, /content/drive/MyDrive/Teach_Foundation_of_ML/project/Regression/archive.zip.zip or /content/drive/MyDrive/Teach_Foundation_of_ML/project/Regression/archive.zip.ZIP.\n"
          ]
        }
      ],
      "source": [
        "!unzip /content/drive/MyDrive/Teach_Foundation_of_ML/project/Regression/archive.zip"
      ]
    },
    {
      "cell_type": "code",
      "execution_count": null,
      "metadata": {
        "id": "aydhk1MYahXq"
      },
      "outputs": [],
      "source": [
        "data=pd.read_csv('/content/drive/MyDrive/Air_Accidents/ICAO_accidents.csv')"
      ]
    },
    {
      "cell_type": "code",
      "execution_count": null,
      "metadata": {
        "colab": {
          "base_uri": "https://localhost:8080/",
          "height": 542
        },
        "id": "NXcbESl_ahd4",
        "outputId": "2572b80c-a739-400f-fc19-e5262b7f3731"
      },
      "outputs": [
        {
          "output_type": "execute_result",
          "data": {
            "text/plain": [
              "   Unnamed: 0                        Date StateOfOccurrence  \\\n",
              "0           0  \"2008-01-02T00:00:00.000Z\"               PHL   \n",
              "1           1  \"2008-01-02T00:00:00.000Z\"               IRN   \n",
              "2           2  \"2008-01-03T00:00:00.000Z\"               USA   \n",
              "3           3  \"2008-01-04T00:00:00.000Z\"               VEN   \n",
              "4           4  \"2008-01-05T00:00:00.000Z\"               USA   \n",
              "\n",
              "                         Location            Model Registration  \\\n",
              "0           Masbate Airport (MBT)      NAMC YS11 A     RP-C3592   \n",
              "1   Tehran-Mehrabad Airport (THR)   FOKKER F27 100       EP-IDB   \n",
              "2                   Oklahoma City     PILATUS PC12        N398J   \n",
              "3  A 20 NM del VOR del Gran Roque     LET L410 UVP       YV2081   \n",
              "4                          Kodiak  PIPER PA31P 350       N509FN   \n",
              "\n",
              "                                            Operator StateOfOperator  \\\n",
              "0                           Philippines Asian Spirit             PHL   \n",
              "1  Iran, Islamic Republic Of Iran National Airlin...             IRN   \n",
              "2                                                NaN             NaN   \n",
              "3                                         Venezuela              VEN   \n",
              "4                                                NaN             NaN   \n",
              "\n",
              "  StateOfRegistry FlightPhase  ... InjuryLevel  TypeDesignator  Helicopter  \\\n",
              "0             PHL     Landing  ...        None            YS11         NaN   \n",
              "1             IRN    Take-off  ...        None             F27         NaN   \n",
              "2             USA    Standing  ...       Fatal            PC12       False   \n",
              "3             VEN    En route  ...       Fatal            L410         NaN   \n",
              "4             USA    Take-off  ...       Fatal            PA47       False   \n",
              "\n",
              "  Airplane Engines EngineType Official             OccCats   Risk  Year  \n",
              "0     True       2  Turboprop     True              [\"RE\"]     RS  2008  \n",
              "1     True       2  Turboprop     True    [\"F-POST\",\"ICE\"]    OTH  2008  \n",
              "2     True       1  Turboprop      NaN            [\"RAMP\"]     RS  2008  \n",
              "3     True       2  Turboprop     True          [\"SCF-PP\"]    SCF  2008  \n",
              "4     True       1        Jet      NaN  [\"LOC-I\",\"SCF-NP\"]  LOC-I  2008  \n",
              "\n",
              "[5 rows x 25 columns]"
            ],
            "text/html": [
              "\n",
              "  <div id=\"df-85b7ea70-7d5d-4785-84cc-0093f28babf2\">\n",
              "    <div class=\"colab-df-container\">\n",
              "      <div>\n",
              "<style scoped>\n",
              "    .dataframe tbody tr th:only-of-type {\n",
              "        vertical-align: middle;\n",
              "    }\n",
              "\n",
              "    .dataframe tbody tr th {\n",
              "        vertical-align: top;\n",
              "    }\n",
              "\n",
              "    .dataframe thead th {\n",
              "        text-align: right;\n",
              "    }\n",
              "</style>\n",
              "<table border=\"1\" class=\"dataframe\">\n",
              "  <thead>\n",
              "    <tr style=\"text-align: right;\">\n",
              "      <th></th>\n",
              "      <th>Unnamed: 0</th>\n",
              "      <th>Date</th>\n",
              "      <th>StateOfOccurrence</th>\n",
              "      <th>Location</th>\n",
              "      <th>Model</th>\n",
              "      <th>Registration</th>\n",
              "      <th>Operator</th>\n",
              "      <th>StateOfOperator</th>\n",
              "      <th>StateOfRegistry</th>\n",
              "      <th>FlightPhase</th>\n",
              "      <th>...</th>\n",
              "      <th>InjuryLevel</th>\n",
              "      <th>TypeDesignator</th>\n",
              "      <th>Helicopter</th>\n",
              "      <th>Airplane</th>\n",
              "      <th>Engines</th>\n",
              "      <th>EngineType</th>\n",
              "      <th>Official</th>\n",
              "      <th>OccCats</th>\n",
              "      <th>Risk</th>\n",
              "      <th>Year</th>\n",
              "    </tr>\n",
              "  </thead>\n",
              "  <tbody>\n",
              "    <tr>\n",
              "      <th>0</th>\n",
              "      <td>0</td>\n",
              "      <td>\"2008-01-02T00:00:00.000Z\"</td>\n",
              "      <td>PHL</td>\n",
              "      <td>Masbate Airport (MBT)</td>\n",
              "      <td>NAMC YS11 A</td>\n",
              "      <td>RP-C3592</td>\n",
              "      <td>Philippines Asian Spirit</td>\n",
              "      <td>PHL</td>\n",
              "      <td>PHL</td>\n",
              "      <td>Landing</td>\n",
              "      <td>...</td>\n",
              "      <td>None</td>\n",
              "      <td>YS11</td>\n",
              "      <td>NaN</td>\n",
              "      <td>True</td>\n",
              "      <td>2</td>\n",
              "      <td>Turboprop</td>\n",
              "      <td>True</td>\n",
              "      <td>[\"RE\"]</td>\n",
              "      <td>RS</td>\n",
              "      <td>2008</td>\n",
              "    </tr>\n",
              "    <tr>\n",
              "      <th>1</th>\n",
              "      <td>1</td>\n",
              "      <td>\"2008-01-02T00:00:00.000Z\"</td>\n",
              "      <td>IRN</td>\n",
              "      <td>Tehran-Mehrabad Airport (THR)</td>\n",
              "      <td>FOKKER F27 100</td>\n",
              "      <td>EP-IDB</td>\n",
              "      <td>Iran, Islamic Republic Of Iran National Airlin...</td>\n",
              "      <td>IRN</td>\n",
              "      <td>IRN</td>\n",
              "      <td>Take-off</td>\n",
              "      <td>...</td>\n",
              "      <td>None</td>\n",
              "      <td>F27</td>\n",
              "      <td>NaN</td>\n",
              "      <td>True</td>\n",
              "      <td>2</td>\n",
              "      <td>Turboprop</td>\n",
              "      <td>True</td>\n",
              "      <td>[\"F-POST\",\"ICE\"]</td>\n",
              "      <td>OTH</td>\n",
              "      <td>2008</td>\n",
              "    </tr>\n",
              "    <tr>\n",
              "      <th>2</th>\n",
              "      <td>2</td>\n",
              "      <td>\"2008-01-03T00:00:00.000Z\"</td>\n",
              "      <td>USA</td>\n",
              "      <td>Oklahoma City</td>\n",
              "      <td>PILATUS PC12</td>\n",
              "      <td>N398J</td>\n",
              "      <td>NaN</td>\n",
              "      <td>NaN</td>\n",
              "      <td>USA</td>\n",
              "      <td>Standing</td>\n",
              "      <td>...</td>\n",
              "      <td>Fatal</td>\n",
              "      <td>PC12</td>\n",
              "      <td>False</td>\n",
              "      <td>True</td>\n",
              "      <td>1</td>\n",
              "      <td>Turboprop</td>\n",
              "      <td>NaN</td>\n",
              "      <td>[\"RAMP\"]</td>\n",
              "      <td>RS</td>\n",
              "      <td>2008</td>\n",
              "    </tr>\n",
              "    <tr>\n",
              "      <th>3</th>\n",
              "      <td>3</td>\n",
              "      <td>\"2008-01-04T00:00:00.000Z\"</td>\n",
              "      <td>VEN</td>\n",
              "      <td>A 20 NM del VOR del Gran Roque</td>\n",
              "      <td>LET L410 UVP</td>\n",
              "      <td>YV2081</td>\n",
              "      <td>Venezuela</td>\n",
              "      <td>VEN</td>\n",
              "      <td>VEN</td>\n",
              "      <td>En route</td>\n",
              "      <td>...</td>\n",
              "      <td>Fatal</td>\n",
              "      <td>L410</td>\n",
              "      <td>NaN</td>\n",
              "      <td>True</td>\n",
              "      <td>2</td>\n",
              "      <td>Turboprop</td>\n",
              "      <td>True</td>\n",
              "      <td>[\"SCF-PP\"]</td>\n",
              "      <td>SCF</td>\n",
              "      <td>2008</td>\n",
              "    </tr>\n",
              "    <tr>\n",
              "      <th>4</th>\n",
              "      <td>4</td>\n",
              "      <td>\"2008-01-05T00:00:00.000Z\"</td>\n",
              "      <td>USA</td>\n",
              "      <td>Kodiak</td>\n",
              "      <td>PIPER PA31P 350</td>\n",
              "      <td>N509FN</td>\n",
              "      <td>NaN</td>\n",
              "      <td>NaN</td>\n",
              "      <td>USA</td>\n",
              "      <td>Take-off</td>\n",
              "      <td>...</td>\n",
              "      <td>Fatal</td>\n",
              "      <td>PA47</td>\n",
              "      <td>False</td>\n",
              "      <td>True</td>\n",
              "      <td>1</td>\n",
              "      <td>Jet</td>\n",
              "      <td>NaN</td>\n",
              "      <td>[\"LOC-I\",\"SCF-NP\"]</td>\n",
              "      <td>LOC-I</td>\n",
              "      <td>2008</td>\n",
              "    </tr>\n",
              "  </tbody>\n",
              "</table>\n",
              "<p>5 rows × 25 columns</p>\n",
              "</div>\n",
              "      <button class=\"colab-df-convert\" onclick=\"convertToInteractive('df-85b7ea70-7d5d-4785-84cc-0093f28babf2')\"\n",
              "              title=\"Convert this dataframe to an interactive table.\"\n",
              "              style=\"display:none;\">\n",
              "        \n",
              "  <svg xmlns=\"http://www.w3.org/2000/svg\" height=\"24px\"viewBox=\"0 0 24 24\"\n",
              "       width=\"24px\">\n",
              "    <path d=\"M0 0h24v24H0V0z\" fill=\"none\"/>\n",
              "    <path d=\"M18.56 5.44l.94 2.06.94-2.06 2.06-.94-2.06-.94-.94-2.06-.94 2.06-2.06.94zm-11 1L8.5 8.5l.94-2.06 2.06-.94-2.06-.94L8.5 2.5l-.94 2.06-2.06.94zm10 10l.94 2.06.94-2.06 2.06-.94-2.06-.94-.94-2.06-.94 2.06-2.06.94z\"/><path d=\"M17.41 7.96l-1.37-1.37c-.4-.4-.92-.59-1.43-.59-.52 0-1.04.2-1.43.59L10.3 9.45l-7.72 7.72c-.78.78-.78 2.05 0 2.83L4 21.41c.39.39.9.59 1.41.59.51 0 1.02-.2 1.41-.59l7.78-7.78 2.81-2.81c.8-.78.8-2.07 0-2.86zM5.41 20L4 18.59l7.72-7.72 1.47 1.35L5.41 20z\"/>\n",
              "  </svg>\n",
              "      </button>\n",
              "      \n",
              "  <style>\n",
              "    .colab-df-container {\n",
              "      display:flex;\n",
              "      flex-wrap:wrap;\n",
              "      gap: 12px;\n",
              "    }\n",
              "\n",
              "    .colab-df-convert {\n",
              "      background-color: #E8F0FE;\n",
              "      border: none;\n",
              "      border-radius: 50%;\n",
              "      cursor: pointer;\n",
              "      display: none;\n",
              "      fill: #1967D2;\n",
              "      height: 32px;\n",
              "      padding: 0 0 0 0;\n",
              "      width: 32px;\n",
              "    }\n",
              "\n",
              "    .colab-df-convert:hover {\n",
              "      background-color: #E2EBFA;\n",
              "      box-shadow: 0px 1px 2px rgba(60, 64, 67, 0.3), 0px 1px 3px 1px rgba(60, 64, 67, 0.15);\n",
              "      fill: #174EA6;\n",
              "    }\n",
              "\n",
              "    [theme=dark] .colab-df-convert {\n",
              "      background-color: #3B4455;\n",
              "      fill: #D2E3FC;\n",
              "    }\n",
              "\n",
              "    [theme=dark] .colab-df-convert:hover {\n",
              "      background-color: #434B5C;\n",
              "      box-shadow: 0px 1px 3px 1px rgba(0, 0, 0, 0.15);\n",
              "      filter: drop-shadow(0px 1px 2px rgba(0, 0, 0, 0.3));\n",
              "      fill: #FFFFFF;\n",
              "    }\n",
              "  </style>\n",
              "\n",
              "      <script>\n",
              "        const buttonEl =\n",
              "          document.querySelector('#df-85b7ea70-7d5d-4785-84cc-0093f28babf2 button.colab-df-convert');\n",
              "        buttonEl.style.display =\n",
              "          google.colab.kernel.accessAllowed ? 'block' : 'none';\n",
              "\n",
              "        async function convertToInteractive(key) {\n",
              "          const element = document.querySelector('#df-85b7ea70-7d5d-4785-84cc-0093f28babf2');\n",
              "          const dataTable =\n",
              "            await google.colab.kernel.invokeFunction('convertToInteractive',\n",
              "                                                     [key], {});\n",
              "          if (!dataTable) return;\n",
              "\n",
              "          const docLinkHtml = 'Like what you see? Visit the ' +\n",
              "            '<a target=\"_blank\" href=https://colab.research.google.com/notebooks/data_table.ipynb>data table notebook</a>'\n",
              "            + ' to learn more about interactive tables.';\n",
              "          element.innerHTML = '';\n",
              "          dataTable['output_type'] = 'display_data';\n",
              "          await google.colab.output.renderOutput(dataTable, element);\n",
              "          const docLink = document.createElement('div');\n",
              "          docLink.innerHTML = docLinkHtml;\n",
              "          element.appendChild(docLink);\n",
              "        }\n",
              "      </script>\n",
              "    </div>\n",
              "  </div>\n",
              "  "
            ]
          },
          "metadata": {},
          "execution_count": 6
        }
      ],
      "source": [
        "data.head()"
      ]
    },
    {
      "cell_type": "code",
      "execution_count": null,
      "metadata": {
        "colab": {
          "base_uri": "https://localhost:8080/",
          "height": 646
        },
        "id": "sw-TPFHVbYXE",
        "outputId": "54125fdc-80a7-45ca-b5c6-d66fd62b7319"
      },
      "outputs": [
        {
          "output_type": "execute_result",
          "data": {
            "text/plain": [
              "      Unnamed: 0                        Date StateOfOccurrence  \\\n",
              "6104          39  \"2022-05-06T00:00:00.000Z\"               ITA   \n",
              "6105          40  \"2022-05-06T00:00:00.000Z\"               CHL   \n",
              "6106          41  \"2022-05-11T00:00:00.000Z\"               BRA   \n",
              "6107          42  \"2022-05-11T00:00:00.000Z\"               CMR   \n",
              "6108          43  \"2022-05-12T00:00:00.000Z\"               CHN   \n",
              "\n",
              "                                             Location  \\\n",
              "6104                 Napoli-Capodichino Airport (NAP)   \n",
              "6105     Santiago-Arturo Merino Benitez Airport (SCL)   \n",
              "6106                                      Boituva, SP   \n",
              "6107                                 near Nanga Eboko   \n",
              "6108   Chongqing-Jiangbei International Airport (CKG)   \n",
              "\n",
              "                              Model Registration  \\\n",
              "6104            Boeing 737-82R (WL)       YR-BMM   \n",
              "6105  Beechcraft 200 Super King Air       CC-CDY   \n",
              "6106           Cessna 208 Caravan I       PT-OQR   \n",
              "6107    Viking DHC-6 Twin Otter 400       TJ-TIM   \n",
              "6108           Airbus A319-115 (WL)       B-6425   \n",
              "\n",
              "                                               Operator StateOfOperator  \\\n",
              "6104                                           Blue Air             ROU   \n",
              "6105                                                NaN             NaN   \n",
              "6106  Skydive4Fun, opf. LBK Servi�o A�reo Especializado             NaN   \n",
              "6107                               Caverton Helicopters             NaN   \n",
              "6108                                     Tibet Airlines             CHN   \n",
              "\n",
              "     StateOfRegistry    FlightPhase  ... InjuryLevel  TypeDesignator  \\\n",
              "6104             ROU        Landing  ...         NaN            B38M   \n",
              "6105             CHL        Landing  ...         NaN            BE20   \n",
              "6106             BRA  Initial Climb  ...       Fatal            C208   \n",
              "6107             CMR       En route  ...       Fatal            DHC6   \n",
              "6108             CHN       Take-off  ...         NaN            A319   \n",
              "\n",
              "      Helicopter Airplane Engines EngineType Official OccCats   Risk  Year  \n",
              "6104       False     True       2        Jet      NaN      []     RS  2022  \n",
              "6105       False     True       2  Turboprop      NaN      []     RS  2022  \n",
              "6106       False     True       1  Turboprop      NaN      []    UNK  2022  \n",
              "6107       False     True       2  Turboprop      NaN      []  LOC-I  2022  \n",
              "6108       False     True       2        Jet      NaN      []     RS  2022  \n",
              "\n",
              "[5 rows x 25 columns]"
            ],
            "text/html": [
              "\n",
              "  <div id=\"df-72738a24-5851-4a4d-9f65-0611a387c091\">\n",
              "    <div class=\"colab-df-container\">\n",
              "      <div>\n",
              "<style scoped>\n",
              "    .dataframe tbody tr th:only-of-type {\n",
              "        vertical-align: middle;\n",
              "    }\n",
              "\n",
              "    .dataframe tbody tr th {\n",
              "        vertical-align: top;\n",
              "    }\n",
              "\n",
              "    .dataframe thead th {\n",
              "        text-align: right;\n",
              "    }\n",
              "</style>\n",
              "<table border=\"1\" class=\"dataframe\">\n",
              "  <thead>\n",
              "    <tr style=\"text-align: right;\">\n",
              "      <th></th>\n",
              "      <th>Unnamed: 0</th>\n",
              "      <th>Date</th>\n",
              "      <th>StateOfOccurrence</th>\n",
              "      <th>Location</th>\n",
              "      <th>Model</th>\n",
              "      <th>Registration</th>\n",
              "      <th>Operator</th>\n",
              "      <th>StateOfOperator</th>\n",
              "      <th>StateOfRegistry</th>\n",
              "      <th>FlightPhase</th>\n",
              "      <th>...</th>\n",
              "      <th>InjuryLevel</th>\n",
              "      <th>TypeDesignator</th>\n",
              "      <th>Helicopter</th>\n",
              "      <th>Airplane</th>\n",
              "      <th>Engines</th>\n",
              "      <th>EngineType</th>\n",
              "      <th>Official</th>\n",
              "      <th>OccCats</th>\n",
              "      <th>Risk</th>\n",
              "      <th>Year</th>\n",
              "    </tr>\n",
              "  </thead>\n",
              "  <tbody>\n",
              "    <tr>\n",
              "      <th>6104</th>\n",
              "      <td>39</td>\n",
              "      <td>\"2022-05-06T00:00:00.000Z\"</td>\n",
              "      <td>ITA</td>\n",
              "      <td>Napoli-Capodichino Airport (NAP)</td>\n",
              "      <td>Boeing 737-82R (WL)</td>\n",
              "      <td>YR-BMM</td>\n",
              "      <td>Blue Air</td>\n",
              "      <td>ROU</td>\n",
              "      <td>ROU</td>\n",
              "      <td>Landing</td>\n",
              "      <td>...</td>\n",
              "      <td>NaN</td>\n",
              "      <td>B38M</td>\n",
              "      <td>False</td>\n",
              "      <td>True</td>\n",
              "      <td>2</td>\n",
              "      <td>Jet</td>\n",
              "      <td>NaN</td>\n",
              "      <td>[]</td>\n",
              "      <td>RS</td>\n",
              "      <td>2022</td>\n",
              "    </tr>\n",
              "    <tr>\n",
              "      <th>6105</th>\n",
              "      <td>40</td>\n",
              "      <td>\"2022-05-06T00:00:00.000Z\"</td>\n",
              "      <td>CHL</td>\n",
              "      <td>Santiago-Arturo Merino Benitez Airport (SCL)</td>\n",
              "      <td>Beechcraft 200 Super King Air</td>\n",
              "      <td>CC-CDY</td>\n",
              "      <td>NaN</td>\n",
              "      <td>NaN</td>\n",
              "      <td>CHL</td>\n",
              "      <td>Landing</td>\n",
              "      <td>...</td>\n",
              "      <td>NaN</td>\n",
              "      <td>BE20</td>\n",
              "      <td>False</td>\n",
              "      <td>True</td>\n",
              "      <td>2</td>\n",
              "      <td>Turboprop</td>\n",
              "      <td>NaN</td>\n",
              "      <td>[]</td>\n",
              "      <td>RS</td>\n",
              "      <td>2022</td>\n",
              "    </tr>\n",
              "    <tr>\n",
              "      <th>6106</th>\n",
              "      <td>41</td>\n",
              "      <td>\"2022-05-11T00:00:00.000Z\"</td>\n",
              "      <td>BRA</td>\n",
              "      <td>Boituva, SP</td>\n",
              "      <td>Cessna 208 Caravan I</td>\n",
              "      <td>PT-OQR</td>\n",
              "      <td>Skydive4Fun, opf. LBK Servi�o A�reo Especializado</td>\n",
              "      <td>NaN</td>\n",
              "      <td>BRA</td>\n",
              "      <td>Initial Climb</td>\n",
              "      <td>...</td>\n",
              "      <td>Fatal</td>\n",
              "      <td>C208</td>\n",
              "      <td>False</td>\n",
              "      <td>True</td>\n",
              "      <td>1</td>\n",
              "      <td>Turboprop</td>\n",
              "      <td>NaN</td>\n",
              "      <td>[]</td>\n",
              "      <td>UNK</td>\n",
              "      <td>2022</td>\n",
              "    </tr>\n",
              "    <tr>\n",
              "      <th>6107</th>\n",
              "      <td>42</td>\n",
              "      <td>\"2022-05-11T00:00:00.000Z\"</td>\n",
              "      <td>CMR</td>\n",
              "      <td>near Nanga Eboko</td>\n",
              "      <td>Viking DHC-6 Twin Otter 400</td>\n",
              "      <td>TJ-TIM</td>\n",
              "      <td>Caverton Helicopters</td>\n",
              "      <td>NaN</td>\n",
              "      <td>CMR</td>\n",
              "      <td>En route</td>\n",
              "      <td>...</td>\n",
              "      <td>Fatal</td>\n",
              "      <td>DHC6</td>\n",
              "      <td>False</td>\n",
              "      <td>True</td>\n",
              "      <td>2</td>\n",
              "      <td>Turboprop</td>\n",
              "      <td>NaN</td>\n",
              "      <td>[]</td>\n",
              "      <td>LOC-I</td>\n",
              "      <td>2022</td>\n",
              "    </tr>\n",
              "    <tr>\n",
              "      <th>6108</th>\n",
              "      <td>43</td>\n",
              "      <td>\"2022-05-12T00:00:00.000Z\"</td>\n",
              "      <td>CHN</td>\n",
              "      <td>Chongqing-Jiangbei International Airport (CKG)</td>\n",
              "      <td>Airbus A319-115 (WL)</td>\n",
              "      <td>B-6425</td>\n",
              "      <td>Tibet Airlines</td>\n",
              "      <td>CHN</td>\n",
              "      <td>CHN</td>\n",
              "      <td>Take-off</td>\n",
              "      <td>...</td>\n",
              "      <td>NaN</td>\n",
              "      <td>A319</td>\n",
              "      <td>False</td>\n",
              "      <td>True</td>\n",
              "      <td>2</td>\n",
              "      <td>Jet</td>\n",
              "      <td>NaN</td>\n",
              "      <td>[]</td>\n",
              "      <td>RS</td>\n",
              "      <td>2022</td>\n",
              "    </tr>\n",
              "  </tbody>\n",
              "</table>\n",
              "<p>5 rows × 25 columns</p>\n",
              "</div>\n",
              "      <button class=\"colab-df-convert\" onclick=\"convertToInteractive('df-72738a24-5851-4a4d-9f65-0611a387c091')\"\n",
              "              title=\"Convert this dataframe to an interactive table.\"\n",
              "              style=\"display:none;\">\n",
              "        \n",
              "  <svg xmlns=\"http://www.w3.org/2000/svg\" height=\"24px\"viewBox=\"0 0 24 24\"\n",
              "       width=\"24px\">\n",
              "    <path d=\"M0 0h24v24H0V0z\" fill=\"none\"/>\n",
              "    <path d=\"M18.56 5.44l.94 2.06.94-2.06 2.06-.94-2.06-.94-.94-2.06-.94 2.06-2.06.94zm-11 1L8.5 8.5l.94-2.06 2.06-.94-2.06-.94L8.5 2.5l-.94 2.06-2.06.94zm10 10l.94 2.06.94-2.06 2.06-.94-2.06-.94-.94-2.06-.94 2.06-2.06.94z\"/><path d=\"M17.41 7.96l-1.37-1.37c-.4-.4-.92-.59-1.43-.59-.52 0-1.04.2-1.43.59L10.3 9.45l-7.72 7.72c-.78.78-.78 2.05 0 2.83L4 21.41c.39.39.9.59 1.41.59.51 0 1.02-.2 1.41-.59l7.78-7.78 2.81-2.81c.8-.78.8-2.07 0-2.86zM5.41 20L4 18.59l7.72-7.72 1.47 1.35L5.41 20z\"/>\n",
              "  </svg>\n",
              "      </button>\n",
              "      \n",
              "  <style>\n",
              "    .colab-df-container {\n",
              "      display:flex;\n",
              "      flex-wrap:wrap;\n",
              "      gap: 12px;\n",
              "    }\n",
              "\n",
              "    .colab-df-convert {\n",
              "      background-color: #E8F0FE;\n",
              "      border: none;\n",
              "      border-radius: 50%;\n",
              "      cursor: pointer;\n",
              "      display: none;\n",
              "      fill: #1967D2;\n",
              "      height: 32px;\n",
              "      padding: 0 0 0 0;\n",
              "      width: 32px;\n",
              "    }\n",
              "\n",
              "    .colab-df-convert:hover {\n",
              "      background-color: #E2EBFA;\n",
              "      box-shadow: 0px 1px 2px rgba(60, 64, 67, 0.3), 0px 1px 3px 1px rgba(60, 64, 67, 0.15);\n",
              "      fill: #174EA6;\n",
              "    }\n",
              "\n",
              "    [theme=dark] .colab-df-convert {\n",
              "      background-color: #3B4455;\n",
              "      fill: #D2E3FC;\n",
              "    }\n",
              "\n",
              "    [theme=dark] .colab-df-convert:hover {\n",
              "      background-color: #434B5C;\n",
              "      box-shadow: 0px 1px 3px 1px rgba(0, 0, 0, 0.15);\n",
              "      filter: drop-shadow(0px 1px 2px rgba(0, 0, 0, 0.3));\n",
              "      fill: #FFFFFF;\n",
              "    }\n",
              "  </style>\n",
              "\n",
              "      <script>\n",
              "        const buttonEl =\n",
              "          document.querySelector('#df-72738a24-5851-4a4d-9f65-0611a387c091 button.colab-df-convert');\n",
              "        buttonEl.style.display =\n",
              "          google.colab.kernel.accessAllowed ? 'block' : 'none';\n",
              "\n",
              "        async function convertToInteractive(key) {\n",
              "          const element = document.querySelector('#df-72738a24-5851-4a4d-9f65-0611a387c091');\n",
              "          const dataTable =\n",
              "            await google.colab.kernel.invokeFunction('convertToInteractive',\n",
              "                                                     [key], {});\n",
              "          if (!dataTable) return;\n",
              "\n",
              "          const docLinkHtml = 'Like what you see? Visit the ' +\n",
              "            '<a target=\"_blank\" href=https://colab.research.google.com/notebooks/data_table.ipynb>data table notebook</a>'\n",
              "            + ' to learn more about interactive tables.';\n",
              "          element.innerHTML = '';\n",
              "          dataTable['output_type'] = 'display_data';\n",
              "          await google.colab.output.renderOutput(dataTable, element);\n",
              "          const docLink = document.createElement('div');\n",
              "          docLink.innerHTML = docLinkHtml;\n",
              "          element.appendChild(docLink);\n",
              "        }\n",
              "      </script>\n",
              "    </div>\n",
              "  </div>\n",
              "  "
            ]
          },
          "metadata": {},
          "execution_count": 7
        }
      ],
      "source": [
        "data.tail()"
      ]
    },
    {
      "cell_type": "code",
      "execution_count": null,
      "metadata": {
        "colab": {
          "base_uri": "https://localhost:8080/"
        },
        "id": "DTEw84WRbYaY",
        "outputId": "d1debb83-8468-47bf-937f-49bce9a855c4"
      },
      "outputs": [
        {
          "output_type": "execute_result",
          "data": {
            "text/plain": [
              "(6109, 25)"
            ]
          },
          "metadata": {},
          "execution_count": 8
        }
      ],
      "source": [
        "data.shape"
      ]
    },
    {
      "cell_type": "code",
      "execution_count": null,
      "metadata": {
        "colab": {
          "base_uri": "https://localhost:8080/"
        },
        "id": "cRwOUbwCbYdv",
        "outputId": "0e256dd1-d5dc-4cc3-b083-6433ff1a2117"
      },
      "outputs": [
        {
          "output_type": "execute_result",
          "data": {
            "text/plain": [
              "Index(['Unnamed: 0', 'Date', 'StateOfOccurrence', 'Location', 'Model',\n",
              "       'Registration', 'Operator', 'StateOfOperator', 'StateOfRegistry',\n",
              "       'FlightPhase', 'Class', 'Fatalities', 'Over2250', 'Over5700',\n",
              "       'ScheduledCommercial', 'InjuryLevel', 'TypeDesignator', 'Helicopter',\n",
              "       'Airplane', 'Engines', 'EngineType', 'Official', 'OccCats', 'Risk',\n",
              "       'Year'],\n",
              "      dtype='object')"
            ]
          },
          "metadata": {},
          "execution_count": 9
        }
      ],
      "source": [
        "data.columns"
      ]
    },
    {
      "cell_type": "code",
      "execution_count": null,
      "metadata": {
        "colab": {
          "base_uri": "https://localhost:8080/"
        },
        "id": "IQaTN5KAbYg6",
        "outputId": "cfa70e88-5eb5-4442-dcc7-3c95983fc52d"
      },
      "outputs": [
        {
          "output_type": "execute_result",
          "data": {
            "text/plain": [
              "0       False\n",
              "1       False\n",
              "2       False\n",
              "3       False\n",
              "4       False\n",
              "        ...  \n",
              "6104    False\n",
              "6105    False\n",
              "6106    False\n",
              "6107    False\n",
              "6108    False\n",
              "Length: 6109, dtype: bool"
            ]
          },
          "metadata": {},
          "execution_count": 10
        }
      ],
      "source": [
        "data.duplicated()"
      ]
    },
    {
      "cell_type": "code",
      "execution_count": null,
      "metadata": {
        "colab": {
          "base_uri": "https://localhost:8080/"
        },
        "id": "J5ambmITbYkL",
        "outputId": "01a8dbe0-980d-4339-ecae-50043de311e6"
      },
      "outputs": [
        {
          "output_type": "execute_result",
          "data": {
            "text/plain": [
              "0"
            ]
          },
          "metadata": {},
          "execution_count": 11
        }
      ],
      "source": [
        "data.duplicated().sum()"
      ]
    },
    {
      "cell_type": "code",
      "execution_count": null,
      "metadata": {
        "colab": {
          "base_uri": "https://localhost:8080/"
        },
        "id": "JSxs1Py2bYna",
        "outputId": "60fc8a9c-ccfc-4f3d-ec7d-d14fe00bcbd0"
      },
      "outputs": [
        {
          "output_type": "execute_result",
          "data": {
            "text/plain": [
              "Unnamed: 0                0\n",
              "Date                      0\n",
              "StateOfOccurrence       802\n",
              "Location                351\n",
              "Model                   243\n",
              "Registration              0\n",
              "Operator               1925\n",
              "StateOfOperator        4718\n",
              "StateOfRegistry           2\n",
              "FlightPhase             934\n",
              "Class                     0\n",
              "Fatalities             1141\n",
              "Over2250                  0\n",
              "Over5700                 24\n",
              "ScheduledCommercial    2832\n",
              "InjuryLevel            1955\n",
              "TypeDesignator            0\n",
              "Helicopter             1228\n",
              "Airplane                  0\n",
              "Engines                   0\n",
              "EngineType                0\n",
              "Official               4765\n",
              "OccCats                   0\n",
              "Risk                    750\n",
              "Year                      0\n",
              "dtype: int64"
            ]
          },
          "metadata": {},
          "execution_count": 12
        }
      ],
      "source": [
        "data.isnull().sum()"
      ]
    },
    {
      "cell_type": "code",
      "execution_count": null,
      "metadata": {
        "colab": {
          "base_uri": "https://localhost:8080/"
        },
        "id": "w3x_qk_WbYq_",
        "outputId": "5af108ed-4ff2-4db8-864f-1bc18e37f730"
      },
      "outputs": [
        {
          "output_type": "stream",
          "name": "stdout",
          "text": [
            "<class 'pandas.core.frame.DataFrame'>\n",
            "RangeIndex: 6109 entries, 0 to 6108\n",
            "Data columns (total 25 columns):\n",
            " #   Column               Non-Null Count  Dtype  \n",
            "---  ------               --------------  -----  \n",
            " 0   Unnamed: 0           6109 non-null   int64  \n",
            " 1   Date                 6109 non-null   object \n",
            " 2   StateOfOccurrence    5307 non-null   object \n",
            " 3   Location             5758 non-null   object \n",
            " 4   Model                5866 non-null   object \n",
            " 5   Registration         6109 non-null   object \n",
            " 6   Operator             4184 non-null   object \n",
            " 7   StateOfOperator      1391 non-null   object \n",
            " 8   StateOfRegistry      6107 non-null   object \n",
            " 9   FlightPhase          5175 non-null   object \n",
            " 10  Class                6109 non-null   object \n",
            " 11  Fatalities           4968 non-null   float64\n",
            " 12  Over2250             6109 non-null   bool   \n",
            " 13  Over5700             6085 non-null   object \n",
            " 14  ScheduledCommercial  3277 non-null   object \n",
            " 15  InjuryLevel          4154 non-null   object \n",
            " 16  TypeDesignator       6109 non-null   object \n",
            " 17  Helicopter           4881 non-null   object \n",
            " 18  Airplane             6109 non-null   bool   \n",
            " 19  Engines              6109 non-null   int64  \n",
            " 20  EngineType           6109 non-null   object \n",
            " 21  Official             1344 non-null   object \n",
            " 22  OccCats              6109 non-null   object \n",
            " 23  Risk                 5359 non-null   object \n",
            " 24  Year                 6109 non-null   int64  \n",
            "dtypes: bool(2), float64(1), int64(3), object(19)\n",
            "memory usage: 1.1+ MB\n"
          ]
        }
      ],
      "source": [
        "data.info()"
      ]
    },
    {
      "cell_type": "code",
      "execution_count": null,
      "metadata": {
        "colab": {
          "base_uri": "https://localhost:8080/",
          "height": 300
        },
        "id": "M1vo1bXIbYuO",
        "outputId": "9653384a-15ad-47e1-8c24-f1eaf9f9f25e"
      },
      "outputs": [
        {
          "output_type": "execute_result",
          "data": {
            "text/plain": [
              "        Unnamed: 0   Fatalities      Engines         Year\n",
              "count  6109.000000  4968.000000  6109.000000  6109.000000\n",
              "mean    268.898183     2.037641     1.754624  2012.993616\n",
              "std     210.107085    12.957411     0.685855     3.918512\n",
              "min       0.000000     0.000000     1.000000  2008.000000\n",
              "25%     105.000000     0.000000     1.000000  2010.000000\n",
              "50%     221.000000     0.000000     2.000000  2012.000000\n",
              "75%     376.000000     0.000000     2.000000  2016.000000\n",
              "max     931.000000   298.000000     6.000000  2022.000000"
            ],
            "text/html": [
              "\n",
              "  <div id=\"df-34e4bec0-6fb6-4c23-8663-fb1362f1beb5\">\n",
              "    <div class=\"colab-df-container\">\n",
              "      <div>\n",
              "<style scoped>\n",
              "    .dataframe tbody tr th:only-of-type {\n",
              "        vertical-align: middle;\n",
              "    }\n",
              "\n",
              "    .dataframe tbody tr th {\n",
              "        vertical-align: top;\n",
              "    }\n",
              "\n",
              "    .dataframe thead th {\n",
              "        text-align: right;\n",
              "    }\n",
              "</style>\n",
              "<table border=\"1\" class=\"dataframe\">\n",
              "  <thead>\n",
              "    <tr style=\"text-align: right;\">\n",
              "      <th></th>\n",
              "      <th>Unnamed: 0</th>\n",
              "      <th>Fatalities</th>\n",
              "      <th>Engines</th>\n",
              "      <th>Year</th>\n",
              "    </tr>\n",
              "  </thead>\n",
              "  <tbody>\n",
              "    <tr>\n",
              "      <th>count</th>\n",
              "      <td>6109.000000</td>\n",
              "      <td>4968.000000</td>\n",
              "      <td>6109.000000</td>\n",
              "      <td>6109.000000</td>\n",
              "    </tr>\n",
              "    <tr>\n",
              "      <th>mean</th>\n",
              "      <td>268.898183</td>\n",
              "      <td>2.037641</td>\n",
              "      <td>1.754624</td>\n",
              "      <td>2012.993616</td>\n",
              "    </tr>\n",
              "    <tr>\n",
              "      <th>std</th>\n",
              "      <td>210.107085</td>\n",
              "      <td>12.957411</td>\n",
              "      <td>0.685855</td>\n",
              "      <td>3.918512</td>\n",
              "    </tr>\n",
              "    <tr>\n",
              "      <th>min</th>\n",
              "      <td>0.000000</td>\n",
              "      <td>0.000000</td>\n",
              "      <td>1.000000</td>\n",
              "      <td>2008.000000</td>\n",
              "    </tr>\n",
              "    <tr>\n",
              "      <th>25%</th>\n",
              "      <td>105.000000</td>\n",
              "      <td>0.000000</td>\n",
              "      <td>1.000000</td>\n",
              "      <td>2010.000000</td>\n",
              "    </tr>\n",
              "    <tr>\n",
              "      <th>50%</th>\n",
              "      <td>221.000000</td>\n",
              "      <td>0.000000</td>\n",
              "      <td>2.000000</td>\n",
              "      <td>2012.000000</td>\n",
              "    </tr>\n",
              "    <tr>\n",
              "      <th>75%</th>\n",
              "      <td>376.000000</td>\n",
              "      <td>0.000000</td>\n",
              "      <td>2.000000</td>\n",
              "      <td>2016.000000</td>\n",
              "    </tr>\n",
              "    <tr>\n",
              "      <th>max</th>\n",
              "      <td>931.000000</td>\n",
              "      <td>298.000000</td>\n",
              "      <td>6.000000</td>\n",
              "      <td>2022.000000</td>\n",
              "    </tr>\n",
              "  </tbody>\n",
              "</table>\n",
              "</div>\n",
              "      <button class=\"colab-df-convert\" onclick=\"convertToInteractive('df-34e4bec0-6fb6-4c23-8663-fb1362f1beb5')\"\n",
              "              title=\"Convert this dataframe to an interactive table.\"\n",
              "              style=\"display:none;\">\n",
              "        \n",
              "  <svg xmlns=\"http://www.w3.org/2000/svg\" height=\"24px\"viewBox=\"0 0 24 24\"\n",
              "       width=\"24px\">\n",
              "    <path d=\"M0 0h24v24H0V0z\" fill=\"none\"/>\n",
              "    <path d=\"M18.56 5.44l.94 2.06.94-2.06 2.06-.94-2.06-.94-.94-2.06-.94 2.06-2.06.94zm-11 1L8.5 8.5l.94-2.06 2.06-.94-2.06-.94L8.5 2.5l-.94 2.06-2.06.94zm10 10l.94 2.06.94-2.06 2.06-.94-2.06-.94-.94-2.06-.94 2.06-2.06.94z\"/><path d=\"M17.41 7.96l-1.37-1.37c-.4-.4-.92-.59-1.43-.59-.52 0-1.04.2-1.43.59L10.3 9.45l-7.72 7.72c-.78.78-.78 2.05 0 2.83L4 21.41c.39.39.9.59 1.41.59.51 0 1.02-.2 1.41-.59l7.78-7.78 2.81-2.81c.8-.78.8-2.07 0-2.86zM5.41 20L4 18.59l7.72-7.72 1.47 1.35L5.41 20z\"/>\n",
              "  </svg>\n",
              "      </button>\n",
              "      \n",
              "  <style>\n",
              "    .colab-df-container {\n",
              "      display:flex;\n",
              "      flex-wrap:wrap;\n",
              "      gap: 12px;\n",
              "    }\n",
              "\n",
              "    .colab-df-convert {\n",
              "      background-color: #E8F0FE;\n",
              "      border: none;\n",
              "      border-radius: 50%;\n",
              "      cursor: pointer;\n",
              "      display: none;\n",
              "      fill: #1967D2;\n",
              "      height: 32px;\n",
              "      padding: 0 0 0 0;\n",
              "      width: 32px;\n",
              "    }\n",
              "\n",
              "    .colab-df-convert:hover {\n",
              "      background-color: #E2EBFA;\n",
              "      box-shadow: 0px 1px 2px rgba(60, 64, 67, 0.3), 0px 1px 3px 1px rgba(60, 64, 67, 0.15);\n",
              "      fill: #174EA6;\n",
              "    }\n",
              "\n",
              "    [theme=dark] .colab-df-convert {\n",
              "      background-color: #3B4455;\n",
              "      fill: #D2E3FC;\n",
              "    }\n",
              "\n",
              "    [theme=dark] .colab-df-convert:hover {\n",
              "      background-color: #434B5C;\n",
              "      box-shadow: 0px 1px 3px 1px rgba(0, 0, 0, 0.15);\n",
              "      filter: drop-shadow(0px 1px 2px rgba(0, 0, 0, 0.3));\n",
              "      fill: #FFFFFF;\n",
              "    }\n",
              "  </style>\n",
              "\n",
              "      <script>\n",
              "        const buttonEl =\n",
              "          document.querySelector('#df-34e4bec0-6fb6-4c23-8663-fb1362f1beb5 button.colab-df-convert');\n",
              "        buttonEl.style.display =\n",
              "          google.colab.kernel.accessAllowed ? 'block' : 'none';\n",
              "\n",
              "        async function convertToInteractive(key) {\n",
              "          const element = document.querySelector('#df-34e4bec0-6fb6-4c23-8663-fb1362f1beb5');\n",
              "          const dataTable =\n",
              "            await google.colab.kernel.invokeFunction('convertToInteractive',\n",
              "                                                     [key], {});\n",
              "          if (!dataTable) return;\n",
              "\n",
              "          const docLinkHtml = 'Like what you see? Visit the ' +\n",
              "            '<a target=\"_blank\" href=https://colab.research.google.com/notebooks/data_table.ipynb>data table notebook</a>'\n",
              "            + ' to learn more about interactive tables.';\n",
              "          element.innerHTML = '';\n",
              "          dataTable['output_type'] = 'display_data';\n",
              "          await google.colab.output.renderOutput(dataTable, element);\n",
              "          const docLink = document.createElement('div');\n",
              "          docLink.innerHTML = docLinkHtml;\n",
              "          element.appendChild(docLink);\n",
              "        }\n",
              "      </script>\n",
              "    </div>\n",
              "  </div>\n",
              "  "
            ]
          },
          "metadata": {},
          "execution_count": 14
        }
      ],
      "source": [
        "data.describe()"
      ]
    },
    {
      "cell_type": "code",
      "execution_count": null,
      "metadata": {
        "id": "R6gZ9UsvbYxR"
      },
      "outputs": [],
      "source": [
        "data = data[(data['ScheduledCommercial']==True) & (data['Airplane'] == True) & (data['Engines']==True)]"
      ]
    },
    {
      "cell_type": "code",
      "execution_count": null,
      "metadata": {
        "id": "dIRmbbsLbYz0"
      },
      "outputs": [],
      "source": [
        "data = data.drop(columns= ['Unnamed: 0', 'Date','StateOfOccurrence','Location','Model','Registration',\n",
        " 'Operator','StateOfOperator','StateOfRegistry','Over2250',\n",
        " 'Over5700','Class','ScheduledCommercial','TypeDesignator',\n",
        " 'Helicopter','Airplane','Engines','EngineType','Official','OccCats']) "
      ]
    },
    {
      "cell_type": "code",
      "source": [
        "data.nunique()"
      ],
      "metadata": {
        "colab": {
          "base_uri": "https://localhost:8080/"
        },
        "id": "wMSzprPBOcvp",
        "outputId": "ebfd2c21-b659-47e2-c42f-312666b82870"
      },
      "execution_count": null,
      "outputs": [
        {
          "output_type": "execute_result",
          "data": {
            "text/plain": [
              "FlightPhase     9\n",
              "Fatalities     19\n",
              "InjuryLevel     5\n",
              "Risk           21\n",
              "Year           15\n",
              "dtype: int64"
            ]
          },
          "metadata": {},
          "execution_count": 18
        }
      ]
    },
    {
      "cell_type": "code",
      "source": [
        "data['Year'].unique()"
      ],
      "metadata": {
        "colab": {
          "base_uri": "https://localhost:8080/"
        },
        "id": "zwYfmtHxOc4I",
        "outputId": "25208f70-fc1a-4964-c8ea-24bf3d757b58"
      },
      "execution_count": null,
      "outputs": [
        {
          "output_type": "execute_result",
          "data": {
            "text/plain": [
              "array([2008, 2009, 2010, 2011, 2012, 2013, 2014, 2015, 2016, 2017, 2018,\n",
              "       2019, 2020, 2021, 2022])"
            ]
          },
          "metadata": {},
          "execution_count": 19
        }
      ]
    },
    {
      "cell_type": "code",
      "source": [
        "data['Year'].value_counts()"
      ],
      "metadata": {
        "colab": {
          "base_uri": "https://localhost:8080/"
        },
        "id": "nhmrSm5tOc8W",
        "outputId": "ad810d16-640e-4c70-8040-01ac0d1bc458"
      },
      "execution_count": null,
      "outputs": [
        {
          "output_type": "execute_result",
          "data": {
            "text/plain": [
              "2008    26\n",
              "2012    26\n",
              "2010    22\n",
              "2013    22\n",
              "2009    21\n",
              "2019    21\n",
              "2017    19\n",
              "2011    18\n",
              "2016    18\n",
              "2018    11\n",
              "2020    10\n",
              "2014     9\n",
              "2015     7\n",
              "2021     3\n",
              "2022     1\n",
              "Name: Year, dtype: int64"
            ]
          },
          "metadata": {},
          "execution_count": 20
        }
      ]
    },
    {
      "cell_type": "code",
      "source": [
        "plt.figure(figsize=(15,6))\n",
        "sns.countplot('Year', data=data, palette='hls')\n",
        "plt.xticks(rotation = 90)\n",
        "plt.show()"
      ],
      "metadata": {
        "colab": {
          "base_uri": "https://localhost:8080/",
          "height": 403
        },
        "id": "MV24hKf-Oc_g",
        "outputId": "ad660814-2661-4523-f650-34f4e0bedab8"
      },
      "execution_count": null,
      "outputs": [
        {
          "output_type": "display_data",
          "data": {
            "text/plain": [
              "<Figure size 1080x432 with 1 Axes>"
            ],
            "image/png": "[encoded data removed]"
          },
          "metadata": {
            "needs_background": "light"
          }
        }
      ]
    },
    {
      "cell_type": "code",
      "source": [
        "data['InjuryLevel'].unique()\n"
      ],
      "metadata": {
        "colab": {
          "base_uri": "https://localhost:8080/"
        },
        "id": "sfXQ6duqSDTf",
        "outputId": "0232c568-9e9f-4636-e37f-72be7a72dd98"
      },
      "execution_count": null,
      "outputs": [
        {
          "output_type": "execute_result",
          "data": {
            "text/plain": [
              "array(['None', 'Minor', 'Serious', 'Fatal', 'Unknown', nan], dtype=object)"
            ]
          },
          "metadata": {},
          "execution_count": 22
        }
      ]
    },
    {
      "cell_type": "code",
      "source": [
        "data['InjuryLevel'].value_counts()"
      ],
      "metadata": {
        "colab": {
          "base_uri": "https://localhost:8080/"
        },
        "id": "1Cvhel-PSDWX",
        "outputId": "0ed8b543-8ced-413d-cbf4-fddf7aa6277c"
      },
      "execution_count": null,
      "outputs": [
        {
          "output_type": "execute_result",
          "data": {
            "text/plain": [
              "None       79\n",
              "Fatal      29\n",
              "Serious    22\n",
              "Minor      15\n",
              "Unknown    11\n",
              "Name: InjuryLevel, dtype: int64"
            ]
          },
          "metadata": {},
          "execution_count": 23
        }
      ]
    },
    {
      "cell_type": "code",
      "source": [
        "plt.figure(figsize=(15,6))\n",
        "sns.countplot('InjuryLevel' , data=data, palette='hls')\n",
        "plt.xticks(rotation = 90)\n",
        "plt.show()"
      ],
      "metadata": {
        "colab": {
          "base_uri": "https://localhost:8080/",
          "height": 424
        },
        "id": "yD8PfP17SDZF",
        "outputId": "b46d62e1-c243-4ad1-a8b1-9bbe537960ce"
      },
      "execution_count": null,
      "outputs": [
        {
          "output_type": "display_data",
          "data": {
            "text/plain": [
              "<Figure size 1080x432 with 1 Axes>"
            ],
            "image/png": "[encoded data removed]"
          },
          "metadata": {
            "needs_background": "light"
          }
        }
      ]
    },
    {
      "cell_type": "code",
      "source": [
        "data['FlightPhase'].unique()"
      ],
      "metadata": {
        "colab": {
          "base_uri": "https://localhost:8080/"
        },
        "id": "FbuK4YW9SDb8",
        "outputId": "ce824fb7-4a6a-49f3-a0a1-a03e05bfec7c"
      },
      "execution_count": null,
      "outputs": [
        {
          "output_type": "execute_result",
          "data": {
            "text/plain": [
              "array(['Landing', 'Taxi', 'En route', 'Take-off', 'Standing', 'Approach',\n",
              "       'Unknown', nan, 'Initial Climb', 'Manoeuvring'], dtype=object)"
            ]
          },
          "metadata": {},
          "execution_count": 25
        }
      ]
    },
    {
      "cell_type": "code",
      "source": [
        "data['FlightPhase'].value_counts()"
      ],
      "metadata": {
        "colab": {
          "base_uri": "https://localhost:8080/"
        },
        "id": "MgcKzrtASDew",
        "outputId": "8a3b5a18-2610-4a29-a5fd-06d0f6191f9e"
      },
      "execution_count": null,
      "outputs": [
        {
          "output_type": "execute_result",
          "data": {
            "text/plain": [
              "Landing          84\n",
              "En route         32\n",
              "Take-off         25\n",
              "Taxi             21\n",
              "Approach         21\n",
              "Standing         10\n",
              "Unknown           9\n",
              "Initial Climb     1\n",
              "Manoeuvring       1\n",
              "Name: FlightPhase, dtype: int64"
            ]
          },
          "metadata": {},
          "execution_count": 26
        }
      ]
    },
    {
      "cell_type": "code",
      "source": [
        "plt.figure(figsize=(15,6))\n",
        "sns.countplot('FlightPhase' , data=data, palette='hls')\n",
        "plt.xticks(rotation = 90)\n",
        "plt.show()"
      ],
      "metadata": {
        "colab": {
          "base_uri": "https://localhost:8080/",
          "height": 443
        },
        "id": "eulJIskDSSip",
        "outputId": "8e9abde6-576d-4ac5-fd5d-f51ab12cea2a"
      },
      "execution_count": null,
      "outputs": [
        {
          "output_type": "display_data",
          "data": {
            "text/plain": [
              "<Figure size 1080x432 with 1 Axes>"
            ],
            "image/png": "[encoded data removed]"
          },
          "metadata": {
            "needs_background": "light"
          }
        }
      ]
    },
    {
      "cell_type": "code",
      "source": [
        "data_avg = []\n",
        "for x in data['Year']:\n",
        " if x == 2008:\n",
        "  avg = round((148 * 1000000)/ 26500000,2)\n",
        " elif x == 2009:\n",
        "  avg = round((118 * 1000000)/ 25900000,2)\n",
        " elif x == 2010:\n",
        "  avg = round((164 *1000000)/ 27800000,2)\n",
        " elif x == 2011:\n",
        "  avg = round((132 *1000000)/ 30100000,2)\n",
        " elif x == 2012:\n",
        "  avg = round((82 *1000000)/ 31200000,2)\n",
        " elif x == 2013:\n",
        "  avg = round((117 * 1000000)/ 32000000,2)\n",
        " elif x == 2014:\n",
        "  avg = round((118 * 1000000) / 33000000,2)\n",
        " elif x == 2015:\n",
        "  avg = round((100 * 1000000)/ 340000000,2)\n",
        " elif x == 2016:\n",
        "  avg = round((96 *1000000) / 35200000,2)\n",
        " elif x == 2017:\n",
        "  avg = round((96 * 1000000) / 36400000,2)\n",
        " elif x == 2018:\n",
        "  avg = round((115 * 1000000)/ 38100000,2)\n",
        " elif x == 2019:\n",
        "  avg = round((116 * 1000000)/ 38900000,2)\n",
        " elif x == 2020:\n",
        "  avg = round((77 * 1000000)/ 16900000,2)\n",
        " elif x == 2021:\n",
        "  avg = round((17 * 1000000)/ 19300000,2)\n",
        " else:\n",
        "  avg = round((11 * 1000000)/10750000,2)\n",
        " data_avg.append(avg)\n"
      ],
      "metadata": {
        "id": "3GZVPdDDSSmB"
      },
      "execution_count": null,
      "outputs": []
    },
    {
      "cell_type": "code",
      "source": [
        "data_avg"
      ],
      "metadata": {
        "colab": {
          "base_uri": "https://localhost:8080/"
        },
        "id": "gkOgemuUSSpU",
        "outputId": "e5f87518-7b62-4073-da40-36b8b8522011"
      },
      "execution_count": null,
      "outputs": [
        {
          "output_type": "execute_result",
          "data": {
            "text/plain": [
              "[5.58,\n",
              " 5.58,\n",
              " 5.58,\n",
              " 5.58,\n",
              " 5.58,\n",
              " 5.58,\n",
              " 5.58,\n",
              " 5.58,\n",
              " 5.58,\n",
              " 5.58,\n",
              " 5.58,\n",
              " 5.58,\n",
              " 5.58,\n",
              " 5.58,\n",
              " 5.58,\n",
              " 5.58,\n",
              " 5.58,\n",
              " 5.58,\n",
              " 5.58,\n",
              " 5.58,\n",
              " 5.58,\n",
              " 5.58,\n",
              " 5.58,\n",
              " 5.58,\n",
              " 5.58,\n",
              " 5.58,\n",
              " 4.56,\n",
              " 4.56,\n",
              " 4.56,\n",
              " 4.56,\n",
              " 4.56,\n",
              " 4.56,\n",
              " 4.56,\n",
              " 4.56,\n",
              " 4.56,\n",
              " 4.56,\n",
              " 4.56,\n",
              " 4.56,\n",
              " 4.56,\n",
              " 4.56,\n",
              " 4.56,\n",
              " 4.56,\n",
              " 4.56,\n",
              " 4.56,\n",
              " 4.56,\n",
              " 4.56,\n",
              " 4.56,\n",
              " 5.9,\n",
              " 5.9,\n",
              " 5.9,\n",
              " 5.9,\n",
              " 5.9,\n",
              " 5.9,\n",
              " 5.9,\n",
              " 5.9,\n",
              " 5.9,\n",
              " 5.9,\n",
              " 5.9,\n",
              " 5.9,\n",
              " 5.9,\n",
              " 5.9,\n",
              " 5.9,\n",
              " 5.9,\n",
              " 5.9,\n",
              " 5.9,\n",
              " 5.9,\n",
              " 5.9,\n",
              " 5.9,\n",
              " 5.9,\n",
              " 4.39,\n",
              " 4.39,\n",
              " 4.39,\n",
              " 4.39,\n",
              " 4.39,\n",
              " 4.39,\n",
              " 4.39,\n",
              " 4.39,\n",
              " 4.39,\n",
              " 4.39,\n",
              " 4.39,\n",
              " 4.39,\n",
              " 4.39,\n",
              " 4.39,\n",
              " 4.39,\n",
              " 4.39,\n",
              " 4.39,\n",
              " 4.39,\n",
              " 2.63,\n",
              " 2.63,\n",
              " 2.63,\n",
              " 2.63,\n",
              " 2.63,\n",
              " 2.63,\n",
              " 2.63,\n",
              " 2.63,\n",
              " 2.63,\n",
              " 2.63,\n",
              " 2.63,\n",
              " 2.63,\n",
              " 2.63,\n",
              " 2.63,\n",
              " 2.63,\n",
              " 2.63,\n",
              " 2.63,\n",
              " 2.63,\n",
              " 2.63,\n",
              " 2.63,\n",
              " 2.63,\n",
              " 2.63,\n",
              " 2.63,\n",
              " 2.63,\n",
              " 2.63,\n",
              " 2.63,\n",
              " 3.66,\n",
              " 3.66,\n",
              " 3.66,\n",
              " 3.66,\n",
              " 3.66,\n",
              " 3.66,\n",
              " 3.66,\n",
              " 3.66,\n",
              " 3.66,\n",
              " 3.66,\n",
              " 3.66,\n",
              " 3.66,\n",
              " 3.66,\n",
              " 3.66,\n",
              " 3.66,\n",
              " 3.66,\n",
              " 3.66,\n",
              " 3.66,\n",
              " 3.66,\n",
              " 3.66,\n",
              " 3.66,\n",
              " 3.66,\n",
              " 3.58,\n",
              " 3.58,\n",
              " 3.58,\n",
              " 3.58,\n",
              " 3.58,\n",
              " 3.58,\n",
              " 3.58,\n",
              " 3.58,\n",
              " 3.58,\n",
              " 0.29,\n",
              " 0.29,\n",
              " 0.29,\n",
              " 0.29,\n",
              " 0.29,\n",
              " 0.29,\n",
              " 0.29,\n",
              " 2.73,\n",
              " 2.73,\n",
              " 2.73,\n",
              " 2.73,\n",
              " 2.73,\n",
              " 2.73,\n",
              " 2.73,\n",
              " 2.73,\n",
              " 2.73,\n",
              " 2.73,\n",
              " 2.73,\n",
              " 2.73,\n",
              " 2.73,\n",
              " 2.73,\n",
              " 2.73,\n",
              " 2.73,\n",
              " 2.73,\n",
              " 2.73,\n",
              " 2.64,\n",
              " 2.64,\n",
              " 2.64,\n",
              " 2.64,\n",
              " 2.64,\n",
              " 2.64,\n",
              " 2.64,\n",
              " 2.64,\n",
              " 2.64,\n",
              " 2.64,\n",
              " 2.64,\n",
              " 2.64,\n",
              " 2.64,\n",
              " 2.64,\n",
              " 2.64,\n",
              " 2.64,\n",
              " 2.64,\n",
              " 2.64,\n",
              " 2.64,\n",
              " 3.02,\n",
              " 3.02,\n",
              " 3.02,\n",
              " 3.02,\n",
              " 3.02,\n",
              " 3.02,\n",
              " 3.02,\n",
              " 3.02,\n",
              " 3.02,\n",
              " 3.02,\n",
              " 3.02,\n",
              " 2.98,\n",
              " 2.98,\n",
              " 2.98,\n",
              " 2.98,\n",
              " 2.98,\n",
              " 2.98,\n",
              " 2.98,\n",
              " 2.98,\n",
              " 2.98,\n",
              " 2.98,\n",
              " 2.98,\n",
              " 2.98,\n",
              " 2.98,\n",
              " 2.98,\n",
              " 2.98,\n",
              " 2.98,\n",
              " 2.98,\n",
              " 2.98,\n",
              " 2.98,\n",
              " 2.98,\n",
              " 2.98,\n",
              " 4.56,\n",
              " 4.56,\n",
              " 4.56,\n",
              " 4.56,\n",
              " 4.56,\n",
              " 4.56,\n",
              " 4.56,\n",
              " 4.56,\n",
              " 4.56,\n",
              " 4.56,\n",
              " 0.88,\n",
              " 0.88,\n",
              " 0.88,\n",
              " 1.02]"
            ]
          },
          "metadata": {},
          "execution_count": 29
        }
      ]
    },
    {
      "cell_type": "code",
      "source": [
        "data['acc/1MillionFlights'] = data_avg\n"
      ],
      "metadata": {
        "id": "eK5Uqax3SSsP"
      },
      "execution_count": null,
      "outputs": []
    },
    {
      "cell_type": "code",
      "source": [
        "data['InjuryLevel'].isnull().sum()"
      ],
      "metadata": {
        "colab": {
          "base_uri": "https://localhost:8080/"
        },
        "id": "GOB_fNXjSSvT",
        "outputId": "c70de2d9-721c-4cb3-ceb8-feba1aa86179"
      },
      "execution_count": null,
      "outputs": [
        {
          "output_type": "execute_result",
          "data": {
            "text/plain": [
              "78"
            ]
          },
          "metadata": {},
          "execution_count": 31
        }
      ]
    },
    {
      "cell_type": "code",
      "source": [
        "data['InjuryLevel'].fillna('unknown',inplace=True)"
      ],
      "metadata": {
        "id": "QlKfsmGGSSyn"
      },
      "execution_count": null,
      "outputs": []
    },
    {
      "cell_type": "code",
      "source": [
        "il_update = []\n",
        "for x in data['InjuryLevel']:\n",
        " if x in ['Serious','Fatal']:\n",
        "  x = 'Serious/Fatal'\n",
        " else:\n",
        "  x = 'Minor/None'\n",
        " il_update.append(x)\n"
      ],
      "metadata": {
        "id": "9mLjciydSS2a"
      },
      "execution_count": null,
      "outputs": []
    },
    {
      "cell_type": "code",
      "source": [
        "data['InjuryLevel'] = il_update"
      ],
      "metadata": {
        "id": "emInFqi2Sxxf"
      },
      "execution_count": null,
      "outputs": []
    },
    {
      "cell_type": "code",
      "source": [
        "data['InjuryLevel']=data['InjuryLevel'].apply(lambda x: 1 if x== 'Serious/Fatal' else 0)"
      ],
      "metadata": {
        "id": "-MnMUB0PSx0m"
      },
      "execution_count": null,
      "outputs": []
    },
    {
      "cell_type": "code",
      "source": [
        "data['Serious/Fatal'] = data['InjuryLevel']\n"
      ],
      "metadata": {
        "id": "L4ys67ihSx6U"
      },
      "execution_count": null,
      "outputs": []
    },
    {
      "cell_type": "code",
      "source": [
        "data.drop(columns= ['InjuryLevel'], inplace=True)"
      ],
      "metadata": {
        "id": "_buNAFS-Sx9H"
      },
      "execution_count": null,
      "outputs": []
    },
    {
      "cell_type": "code",
      "source": [
        "data.head()\n"
      ],
      "metadata": {
        "colab": {
          "base_uri": "https://localhost:8080/",
          "height": 206
        },
        "id": "4VKrJtGlSyFf",
        "outputId": "e034bb2e-ebca-4149-a4d7-03096c41d176"
      },
      "execution_count": null,
      "outputs": [
        {
          "output_type": "execute_result",
          "data": {
            "text/plain": [
              "   FlightPhase  Fatalities  Risk  Year  acc/1MillionFlights  Serious/Fatal\n",
              "9      Landing         0.0    RS  2008                 5.58              0\n",
              "44     Landing         0.0    RS  2008                 5.58              0\n",
              "57        Taxi         0.0    RS  2008                 5.58              0\n",
              "64    En route         0.0  TURB  2008                 5.58              1\n",
              "71    En route         0.0   SCF  2008                 5.58              0"
            ],
            "text/html": [
              "\n",
              "  <div id=\"df-21e0ff00-9983-4a7a-9c5e-5ce9784a804f\">\n",
              "    <div class=\"colab-df-container\">\n",
              "      <div>\n",
              "<style scoped>\n",
              "    .dataframe tbody tr th:only-of-type {\n",
              "        vertical-align: middle;\n",
              "    }\n",
              "\n",
              "    .dataframe tbody tr th {\n",
              "        vertical-align: top;\n",
              "    }\n",
              "\n",
              "    .dataframe thead th {\n",
              "        text-align: right;\n",
              "    }\n",
              "</style>\n",
              "<table border=\"1\" class=\"dataframe\">\n",
              "  <thead>\n",
              "    <tr style=\"text-align: right;\">\n",
              "      <th></th>\n",
              "      <th>FlightPhase</th>\n",
              "      <th>Fatalities</th>\n",
              "      <th>Risk</th>\n",
              "      <th>Year</th>\n",
              "      <th>acc/1MillionFlights</th>\n",
              "      <th>Serious/Fatal</th>\n",
              "    </tr>\n",
              "  </thead>\n",
              "  <tbody>\n",
              "    <tr>\n",
              "      <th>9</th>\n",
              "      <td>Landing</td>\n",
              "      <td>0.0</td>\n",
              "      <td>RS</td>\n",
              "      <td>2008</td>\n",
              "      <td>5.58</td>\n",
              "      <td>0</td>\n",
              "    </tr>\n",
              "    <tr>\n",
              "      <th>44</th>\n",
              "      <td>Landing</td>\n",
              "      <td>0.0</td>\n",
              "      <td>RS</td>\n",
              "      <td>2008</td>\n",
              "      <td>5.58</td>\n",
              "      <td>0</td>\n",
              "    </tr>\n",
              "    <tr>\n",
              "      <th>57</th>\n",
              "      <td>Taxi</td>\n",
              "      <td>0.0</td>\n",
              "      <td>RS</td>\n",
              "      <td>2008</td>\n",
              "      <td>5.58</td>\n",
              "      <td>0</td>\n",
              "    </tr>\n",
              "    <tr>\n",
              "      <th>64</th>\n",
              "      <td>En route</td>\n",
              "      <td>0.0</td>\n",
              "      <td>TURB</td>\n",
              "      <td>2008</td>\n",
              "      <td>5.58</td>\n",
              "      <td>1</td>\n",
              "    </tr>\n",
              "    <tr>\n",
              "      <th>71</th>\n",
              "      <td>En route</td>\n",
              "      <td>0.0</td>\n",
              "      <td>SCF</td>\n",
              "      <td>2008</td>\n",
              "      <td>5.58</td>\n",
              "      <td>0</td>\n",
              "    </tr>\n",
              "  </tbody>\n",
              "</table>\n",
              "</div>\n",
              "      <button class=\"colab-df-convert\" onclick=\"convertToInteractive('df-21e0ff00-9983-4a7a-9c5e-5ce9784a804f')\"\n",
              "              title=\"Convert this dataframe to an interactive table.\"\n",
              "              style=\"display:none;\">\n",
              "        \n",
              "  <svg xmlns=\"http://www.w3.org/2000/svg\" height=\"24px\"viewBox=\"0 0 24 24\"\n",
              "       width=\"24px\">\n",
              "    <path d=\"M0 0h24v24H0V0z\" fill=\"none\"/>\n",
              "    <path d=\"M18.56 5.44l.94 2.06.94-2.06 2.06-.94-2.06-.94-.94-2.06-.94 2.06-2.06.94zm-11 1L8.5 8.5l.94-2.06 2.06-.94-2.06-.94L8.5 2.5l-.94 2.06-2.06.94zm10 10l.94 2.06.94-2.06 2.06-.94-2.06-.94-.94-2.06-.94 2.06-2.06.94z\"/><path d=\"M17.41 7.96l-1.37-1.37c-.4-.4-.92-.59-1.43-.59-.52 0-1.04.2-1.43.59L10.3 9.45l-7.72 7.72c-.78.78-.78 2.05 0 2.83L4 21.41c.39.39.9.59 1.41.59.51 0 1.02-.2 1.41-.59l7.78-7.78 2.81-2.81c.8-.78.8-2.07 0-2.86zM5.41 20L4 18.59l7.72-7.72 1.47 1.35L5.41 20z\"/>\n",
              "  </svg>\n",
              "      </button>\n",
              "      \n",
              "  <style>\n",
              "    .colab-df-container {\n",
              "      display:flex;\n",
              "      flex-wrap:wrap;\n",
              "      gap: 12px;\n",
              "    }\n",
              "\n",
              "    .colab-df-convert {\n",
              "      background-color: #E8F0FE;\n",
              "      border: none;\n",
              "      border-radius: 50%;\n",
              "      cursor: pointer;\n",
              "      display: none;\n",
              "      fill: #1967D2;\n",
              "      height: 32px;\n",
              "      padding: 0 0 0 0;\n",
              "      width: 32px;\n",
              "    }\n",
              "\n",
              "    .colab-df-convert:hover {\n",
              "      background-color: #E2EBFA;\n",
              "      box-shadow: 0px 1px 2px rgba(60, 64, 67, 0.3), 0px 1px 3px 1px rgba(60, 64, 67, 0.15);\n",
              "      fill: #174EA6;\n",
              "    }\n",
              "\n",
              "    [theme=dark] .colab-df-convert {\n",
              "      background-color: #3B4455;\n",
              "      fill: #D2E3FC;\n",
              "    }\n",
              "\n",
              "    [theme=dark] .colab-df-convert:hover {\n",
              "      background-color: #434B5C;\n",
              "      box-shadow: 0px 1px 3px 1px rgba(0, 0, 0, 0.15);\n",
              "      filter: drop-shadow(0px 1px 2px rgba(0, 0, 0, 0.3));\n",
              "      fill: #FFFFFF;\n",
              "    }\n",
              "  </style>\n",
              "\n",
              "      <script>\n",
              "        const buttonEl =\n",
              "          document.querySelector('#df-21e0ff00-9983-4a7a-9c5e-5ce9784a804f button.colab-df-convert');\n",
              "        buttonEl.style.display =\n",
              "          google.colab.kernel.accessAllowed ? 'block' : 'none';\n",
              "\n",
              "        async function convertToInteractive(key) {\n",
              "          const element = document.querySelector('#df-21e0ff00-9983-4a7a-9c5e-5ce9784a804f');\n",
              "          const dataTable =\n",
              "            await google.colab.kernel.invokeFunction('convertToInteractive',\n",
              "                                                     [key], {});\n",
              "          if (!dataTable) return;\n",
              "\n",
              "          const docLinkHtml = 'Like what you see? Visit the ' +\n",
              "            '<a target=\"_blank\" href=https://colab.research.google.com/notebooks/data_table.ipynb>data table notebook</a>'\n",
              "            + ' to learn more about interactive tables.';\n",
              "          element.innerHTML = '';\n",
              "          dataTable['output_type'] = 'display_data';\n",
              "          await google.colab.output.renderOutput(dataTable, element);\n",
              "          const docLink = document.createElement('div');\n",
              "          docLink.innerHTML = docLinkHtml;\n",
              "          element.appendChild(docLink);\n",
              "        }\n",
              "      </script>\n",
              "    </div>\n",
              "  </div>\n",
              "  "
            ]
          },
          "metadata": {},
          "execution_count": 38
        }
      ]
    },
    {
      "cell_type": "code",
      "source": [
        "data.drop(columns=['Fatalities'],inplace=True)"
      ],
      "metadata": {
        "id": "1RM78BCDS-uu"
      },
      "execution_count": null,
      "outputs": []
    },
    {
      "cell_type": "code",
      "source": [
        "data['FlightPhase'].fillna('Unknown',inplace=True)"
      ],
      "metadata": {
        "id": "uHjOzFUrS-yI"
      },
      "execution_count": null,
      "outputs": []
    },
    {
      "cell_type": "code",
      "source": [
        "data['FlightPhase'].isnull().sum()"
      ],
      "metadata": {
        "colab": {
          "base_uri": "https://localhost:8080/"
        },
        "id": "8RU7fF2aS-1t",
        "outputId": "c514cf21-35eb-47a8-fbfe-6bc1c239da05"
      },
      "execution_count": null,
      "outputs": [
        {
          "output_type": "execute_result",
          "data": {
            "text/plain": [
              "0"
            ]
          },
          "metadata": {},
          "execution_count": 41
        }
      ]
    },
    {
      "cell_type": "code",
      "source": [
        "data['FlightPhase'].value_counts().head()"
      ],
      "metadata": {
        "colab": {
          "base_uri": "https://localhost:8080/"
        },
        "id": "LhBaOhL2S-4Q",
        "outputId": "55320873-5e8a-49c6-a9fa-eb7183f95c7a"
      },
      "execution_count": null,
      "outputs": [
        {
          "output_type": "execute_result",
          "data": {
            "text/plain": [
              "Landing     84\n",
              "Unknown     39\n",
              "En route    32\n",
              "Take-off    25\n",
              "Taxi        21\n",
              "Name: FlightPhase, dtype: int64"
            ]
          },
          "metadata": {},
          "execution_count": 42
        }
      ]
    },
    {
      "cell_type": "code",
      "source": [
        "from sklearn.preprocessing import LabelEncoder\n",
        "from sklearn.model_selection import train_test_split\n",
        "from sklearn.linear_model import LogisticRegression\n",
        "from sklearn.tree import DecisionTreeClassifier\n",
        "from sklearn.preprocessing import StandardScaler\n",
        "from sklearn.metrics import confusion_matrix"
      ],
      "metadata": {
        "id": "jA3pclUbS-6z"
      },
      "execution_count": null,
      "outputs": []
    },
    {
      "cell_type": "code",
      "source": [
        "labencoder = LabelEncoder()\n",
        "labencoder.fit(data['FlightPhase'])"
      ],
      "metadata": {
        "colab": {
          "base_uri": "https://localhost:8080/"
        },
        "id": "vH-cE7S5S--S",
        "outputId": "18708738-dc02-4403-ce15-a77c518746d7"
      },
      "execution_count": null,
      "outputs": [
        {
          "output_type": "execute_result",
          "data": {
            "text/plain": [
              "LabelEncoder()"
            ]
          },
          "metadata": {},
          "execution_count": 44
        }
      ]
    },
    {
      "cell_type": "code",
      "source": [
        "data['FlightPhase'] = labencoder.fit_transform(data['FlightPhase'])"
      ],
      "metadata": {
        "id": "dxuA20gUS_Gs"
      },
      "execution_count": null,
      "outputs": []
    },
    {
      "cell_type": "code",
      "source": [
        "labencoder.classes_\n"
      ],
      "metadata": {
        "colab": {
          "base_uri": "https://localhost:8080/"
        },
        "id": "dv_KtDP3TQ92",
        "outputId": "05034113-72e2-419b-cd95-e17895753343"
      },
      "execution_count": null,
      "outputs": [
        {
          "output_type": "execute_result",
          "data": {
            "text/plain": [
              "array(['Approach', 'En route', 'Initial Climb', 'Landing', 'Manoeuvring',\n",
              "       'Standing', 'Take-off', 'Taxi', 'Unknown'], dtype=object)"
            ]
          },
          "metadata": {},
          "execution_count": 46
        }
      ]
    },
    {
      "cell_type": "code",
      "source": [
        "labencoder = LabelEncoder()\n",
        "labencoder.fit(data['Risk'])"
      ],
      "metadata": {
        "colab": {
          "base_uri": "https://localhost:8080/"
        },
        "id": "62B6WOWeTRAx",
        "outputId": "18edd140-7d9f-4839-9352-e7fb943a972d"
      },
      "execution_count": null,
      "outputs": [
        {
          "output_type": "execute_result",
          "data": {
            "text/plain": [
              "LabelEncoder()"
            ]
          },
          "metadata": {},
          "execution_count": 47
        }
      ]
    },
    {
      "cell_type": "code",
      "source": [
        "data['Risk'] = labencoder.fit_transform(data['Risk'])"
      ],
      "metadata": {
        "id": "ni6C3JP3TRD_"
      },
      "execution_count": null,
      "outputs": []
    },
    {
      "cell_type": "code",
      "source": [
        "col = ['Year','FlightPhase','Risk','Serious/Fatal','acc/1MillionFlights']"
      ],
      "metadata": {
        "id": "J-Ow7gHyTRG7"
      },
      "execution_count": null,
      "outputs": []
    },
    {
      "cell_type": "code",
      "source": [
        "data = data.loc[:,col]"
      ],
      "metadata": {
        "id": "U_l9ak0_TRJO"
      },
      "execution_count": null,
      "outputs": []
    },
    {
      "cell_type": "code",
      "source": [
        "data.info()\n"
      ],
      "metadata": {
        "colab": {
          "base_uri": "https://localhost:8080/"
        },
        "id": "DgNzPsggTcS-",
        "outputId": "ca8a3625-1c1d-41c0-fd6e-79715344e0ed"
      },
      "execution_count": null,
      "outputs": [
        {
          "output_type": "stream",
          "name": "stdout",
          "text": [
            "<class 'pandas.core.frame.DataFrame'>\n",
            "Int64Index: 234 entries, 9 to 6086\n",
            "Data columns (total 5 columns):\n",
            " #   Column               Non-Null Count  Dtype  \n",
            "---  ------               --------------  -----  \n",
            " 0   Year                 234 non-null    int64  \n",
            " 1   FlightPhase          234 non-null    int64  \n",
            " 2   Risk                 234 non-null    int64  \n",
            " 3   Serious/Fatal        234 non-null    int64  \n",
            " 4   acc/1MillionFlights  234 non-null    float64\n",
            "dtypes: float64(1), int64(4)\n",
            "memory usage: 19.1 KB\n"
          ]
        }
      ]
    },
    {
      "cell_type": "code",
      "source": [
        "data.isnull().sum()\n"
      ],
      "metadata": {
        "colab": {
          "base_uri": "https://localhost:8080/"
        },
        "id": "mVOM9kshTcWf",
        "outputId": "a906760b-a321-4e63-d530-4a9d866baf5a"
      },
      "execution_count": null,
      "outputs": [
        {
          "output_type": "execute_result",
          "data": {
            "text/plain": [
              "Year                   0\n",
              "FlightPhase            0\n",
              "Risk                   0\n",
              "Serious/Fatal          0\n",
              "acc/1MillionFlights    0\n",
              "dtype: int64"
            ]
          },
          "metadata": {},
          "execution_count": 52
        }
      ]
    },
    {
      "cell_type": "code",
      "source": [
        "X = data.drop(columns=['Serious/Fatal'])\n",
        "y = data['Serious/Fatal']\n"
      ],
      "metadata": {
        "id": "Nk-M-eIhTcZ7"
      },
      "execution_count": null,
      "outputs": []
    },
    {
      "cell_type": "code",
      "source": [
        "X_train, X_test, y_train, y_test = train_test_split(X,y,test_size=0.2,random_state=42)"
      ],
      "metadata": {
        "id": "O9yQQPguTccx"
      },
      "execution_count": null,
      "outputs": []
    },
    {
      "cell_type": "code",
      "source": [
        "X_train.shape"
      ],
      "metadata": {
        "colab": {
          "base_uri": "https://localhost:8080/"
        },
        "id": "Vc5y-CI4Tcfs",
        "outputId": "802d2ab3-f249-4acd-b318-ba24ddef0619"
      },
      "execution_count": null,
      "outputs": [
        {
          "output_type": "execute_result",
          "data": {
            "text/plain": [
              "(187, 4)"
            ]
          },
          "metadata": {},
          "execution_count": 55
        }
      ]
    },
    {
      "cell_type": "code",
      "source": [
        "y_train.shape"
      ],
      "metadata": {
        "colab": {
          "base_uri": "https://localhost:8080/"
        },
        "id": "uTkA1JUATcir",
        "outputId": "b9f2d2a3-64eb-4f9c-a5de-29000ed7b1be"
      },
      "execution_count": null,
      "outputs": [
        {
          "output_type": "execute_result",
          "data": {
            "text/plain": [
              "(187,)"
            ]
          },
          "metadata": {},
          "execution_count": 56
        }
      ]
    },
    {
      "cell_type": "code",
      "source": [
        "X_train.head()\n"
      ],
      "metadata": {
        "colab": {
          "base_uri": "https://localhost:8080/",
          "height": 206
        },
        "id": "Fz1_MNjITcmf",
        "outputId": "bede9d33-8072-4c67-b4cb-d64032648cdd"
      },
      "execution_count": null,
      "outputs": [
        {
          "output_type": "execute_result",
          "data": {
            "text/plain": [
              "      Year  FlightPhase  Risk  acc/1MillionFlights\n",
              "3328  2013            7    15                 3.66\n",
              "4338  2016            3    15                 2.73\n",
              "4121  2015            7    15                 0.29\n",
              "4539  2016            1    10                 2.73\n",
              "6015  2021            6    15                 0.88"
            ],
            "text/html": [
              "\n",
              "  <div id=\"df-3d9973b0-e90f-427c-ac97-7f2b50df0e2a\">\n",
              "    <div class=\"colab-df-container\">\n",
              "      <div>\n",
              "<style scoped>\n",
              "    .dataframe tbody tr th:only-of-type {\n",
              "        vertical-align: middle;\n",
              "    }\n",
              "\n",
              "    .dataframe tbody tr th {\n",
              "        vertical-align: top;\n",
              "    }\n",
              "\n",
              "    .dataframe thead th {\n",
              "        text-align: right;\n",
              "    }\n",
              "</style>\n",
              "<table border=\"1\" class=\"dataframe\">\n",
              "  <thead>\n",
              "    <tr style=\"text-align: right;\">\n",
              "      <th></th>\n",
              "      <th>Year</th>\n",
              "      <th>FlightPhase</th>\n",
              "      <th>Risk</th>\n",
              "      <th>acc/1MillionFlights</th>\n",
              "    </tr>\n",
              "  </thead>\n",
              "  <tbody>\n",
              "    <tr>\n",
              "      <th>3328</th>\n",
              "      <td>2013</td>\n",
              "      <td>7</td>\n",
              "      <td>15</td>\n",
              "      <td>3.66</td>\n",
              "    </tr>\n",
              "    <tr>\n",
              "      <th>4338</th>\n",
              "      <td>2016</td>\n",
              "      <td>3</td>\n",
              "      <td>15</td>\n",
              "      <td>2.73</td>\n",
              "    </tr>\n",
              "    <tr>\n",
              "      <th>4121</th>\n",
              "      <td>2015</td>\n",
              "      <td>7</td>\n",
              "      <td>15</td>\n",
              "      <td>0.29</td>\n",
              "    </tr>\n",
              "    <tr>\n",
              "      <th>4539</th>\n",
              "      <td>2016</td>\n",
              "      <td>1</td>\n",
              "      <td>10</td>\n",
              "      <td>2.73</td>\n",
              "    </tr>\n",
              "    <tr>\n",
              "      <th>6015</th>\n",
              "      <td>2021</td>\n",
              "      <td>6</td>\n",
              "      <td>15</td>\n",
              "      <td>0.88</td>\n",
              "    </tr>\n",
              "  </tbody>\n",
              "</table>\n",
              "</div>\n",
              "      <button class=\"colab-df-convert\" onclick=\"convertToInteractive('df-3d9973b0-e90f-427c-ac97-7f2b50df0e2a')\"\n",
              "              title=\"Convert this dataframe to an interactive table.\"\n",
              "              style=\"display:none;\">\n",
              "        \n",
              "  <svg xmlns=\"http://www.w3.org/2000/svg\" height=\"24px\"viewBox=\"0 0 24 24\"\n",
              "       width=\"24px\">\n",
              "    <path d=\"M0 0h24v24H0V0z\" fill=\"none\"/>\n",
              "    <path d=\"M18.56 5.44l.94 2.06.94-2.06 2.06-.94-2.06-.94-.94-2.06-.94 2.06-2.06.94zm-11 1L8.5 8.5l.94-2.06 2.06-.94-2.06-.94L8.5 2.5l-.94 2.06-2.06.94zm10 10l.94 2.06.94-2.06 2.06-.94-2.06-.94-.94-2.06-.94 2.06-2.06.94z\"/><path d=\"M17.41 7.96l-1.37-1.37c-.4-.4-.92-.59-1.43-.59-.52 0-1.04.2-1.43.59L10.3 9.45l-7.72 7.72c-.78.78-.78 2.05 0 2.83L4 21.41c.39.39.9.59 1.41.59.51 0 1.02-.2 1.41-.59l7.78-7.78 2.81-2.81c.8-.78.8-2.07 0-2.86zM5.41 20L4 18.59l7.72-7.72 1.47 1.35L5.41 20z\"/>\n",
              "  </svg>\n",
              "      </button>\n",
              "      \n",
              "  <style>\n",
              "    .colab-df-container {\n",
              "      display:flex;\n",
              "      flex-wrap:wrap;\n",
              "      gap: 12px;\n",
              "    }\n",
              "\n",
              "    .colab-df-convert {\n",
              "      background-color: #E8F0FE;\n",
              "      border: none;\n",
              "      border-radius: 50%;\n",
              "      cursor: pointer;\n",
              "      display: none;\n",
              "      fill: #1967D2;\n",
              "      height: 32px;\n",
              "      padding: 0 0 0 0;\n",
              "      width: 32px;\n",
              "    }\n",
              "\n",
              "    .colab-df-convert:hover {\n",
              "      background-color: #E2EBFA;\n",
              "      box-shadow: 0px 1px 2px rgba(60, 64, 67, 0.3), 0px 1px 3px 1px rgba(60, 64, 67, 0.15);\n",
              "      fill: #174EA6;\n",
              "    }\n",
              "\n",
              "    [theme=dark] .colab-df-convert {\n",
              "      background-color: #3B4455;\n",
              "      fill: #D2E3FC;\n",
              "    }\n",
              "\n",
              "    [theme=dark] .colab-df-convert:hover {\n",
              "      background-color: #434B5C;\n",
              "      box-shadow: 0px 1px 3px 1px rgba(0, 0, 0, 0.15);\n",
              "      filter: drop-shadow(0px 1px 2px rgba(0, 0, 0, 0.3));\n",
              "      fill: #FFFFFF;\n",
              "    }\n",
              "  </style>\n",
              "\n",
              "      <script>\n",
              "        const buttonEl =\n",
              "          document.querySelector('#df-3d9973b0-e90f-427c-ac97-7f2b50df0e2a button.colab-df-convert');\n",
              "        buttonEl.style.display =\n",
              "          google.colab.kernel.accessAllowed ? 'block' : 'none';\n",
              "\n",
              "        async function convertToInteractive(key) {\n",
              "          const element = document.querySelector('#df-3d9973b0-e90f-427c-ac97-7f2b50df0e2a');\n",
              "          const dataTable =\n",
              "            await google.colab.kernel.invokeFunction('convertToInteractive',\n",
              "                                                     [key], {});\n",
              "          if (!dataTable) return;\n",
              "\n",
              "          const docLinkHtml = 'Like what you see? Visit the ' +\n",
              "            '<a target=\"_blank\" href=https://colab.research.google.com/notebooks/data_table.ipynb>data table notebook</a>'\n",
              "            + ' to learn more about interactive tables.';\n",
              "          element.innerHTML = '';\n",
              "          dataTable['output_type'] = 'display_data';\n",
              "          await google.colab.output.renderOutput(dataTable, element);\n",
              "          const docLink = document.createElement('div');\n",
              "          docLink.innerHTML = docLinkHtml;\n",
              "          element.appendChild(docLink);\n",
              "        }\n",
              "      </script>\n",
              "    </div>\n",
              "  </div>\n",
              "  "
            ]
          },
          "metadata": {},
          "execution_count": 57
        }
      ]
    },
    {
      "cell_type": "code",
      "source": [
        "y_train"
      ],
      "metadata": {
        "colab": {
          "base_uri": "https://localhost:8080/"
        },
        "id": "pae5UuttTcuK",
        "outputId": "23a9fcd6-addf-4cf9-efed-f6d8be575ae0"
      },
      "execution_count": null,
      "outputs": [
        {
          "output_type": "execute_result",
          "data": {
            "text/plain": [
              "3328    0\n",
              "4338    0\n",
              "4121    0\n",
              "4539    1\n",
              "6015    0\n",
              "       ..\n",
              "3174    0\n",
              "460     1\n",
              "3027    0\n",
              "4873    0\n",
              "3116    1\n",
              "Name: Serious/Fatal, Length: 187, dtype: int64"
            ]
          },
          "metadata": {},
          "execution_count": 58
        }
      ]
    },
    {
      "cell_type": "code",
      "source": [
        "st_x= StandardScaler()\n",
        "x_train= st_x.fit_transform(X_train)\n",
        "x_test= st_x.transform(X_test) \n"
      ],
      "metadata": {
        "id": "2AuHOXlHTc0Q"
      },
      "execution_count": null,
      "outputs": []
    },
    {
      "cell_type": "code",
      "source": [
        "classifier= LogisticRegression(random_state=0)\n",
        "classifier.fit(x_train, y_train) "
      ],
      "metadata": {
        "colab": {
          "base_uri": "https://localhost:8080/"
        },
        "id": "ulBW1TPhT0VD",
        "outputId": "b70c7d66-cb13-4f05-d40e-9df0d396e7f9"
      },
      "execution_count": null,
      "outputs": [
        {
          "output_type": "execute_result",
          "data": {
            "text/plain": [
              "LogisticRegression(random_state=0)"
            ]
          },
          "metadata": {},
          "execution_count": 60
        }
      ]
    },
    {
      "cell_type": "code",
      "source": [
        "y_pred = classifier.predict(x_test)"
      ],
      "metadata": {
        "id": "GvzNEz3zT3No"
      },
      "execution_count": null,
      "outputs": []
    },
    {
      "cell_type": "code",
      "source": [
        "print(classifier.score(x_train, y_train))"
      ],
      "metadata": {
        "colab": {
          "base_uri": "https://localhost:8080/"
        },
        "id": "Tts9nX6dT3Qg",
        "outputId": "517995c0-86fa-4ad0-95f8-497151d5cfcd"
      },
      "execution_count": null,
      "outputs": [
        {
          "output_type": "stream",
          "name": "stdout",
          "text": [
            "0.7967914438502673\n"
          ]
        }
      ]
    },
    {
      "cell_type": "code",
      "source": [
        "print(classifier.score(x_test, y_test))"
      ],
      "metadata": {
        "colab": {
          "base_uri": "https://localhost:8080/"
        },
        "id": "6-t07jJCT3TW",
        "outputId": "d79caa6c-14d1-4911-ac4b-29085ebddfb5"
      },
      "execution_count": null,
      "outputs": [
        {
          "output_type": "stream",
          "name": "stdout",
          "text": [
            "0.8723404255319149\n"
          ]
        }
      ]
    },
    {
      "cell_type": "code",
      "source": [
        "print(classifier.score(x_test, y_pred))\n"
      ],
      "metadata": {
        "colab": {
          "base_uri": "https://localhost:8080/"
        },
        "id": "5O06bsPtT-mG",
        "outputId": "259af826-382b-4074-f438-c1a9cee7b63a"
      },
      "execution_count": null,
      "outputs": [
        {
          "output_type": "stream",
          "name": "stdout",
          "text": [
            "1.0\n"
          ]
        }
      ]
    },
    {
      "cell_type": "code",
      "source": [
        "cm= confusion_matrix(y_test, y_pred) "
      ],
      "metadata": {
        "id": "sKLIj4adT-pC"
      },
      "execution_count": null,
      "outputs": []
    },
    {
      "cell_type": "code",
      "source": [
        "print(cm)\n"
      ],
      "metadata": {
        "colab": {
          "base_uri": "https://localhost:8080/"
        },
        "id": "8owbjuizT-r5",
        "outputId": "1674bf07-e2c9-4d07-ef20-4a993e99b2da"
      },
      "execution_count": null,
      "outputs": [
        {
          "output_type": "stream",
          "name": "stdout",
          "text": [
            "[[40  2]\n",
            " [ 4  1]]\n"
          ]
        }
      ]
    },
    {
      "cell_type": "code",
      "source": [
        "classifier_dt= DecisionTreeClassifier(criterion='entropy', random_state=0)\n",
        "classifier_dt.fit(x_train, y_train) "
      ],
      "metadata": {
        "colab": {
          "base_uri": "https://localhost:8080/"
        },
        "id": "3EO3OgBUT-uk",
        "outputId": "f3325661-5639-4f2c-f23b-9c02a4094bb8"
      },
      "execution_count": null,
      "outputs": [
        {
          "output_type": "execute_result",
          "data": {
            "text/plain": [
              "DecisionTreeClassifier(criterion='entropy', random_state=0)"
            ]
          },
          "metadata": {},
          "execution_count": 67
        }
      ]
    },
    {
      "cell_type": "code",
      "source": [
        "y_pred= classifier_dt.predict(x_test) "
      ],
      "metadata": {
        "id": "4U-GemjbUL3w"
      },
      "execution_count": null,
      "outputs": []
    },
    {
      "cell_type": "code",
      "source": [
        "print(classifier_dt.score(x_train, y_train))"
      ],
      "metadata": {
        "colab": {
          "base_uri": "https://localhost:8080/"
        },
        "id": "kvnRcyI3UL62",
        "outputId": "534c282c-8a38-4ab7-be3b-909279e04a91"
      },
      "execution_count": null,
      "outputs": [
        {
          "output_type": "stream",
          "name": "stdout",
          "text": [
            "0.946524064171123\n"
          ]
        }
      ]
    },
    {
      "cell_type": "code",
      "source": [
        "print(classifier_dt.score(x_test, y_test))"
      ],
      "metadata": {
        "colab": {
          "base_uri": "https://localhost:8080/"
        },
        "id": "oaRTDJbIUL-E",
        "outputId": "5028f2fb-ebeb-4a97-d475-3fd46f4aa774"
      },
      "execution_count": null,
      "outputs": [
        {
          "output_type": "stream",
          "name": "stdout",
          "text": [
            "0.8936170212765957\n"
          ]
        }
      ]
    },
    {
      "cell_type": "code",
      "source": [
        "print(classifier_dt.score(x_test, y_pred))"
      ],
      "metadata": {
        "colab": {
          "base_uri": "https://localhost:8080/"
        },
        "id": "aXSJCQrEUMBD",
        "outputId": "baa94226-a4c7-4476-8e56-95611284ca44"
      },
      "execution_count": null,
      "outputs": [
        {
          "output_type": "stream",
          "name": "stdout",
          "text": [
            "1.0\n"
          ]
        }
      ]
    },
    {
      "cell_type": "code",
      "source": [
        "cm= confusion_matrix(y_test, y_pred) "
      ],
      "metadata": {
        "id": "_Iiv38ViUMED"
      },
      "execution_count": null,
      "outputs": []
    },
    {
      "cell_type": "code",
      "source": [
        "print(cm)"
      ],
      "metadata": {
        "colab": {
          "base_uri": "https://localhost:8080/"
        },
        "id": "TxHe2n6qUMGr",
        "outputId": "8a9fe88d-3487-4c42-e64e-e180187f3823"
      },
      "execution_count": null,
      "outputs": [
        {
          "output_type": "stream",
          "name": "stdout",
          "text": [
            "[[40  2]\n",
            " [ 3  2]]\n"
          ]
        }
      ]
    }
  ],
  "metadata": {
    "colab": {
      "provenance": []
    },
    "kernelspec": {
      "display_name": "Python 3",
      "name": "python3"
    },
    "language_info": {
      "name": "python"
    }
  },
  "nbformat": 4,
  "nbformat_minor": 0
}